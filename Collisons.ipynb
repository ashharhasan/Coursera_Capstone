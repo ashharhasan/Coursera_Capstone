{
 "metadata": {
  "language_info": {
   "codemirror_mode": {
    "name": "ipython",
    "version": 3
   },
   "file_extension": ".py",
   "mimetype": "text/x-python",
   "name": "python",
   "nbconvert_exporter": "python",
   "pygments_lexer": "ipython3",
   "version": "3.8.0-final"
  },
  "orig_nbformat": 2,
  "kernelspec": {
   "name": "Python 3.8.0 64-bit",
   "display_name": "Python 3.8.0 64-bit",
   "metadata": {
    "interpreter": {
     "hash": "2b00adca941fc1a0d2fc6f545a20340250afae17ad7b180cce7aadd60adcf469"
    }
   }
  }
 },
 "nbformat": 4,
 "nbformat_minor": 2,
 "cells": [
  {
   "cell_type": "markdown",
   "metadata": {},
   "source": [
    "# Reduce Accidents and their severity\n",
    "\n",
    "## 1. Introduction\n",
    "### 1.1 Background\n",
    "Seattle is a seaport city on the West Coast of the United States.It's metropolitan area's population stands at 3.98 million, making it the 15th-largest in the United States. With that much population road accidents also occur. With the help of machine learning, I tried to find out the severity of an accident and what factors make an accident more severe and what are the factors by which accidents are more likely to happen.\n",
    "\n",
    "### 1.2 Business Problem\n",
    "The machine learning techniques which we applied, might contribute to reduce the number of accidents and its severity. I used the data which is provided by Traffic Records Group Seattle. SDOT Traffic Management Division would be interested in this report as it will help to take necessary measures to prevent or minimize the impact of road accidents."
   ]
  },
  {
   "cell_type": "code",
   "execution_count": 2,
   "metadata": {},
   "outputs": [],
   "source": [
    "import pandas as pd\n",
    "import numpy as np"
   ]
  },
  {
   "cell_type": "code",
   "execution_count": 3,
   "metadata": {
    "tags": []
   },
   "outputs": [],
   "source": [
    "df_col = pd.read_csv('data\\Data-Collisions.csv')\n"
   ]
  },
  {
   "source": [
    "## 2. Data acquisition and cleaning\n",
    "### 2.1 Data sources\n",
    "I used the same data which is povided by coursera capstone project course. It is a single dataset in csv format.\n",
    "### 2.2 Data cleaning\n",
    "Removing columns which are not described in the official documentation and their use are also not understandable and also contains a lot of null values or are just serial numbers."
   ],
   "cell_type": "markdown",
   "metadata": {}
  },
  {
   "cell_type": "code",
   "execution_count": 4,
   "metadata": {},
   "outputs": [],
   "source": [
    "df_col.drop(['EXCEPTRSNCODE','EXCEPTRSNDESC','SDOTCOLNUM','OBJECTID','INCKEY','COLDETKEY','REPORTNO','STATUS'], axis = 1,inplace=True)"
   ]
  },
  {
   "source": [
    "Removing ST_COLDESC column and loading it into another table through webscrapping."
   ],
   "cell_type": "markdown",
   "metadata": {}
  },
  {
   "cell_type": "code",
   "execution_count": 5,
   "metadata": {},
   "outputs": [],
   "source": [
    "df_col.drop(['ST_COLDESC'], axis = 1,inplace=True)\n",
    "df_col_desc = pd.read_csv('data\\CollisionDesc.csv')"
   ]
  },
  {
   "source": [
    "Dropping columns which are either duplicate or provide reduntant information"
   ],
   "cell_type": "markdown",
   "metadata": {}
  },
  {
   "cell_type": "code",
   "execution_count": 6,
   "metadata": {},
   "outputs": [],
   "source": [
    "df_col.drop(['SEVERITYCODE.1','SEVERITYDESC','INCDATE','X','Y'], axis = 1,inplace=True)"
   ]
  },
  {
   "source": [
    "There are three columns where data with 'Y' only is present. So Assuming nan values are 'N'"
   ],
   "cell_type": "markdown",
   "metadata": {}
  },
  {
   "cell_type": "code",
   "execution_count": 7,
   "metadata": {},
   "outputs": [],
   "source": [
    "df_col= df_col.replace({'INATTENTIONIND' : { 'Y' : 1, np.nan : 0},'SPEEDING' : { 'Y' : 1, np.nan : 0},'PEDROWNOTGRNT' : { 'Y' : 1, np.nan : 0}})"
   ]
  },
  {
   "source": [
    "Replacing null values to 'Unknown' in string columns and -1 to integer or float type columns"
   ],
   "cell_type": "markdown",
   "metadata": {}
  },
  {
   "cell_type": "code",
   "execution_count": 8,
   "metadata": {},
   "outputs": [],
   "source": [
    "df_col['WEATHER']= df_col['WEATHER'].replace(np.nan,'Unknown')\n",
    "df_col['ROADCOND']= df_col['ROADCOND'].replace(np.nan,'Unknown')\n",
    "df_col['LIGHTCOND']= df_col['LIGHTCOND'].replace(np.nan,'Unknown')\n",
    "df_col['JUNCTIONTYPE']= df_col['JUNCTIONTYPE'].replace(np.nan,'Unknown')\n",
    "df_col['LOCATION']= df_col['LOCATION'].replace(np.nan,'Unknown')\n",
    "df_col['COLLISIONTYPE']= df_col['COLLISIONTYPE'].replace(np.nan,'Unknown')\n",
    "df_col['ADDRTYPE']= df_col['ADDRTYPE'].replace(np.nan,'Unknown')\n",
    "\n",
    "df_col['INTKEY']= df_col['INTKEY'].replace(np.nan,-1)\n",
    "df_col['ST_COLCODE']= df_col['ST_COLCODE'].replace(' ',-1)\n",
    "df_col['ST_COLCODE']= df_col['ST_COLCODE'].replace(np.nan,-1)\n",
    "df_col['UNDERINFL']= df_col['UNDERINFL'].replace(np.nan,-1)\n"
   ]
  },
  {
   "source": [
    "Now, Correcting data types"
   ],
   "cell_type": "markdown",
   "metadata": {}
  },
  {
   "cell_type": "code",
   "execution_count": 9,
   "metadata": {},
   "outputs": [],
   "source": [
    "df_col['UNDERINFL']= df_col['UNDERINFL'].replace('N',0)\n",
    "df_col['UNDERINFL']= df_col['UNDERINFL'].replace('Y',1)\n",
    "df_col['UNDERINFL']= df_col['UNDERINFL'].replace('1',1)\n",
    "df_col['UNDERINFL']= df_col['UNDERINFL'].replace('0',0)\n",
    "df_col['HITPARKEDCAR']= df_col['UNDERINFL'].replace('N',0)\n",
    "df_col['HITPARKEDCAR']= df_col['UNDERINFL'].replace('Y',1)\n",
    "df_col['ST_COLCODE'] = df_col['ST_COLCODE'].astype(str)\n",
    "df_col['INCDTTM'] = pd.to_datetime(df_col['INCDTTM'])"
   ]
  },
  {
   "cell_type": "code",
   "execution_count": 12,
   "metadata": {},
   "outputs": [
    {
     "output_type": "execute_result",
     "data": {
      "text/plain": [
       "Mid-Block (not related to intersection)              89800\n",
       "At Intersection (intersection related)               62810\n",
       "Mid-Block (but intersection related)                 22790\n",
       "Driveway Junction                                    10671\n",
       "Unknown                                               6338\n",
       "At Intersection (but not related to intersection)     2098\n",
       "Ramp Junction                                          166\n",
       "Name: JUNCTIONTYPE, dtype: int64"
      ]
     },
     "metadata": {},
     "execution_count": 12
    }
   ],
   "source": [
    "df_col['JUNCTIONTYPE'].value_counts()"
   ]
  },
  {
   "cell_type": "code",
   "execution_count": 69,
   "metadata": {},
   "outputs": [
    {
     "output_type": "execute_result",
     "data": {
      "text/plain": [
       "array(['Daylight', 'Dark - Street Lights On', 'Dark - No Street Lights',\n",
       "       'Unknown', 'Dusk', 'Dawn', 'Dark - Street Lights Off', 'Other',\n",
       "       'Dark - Unknown Lighting'], dtype=object)"
      ]
     },
     "metadata": {},
     "execution_count": 69
    }
   ],
   "source": [
    "df_col['WEATHER'].unique()\n",
    "df_col['ROADCOND'].unique()\n",
    "df_col['LIGHTCOND'].unique()"
   ]
  },
  {
   "cell_type": "code",
   "execution_count": 70,
   "metadata": {},
   "outputs": [
    {
     "output_type": "execute_result",
     "data": {
      "text/plain": [
       "array([0, 1], dtype=int64)"
      ]
     },
     "metadata": {},
     "execution_count": 70
    }
   ],
   "source": [
    "df_col['PEDROWNOTGRNT'].unique()"
   ]
  },
  {
   "cell_type": "code",
   "execution_count": 71,
   "metadata": {},
   "outputs": [
    {
     "output_type": "execute_result",
     "data": {
      "text/plain": [
       "array([0, 1], dtype=int64)"
      ]
     },
     "metadata": {},
     "execution_count": 71
    }
   ],
   "source": [
    "df_col['SPEEDING'].unique()"
   ]
  },
  {
   "cell_type": "code",
   "execution_count": 72,
   "metadata": {},
   "outputs": [
    {
     "output_type": "execute_result",
     "data": {
      "text/plain": [
       "array([     0, 520838, 521466, ..., 523792, 650595, 523322], dtype=int64)"
      ]
     },
     "metadata": {},
     "execution_count": 72
    }
   ],
   "source": [
    "df_col['CROSSWALKKEY'].unique()"
   ]
  },
  {
   "cell_type": "code",
   "execution_count": 73,
   "metadata": {},
   "outputs": [
    {
     "output_type": "execute_result",
     "data": {
      "text/plain": [
       "array([ 0, -1,  1], dtype=int64)"
      ]
     },
     "metadata": {},
     "execution_count": 73
    }
   ],
   "source": [
    "df_col['HITPARKEDCAR'].unique()"
   ]
  },
  {
   "cell_type": "code",
   "execution_count": 74,
   "metadata": {},
   "outputs": [
    {
     "output_type": "execute_result",
     "data": {
      "text/plain": [
       "array([    0,  6855, 25242, ..., 11583, 10319, 45880], dtype=int64)"
      ]
     },
     "metadata": {},
     "execution_count": 74
    }
   ],
   "source": [
    "df_col['SEGLANEKEY'].unique()"
   ]
  },
  {
   "cell_type": "code",
   "execution_count": 75,
   "metadata": {},
   "outputs": [
    {
     "output_type": "execute_result",
     "data": {
      "text/plain": [
       "-1.0        129603\n",
       " 29973.0       252\n",
       " 29933.0       160\n",
       " 29913.0       138\n",
       " 29549.0       136\n",
       "             ...  \n",
       " 35869.0         1\n",
       " 26126.0         1\n",
       " 28236.0         1\n",
       " 35863.0         1\n",
       " 29460.0         1\n",
       "Name: INTKEY, Length: 7615, dtype: int64"
      ]
     },
     "metadata": {},
     "execution_count": 75
    }
   ],
   "source": [
    "df_col['INTKEY'].value_counts()"
   ]
  },
  {
   "cell_type": "code",
   "execution_count": 76,
   "metadata": {},
   "outputs": [
    {
     "output_type": "execute_result",
     "data": {
      "text/plain": [
       "                SEVERITYCODE    INTKEY  PERSONCOUNT  PEDCOUNT  PEDCYLCOUNT  \\\n",
       "SEVERITYCODE        1.000000  0.104975     0.130949  0.246338     0.214218   \n",
       "INTKEY              0.104975  1.000000     0.035220  0.070484     0.043848   \n",
       "PERSONCOUNT         0.130949  0.035220     1.000000 -0.023464    -0.038809   \n",
       "PEDCOUNT            0.246338  0.070484    -0.023464  1.000000    -0.016920   \n",
       "PEDCYLCOUNT         0.214218  0.043848    -0.038809 -0.016920     1.000000   \n",
       "VEHCOUNT           -0.054686 -0.043266     0.380523 -0.261285    -0.253773   \n",
       "SDOT_COLCODE        0.188905 -0.006596    -0.128960  0.260393     0.382521   \n",
       "INATTENTIONIND      0.046378 -0.036928     0.077435 -0.004315     0.004073   \n",
       "UNDERINFL           0.053163 -0.017212     0.057148  0.030705     0.002950   \n",
       "PEDROWNOTGRNT       0.206283  0.069409    -0.027449  0.494641     0.323652   \n",
       "SPEEDING            0.038938 -0.028897    -0.002963 -0.032838    -0.020391   \n",
       "SEGLANEKEY          0.104276  0.012198    -0.021383  0.001810     0.453657   \n",
       "CROSSWALKKEY        0.175093  0.106100    -0.032258  0.565326     0.109820   \n",
       "HITPARKEDCAR        0.053163 -0.017212     0.057148  0.030705     0.002950   \n",
       "\n",
       "                VEHCOUNT  SDOT_COLCODE  INATTENTIONIND  UNDERINFL  \\\n",
       "SEVERITYCODE   -0.054686      0.188905        0.046378   0.053163   \n",
       "INTKEY         -0.043266     -0.006596       -0.036928  -0.017212   \n",
       "PERSONCOUNT     0.380523     -0.128960        0.077435   0.057148   \n",
       "PEDCOUNT       -0.261285      0.260393       -0.004315   0.030705   \n",
       "PEDCYLCOUNT    -0.253773      0.382521        0.004073   0.002950   \n",
       "VEHCOUNT        1.000000     -0.365814        0.076277   0.290873   \n",
       "SDOT_COLCODE   -0.365814      1.000000        0.029484   0.115771   \n",
       "INATTENTIONIND  0.076277      0.029484        1.000000   0.019387   \n",
       "UNDERINFL       0.290873      0.115771        0.019387   1.000000   \n",
       "PEDROWNOTGRNT  -0.227990      0.238643       -0.026442   0.000807   \n",
       "SPEEDING       -0.025743      0.144714       -0.048805   0.094065   \n",
       "SEGLANEKEY     -0.122941      0.206835       -0.000513  -0.003305   \n",
       "CROSSWALKKEY   -0.200526      0.189518       -0.002053  -0.001723   \n",
       "HITPARKEDCAR    0.290873      0.115771        0.019387   1.000000   \n",
       "\n",
       "                PEDROWNOTGRNT  SPEEDING  SEGLANEKEY  CROSSWALKKEY  \\\n",
       "SEVERITYCODE         0.206283  0.038938    0.104276      0.175093   \n",
       "INTKEY               0.069409 -0.028897    0.012198      0.106100   \n",
       "PERSONCOUNT         -0.027449 -0.002963   -0.021383     -0.032258   \n",
       "PEDCOUNT             0.494641 -0.032838    0.001810      0.565326   \n",
       "PEDCYLCOUNT          0.323652 -0.020391    0.453657      0.109820   \n",
       "VEHCOUNT            -0.227990 -0.025743   -0.122941     -0.200526   \n",
       "SDOT_COLCODE         0.238643  0.144714    0.206835      0.189518   \n",
       "INATTENTIONIND      -0.026442 -0.048805   -0.000513     -0.002053   \n",
       "UNDERINFL            0.000807  0.094065   -0.003305     -0.001723   \n",
       "PEDROWNOTGRNT        1.000000 -0.028410    0.152103      0.448176   \n",
       "SPEEDING            -0.028410  1.000000   -0.006744     -0.025499   \n",
       "SEGLANEKEY           0.152103 -0.006744    1.000000     -0.003422   \n",
       "CROSSWALKKEY         0.448176 -0.025499   -0.003422      1.000000   \n",
       "HITPARKEDCAR         0.000807  0.094065   -0.003305     -0.001723   \n",
       "\n",
       "                HITPARKEDCAR  \n",
       "SEVERITYCODE        0.053163  \n",
       "INTKEY             -0.017212  \n",
       "PERSONCOUNT         0.057148  \n",
       "PEDCOUNT            0.030705  \n",
       "PEDCYLCOUNT         0.002950  \n",
       "VEHCOUNT            0.290873  \n",
       "SDOT_COLCODE        0.115771  \n",
       "INATTENTIONIND      0.019387  \n",
       "UNDERINFL           1.000000  \n",
       "PEDROWNOTGRNT       0.000807  \n",
       "SPEEDING            0.094065  \n",
       "SEGLANEKEY         -0.003305  \n",
       "CROSSWALKKEY       -0.001723  \n",
       "HITPARKEDCAR        1.000000  "
      ],
      "text/html": "<div>\n<style scoped>\n    .dataframe tbody tr th:only-of-type {\n        vertical-align: middle;\n    }\n\n    .dataframe tbody tr th {\n        vertical-align: top;\n    }\n\n    .dataframe thead th {\n        text-align: right;\n    }\n</style>\n<table border=\"1\" class=\"dataframe\">\n  <thead>\n    <tr style=\"text-align: right;\">\n      <th></th>\n      <th>SEVERITYCODE</th>\n      <th>INTKEY</th>\n      <th>PERSONCOUNT</th>\n      <th>PEDCOUNT</th>\n      <th>PEDCYLCOUNT</th>\n      <th>VEHCOUNT</th>\n      <th>SDOT_COLCODE</th>\n      <th>INATTENTIONIND</th>\n      <th>UNDERINFL</th>\n      <th>PEDROWNOTGRNT</th>\n      <th>SPEEDING</th>\n      <th>SEGLANEKEY</th>\n      <th>CROSSWALKKEY</th>\n      <th>HITPARKEDCAR</th>\n    </tr>\n  </thead>\n  <tbody>\n    <tr>\n      <th>SEVERITYCODE</th>\n      <td>1.000000</td>\n      <td>0.104975</td>\n      <td>0.130949</td>\n      <td>0.246338</td>\n      <td>0.214218</td>\n      <td>-0.054686</td>\n      <td>0.188905</td>\n      <td>0.046378</td>\n      <td>0.053163</td>\n      <td>0.206283</td>\n      <td>0.038938</td>\n      <td>0.104276</td>\n      <td>0.175093</td>\n      <td>0.053163</td>\n    </tr>\n    <tr>\n      <th>INTKEY</th>\n      <td>0.104975</td>\n      <td>1.000000</td>\n      <td>0.035220</td>\n      <td>0.070484</td>\n      <td>0.043848</td>\n      <td>-0.043266</td>\n      <td>-0.006596</td>\n      <td>-0.036928</td>\n      <td>-0.017212</td>\n      <td>0.069409</td>\n      <td>-0.028897</td>\n      <td>0.012198</td>\n      <td>0.106100</td>\n      <td>-0.017212</td>\n    </tr>\n    <tr>\n      <th>PERSONCOUNT</th>\n      <td>0.130949</td>\n      <td>0.035220</td>\n      <td>1.000000</td>\n      <td>-0.023464</td>\n      <td>-0.038809</td>\n      <td>0.380523</td>\n      <td>-0.128960</td>\n      <td>0.077435</td>\n      <td>0.057148</td>\n      <td>-0.027449</td>\n      <td>-0.002963</td>\n      <td>-0.021383</td>\n      <td>-0.032258</td>\n      <td>0.057148</td>\n    </tr>\n    <tr>\n      <th>PEDCOUNT</th>\n      <td>0.246338</td>\n      <td>0.070484</td>\n      <td>-0.023464</td>\n      <td>1.000000</td>\n      <td>-0.016920</td>\n      <td>-0.261285</td>\n      <td>0.260393</td>\n      <td>-0.004315</td>\n      <td>0.030705</td>\n      <td>0.494641</td>\n      <td>-0.032838</td>\n      <td>0.001810</td>\n      <td>0.565326</td>\n      <td>0.030705</td>\n    </tr>\n    <tr>\n      <th>PEDCYLCOUNT</th>\n      <td>0.214218</td>\n      <td>0.043848</td>\n      <td>-0.038809</td>\n      <td>-0.016920</td>\n      <td>1.000000</td>\n      <td>-0.253773</td>\n      <td>0.382521</td>\n      <td>0.004073</td>\n      <td>0.002950</td>\n      <td>0.323652</td>\n      <td>-0.020391</td>\n      <td>0.453657</td>\n      <td>0.109820</td>\n      <td>0.002950</td>\n    </tr>\n    <tr>\n      <th>VEHCOUNT</th>\n      <td>-0.054686</td>\n      <td>-0.043266</td>\n      <td>0.380523</td>\n      <td>-0.261285</td>\n      <td>-0.253773</td>\n      <td>1.000000</td>\n      <td>-0.365814</td>\n      <td>0.076277</td>\n      <td>0.290873</td>\n      <td>-0.227990</td>\n      <td>-0.025743</td>\n      <td>-0.122941</td>\n      <td>-0.200526</td>\n      <td>0.290873</td>\n    </tr>\n    <tr>\n      <th>SDOT_COLCODE</th>\n      <td>0.188905</td>\n      <td>-0.006596</td>\n      <td>-0.128960</td>\n      <td>0.260393</td>\n      <td>0.382521</td>\n      <td>-0.365814</td>\n      <td>1.000000</td>\n      <td>0.029484</td>\n      <td>0.115771</td>\n      <td>0.238643</td>\n      <td>0.144714</td>\n      <td>0.206835</td>\n      <td>0.189518</td>\n      <td>0.115771</td>\n    </tr>\n    <tr>\n      <th>INATTENTIONIND</th>\n      <td>0.046378</td>\n      <td>-0.036928</td>\n      <td>0.077435</td>\n      <td>-0.004315</td>\n      <td>0.004073</td>\n      <td>0.076277</td>\n      <td>0.029484</td>\n      <td>1.000000</td>\n      <td>0.019387</td>\n      <td>-0.026442</td>\n      <td>-0.048805</td>\n      <td>-0.000513</td>\n      <td>-0.002053</td>\n      <td>0.019387</td>\n    </tr>\n    <tr>\n      <th>UNDERINFL</th>\n      <td>0.053163</td>\n      <td>-0.017212</td>\n      <td>0.057148</td>\n      <td>0.030705</td>\n      <td>0.002950</td>\n      <td>0.290873</td>\n      <td>0.115771</td>\n      <td>0.019387</td>\n      <td>1.000000</td>\n      <td>0.000807</td>\n      <td>0.094065</td>\n      <td>-0.003305</td>\n      <td>-0.001723</td>\n      <td>1.000000</td>\n    </tr>\n    <tr>\n      <th>PEDROWNOTGRNT</th>\n      <td>0.206283</td>\n      <td>0.069409</td>\n      <td>-0.027449</td>\n      <td>0.494641</td>\n      <td>0.323652</td>\n      <td>-0.227990</td>\n      <td>0.238643</td>\n      <td>-0.026442</td>\n      <td>0.000807</td>\n      <td>1.000000</td>\n      <td>-0.028410</td>\n      <td>0.152103</td>\n      <td>0.448176</td>\n      <td>0.000807</td>\n    </tr>\n    <tr>\n      <th>SPEEDING</th>\n      <td>0.038938</td>\n      <td>-0.028897</td>\n      <td>-0.002963</td>\n      <td>-0.032838</td>\n      <td>-0.020391</td>\n      <td>-0.025743</td>\n      <td>0.144714</td>\n      <td>-0.048805</td>\n      <td>0.094065</td>\n      <td>-0.028410</td>\n      <td>1.000000</td>\n      <td>-0.006744</td>\n      <td>-0.025499</td>\n      <td>0.094065</td>\n    </tr>\n    <tr>\n      <th>SEGLANEKEY</th>\n      <td>0.104276</td>\n      <td>0.012198</td>\n      <td>-0.021383</td>\n      <td>0.001810</td>\n      <td>0.453657</td>\n      <td>-0.122941</td>\n      <td>0.206835</td>\n      <td>-0.000513</td>\n      <td>-0.003305</td>\n      <td>0.152103</td>\n      <td>-0.006744</td>\n      <td>1.000000</td>\n      <td>-0.003422</td>\n      <td>-0.003305</td>\n    </tr>\n    <tr>\n      <th>CROSSWALKKEY</th>\n      <td>0.175093</td>\n      <td>0.106100</td>\n      <td>-0.032258</td>\n      <td>0.565326</td>\n      <td>0.109820</td>\n      <td>-0.200526</td>\n      <td>0.189518</td>\n      <td>-0.002053</td>\n      <td>-0.001723</td>\n      <td>0.448176</td>\n      <td>-0.025499</td>\n      <td>-0.003422</td>\n      <td>1.000000</td>\n      <td>-0.001723</td>\n    </tr>\n    <tr>\n      <th>HITPARKEDCAR</th>\n      <td>0.053163</td>\n      <td>-0.017212</td>\n      <td>0.057148</td>\n      <td>0.030705</td>\n      <td>0.002950</td>\n      <td>0.290873</td>\n      <td>0.115771</td>\n      <td>0.019387</td>\n      <td>1.000000</td>\n      <td>0.000807</td>\n      <td>0.094065</td>\n      <td>-0.003305</td>\n      <td>-0.001723</td>\n      <td>1.000000</td>\n    </tr>\n  </tbody>\n</table>\n</div>"
     },
     "metadata": {},
     "execution_count": 76
    }
   ],
   "source": [
    "df_col.corr(method='pearson', min_periods=1)"
   ]
  },
  {
   "source": [
    "2.3 Feature Selection\n",
    "After data cleaning, there were 194673 samples and 25 features in the data."
   ],
   "cell_type": "markdown",
   "metadata": {}
  },
  {
   "cell_type": "code",
   "execution_count": 77,
   "metadata": {},
   "outputs": [
    {
     "output_type": "execute_result",
     "data": {
      "text/plain": [
       "   SEVERITYCODE      ADDRTYPE   INTKEY  \\\n",
       "0             2  Intersection  37475.0   \n",
       "1             1         Block     -1.0   \n",
       "2             1         Block     -1.0   \n",
       "3             1         Block     -1.0   \n",
       "4             2  Intersection  34387.0   \n",
       "\n",
       "                                      LOCATION COLLISIONTYPE  PERSONCOUNT  \\\n",
       "0                   5TH AVE NE AND NE 103RD ST        Angles            2   \n",
       "1   AURORA BR BETWEEN RAYE ST AND BRIDGE WAY N     Sideswipe            2   \n",
       "2  4TH AVE BETWEEN SENECA ST AND UNIVERSITY ST    Parked Car            4   \n",
       "3     2ND AVE BETWEEN MARION ST AND MADISON ST         Other            3   \n",
       "4              SWIFT AVE S AND SWIFT AV OFF RP        Angles            2   \n",
       "\n",
       "   PEDCOUNT  PEDCYLCOUNT  VEHCOUNT             INCDTTM  ... UNDERINFL  \\\n",
       "0         0            0         2 2013-03-27 14:54:00  ...         0   \n",
       "1         0            0         2 2006-12-20 18:55:00  ...         0   \n",
       "2         0            0         3 2004-11-18 10:20:00  ...         0   \n",
       "3         0            0         3 2013-03-29 09:26:00  ...         0   \n",
       "4         0            0         2 2004-01-28 08:04:00  ...         0   \n",
       "\n",
       "    WEATHER ROADCOND                LIGHTCOND  PEDROWNOTGRNT SPEEDING  \\\n",
       "0  Overcast      Wet                 Daylight              0        0   \n",
       "1   Raining      Wet  Dark - Street Lights On              0        0   \n",
       "2  Overcast      Dry                 Daylight              0        0   \n",
       "3     Clear      Dry                 Daylight              0        0   \n",
       "4   Raining      Wet                 Daylight              0        0   \n",
       "\n",
       "  ST_COLCODE SEGLANEKEY  CROSSWALKKEY  HITPARKEDCAR  \n",
       "0         10          0             0             0  \n",
       "1         11          0             0             0  \n",
       "2         32          0             0             0  \n",
       "3         23          0             0             0  \n",
       "4         10          0             0             0  \n",
       "\n",
       "[5 rows x 24 columns]"
      ],
      "text/html": "<div>\n<style scoped>\n    .dataframe tbody tr th:only-of-type {\n        vertical-align: middle;\n    }\n\n    .dataframe tbody tr th {\n        vertical-align: top;\n    }\n\n    .dataframe thead th {\n        text-align: right;\n    }\n</style>\n<table border=\"1\" class=\"dataframe\">\n  <thead>\n    <tr style=\"text-align: right;\">\n      <th></th>\n      <th>SEVERITYCODE</th>\n      <th>ADDRTYPE</th>\n      <th>INTKEY</th>\n      <th>LOCATION</th>\n      <th>COLLISIONTYPE</th>\n      <th>PERSONCOUNT</th>\n      <th>PEDCOUNT</th>\n      <th>PEDCYLCOUNT</th>\n      <th>VEHCOUNT</th>\n      <th>INCDTTM</th>\n      <th>...</th>\n      <th>UNDERINFL</th>\n      <th>WEATHER</th>\n      <th>ROADCOND</th>\n      <th>LIGHTCOND</th>\n      <th>PEDROWNOTGRNT</th>\n      <th>SPEEDING</th>\n      <th>ST_COLCODE</th>\n      <th>SEGLANEKEY</th>\n      <th>CROSSWALKKEY</th>\n      <th>HITPARKEDCAR</th>\n    </tr>\n  </thead>\n  <tbody>\n    <tr>\n      <th>0</th>\n      <td>2</td>\n      <td>Intersection</td>\n      <td>37475.0</td>\n      <td>5TH AVE NE AND NE 103RD ST</td>\n      <td>Angles</td>\n      <td>2</td>\n      <td>0</td>\n      <td>0</td>\n      <td>2</td>\n      <td>2013-03-27 14:54:00</td>\n      <td>...</td>\n      <td>0</td>\n      <td>Overcast</td>\n      <td>Wet</td>\n      <td>Daylight</td>\n      <td>0</td>\n      <td>0</td>\n      <td>10</td>\n      <td>0</td>\n      <td>0</td>\n      <td>0</td>\n    </tr>\n    <tr>\n      <th>1</th>\n      <td>1</td>\n      <td>Block</td>\n      <td>-1.0</td>\n      <td>AURORA BR BETWEEN RAYE ST AND BRIDGE WAY N</td>\n      <td>Sideswipe</td>\n      <td>2</td>\n      <td>0</td>\n      <td>0</td>\n      <td>2</td>\n      <td>2006-12-20 18:55:00</td>\n      <td>...</td>\n      <td>0</td>\n      <td>Raining</td>\n      <td>Wet</td>\n      <td>Dark - Street Lights On</td>\n      <td>0</td>\n      <td>0</td>\n      <td>11</td>\n      <td>0</td>\n      <td>0</td>\n      <td>0</td>\n    </tr>\n    <tr>\n      <th>2</th>\n      <td>1</td>\n      <td>Block</td>\n      <td>-1.0</td>\n      <td>4TH AVE BETWEEN SENECA ST AND UNIVERSITY ST</td>\n      <td>Parked Car</td>\n      <td>4</td>\n      <td>0</td>\n      <td>0</td>\n      <td>3</td>\n      <td>2004-11-18 10:20:00</td>\n      <td>...</td>\n      <td>0</td>\n      <td>Overcast</td>\n      <td>Dry</td>\n      <td>Daylight</td>\n      <td>0</td>\n      <td>0</td>\n      <td>32</td>\n      <td>0</td>\n      <td>0</td>\n      <td>0</td>\n    </tr>\n    <tr>\n      <th>3</th>\n      <td>1</td>\n      <td>Block</td>\n      <td>-1.0</td>\n      <td>2ND AVE BETWEEN MARION ST AND MADISON ST</td>\n      <td>Other</td>\n      <td>3</td>\n      <td>0</td>\n      <td>0</td>\n      <td>3</td>\n      <td>2013-03-29 09:26:00</td>\n      <td>...</td>\n      <td>0</td>\n      <td>Clear</td>\n      <td>Dry</td>\n      <td>Daylight</td>\n      <td>0</td>\n      <td>0</td>\n      <td>23</td>\n      <td>0</td>\n      <td>0</td>\n      <td>0</td>\n    </tr>\n    <tr>\n      <th>4</th>\n      <td>2</td>\n      <td>Intersection</td>\n      <td>34387.0</td>\n      <td>SWIFT AVE S AND SWIFT AV OFF RP</td>\n      <td>Angles</td>\n      <td>2</td>\n      <td>0</td>\n      <td>0</td>\n      <td>2</td>\n      <td>2004-01-28 08:04:00</td>\n      <td>...</td>\n      <td>0</td>\n      <td>Raining</td>\n      <td>Wet</td>\n      <td>Daylight</td>\n      <td>0</td>\n      <td>0</td>\n      <td>10</td>\n      <td>0</td>\n      <td>0</td>\n      <td>0</td>\n    </tr>\n  </tbody>\n</table>\n<p>5 rows × 24 columns</p>\n</div>"
     },
     "metadata": {},
     "execution_count": 77
    }
   ],
   "source": [
    "df_col.head()"
   ]
  },
  {
   "cell_type": "code",
   "execution_count": null,
   "metadata": {},
   "outputs": [],
   "source": []
  }
 ]
}