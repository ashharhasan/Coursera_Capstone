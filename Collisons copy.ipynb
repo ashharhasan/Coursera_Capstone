{
 "metadata": {
  "language_info": {
   "codemirror_mode": {
    "name": "ipython",
    "version": 3
   },
   "file_extension": ".py",
   "mimetype": "text/x-python",
   "name": "python",
   "nbconvert_exporter": "python",
   "pygments_lexer": "ipython3",
   "version": "3.9.0-final"
  },
  "orig_nbformat": 2,
  "kernelspec": {
   "name": "Python 3.9.0 64-bit",
   "display_name": "Python 3.9.0 64-bit",
   "metadata": {
    "interpreter": {
     "hash": "9ce415245006ff8a9c5eb749ae41f046bad2fba35e19293160a7c993c6961d29"
    }
   }
  }
 },
 "nbformat": 4,
 "nbformat_minor": 2,
 "cells": [
  {
   "cell_type": "markdown",
   "metadata": {},
   "source": [
    "<h1>Collisons</h1>"
   ]
  },
  {
   "cell_type": "code",
   "execution_count": 1,
   "metadata": {},
   "outputs": [],
   "source": [
    "import pandas as pd\n",
    "import numpy as np"
   ]
  },
  {
   "cell_type": "code",
   "execution_count": 46,
   "metadata": {
    "tags": []
   },
   "outputs": [],
   "source": [
    "df_col = pd.read_csv('data\\Data-Collisions.csv')\n"
   ]
  },
  {
   "source": [
    "Data Cleaning"
   ],
   "cell_type": "markdown",
   "metadata": {}
  },
  {
   "source": [
    "Removing columns which are not described in the official documentation and their use are also not understandable and also contains a lot of null values or are just serial numbers."
   ],
   "cell_type": "markdown",
   "metadata": {}
  },
  {
   "cell_type": "code",
   "execution_count": 47,
   "metadata": {},
   "outputs": [],
   "source": [
    "df_col.drop(['EXCEPTRSNCODE','EXCEPTRSNDESC','SDOTCOLNUM','SEGLANEKEY','OBJECTID','INCKEY','INTKEY','COLDETKEY','REPORTNO','STATUS'], axis = 1,inplace=True)"
   ]
  },
  {
   "source": [
    "Deleting records in which coordinates and Collison type are null, because we don't know where the accidents happened and in which manner."
   ],
   "cell_type": "markdown",
   "metadata": {}
  },
  {
   "cell_type": "code",
   "execution_count": 21,
   "metadata": {},
   "outputs": [],
   "source": [
    "df_temp = df_col[df_col['X'].isnull() & df_col['Y'].isnull() & df_col['COLLISIONTYPE'].isnull()]\n",
    "df_col = pd.concat([df_col, df_temp, df_temp]).drop_duplicates(keep=False)\n",
    "df_temp = df_col[df_col['COLLISIONTYPE'].isnull() & df_col['ST_COLCODE'].isnull()]\n",
    "df_col = pd.concat([df_col, df_temp, df_temp]).drop_duplicates(keep=False)"
   ]
  },
  {
   "cell_type": "code",
   "execution_count": 22,
   "metadata": {},
   "outputs": [],
   "source": [
    "df_temp = df_col[df_col['X'].isnull() & df_col['Y'].isnull() & df_col['LOCATION'].isnull() & df_col['ADDRTYPE'].isnull()]\n",
    "df_col = pd.concat([df_col, df_temp, df_temp]).drop_duplicates(keep=False)"
   ]
  },
  {
   "source": [
    "There are three columns where data with 'Y' only is present. So Assuming nan values are 'N'"
   ],
   "cell_type": "markdown",
   "metadata": {}
  },
  {
   "cell_type": "code",
   "execution_count": 50,
   "metadata": {},
   "outputs": [],
   "source": [
    "df_col= df_col.replace({'INATTENTIONIND' : { 'Y' : 1, np.nan : 0},'SPEEDING' : { 'Y' : 1, np.nan : 0},'PEDROWNOTGRNT' : { 'Y' : 1, np.nan : 0}})"
   ]
  },
  {
   "source": [
    "Removing rows containing null values of 'X' ,'Y' or 'Location' fields."
   ],
   "cell_type": "markdown",
   "metadata": {}
  },
  {
   "cell_type": "code",
   "execution_count": 24,
   "metadata": {},
   "outputs": [],
   "source": [
    "df_temp = df_col[df_col['X'].isnull() | df_col['Y'].isnull() | df_col['LOCATION'].isnull()]\n",
    "df_col = pd.concat([df_col, df_temp, df_temp]).drop_duplicates(keep=False)"
   ]
  },
  {
   "cell_type": "code",
   "execution_count": 62,
   "metadata": {},
   "outputs": [],
   "source": [
    "df_col['WEATHER']= df_col['WEATHER'].replace(np.nan,'Unknown')\n",
    "df_col['ROADCOND']= df_col['ROADCOND'].replace(np.nan,'Unknown')\n",
    "df_col['LIGHTCOND']= df_col['LIGHTCOND'].replace(np.nan,'Unknown')\n",
    "df_col['JUNCTIONTYPE']= df_col['JUNCTIONTYPE'].replace(np.nan,'Unknown')\n",
    "df_col['LOCATION']= df_col['LOCATION'].replace(np.nan,'Unknown')"
   ]
  },
  {
   "source": [
    "Correcting values of 'UNDERINFL' column to boolean "
   ],
   "cell_type": "markdown",
   "metadata": {}
  },
  {
   "cell_type": "code",
   "execution_count": 52,
   "metadata": {},
   "outputs": [],
   "source": [
    "df_col['UNDERINFL']= df_col['UNDERINFL'].replace('N',0)\n",
    "df_col['UNDERINFL']= df_col['UNDERINFL'].replace('Y',1)\n",
    "df_col['UNDERINFL']= df_col['UNDERINFL'].replace('1',1)\n",
    "df_col['UNDERINFL']= df_col['UNDERINFL'].replace('0',0)\n"
   ]
  },
  {
   "cell_type": "code",
   "execution_count": 63,
   "metadata": {},
   "outputs": [
    {
     "output_type": "execute_result",
     "data": {
      "text/plain": [
       "SEVERITYCODE      189787\n",
       "X                 184600\n",
       "Y                 184600\n",
       "ADDRTYPE          187968\n",
       "LOCATION          189787\n",
       "SEVERITYCODE.1    189787\n",
       "SEVERITYDESC      189787\n",
       "COLLISIONTYPE     189769\n",
       "PERSONCOUNT       189787\n",
       "PEDCOUNT          189787\n",
       "PEDCYLCOUNT       189787\n",
       "VEHCOUNT          189787\n",
       "INCDATE           189787\n",
       "INCDTTM           189787\n",
       "JUNCTIONTYPE      189787\n",
       "SDOT_COLCODE      189787\n",
       "SDOT_COLDESC      189787\n",
       "INATTENTIONIND    189787\n",
       "UNDERINFL         189786\n",
       "WEATHER           189787\n",
       "ROADCOND          189787\n",
       "LIGHTCOND         189787\n",
       "PEDROWNOTGRNT     189787\n",
       "SPEEDING          189787\n",
       "ST_COLCODE        189769\n",
       "ST_COLDESC        189769\n",
       "CROSSWALKKEY      189787\n",
       "HITPARKEDCAR      189787\n",
       "dtype: int64"
      ]
     },
     "metadata": {},
     "execution_count": 63
    }
   ],
   "source": [
    "df_col.count()"
   ]
  },
  {
   "cell_type": "code",
   "execution_count": 66,
   "metadata": {},
   "outputs": [
    {
     "output_type": "execute_result",
     "data": {
      "text/plain": [
       "array(['10', '11', '32', '23', '5', '22', '14', '30', '28', '51', '13',\n",
       "       '50', '12', '45', '0', '20', '21', '1', '52', '16', '15', '74',\n",
       "       '81', '26', '19', '2', '66', '71', '3', '24', '40', '57', '6',\n",
       "       '83', '25', '27', '4', '72', '29', '56', '73', '41', '17', '65',\n",
       "       '82', '67', '49', '84', '31', '43', '42', '48', '64', '53', 32, 50,\n",
       "       15, 10, 14, 20, 13, 22, 51, 11, 28, 12, 52, 21, 0, 19, 30, 16, 40,\n",
       "       26, 27, 83, 2, 45, 65, 23, 24, 71, 1, 29, 81, 25, 4, 73, 74, 72, 3,\n",
       "       84, 64, 57, 42, 41, 48, 66, 56, 31, 82, 67, '54', '60', 53, 43, 87,\n",
       "       54, '87', nan, '7', '8', '85', '88', '18'], dtype=object)"
      ]
     },
     "metadata": {},
     "execution_count": 66
    }
   ],
   "source": [
    "df_col['ST_COLCODE'].unique()"
   ]
  },
  {
   "cell_type": "code",
   "execution_count": null,
   "metadata": {},
   "outputs": [],
   "source": [
    "df_col= df_col.dropna()"
   ]
  },
  {
   "cell_type": "code",
   "execution_count": 48,
   "metadata": {},
   "outputs": [],
   "source": [
    "df_col = df_col.loc[df_col['ST_COLCODE'] != ' ']"
   ]
  },
  {
   "cell_type": "code",
   "execution_count": 61,
   "metadata": {},
   "outputs": [
    {
     "output_type": "execute_result",
     "data": {
      "text/plain": [
       "        SEVERITYCODE   X   Y ADDRTYPE  \\\n",
       "10                 1 NaN NaN    Alley   \n",
       "17                 1 NaN NaN    Block   \n",
       "29                 1 NaN NaN    Block   \n",
       "74                 1 NaN NaN      NaN   \n",
       "120                1 NaN NaN    Block   \n",
       "...              ...  ..  ..      ...   \n",
       "194434             1 NaN NaN    Alley   \n",
       "194492             1 NaN NaN    Block   \n",
       "194539             2 NaN NaN    Block   \n",
       "194568             1 NaN NaN      NaN   \n",
       "194660             2 NaN NaN    Block   \n",
       "\n",
       "                                                 LOCATION  SEVERITYCODE.1  \\\n",
       "10                                                    NaN               1   \n",
       "17      BATTERY ST TUN ON RP BETWEEN BELL ST AND ALASK...               1   \n",
       "29      1ST AVE S BETWEEN 1ST AVS ON N RP AND S ROYAL ...               1   \n",
       "74                                                    NaN               1   \n",
       "120     ALASKAN WY VI SB BETWEEN BATTERY ST TUNNEL SB ...               1   \n",
       "...                                                   ...             ...   \n",
       "194434                                                NaN               1   \n",
       "194492  BATTERY ST TUNNEL SB BETWEEN AURORA AVE N AND ...               1   \n",
       "194539  ALASKAN WY VI SB BETWEEN ELLIOTT AV ON RP AND ...               2   \n",
       "194568                                                NaN               1   \n",
       "194660  BATTERY ST TUNNEL NB BETWEEN ALASKAN WY VI NB ...               2   \n",
       "\n",
       "                          SEVERITYDESC COLLISIONTYPE  PERSONCOUNT  PEDCOUNT  \\\n",
       "10      Property Damage Only Collision         Other            2         0   \n",
       "17      Property Damage Only Collision    Rear Ended            0         0   \n",
       "29      Property Damage Only Collision    Parked Car            2         0   \n",
       "74      Property Damage Only Collision    Parked Car            0         0   \n",
       "120     Property Damage Only Collision    Rear Ended            2         0   \n",
       "...                                ...           ...          ...       ...   \n",
       "194434  Property Damage Only Collision         Other            2         0   \n",
       "194492  Property Damage Only Collision    Rear Ended            4         0   \n",
       "194539                Injury Collision    Rear Ended            2         0   \n",
       "194568  Property Damage Only Collision    Rear Ended            4         0   \n",
       "194660                Injury Collision         Other            1         0   \n",
       "\n",
       "        ...  UNDERINFL   WEATHER ROADCOND                LIGHTCOND  \\\n",
       "10      ...        0.0  Overcast      Dry                 Daylight   \n",
       "17      ...        0.0  Overcast      Dry                 Daylight   \n",
       "29      ...        0.0     Clear      Dry                 Daylight   \n",
       "74      ...        0.0     Clear      Dry                 Daylight   \n",
       "120     ...        0.0     Clear      Dry                 Daylight   \n",
       "...     ...        ...       ...      ...                      ...   \n",
       "194434  ...        0.0     Clear      Wet                 Daylight   \n",
       "194492  ...        0.0   Raining      Wet  Dark - Street Lights On   \n",
       "194539  ...        0.0     Clear      Dry                 Daylight   \n",
       "194568  ...        0.0   Raining      Wet                 Daylight   \n",
       "194660  ...        0.0   Raining      Wet                    Other   \n",
       "\n",
       "       PEDROWNOTGRNT  SPEEDING ST_COLCODE  \\\n",
       "10                 0         0         22   \n",
       "17                 0         0         14   \n",
       "29                 0         0         32   \n",
       "74                 0         0         32   \n",
       "120                0         0         14   \n",
       "...              ...       ...        ...   \n",
       "194434             0         0         23   \n",
       "194492             0         1         14   \n",
       "194539             0         0         13   \n",
       "194568             0         0         13   \n",
       "194660             0         0         52   \n",
       "\n",
       "                                               ST_COLDESC  CROSSWALKKEY  \\\n",
       "10                        One car leaving driveway access             0   \n",
       "17      From same direction - both going straight - on...             0   \n",
       "29                                 One parked--one moving             0   \n",
       "74                                 One parked--one moving             0   \n",
       "120     From same direction - both going straight - on...             0   \n",
       "...                                                   ...           ...   \n",
       "194434                   From same direction - all others             0   \n",
       "194492  From same direction - both going straight - on...             0   \n",
       "194539  From same direction - both going straight - bo...             0   \n",
       "194568  From same direction - both going straight - bo...             0   \n",
       "194660                                 Vehicle overturned             0   \n",
       "\n",
       "       HITPARKEDCAR  \n",
       "10                N  \n",
       "17                N  \n",
       "29                N  \n",
       "74                N  \n",
       "120               N  \n",
       "...             ...  \n",
       "194434            N  \n",
       "194492            N  \n",
       "194539            N  \n",
       "194568            N  \n",
       "194660            N  \n",
       "\n",
       "[5187 rows x 28 columns]"
      ],
      "text/html": "<div>\n<style scoped>\n    .dataframe tbody tr th:only-of-type {\n        vertical-align: middle;\n    }\n\n    .dataframe tbody tr th {\n        vertical-align: top;\n    }\n\n    .dataframe thead th {\n        text-align: right;\n    }\n</style>\n<table border=\"1\" class=\"dataframe\">\n  <thead>\n    <tr style=\"text-align: right;\">\n      <th></th>\n      <th>SEVERITYCODE</th>\n      <th>X</th>\n      <th>Y</th>\n      <th>ADDRTYPE</th>\n      <th>LOCATION</th>\n      <th>SEVERITYCODE.1</th>\n      <th>SEVERITYDESC</th>\n      <th>COLLISIONTYPE</th>\n      <th>PERSONCOUNT</th>\n      <th>PEDCOUNT</th>\n      <th>...</th>\n      <th>UNDERINFL</th>\n      <th>WEATHER</th>\n      <th>ROADCOND</th>\n      <th>LIGHTCOND</th>\n      <th>PEDROWNOTGRNT</th>\n      <th>SPEEDING</th>\n      <th>ST_COLCODE</th>\n      <th>ST_COLDESC</th>\n      <th>CROSSWALKKEY</th>\n      <th>HITPARKEDCAR</th>\n    </tr>\n  </thead>\n  <tbody>\n    <tr>\n      <th>10</th>\n      <td>1</td>\n      <td>NaN</td>\n      <td>NaN</td>\n      <td>Alley</td>\n      <td>NaN</td>\n      <td>1</td>\n      <td>Property Damage Only Collision</td>\n      <td>Other</td>\n      <td>2</td>\n      <td>0</td>\n      <td>...</td>\n      <td>0.0</td>\n      <td>Overcast</td>\n      <td>Dry</td>\n      <td>Daylight</td>\n      <td>0</td>\n      <td>0</td>\n      <td>22</td>\n      <td>One car leaving driveway access</td>\n      <td>0</td>\n      <td>N</td>\n    </tr>\n    <tr>\n      <th>17</th>\n      <td>1</td>\n      <td>NaN</td>\n      <td>NaN</td>\n      <td>Block</td>\n      <td>BATTERY ST TUN ON RP BETWEEN BELL ST AND ALASK...</td>\n      <td>1</td>\n      <td>Property Damage Only Collision</td>\n      <td>Rear Ended</td>\n      <td>0</td>\n      <td>0</td>\n      <td>...</td>\n      <td>0.0</td>\n      <td>Overcast</td>\n      <td>Dry</td>\n      <td>Daylight</td>\n      <td>0</td>\n      <td>0</td>\n      <td>14</td>\n      <td>From same direction - both going straight - on...</td>\n      <td>0</td>\n      <td>N</td>\n    </tr>\n    <tr>\n      <th>29</th>\n      <td>1</td>\n      <td>NaN</td>\n      <td>NaN</td>\n      <td>Block</td>\n      <td>1ST AVE S BETWEEN 1ST AVS ON N RP AND S ROYAL ...</td>\n      <td>1</td>\n      <td>Property Damage Only Collision</td>\n      <td>Parked Car</td>\n      <td>2</td>\n      <td>0</td>\n      <td>...</td>\n      <td>0.0</td>\n      <td>Clear</td>\n      <td>Dry</td>\n      <td>Daylight</td>\n      <td>0</td>\n      <td>0</td>\n      <td>32</td>\n      <td>One parked--one moving</td>\n      <td>0</td>\n      <td>N</td>\n    </tr>\n    <tr>\n      <th>74</th>\n      <td>1</td>\n      <td>NaN</td>\n      <td>NaN</td>\n      <td>NaN</td>\n      <td>NaN</td>\n      <td>1</td>\n      <td>Property Damage Only Collision</td>\n      <td>Parked Car</td>\n      <td>0</td>\n      <td>0</td>\n      <td>...</td>\n      <td>0.0</td>\n      <td>Clear</td>\n      <td>Dry</td>\n      <td>Daylight</td>\n      <td>0</td>\n      <td>0</td>\n      <td>32</td>\n      <td>One parked--one moving</td>\n      <td>0</td>\n      <td>N</td>\n    </tr>\n    <tr>\n      <th>120</th>\n      <td>1</td>\n      <td>NaN</td>\n      <td>NaN</td>\n      <td>Block</td>\n      <td>ALASKAN WY VI SB BETWEEN BATTERY ST TUNNEL SB ...</td>\n      <td>1</td>\n      <td>Property Damage Only Collision</td>\n      <td>Rear Ended</td>\n      <td>2</td>\n      <td>0</td>\n      <td>...</td>\n      <td>0.0</td>\n      <td>Clear</td>\n      <td>Dry</td>\n      <td>Daylight</td>\n      <td>0</td>\n      <td>0</td>\n      <td>14</td>\n      <td>From same direction - both going straight - on...</td>\n      <td>0</td>\n      <td>N</td>\n    </tr>\n    <tr>\n      <th>...</th>\n      <td>...</td>\n      <td>...</td>\n      <td>...</td>\n      <td>...</td>\n      <td>...</td>\n      <td>...</td>\n      <td>...</td>\n      <td>...</td>\n      <td>...</td>\n      <td>...</td>\n      <td>...</td>\n      <td>...</td>\n      <td>...</td>\n      <td>...</td>\n      <td>...</td>\n      <td>...</td>\n      <td>...</td>\n      <td>...</td>\n      <td>...</td>\n      <td>...</td>\n      <td>...</td>\n    </tr>\n    <tr>\n      <th>194434</th>\n      <td>1</td>\n      <td>NaN</td>\n      <td>NaN</td>\n      <td>Alley</td>\n      <td>NaN</td>\n      <td>1</td>\n      <td>Property Damage Only Collision</td>\n      <td>Other</td>\n      <td>2</td>\n      <td>0</td>\n      <td>...</td>\n      <td>0.0</td>\n      <td>Clear</td>\n      <td>Wet</td>\n      <td>Daylight</td>\n      <td>0</td>\n      <td>0</td>\n      <td>23</td>\n      <td>From same direction - all others</td>\n      <td>0</td>\n      <td>N</td>\n    </tr>\n    <tr>\n      <th>194492</th>\n      <td>1</td>\n      <td>NaN</td>\n      <td>NaN</td>\n      <td>Block</td>\n      <td>BATTERY ST TUNNEL SB BETWEEN AURORA AVE N AND ...</td>\n      <td>1</td>\n      <td>Property Damage Only Collision</td>\n      <td>Rear Ended</td>\n      <td>4</td>\n      <td>0</td>\n      <td>...</td>\n      <td>0.0</td>\n      <td>Raining</td>\n      <td>Wet</td>\n      <td>Dark - Street Lights On</td>\n      <td>0</td>\n      <td>1</td>\n      <td>14</td>\n      <td>From same direction - both going straight - on...</td>\n      <td>0</td>\n      <td>N</td>\n    </tr>\n    <tr>\n      <th>194539</th>\n      <td>2</td>\n      <td>NaN</td>\n      <td>NaN</td>\n      <td>Block</td>\n      <td>ALASKAN WY VI SB BETWEEN ELLIOTT AV ON RP AND ...</td>\n      <td>2</td>\n      <td>Injury Collision</td>\n      <td>Rear Ended</td>\n      <td>2</td>\n      <td>0</td>\n      <td>...</td>\n      <td>0.0</td>\n      <td>Clear</td>\n      <td>Dry</td>\n      <td>Daylight</td>\n      <td>0</td>\n      <td>0</td>\n      <td>13</td>\n      <td>From same direction - both going straight - bo...</td>\n      <td>0</td>\n      <td>N</td>\n    </tr>\n    <tr>\n      <th>194568</th>\n      <td>1</td>\n      <td>NaN</td>\n      <td>NaN</td>\n      <td>NaN</td>\n      <td>NaN</td>\n      <td>1</td>\n      <td>Property Damage Only Collision</td>\n      <td>Rear Ended</td>\n      <td>4</td>\n      <td>0</td>\n      <td>...</td>\n      <td>0.0</td>\n      <td>Raining</td>\n      <td>Wet</td>\n      <td>Daylight</td>\n      <td>0</td>\n      <td>0</td>\n      <td>13</td>\n      <td>From same direction - both going straight - bo...</td>\n      <td>0</td>\n      <td>N</td>\n    </tr>\n    <tr>\n      <th>194660</th>\n      <td>2</td>\n      <td>NaN</td>\n      <td>NaN</td>\n      <td>Block</td>\n      <td>BATTERY ST TUNNEL NB BETWEEN ALASKAN WY VI NB ...</td>\n      <td>2</td>\n      <td>Injury Collision</td>\n      <td>Other</td>\n      <td>1</td>\n      <td>0</td>\n      <td>...</td>\n      <td>0.0</td>\n      <td>Raining</td>\n      <td>Wet</td>\n      <td>Other</td>\n      <td>0</td>\n      <td>0</td>\n      <td>52</td>\n      <td>Vehicle overturned</td>\n      <td>0</td>\n      <td>N</td>\n    </tr>\n  </tbody>\n</table>\n<p>5187 rows × 28 columns</p>\n</div>"
     },
     "metadata": {},
     "execution_count": 61
    }
   ],
   "source": [
    "df_col.loc[df_col['X'].isnull()]"
   ]
  },
  {
   "cell_type": "code",
   "execution_count": 139,
   "metadata": {},
   "outputs": [
    {
     "output_type": "execute_result",
     "data": {
      "text/plain": "        SEVERITYCODE   X   Y ADDRTYPE  INTKEY  \\\n179                1 NaN NaN    Block     NaN   \n295                1 NaN NaN    Block     NaN   \n309                1 NaN NaN    Block     NaN   \n2817               1 NaN NaN    Block     NaN   \n3311               2 NaN NaN    Block     NaN   \n...              ...  ..  ..      ...     ...   \n190447             2 NaN NaN    Block     NaN   \n193500             1 NaN NaN    Block     NaN   \n193666             1 NaN NaN    Block     NaN   \n194201             1 NaN NaN    Block     NaN   \n194660             2 NaN NaN    Block     NaN   \n\n                                                 LOCATION  SEVERITYCODE.1  \\\n179     BATTERY ST TUNNEL NB BETWEEN ALASKAN WY VI NB ...               1   \n295     BATTERY ST TUNNEL NB BETWEEN ALASKAN WY VI NB ...               1   \n309     BATTERY ST TUNNEL NB BETWEEN ALASKAN WY VI NB ...               1   \n2817    BATTERY ST TUNNEL NB BETWEEN ALASKAN WY VI NB ...               1   \n3311    BATTERY ST TUNNEL NB BETWEEN ALASKAN WY VI NB ...               2   \n...                                                   ...             ...   \n190447  BATTERY ST TUNNEL NB BETWEEN ALASKAN WY VI NB ...               2   \n193500  BATTERY ST TUNNEL NB BETWEEN ALASKAN WY VI NB ...               1   \n193666  BATTERY ST TUNNEL NB BETWEEN ALASKAN WY VI NB ...               1   \n194201  BATTERY ST TUNNEL NB BETWEEN ALASKAN WY VI NB ...               1   \n194660  BATTERY ST TUNNEL NB BETWEEN ALASKAN WY VI NB ...               2   \n\n                          SEVERITYDESC COLLISIONTYPE  PERSONCOUNT  ...  \\\n179     Property Damage Only Collision         Other            1  ...   \n295     Property Damage Only Collision    Rear Ended            2  ...   \n309     Property Damage Only Collision    Rear Ended            3  ...   \n2817    Property Damage Only Collision         Other            1  ...   \n3311                  Injury Collision    Rear Ended            3  ...   \n...                                ...           ...          ...  ...   \n190447                Injury Collision     Sideswipe            2  ...   \n193500  Property Damage Only Collision         Other            1  ...   \n193666  Property Damage Only Collision         Other            1  ...   \n194201  Property Damage Only Collision         Other            1  ...   \n194660                Injury Collision         Other            1  ...   \n\n        UNDERINFL   WEATHER  ROADCOND                LIGHTCOND PEDROWNOTGRNT  \\\n179             N   Raining       Wet  Dark - Street Lights On             0   \n295             0   Raining       Wet                    Other             0   \n309             0     Clear       Dry  Dark - Street Lights On             0   \n2817            1   Raining       Wet  Dark - Street Lights On             0   \n3311            0   Raining       Wet                    Other             0   \n...           ...       ...       ...                      ...           ...   \n190447          N   Raining       Wet                 Daylight             0   \n193500          N   Raining       Dry  Dark - Street Lights On             0   \n193666          N  Overcast       Wet                 Daylight             0   \n194201          N   Raining       Wet                 Daylight             0   \n194660          N   Raining       Wet                    Other             0   \n\n       SPEEDING  ST_COLCODE  \\\n179           0          50   \n295           0          13   \n309           0          14   \n2817          1          50   \n3311          0          13   \n...         ...         ...   \n190447        0          11   \n193500        0          50   \n193666        0          50   \n194201        0          50   \n194660        0          52   \n\n                                               ST_COLDESC  CROSSWALKKEY  \\\n179                                          Fixed object             0   \n295     From same direction - both going straight - bo...             0   \n309     From same direction - both going straight - on...             0   \n2817                                         Fixed object             0   \n3311    From same direction - both going straight - bo...             0   \n...                                                   ...           ...   \n190447  From same direction - both going straight - bo...             0   \n193500                                       Fixed object             0   \n193666                                       Fixed object             0   \n194201                                       Fixed object             0   \n194660                                 Vehicle overturned             0   \n\n       HITPARKEDCAR  \n179               N  \n295               N  \n309               N  \n2817              N  \n3311              N  \n...             ...  \n190447            N  \n193500            N  \n193666            N  \n194201            N  \n194660            N  \n\n[274 rows x 29 columns]",
      "text/html": "<div>\n<style scoped>\n    .dataframe tbody tr th:only-of-type {\n        vertical-align: middle;\n    }\n\n    .dataframe tbody tr th {\n        vertical-align: top;\n    }\n\n    .dataframe thead th {\n        text-align: right;\n    }\n</style>\n<table border=\"1\" class=\"dataframe\">\n  <thead>\n    <tr style=\"text-align: right;\">\n      <th></th>\n      <th>SEVERITYCODE</th>\n      <th>X</th>\n      <th>Y</th>\n      <th>ADDRTYPE</th>\n      <th>INTKEY</th>\n      <th>LOCATION</th>\n      <th>SEVERITYCODE.1</th>\n      <th>SEVERITYDESC</th>\n      <th>COLLISIONTYPE</th>\n      <th>PERSONCOUNT</th>\n      <th>...</th>\n      <th>UNDERINFL</th>\n      <th>WEATHER</th>\n      <th>ROADCOND</th>\n      <th>LIGHTCOND</th>\n      <th>PEDROWNOTGRNT</th>\n      <th>SPEEDING</th>\n      <th>ST_COLCODE</th>\n      <th>ST_COLDESC</th>\n      <th>CROSSWALKKEY</th>\n      <th>HITPARKEDCAR</th>\n    </tr>\n  </thead>\n  <tbody>\n    <tr>\n      <th>179</th>\n      <td>1</td>\n      <td>NaN</td>\n      <td>NaN</td>\n      <td>Block</td>\n      <td>NaN</td>\n      <td>BATTERY ST TUNNEL NB BETWEEN ALASKAN WY VI NB ...</td>\n      <td>1</td>\n      <td>Property Damage Only Collision</td>\n      <td>Other</td>\n      <td>1</td>\n      <td>...</td>\n      <td>N</td>\n      <td>Raining</td>\n      <td>Wet</td>\n      <td>Dark - Street Lights On</td>\n      <td>0</td>\n      <td>0</td>\n      <td>50</td>\n      <td>Fixed object</td>\n      <td>0</td>\n      <td>N</td>\n    </tr>\n    <tr>\n      <th>295</th>\n      <td>1</td>\n      <td>NaN</td>\n      <td>NaN</td>\n      <td>Block</td>\n      <td>NaN</td>\n      <td>BATTERY ST TUNNEL NB BETWEEN ALASKAN WY VI NB ...</td>\n      <td>1</td>\n      <td>Property Damage Only Collision</td>\n      <td>Rear Ended</td>\n      <td>2</td>\n      <td>...</td>\n      <td>0</td>\n      <td>Raining</td>\n      <td>Wet</td>\n      <td>Other</td>\n      <td>0</td>\n      <td>0</td>\n      <td>13</td>\n      <td>From same direction - both going straight - bo...</td>\n      <td>0</td>\n      <td>N</td>\n    </tr>\n    <tr>\n      <th>309</th>\n      <td>1</td>\n      <td>NaN</td>\n      <td>NaN</td>\n      <td>Block</td>\n      <td>NaN</td>\n      <td>BATTERY ST TUNNEL NB BETWEEN ALASKAN WY VI NB ...</td>\n      <td>1</td>\n      <td>Property Damage Only Collision</td>\n      <td>Rear Ended</td>\n      <td>3</td>\n      <td>...</td>\n      <td>0</td>\n      <td>Clear</td>\n      <td>Dry</td>\n      <td>Dark - Street Lights On</td>\n      <td>0</td>\n      <td>0</td>\n      <td>14</td>\n      <td>From same direction - both going straight - on...</td>\n      <td>0</td>\n      <td>N</td>\n    </tr>\n    <tr>\n      <th>2817</th>\n      <td>1</td>\n      <td>NaN</td>\n      <td>NaN</td>\n      <td>Block</td>\n      <td>NaN</td>\n      <td>BATTERY ST TUNNEL NB BETWEEN ALASKAN WY VI NB ...</td>\n      <td>1</td>\n      <td>Property Damage Only Collision</td>\n      <td>Other</td>\n      <td>1</td>\n      <td>...</td>\n      <td>1</td>\n      <td>Raining</td>\n      <td>Wet</td>\n      <td>Dark - Street Lights On</td>\n      <td>0</td>\n      <td>1</td>\n      <td>50</td>\n      <td>Fixed object</td>\n      <td>0</td>\n      <td>N</td>\n    </tr>\n    <tr>\n      <th>3311</th>\n      <td>2</td>\n      <td>NaN</td>\n      <td>NaN</td>\n      <td>Block</td>\n      <td>NaN</td>\n      <td>BATTERY ST TUNNEL NB BETWEEN ALASKAN WY VI NB ...</td>\n      <td>2</td>\n      <td>Injury Collision</td>\n      <td>Rear Ended</td>\n      <td>3</td>\n      <td>...</td>\n      <td>0</td>\n      <td>Raining</td>\n      <td>Wet</td>\n      <td>Other</td>\n      <td>0</td>\n      <td>0</td>\n      <td>13</td>\n      <td>From same direction - both going straight - bo...</td>\n      <td>0</td>\n      <td>N</td>\n    </tr>\n    <tr>\n      <th>...</th>\n      <td>...</td>\n      <td>...</td>\n      <td>...</td>\n      <td>...</td>\n      <td>...</td>\n      <td>...</td>\n      <td>...</td>\n      <td>...</td>\n      <td>...</td>\n      <td>...</td>\n      <td>...</td>\n      <td>...</td>\n      <td>...</td>\n      <td>...</td>\n      <td>...</td>\n      <td>...</td>\n      <td>...</td>\n      <td>...</td>\n      <td>...</td>\n      <td>...</td>\n      <td>...</td>\n    </tr>\n    <tr>\n      <th>190447</th>\n      <td>2</td>\n      <td>NaN</td>\n      <td>NaN</td>\n      <td>Block</td>\n      <td>NaN</td>\n      <td>BATTERY ST TUNNEL NB BETWEEN ALASKAN WY VI NB ...</td>\n      <td>2</td>\n      <td>Injury Collision</td>\n      <td>Sideswipe</td>\n      <td>2</td>\n      <td>...</td>\n      <td>N</td>\n      <td>Raining</td>\n      <td>Wet</td>\n      <td>Daylight</td>\n      <td>0</td>\n      <td>0</td>\n      <td>11</td>\n      <td>From same direction - both going straight - bo...</td>\n      <td>0</td>\n      <td>N</td>\n    </tr>\n    <tr>\n      <th>193500</th>\n      <td>1</td>\n      <td>NaN</td>\n      <td>NaN</td>\n      <td>Block</td>\n      <td>NaN</td>\n      <td>BATTERY ST TUNNEL NB BETWEEN ALASKAN WY VI NB ...</td>\n      <td>1</td>\n      <td>Property Damage Only Collision</td>\n      <td>Other</td>\n      <td>1</td>\n      <td>...</td>\n      <td>N</td>\n      <td>Raining</td>\n      <td>Dry</td>\n      <td>Dark - Street Lights On</td>\n      <td>0</td>\n      <td>0</td>\n      <td>50</td>\n      <td>Fixed object</td>\n      <td>0</td>\n      <td>N</td>\n    </tr>\n    <tr>\n      <th>193666</th>\n      <td>1</td>\n      <td>NaN</td>\n      <td>NaN</td>\n      <td>Block</td>\n      <td>NaN</td>\n      <td>BATTERY ST TUNNEL NB BETWEEN ALASKAN WY VI NB ...</td>\n      <td>1</td>\n      <td>Property Damage Only Collision</td>\n      <td>Other</td>\n      <td>1</td>\n      <td>...</td>\n      <td>N</td>\n      <td>Overcast</td>\n      <td>Wet</td>\n      <td>Daylight</td>\n      <td>0</td>\n      <td>0</td>\n      <td>50</td>\n      <td>Fixed object</td>\n      <td>0</td>\n      <td>N</td>\n    </tr>\n    <tr>\n      <th>194201</th>\n      <td>1</td>\n      <td>NaN</td>\n      <td>NaN</td>\n      <td>Block</td>\n      <td>NaN</td>\n      <td>BATTERY ST TUNNEL NB BETWEEN ALASKAN WY VI NB ...</td>\n      <td>1</td>\n      <td>Property Damage Only Collision</td>\n      <td>Other</td>\n      <td>1</td>\n      <td>...</td>\n      <td>N</td>\n      <td>Raining</td>\n      <td>Wet</td>\n      <td>Daylight</td>\n      <td>0</td>\n      <td>0</td>\n      <td>50</td>\n      <td>Fixed object</td>\n      <td>0</td>\n      <td>N</td>\n    </tr>\n    <tr>\n      <th>194660</th>\n      <td>2</td>\n      <td>NaN</td>\n      <td>NaN</td>\n      <td>Block</td>\n      <td>NaN</td>\n      <td>BATTERY ST TUNNEL NB BETWEEN ALASKAN WY VI NB ...</td>\n      <td>2</td>\n      <td>Injury Collision</td>\n      <td>Other</td>\n      <td>1</td>\n      <td>...</td>\n      <td>N</td>\n      <td>Raining</td>\n      <td>Wet</td>\n      <td>Other</td>\n      <td>0</td>\n      <td>0</td>\n      <td>52</td>\n      <td>Vehicle overturned</td>\n      <td>0</td>\n      <td>N</td>\n    </tr>\n  </tbody>\n</table>\n<p>274 rows × 29 columns</p>\n</div>"
     },
     "metadata": {},
     "execution_count": 139
    }
   ],
   "source": [
    "df_temp = df_col[df_col['Y'].isnull()]\n",
    "df_temp['LOCATION'].value_counts()\n"
   ]
  },
  {
   "source": [
    "Removing extra location parameters because we already have coordinates. But keeping named location because we will convert it to coordinates where it is missing."
   ],
   "cell_type": "markdown",
   "metadata": {}
  },
  {
   "cell_type": "code",
   "execution_count": 130,
   "metadata": {},
   "outputs": [
    {
     "output_type": "execute_result",
     "data": {
      "text/plain": "        SEVERITYCODE           X          Y      ADDRTYPE   INTKEY  \\\n48228              2 -122.332451  47.607266  Intersection  29933.0   \n72698              2 -122.332451  47.607266  Intersection  29933.0   \n75101              2 -122.332451  47.607266  Intersection  29933.0   \n86210              2 -122.332451  47.607266  Intersection  29933.0   \n86545              2 -122.332451  47.607266  Intersection  29933.0   \n94650              2 -122.332451  47.607266  Intersection  29933.0   \n101336             2 -122.332451  47.607266  Intersection  29933.0   \n106618             2 -122.332451  47.607266  Intersection  29933.0   \n110516             2 -122.332451  47.607266  Intersection  29933.0   \n112514             2 -122.332451  47.607266  Intersection  29933.0   \n126498             2 -122.332451  47.607266  Intersection  29933.0   \n127730             2 -122.332451  47.607266  Intersection  29933.0   \n140165             2 -122.332451  47.607266  Intersection  29933.0   \n150981             2 -122.332451  47.607266  Intersection  29933.0   \n160716             2 -122.332451  47.607266  Intersection  29933.0   \n168173             2 -122.332451  47.607266  Intersection  29933.0   \n180690             2 -122.332451  47.607266  Intersection  29933.0   \n\n                     LOCATION  SEVERITYCODE.1      SEVERITYDESC COLLISIONTYPE  \\\n48228   5TH AVE AND SPRING ST               2  Injury Collision    Pedestrian   \n72698   5TH AVE AND SPRING ST               2  Injury Collision    Pedestrian   \n75101   5TH AVE AND SPRING ST               2  Injury Collision    Pedestrian   \n86210   5TH AVE AND SPRING ST               2  Injury Collision    Pedestrian   \n86545   5TH AVE AND SPRING ST               2  Injury Collision    Pedestrian   \n94650   5TH AVE AND SPRING ST               2  Injury Collision    Pedestrian   \n101336  5TH AVE AND SPRING ST               2  Injury Collision    Pedestrian   \n106618  5TH AVE AND SPRING ST               2  Injury Collision    Pedestrian   \n110516  5TH AVE AND SPRING ST               2  Injury Collision    Pedestrian   \n112514  5TH AVE AND SPRING ST               2  Injury Collision    Pedestrian   \n126498  5TH AVE AND SPRING ST               2  Injury Collision    Pedestrian   \n127730  5TH AVE AND SPRING ST               2  Injury Collision    Pedestrian   \n140165  5TH AVE AND SPRING ST               2  Injury Collision    Pedestrian   \n150981  5TH AVE AND SPRING ST               2  Injury Collision    Pedestrian   \n160716  5TH AVE AND SPRING ST               2  Injury Collision    Pedestrian   \n168173  5TH AVE AND SPRING ST               2  Injury Collision    Pedestrian   \n180690  5TH AVE AND SPRING ST               2  Injury Collision    Pedestrian   \n\n        PERSONCOUNT  ...  UNDERINFL   WEATHER  ROADCOND  \\\n48228             2  ...          1  Overcast       Dry   \n72698             2  ...          1   Raining       Wet   \n75101             3  ...          0   Raining       Wet   \n86210             2  ...          N     Clear       Wet   \n86545             2  ...          N     Clear       Dry   \n94650             2  ...          N     Clear       Dry   \n101336            2  ...          0     Clear       Dry   \n106618            2  ...          N     Clear       Dry   \n110516            2  ...          N     Clear       Dry   \n112514            2  ...          N   Raining       Wet   \n126498            2  ...          N     Clear       Dry   \n127730            3  ...          N     Clear       Dry   \n140165            0  ...          N     Clear       Dry   \n150981            1  ...          N   Raining       Wet   \n160716            2  ...          N     Clear       Dry   \n168173            2  ...          N   Raining       Wet   \n180690            2  ...          N       NaN       NaN   \n\n                      LIGHTCOND PEDROWNOTGRNT SPEEDING  ST_COLCODE  \\\n48228   Dark - Street Lights On             1        0           2   \n72698   Dark - Street Lights On             1        0           2   \n75101                  Daylight             0        0           2   \n86210                  Daylight             1        0           2   \n86545                  Daylight             0        0           2   \n94650                  Daylight             1        0           2   \n101336                 Daylight             1        0           2   \n106618                 Daylight             1        0           2   \n110516                 Daylight             1        0           2   \n112514  Dark - Street Lights On             0        0           2   \n126498  Dark - Street Lights On             1        0           2   \n127730                 Daylight             0        0           2   \n140165                 Daylight             0        0           2   \n150981                 Daylight             1        0           2   \n160716  Dark - Street Lights On             0        0           2   \n168173  Dark - Street Lights On             1        0           2   \n180690  Dark - Street Lights On             0        0           2   \n\n                                  ST_COLDESC  CROSSWALKKEY HITPARKEDCAR  \n48228   Vehicle turning left hits pedestrian        523609            N  \n72698   Vehicle turning left hits pedestrian        523609            N  \n75101   Vehicle turning left hits pedestrian        523609            N  \n86210   Vehicle turning left hits pedestrian        523609            N  \n86545   Vehicle turning left hits pedestrian        523609            N  \n94650   Vehicle turning left hits pedestrian        523609            N  \n101336  Vehicle turning left hits pedestrian        523609            N  \n106618  Vehicle turning left hits pedestrian        523609            N  \n110516  Vehicle turning left hits pedestrian        523609            N  \n112514  Vehicle turning left hits pedestrian        523609            N  \n126498  Vehicle turning left hits pedestrian        523609            N  \n127730  Vehicle turning left hits pedestrian        523609            N  \n140165  Vehicle turning left hits pedestrian        523609            N  \n150981  Vehicle turning left hits pedestrian        523609            N  \n160716  Vehicle turning left hits pedestrian        523609            N  \n168173  Vehicle turning left hits pedestrian        523609            N  \n180690  Vehicle turning left hits pedestrian        523609            N  \n\n[17 rows x 29 columns]",
      "text/html": "<div>\n<style scoped>\n    .dataframe tbody tr th:only-of-type {\n        vertical-align: middle;\n    }\n\n    .dataframe tbody tr th {\n        vertical-align: top;\n    }\n\n    .dataframe thead th {\n        text-align: right;\n    }\n</style>\n<table border=\"1\" class=\"dataframe\">\n  <thead>\n    <tr style=\"text-align: right;\">\n      <th></th>\n      <th>SEVERITYCODE</th>\n      <th>X</th>\n      <th>Y</th>\n      <th>ADDRTYPE</th>\n      <th>INTKEY</th>\n      <th>LOCATION</th>\n      <th>SEVERITYCODE.1</th>\n      <th>SEVERITYDESC</th>\n      <th>COLLISIONTYPE</th>\n      <th>PERSONCOUNT</th>\n      <th>...</th>\n      <th>UNDERINFL</th>\n      <th>WEATHER</th>\n      <th>ROADCOND</th>\n      <th>LIGHTCOND</th>\n      <th>PEDROWNOTGRNT</th>\n      <th>SPEEDING</th>\n      <th>ST_COLCODE</th>\n      <th>ST_COLDESC</th>\n      <th>CROSSWALKKEY</th>\n      <th>HITPARKEDCAR</th>\n    </tr>\n  </thead>\n  <tbody>\n    <tr>\n      <th>48228</th>\n      <td>2</td>\n      <td>-122.332451</td>\n      <td>47.607266</td>\n      <td>Intersection</td>\n      <td>29933.0</td>\n      <td>5TH AVE AND SPRING ST</td>\n      <td>2</td>\n      <td>Injury Collision</td>\n      <td>Pedestrian</td>\n      <td>2</td>\n      <td>...</td>\n      <td>1</td>\n      <td>Overcast</td>\n      <td>Dry</td>\n      <td>Dark - Street Lights On</td>\n      <td>1</td>\n      <td>0</td>\n      <td>2</td>\n      <td>Vehicle turning left hits pedestrian</td>\n      <td>523609</td>\n      <td>N</td>\n    </tr>\n    <tr>\n      <th>72698</th>\n      <td>2</td>\n      <td>-122.332451</td>\n      <td>47.607266</td>\n      <td>Intersection</td>\n      <td>29933.0</td>\n      <td>5TH AVE AND SPRING ST</td>\n      <td>2</td>\n      <td>Injury Collision</td>\n      <td>Pedestrian</td>\n      <td>2</td>\n      <td>...</td>\n      <td>1</td>\n      <td>Raining</td>\n      <td>Wet</td>\n      <td>Dark - Street Lights On</td>\n      <td>1</td>\n      <td>0</td>\n      <td>2</td>\n      <td>Vehicle turning left hits pedestrian</td>\n      <td>523609</td>\n      <td>N</td>\n    </tr>\n    <tr>\n      <th>75101</th>\n      <td>2</td>\n      <td>-122.332451</td>\n      <td>47.607266</td>\n      <td>Intersection</td>\n      <td>29933.0</td>\n      <td>5TH AVE AND SPRING ST</td>\n      <td>2</td>\n      <td>Injury Collision</td>\n      <td>Pedestrian</td>\n      <td>3</td>\n      <td>...</td>\n      <td>0</td>\n      <td>Raining</td>\n      <td>Wet</td>\n      <td>Daylight</td>\n      <td>0</td>\n      <td>0</td>\n      <td>2</td>\n      <td>Vehicle turning left hits pedestrian</td>\n      <td>523609</td>\n      <td>N</td>\n    </tr>\n    <tr>\n      <th>86210</th>\n      <td>2</td>\n      <td>-122.332451</td>\n      <td>47.607266</td>\n      <td>Intersection</td>\n      <td>29933.0</td>\n      <td>5TH AVE AND SPRING ST</td>\n      <td>2</td>\n      <td>Injury Collision</td>\n      <td>Pedestrian</td>\n      <td>2</td>\n      <td>...</td>\n      <td>N</td>\n      <td>Clear</td>\n      <td>Wet</td>\n      <td>Daylight</td>\n      <td>1</td>\n      <td>0</td>\n      <td>2</td>\n      <td>Vehicle turning left hits pedestrian</td>\n      <td>523609</td>\n      <td>N</td>\n    </tr>\n    <tr>\n      <th>86545</th>\n      <td>2</td>\n      <td>-122.332451</td>\n      <td>47.607266</td>\n      <td>Intersection</td>\n      <td>29933.0</td>\n      <td>5TH AVE AND SPRING ST</td>\n      <td>2</td>\n      <td>Injury Collision</td>\n      <td>Pedestrian</td>\n      <td>2</td>\n      <td>...</td>\n      <td>N</td>\n      <td>Clear</td>\n      <td>Dry</td>\n      <td>Daylight</td>\n      <td>0</td>\n      <td>0</td>\n      <td>2</td>\n      <td>Vehicle turning left hits pedestrian</td>\n      <td>523609</td>\n      <td>N</td>\n    </tr>\n    <tr>\n      <th>94650</th>\n      <td>2</td>\n      <td>-122.332451</td>\n      <td>47.607266</td>\n      <td>Intersection</td>\n      <td>29933.0</td>\n      <td>5TH AVE AND SPRING ST</td>\n      <td>2</td>\n      <td>Injury Collision</td>\n      <td>Pedestrian</td>\n      <td>2</td>\n      <td>...</td>\n      <td>N</td>\n      <td>Clear</td>\n      <td>Dry</td>\n      <td>Daylight</td>\n      <td>1</td>\n      <td>0</td>\n      <td>2</td>\n      <td>Vehicle turning left hits pedestrian</td>\n      <td>523609</td>\n      <td>N</td>\n    </tr>\n    <tr>\n      <th>101336</th>\n      <td>2</td>\n      <td>-122.332451</td>\n      <td>47.607266</td>\n      <td>Intersection</td>\n      <td>29933.0</td>\n      <td>5TH AVE AND SPRING ST</td>\n      <td>2</td>\n      <td>Injury Collision</td>\n      <td>Pedestrian</td>\n      <td>2</td>\n      <td>...</td>\n      <td>0</td>\n      <td>Clear</td>\n      <td>Dry</td>\n      <td>Daylight</td>\n      <td>1</td>\n      <td>0</td>\n      <td>2</td>\n      <td>Vehicle turning left hits pedestrian</td>\n      <td>523609</td>\n      <td>N</td>\n    </tr>\n    <tr>\n      <th>106618</th>\n      <td>2</td>\n      <td>-122.332451</td>\n      <td>47.607266</td>\n      <td>Intersection</td>\n      <td>29933.0</td>\n      <td>5TH AVE AND SPRING ST</td>\n      <td>2</td>\n      <td>Injury Collision</td>\n      <td>Pedestrian</td>\n      <td>2</td>\n      <td>...</td>\n      <td>N</td>\n      <td>Clear</td>\n      <td>Dry</td>\n      <td>Daylight</td>\n      <td>1</td>\n      <td>0</td>\n      <td>2</td>\n      <td>Vehicle turning left hits pedestrian</td>\n      <td>523609</td>\n      <td>N</td>\n    </tr>\n    <tr>\n      <th>110516</th>\n      <td>2</td>\n      <td>-122.332451</td>\n      <td>47.607266</td>\n      <td>Intersection</td>\n      <td>29933.0</td>\n      <td>5TH AVE AND SPRING ST</td>\n      <td>2</td>\n      <td>Injury Collision</td>\n      <td>Pedestrian</td>\n      <td>2</td>\n      <td>...</td>\n      <td>N</td>\n      <td>Clear</td>\n      <td>Dry</td>\n      <td>Daylight</td>\n      <td>1</td>\n      <td>0</td>\n      <td>2</td>\n      <td>Vehicle turning left hits pedestrian</td>\n      <td>523609</td>\n      <td>N</td>\n    </tr>\n    <tr>\n      <th>112514</th>\n      <td>2</td>\n      <td>-122.332451</td>\n      <td>47.607266</td>\n      <td>Intersection</td>\n      <td>29933.0</td>\n      <td>5TH AVE AND SPRING ST</td>\n      <td>2</td>\n      <td>Injury Collision</td>\n      <td>Pedestrian</td>\n      <td>2</td>\n      <td>...</td>\n      <td>N</td>\n      <td>Raining</td>\n      <td>Wet</td>\n      <td>Dark - Street Lights On</td>\n      <td>0</td>\n      <td>0</td>\n      <td>2</td>\n      <td>Vehicle turning left hits pedestrian</td>\n      <td>523609</td>\n      <td>N</td>\n    </tr>\n    <tr>\n      <th>126498</th>\n      <td>2</td>\n      <td>-122.332451</td>\n      <td>47.607266</td>\n      <td>Intersection</td>\n      <td>29933.0</td>\n      <td>5TH AVE AND SPRING ST</td>\n      <td>2</td>\n      <td>Injury Collision</td>\n      <td>Pedestrian</td>\n      <td>2</td>\n      <td>...</td>\n      <td>N</td>\n      <td>Clear</td>\n      <td>Dry</td>\n      <td>Dark - Street Lights On</td>\n      <td>1</td>\n      <td>0</td>\n      <td>2</td>\n      <td>Vehicle turning left hits pedestrian</td>\n      <td>523609</td>\n      <td>N</td>\n    </tr>\n    <tr>\n      <th>127730</th>\n      <td>2</td>\n      <td>-122.332451</td>\n      <td>47.607266</td>\n      <td>Intersection</td>\n      <td>29933.0</td>\n      <td>5TH AVE AND SPRING ST</td>\n      <td>2</td>\n      <td>Injury Collision</td>\n      <td>Pedestrian</td>\n      <td>3</td>\n      <td>...</td>\n      <td>N</td>\n      <td>Clear</td>\n      <td>Dry</td>\n      <td>Daylight</td>\n      <td>0</td>\n      <td>0</td>\n      <td>2</td>\n      <td>Vehicle turning left hits pedestrian</td>\n      <td>523609</td>\n      <td>N</td>\n    </tr>\n    <tr>\n      <th>140165</th>\n      <td>2</td>\n      <td>-122.332451</td>\n      <td>47.607266</td>\n      <td>Intersection</td>\n      <td>29933.0</td>\n      <td>5TH AVE AND SPRING ST</td>\n      <td>2</td>\n      <td>Injury Collision</td>\n      <td>Pedestrian</td>\n      <td>0</td>\n      <td>...</td>\n      <td>N</td>\n      <td>Clear</td>\n      <td>Dry</td>\n      <td>Daylight</td>\n      <td>0</td>\n      <td>0</td>\n      <td>2</td>\n      <td>Vehicle turning left hits pedestrian</td>\n      <td>523609</td>\n      <td>N</td>\n    </tr>\n    <tr>\n      <th>150981</th>\n      <td>2</td>\n      <td>-122.332451</td>\n      <td>47.607266</td>\n      <td>Intersection</td>\n      <td>29933.0</td>\n      <td>5TH AVE AND SPRING ST</td>\n      <td>2</td>\n      <td>Injury Collision</td>\n      <td>Pedestrian</td>\n      <td>1</td>\n      <td>...</td>\n      <td>N</td>\n      <td>Raining</td>\n      <td>Wet</td>\n      <td>Daylight</td>\n      <td>1</td>\n      <td>0</td>\n      <td>2</td>\n      <td>Vehicle turning left hits pedestrian</td>\n      <td>523609</td>\n      <td>N</td>\n    </tr>\n    <tr>\n      <th>160716</th>\n      <td>2</td>\n      <td>-122.332451</td>\n      <td>47.607266</td>\n      <td>Intersection</td>\n      <td>29933.0</td>\n      <td>5TH AVE AND SPRING ST</td>\n      <td>2</td>\n      <td>Injury Collision</td>\n      <td>Pedestrian</td>\n      <td>2</td>\n      <td>...</td>\n      <td>N</td>\n      <td>Clear</td>\n      <td>Dry</td>\n      <td>Dark - Street Lights On</td>\n      <td>0</td>\n      <td>0</td>\n      <td>2</td>\n      <td>Vehicle turning left hits pedestrian</td>\n      <td>523609</td>\n      <td>N</td>\n    </tr>\n    <tr>\n      <th>168173</th>\n      <td>2</td>\n      <td>-122.332451</td>\n      <td>47.607266</td>\n      <td>Intersection</td>\n      <td>29933.0</td>\n      <td>5TH AVE AND SPRING ST</td>\n      <td>2</td>\n      <td>Injury Collision</td>\n      <td>Pedestrian</td>\n      <td>2</td>\n      <td>...</td>\n      <td>N</td>\n      <td>Raining</td>\n      <td>Wet</td>\n      <td>Dark - Street Lights On</td>\n      <td>1</td>\n      <td>0</td>\n      <td>2</td>\n      <td>Vehicle turning left hits pedestrian</td>\n      <td>523609</td>\n      <td>N</td>\n    </tr>\n    <tr>\n      <th>180690</th>\n      <td>2</td>\n      <td>-122.332451</td>\n      <td>47.607266</td>\n      <td>Intersection</td>\n      <td>29933.0</td>\n      <td>5TH AVE AND SPRING ST</td>\n      <td>2</td>\n      <td>Injury Collision</td>\n      <td>Pedestrian</td>\n      <td>2</td>\n      <td>...</td>\n      <td>N</td>\n      <td>NaN</td>\n      <td>NaN</td>\n      <td>Dark - Street Lights On</td>\n      <td>0</td>\n      <td>0</td>\n      <td>2</td>\n      <td>Vehicle turning left hits pedestrian</td>\n      <td>523609</td>\n      <td>N</td>\n    </tr>\n  </tbody>\n</table>\n<p>17 rows × 29 columns</p>\n</div>"
     },
     "metadata": {},
     "execution_count": 130
    }
   ],
   "source": [
    "df_col.loc[df_col['CROSSWALKKEY'] == 523609]"
   ]
  },
  {
   "cell_type": "code",
   "execution_count": 128,
   "metadata": {},
   "outputs": [
    {
     "output_type": "execute_result",
     "data": {
      "text/plain": "29973.0    252\n29933.0    158\n29913.0    138\n29549.0    136\n33512.0    128\n          ... \n38108.0      1\n38111.0      1\n38113.0      1\n27252.0      1\n27793.0      1\nName: INTKEY, Length: 7614, dtype: int64"
     },
     "metadata": {},
     "execution_count": 128
    }
   ],
   "source": [
    "df_col['INTKEY'].value_counts()"
   ]
  },
  {
   "cell_type": "code",
   "execution_count": 96,
   "metadata": {},
   "outputs": [],
   "source": [
    "df_col.drop(['CROSSWALKKEY','INTKEY'], axis = 1,inplace=True) "
   ]
  },
  {
   "cell_type": "code",
   "execution_count": null,
   "metadata": {},
   "outputs": [],
   "source": [
    "df_col['ST_COLCODE'] == ' '"
   ]
  }
 ]
}