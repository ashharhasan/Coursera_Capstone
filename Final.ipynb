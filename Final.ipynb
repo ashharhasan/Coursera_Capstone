{
 "cells": [
  {
   "cell_type": "markdown",
   "metadata": {},
   "source": [
    "# Toronto Neighbourhoods"
   ]
  },
  {
   "cell_type": "markdown",
   "metadata": {},
   "source": [
    "This notebook is used for data science capstone project.\n",
    "Before we get the data and start exploring it, let's download all the dependencies that we will need."
   ]
  },
  {
   "cell_type": "code",
   "execution_count": 149,
   "metadata": {},
   "outputs": [
    {
     "output_type": "stream",
     "name": "stdout",
     "text": [
      "Libraries imported.\n"
     ]
    }
   ],
   "source": [
    "import numpy as np # library to handle data in a vectorized manner\n",
    "\n",
    "import pandas as pd # library for data analsysis\n",
    "\n",
    "import folium # map rendering library\n",
    "\n",
    "import requests # library to handle requests\n",
    "from pandas.io.json import json_normalize # tranform JSON file into a pandas dataframe\n",
    "\n",
    "# import k-means from clustering stage\n",
    "from sklearn.cluster import KMeans\n",
    "\n",
    "# Matplotlib and associated plotting modules\n",
    "import matplotlib.cm as cm\n",
    "import matplotlib.colors as colors\n",
    "\n",
    "print('Libraries imported.')"
   ]
  },
  {
   "source": [
    "Getting the list of toronto neighbourhoods by web scrapping"
   ],
   "cell_type": "markdown",
   "metadata": {}
  },
  {
   "cell_type": "code",
   "execution_count": 150,
   "metadata": {},
   "outputs": [
    {
     "output_type": "stream",
     "name": "stdout",
     "text": [
      "3\n"
     ]
    }
   ],
   "source": [
    "# results = requests.get('https://en.wikipedia.org/wiki/List_of_postal_codes_of_Canada:_M')\n",
    "# results\n",
    "dfs = pd.read_html('https://en.wikipedia.org/w/index.php?title=List_of_postal_codes_of_Canada:_M&oldid=1011037969')\n",
    "print(len(dfs))"
   ]
  },
  {
   "source": [
    "So there are three dataframes, but it's the first one which we need."
   ],
   "cell_type": "markdown",
   "metadata": {}
  },
  {
   "cell_type": "code",
   "execution_count": 151,
   "metadata": {},
   "outputs": [],
   "source": [
    "df= dfs[0]\n"
   ]
  },
  {
   "source": [
    "Now, we have to clean the data, so first removing space from column name to correct the naming conventions"
   ],
   "cell_type": "markdown",
   "metadata": {}
  },
  {
   "source": [
    "df.rename(columns={'Postal Code': 'PostalCode'},inplace=True)"
   ],
   "cell_type": "code",
   "metadata": {},
   "execution_count": 152,
   "outputs": []
  },
  {
   "source": [
    "Removing all the rows where Borough and neighbourhood is not assigned."
   ],
   "cell_type": "markdown",
   "metadata": {}
  },
  {
   "cell_type": "code",
   "execution_count": 153,
   "metadata": {},
   "outputs": [],
   "source": [
    "df = df.query('(Borough != \"Not assigned\") and (Neighbourhood != \"Not assigned\")')"
   ]
  },
  {
   "cell_type": "code",
   "execution_count": 154,
   "metadata": {},
   "outputs": [
    {
     "output_type": "execute_result",
     "data": {
      "text/plain": [
       "  PostalCode           Borough                                Neighbourhood\n",
       "2        M3A        North York                                    Parkwoods\n",
       "3        M4A        North York                             Victoria Village\n",
       "4        M5A  Downtown Toronto                    Regent Park, Harbourfront\n",
       "5        M6A        North York             Lawrence Manor, Lawrence Heights\n",
       "6        M7A  Downtown Toronto  Queen's Park, Ontario Provincial Government"
      ],
      "text/html": "<div>\n<style scoped>\n    .dataframe tbody tr th:only-of-type {\n        vertical-align: middle;\n    }\n\n    .dataframe tbody tr th {\n        vertical-align: top;\n    }\n\n    .dataframe thead th {\n        text-align: right;\n    }\n</style>\n<table border=\"1\" class=\"dataframe\">\n  <thead>\n    <tr style=\"text-align: right;\">\n      <th></th>\n      <th>PostalCode</th>\n      <th>Borough</th>\n      <th>Neighbourhood</th>\n    </tr>\n  </thead>\n  <tbody>\n    <tr>\n      <th>2</th>\n      <td>M3A</td>\n      <td>North York</td>\n      <td>Parkwoods</td>\n    </tr>\n    <tr>\n      <th>3</th>\n      <td>M4A</td>\n      <td>North York</td>\n      <td>Victoria Village</td>\n    </tr>\n    <tr>\n      <th>4</th>\n      <td>M5A</td>\n      <td>Downtown Toronto</td>\n      <td>Regent Park, Harbourfront</td>\n    </tr>\n    <tr>\n      <th>5</th>\n      <td>M6A</td>\n      <td>North York</td>\n      <td>Lawrence Manor, Lawrence Heights</td>\n    </tr>\n    <tr>\n      <th>6</th>\n      <td>M7A</td>\n      <td>Downtown Toronto</td>\n      <td>Queen's Park, Ontario Provincial Government</td>\n    </tr>\n  </tbody>\n</table>\n</div>"
     },
     "metadata": {},
     "execution_count": 154
    }
   ],
   "source": [
    "df.head()"
   ]
  },
  {
   "source": [
    "Checking if any row has neighbourhood which is not assigned."
   ],
   "cell_type": "markdown",
   "metadata": {}
  },
  {
   "cell_type": "code",
   "execution_count": 155,
   "metadata": {},
   "outputs": [
    {
     "output_type": "execute_result",
     "data": {
      "text/plain": [
       "Empty DataFrame\n",
       "Columns: [PostalCode, Borough, Neighbourhood]\n",
       "Index: []"
      ],
      "text/html": "<div>\n<style scoped>\n    .dataframe tbody tr th:only-of-type {\n        vertical-align: middle;\n    }\n\n    .dataframe tbody tr th {\n        vertical-align: top;\n    }\n\n    .dataframe thead th {\n        text-align: right;\n    }\n</style>\n<table border=\"1\" class=\"dataframe\">\n  <thead>\n    <tr style=\"text-align: right;\">\n      <th></th>\n      <th>PostalCode</th>\n      <th>Borough</th>\n      <th>Neighbourhood</th>\n    </tr>\n  </thead>\n  <tbody>\n  </tbody>\n</table>\n</div>"
     },
     "metadata": {},
     "execution_count": 155
    }
   ],
   "source": [
    "df.query('(Neighbourhood == \"Not assigned\")')"
   ]
  },
  {
   "cell_type": "code",
   "execution_count": 156,
   "metadata": {},
   "outputs": [
    {
     "output_type": "execute_result",
     "data": {
      "text/plain": [
       "(103, 3)"
      ]
     },
     "metadata": {},
     "execution_count": 156
    }
   ],
   "source": [
    "df.shape"
   ]
  },
  {
   "source": [
    "Now getting the coordinates of neighbourhoods from a file provided by this course"
   ],
   "cell_type": "markdown",
   "metadata": {}
  },
  {
   "cell_type": "code",
   "execution_count": 157,
   "metadata": {},
   "outputs": [
    {
     "output_type": "execute_result",
     "data": {
      "text/plain": [
       "  Postal Code   Latitude  Longitude\n",
       "0         M1B  43.806686 -79.194353\n",
       "1         M1C  43.784535 -79.160497\n",
       "2         M1E  43.763573 -79.188711\n",
       "3         M1G  43.770992 -79.216917\n",
       "4         M1H  43.773136 -79.239476"
      ],
      "text/html": "<div>\n<style scoped>\n    .dataframe tbody tr th:only-of-type {\n        vertical-align: middle;\n    }\n\n    .dataframe tbody tr th {\n        vertical-align: top;\n    }\n\n    .dataframe thead th {\n        text-align: right;\n    }\n</style>\n<table border=\"1\" class=\"dataframe\">\n  <thead>\n    <tr style=\"text-align: right;\">\n      <th></th>\n      <th>Postal Code</th>\n      <th>Latitude</th>\n      <th>Longitude</th>\n    </tr>\n  </thead>\n  <tbody>\n    <tr>\n      <th>0</th>\n      <td>M1B</td>\n      <td>43.806686</td>\n      <td>-79.194353</td>\n    </tr>\n    <tr>\n      <th>1</th>\n      <td>M1C</td>\n      <td>43.784535</td>\n      <td>-79.160497</td>\n    </tr>\n    <tr>\n      <th>2</th>\n      <td>M1E</td>\n      <td>43.763573</td>\n      <td>-79.188711</td>\n    </tr>\n    <tr>\n      <th>3</th>\n      <td>M1G</td>\n      <td>43.770992</td>\n      <td>-79.216917</td>\n    </tr>\n    <tr>\n      <th>4</th>\n      <td>M1H</td>\n      <td>43.773136</td>\n      <td>-79.239476</td>\n    </tr>\n  </tbody>\n</table>\n</div>"
     },
     "metadata": {},
     "execution_count": 157
    }
   ],
   "source": [
    "data= pd.read_csv('data/Geospatial_Coordinates.csv')\n",
    "data.head()"
   ]
  },
  {
   "cell_type": "code",
   "execution_count": 158,
   "metadata": {},
   "outputs": [
    {
     "output_type": "execute_result",
     "data": {
      "text/plain": [
       "(103, 3)"
      ]
     },
     "metadata": {},
     "execution_count": 158
    }
   ],
   "source": [
    "data.shape"
   ]
  },
  {
   "cell_type": "code",
   "execution_count": 159,
   "metadata": {},
   "outputs": [],
   "source": [
    "pd.set_option('display.max_columns', None)\n",
    "pd.set_option('display.max_rows', None)"
   ]
  },
  {
   "source": [
    "Now joining the two dataframes"
   ],
   "cell_type": "markdown",
   "metadata": {}
  },
  {
   "cell_type": "code",
   "execution_count": 160,
   "metadata": {},
   "outputs": [
    {
     "output_type": "error",
     "ename": "KeyError",
     "evalue": "'Postal Code'",
     "traceback": [
      "\u001b[1;31m---------------------------------------------------------------------------\u001b[0m",
      "\u001b[1;31mKeyError\u001b[0m                                  Traceback (most recent call last)",
      "\u001b[1;32m<ipython-input-160-0c8382820f56>\u001b[0m in \u001b[0;36m<module>\u001b[1;34m\u001b[0m\n\u001b[1;32m----> 1\u001b[1;33m \u001b[0mmerged\u001b[0m \u001b[1;33m=\u001b[0m \u001b[0mpd\u001b[0m\u001b[1;33m.\u001b[0m\u001b[0mmerge\u001b[0m\u001b[1;33m(\u001b[0m\u001b[0mleft\u001b[0m\u001b[1;33m=\u001b[0m\u001b[0mdf\u001b[0m\u001b[1;33m,\u001b[0m \u001b[0mright\u001b[0m\u001b[1;33m=\u001b[0m\u001b[0mdata\u001b[0m\u001b[1;33m,\u001b[0m\u001b[0mhow\u001b[0m\u001b[1;33m=\u001b[0m\u001b[1;34m'left'\u001b[0m\u001b[1;33m,\u001b[0m \u001b[0mleft_on\u001b[0m\u001b[1;33m=\u001b[0m\u001b[1;34m'Postal Code'\u001b[0m\u001b[1;33m,\u001b[0m \u001b[0mright_on\u001b[0m\u001b[1;33m=\u001b[0m\u001b[1;34m'Postal Code'\u001b[0m\u001b[1;33m)\u001b[0m\u001b[1;33m\u001b[0m\u001b[1;33m\u001b[0m\u001b[0m\n\u001b[0m\u001b[0;32m      2\u001b[0m \u001b[0mmerged\u001b[0m\u001b[1;33m.\u001b[0m\u001b[0mhead\u001b[0m\u001b[1;33m(\u001b[0m\u001b[1;33m)\u001b[0m\u001b[1;33m\u001b[0m\u001b[1;33m\u001b[0m\u001b[0m\n",
      "\u001b[1;32m~\\AppData\\Local\\Programs\\Python\\Python38\\lib\\site-packages\\pandas\\core\\reshape\\merge.py\u001b[0m in \u001b[0;36mmerge\u001b[1;34m(left, right, how, on, left_on, right_on, left_index, right_index, sort, suffixes, copy, indicator, validate)\u001b[0m\n\u001b[0;32m     72\u001b[0m     \u001b[0mvalidate\u001b[0m\u001b[1;33m=\u001b[0m\u001b[1;32mNone\u001b[0m\u001b[1;33m,\u001b[0m\u001b[1;33m\u001b[0m\u001b[1;33m\u001b[0m\u001b[0m\n\u001b[0;32m     73\u001b[0m ) -> \"DataFrame\":\n\u001b[1;32m---> 74\u001b[1;33m     op = _MergeOperation(\n\u001b[0m\u001b[0;32m     75\u001b[0m         \u001b[0mleft\u001b[0m\u001b[1;33m,\u001b[0m\u001b[1;33m\u001b[0m\u001b[1;33m\u001b[0m\u001b[0m\n\u001b[0;32m     76\u001b[0m         \u001b[0mright\u001b[0m\u001b[1;33m,\u001b[0m\u001b[1;33m\u001b[0m\u001b[1;33m\u001b[0m\u001b[0m\n",
      "\u001b[1;32m~\\AppData\\Local\\Programs\\Python\\Python38\\lib\\site-packages\\pandas\\core\\reshape\\merge.py\u001b[0m in \u001b[0;36m__init__\u001b[1;34m(self, left, right, how, on, left_on, right_on, axis, left_index, right_index, sort, suffixes, copy, indicator, validate)\u001b[0m\n\u001b[0;32m    650\u001b[0m             \u001b[0mself\u001b[0m\u001b[1;33m.\u001b[0m\u001b[0mright_join_keys\u001b[0m\u001b[1;33m,\u001b[0m\u001b[1;33m\u001b[0m\u001b[1;33m\u001b[0m\u001b[0m\n\u001b[0;32m    651\u001b[0m             \u001b[0mself\u001b[0m\u001b[1;33m.\u001b[0m\u001b[0mjoin_names\u001b[0m\u001b[1;33m,\u001b[0m\u001b[1;33m\u001b[0m\u001b[1;33m\u001b[0m\u001b[0m\n\u001b[1;32m--> 652\u001b[1;33m         ) = self._get_merge_keys()\n\u001b[0m\u001b[0;32m    653\u001b[0m \u001b[1;33m\u001b[0m\u001b[0m\n\u001b[0;32m    654\u001b[0m         \u001b[1;31m# validate the merge keys dtypes. We may need to coerce\u001b[0m\u001b[1;33m\u001b[0m\u001b[1;33m\u001b[0m\u001b[1;33m\u001b[0m\u001b[0m\n",
      "\u001b[1;32m~\\AppData\\Local\\Programs\\Python\\Python38\\lib\\site-packages\\pandas\\core\\reshape\\merge.py\u001b[0m in \u001b[0;36m_get_merge_keys\u001b[1;34m(self)\u001b[0m\n\u001b[0;32m   1016\u001b[0m                         \u001b[0mright_keys\u001b[0m\u001b[1;33m.\u001b[0m\u001b[0mappend\u001b[0m\u001b[1;33m(\u001b[0m\u001b[0mrk\u001b[0m\u001b[1;33m)\u001b[0m\u001b[1;33m\u001b[0m\u001b[1;33m\u001b[0m\u001b[0m\n\u001b[0;32m   1017\u001b[0m                     \u001b[1;32mif\u001b[0m \u001b[0mlk\u001b[0m \u001b[1;32mis\u001b[0m \u001b[1;32mnot\u001b[0m \u001b[1;32mNone\u001b[0m\u001b[1;33m:\u001b[0m\u001b[1;33m\u001b[0m\u001b[1;33m\u001b[0m\u001b[0m\n\u001b[1;32m-> 1018\u001b[1;33m                         \u001b[0mleft_keys\u001b[0m\u001b[1;33m.\u001b[0m\u001b[0mappend\u001b[0m\u001b[1;33m(\u001b[0m\u001b[0mleft\u001b[0m\u001b[1;33m.\u001b[0m\u001b[0m_get_label_or_level_values\u001b[0m\u001b[1;33m(\u001b[0m\u001b[0mlk\u001b[0m\u001b[1;33m)\u001b[0m\u001b[1;33m)\u001b[0m\u001b[1;33m\u001b[0m\u001b[1;33m\u001b[0m\u001b[0m\n\u001b[0m\u001b[0;32m   1019\u001b[0m                         \u001b[0mjoin_names\u001b[0m\u001b[1;33m.\u001b[0m\u001b[0mappend\u001b[0m\u001b[1;33m(\u001b[0m\u001b[0mlk\u001b[0m\u001b[1;33m)\u001b[0m\u001b[1;33m\u001b[0m\u001b[1;33m\u001b[0m\u001b[0m\n\u001b[0;32m   1020\u001b[0m                     \u001b[1;32melse\u001b[0m\u001b[1;33m:\u001b[0m\u001b[1;33m\u001b[0m\u001b[1;33m\u001b[0m\u001b[0m\n",
      "\u001b[1;32m~\\AppData\\Local\\Programs\\Python\\Python38\\lib\\site-packages\\pandas\\core\\generic.py\u001b[0m in \u001b[0;36m_get_label_or_level_values\u001b[1;34m(self, key, axis)\u001b[0m\n\u001b[0;32m   1561\u001b[0m             \u001b[0mvalues\u001b[0m \u001b[1;33m=\u001b[0m \u001b[0mself\u001b[0m\u001b[1;33m.\u001b[0m\u001b[0maxes\u001b[0m\u001b[1;33m[\u001b[0m\u001b[0maxis\u001b[0m\u001b[1;33m]\u001b[0m\u001b[1;33m.\u001b[0m\u001b[0mget_level_values\u001b[0m\u001b[1;33m(\u001b[0m\u001b[0mkey\u001b[0m\u001b[1;33m)\u001b[0m\u001b[1;33m.\u001b[0m\u001b[0m_values\u001b[0m\u001b[1;33m\u001b[0m\u001b[1;33m\u001b[0m\u001b[0m\n\u001b[0;32m   1562\u001b[0m         \u001b[1;32melse\u001b[0m\u001b[1;33m:\u001b[0m\u001b[1;33m\u001b[0m\u001b[1;33m\u001b[0m\u001b[0m\n\u001b[1;32m-> 1563\u001b[1;33m             \u001b[1;32mraise\u001b[0m \u001b[0mKeyError\u001b[0m\u001b[1;33m(\u001b[0m\u001b[0mkey\u001b[0m\u001b[1;33m)\u001b[0m\u001b[1;33m\u001b[0m\u001b[1;33m\u001b[0m\u001b[0m\n\u001b[0m\u001b[0;32m   1564\u001b[0m \u001b[1;33m\u001b[0m\u001b[0m\n\u001b[0;32m   1565\u001b[0m         \u001b[1;31m# Check for duplicates\u001b[0m\u001b[1;33m\u001b[0m\u001b[1;33m\u001b[0m\u001b[1;33m\u001b[0m\u001b[0m\n",
      "\u001b[1;31mKeyError\u001b[0m: 'Postal Code'"
     ]
    }
   ],
   "source": [
    "merged = pd.merge(left=df, right=data,how='left', left_on='Postal Code', right_on='Postal Code')\n",
    "merged.head()"
   ]
  },
  {
   "source": [
    "## Now keeping only toronto boroughs"
   ],
   "cell_type": "markdown",
   "metadata": {}
  },
  {
   "cell_type": "code",
   "execution_count": 21,
   "metadata": {},
   "outputs": [
    {
     "output_type": "execute_result",
     "data": {
      "text/plain": [
       "  Postal Code           Borough                                Neighbourhood  \\\n",
       "0         M5A  Downtown Toronto                    Regent Park, Harbourfront   \n",
       "1         M7A  Downtown Toronto  Queen's Park, Ontario Provincial Government   \n",
       "2         M5B  Downtown Toronto                     Garden District, Ryerson   \n",
       "3         M5C  Downtown Toronto                               St. James Town   \n",
       "4         M4E      East Toronto                                  The Beaches   \n",
       "\n",
       "    Latitude  Longitude  \n",
       "0  43.654260 -79.360636  \n",
       "1  43.662301 -79.389494  \n",
       "2  43.657162 -79.378937  \n",
       "3  43.651494 -79.375418  \n",
       "4  43.676357 -79.293031  "
      ],
      "text/html": "<div>\n<style scoped>\n    .dataframe tbody tr th:only-of-type {\n        vertical-align: middle;\n    }\n\n    .dataframe tbody tr th {\n        vertical-align: top;\n    }\n\n    .dataframe thead th {\n        text-align: right;\n    }\n</style>\n<table border=\"1\" class=\"dataframe\">\n  <thead>\n    <tr style=\"text-align: right;\">\n      <th></th>\n      <th>Postal Code</th>\n      <th>Borough</th>\n      <th>Neighbourhood</th>\n      <th>Latitude</th>\n      <th>Longitude</th>\n    </tr>\n  </thead>\n  <tbody>\n    <tr>\n      <th>0</th>\n      <td>M5A</td>\n      <td>Downtown Toronto</td>\n      <td>Regent Park, Harbourfront</td>\n      <td>43.654260</td>\n      <td>-79.360636</td>\n    </tr>\n    <tr>\n      <th>1</th>\n      <td>M7A</td>\n      <td>Downtown Toronto</td>\n      <td>Queen's Park, Ontario Provincial Government</td>\n      <td>43.662301</td>\n      <td>-79.389494</td>\n    </tr>\n    <tr>\n      <th>2</th>\n      <td>M5B</td>\n      <td>Downtown Toronto</td>\n      <td>Garden District, Ryerson</td>\n      <td>43.657162</td>\n      <td>-79.378937</td>\n    </tr>\n    <tr>\n      <th>3</th>\n      <td>M5C</td>\n      <td>Downtown Toronto</td>\n      <td>St. James Town</td>\n      <td>43.651494</td>\n      <td>-79.375418</td>\n    </tr>\n    <tr>\n      <th>4</th>\n      <td>M4E</td>\n      <td>East Toronto</td>\n      <td>The Beaches</td>\n      <td>43.676357</td>\n      <td>-79.293031</td>\n    </tr>\n  </tbody>\n</table>\n</div>"
     },
     "metadata": {},
     "execution_count": 21
    }
   ],
   "source": [
    "toronto_df = merged.query('(Borough.str.contains(\"Toronto\")) or (Borough.str.contains(\"toronto\"))')\n",
    "toronto_df.reset_index(drop=True,inplace=True)\n",
    "toronto_df.head()"
   ]
  },
  {
   "source": [
    "## Creating a map of Toronto with neighborhoods superimposed on top."
   ],
   "cell_type": "markdown",
   "metadata": {}
  },
  {
   "cell_type": "code",
   "execution_count": 22,
   "metadata": {},
   "outputs": [
    {
     "output_type": "execute_result",
     "data": {
      "text/plain": [
       "<folium.folium.Map at 0x123b8392160>"
      ],
      "text/html": "<div style=\"width:100%;\"><div style=\"position:relative;width:100%;height:0;padding-bottom:60%;\"><span style=\"color:#565656\">Make this Notebook Trusted to load map: File -> Trust Notebook</span><iframe src=\"about:blank\" style=\"position:absolute;width:100%;height:100%;left:0;top:0;border:none !important;\" data-html=%3C%21DOCTYPE%20html%3E%0A%3Chead%3E%20%20%20%20%0A%20%20%20%20%3Cmeta%20http-equiv%3D%22content-type%22%20content%3D%22text/html%3B%20charset%3DUTF-8%22%20/%3E%0A%20%20%20%20%0A%20%20%20%20%20%20%20%20%3Cscript%3E%0A%20%20%20%20%20%20%20%20%20%20%20%20L_NO_TOUCH%20%3D%20false%3B%0A%20%20%20%20%20%20%20%20%20%20%20%20L_DISABLE_3D%20%3D%20false%3B%0A%20%20%20%20%20%20%20%20%3C/script%3E%0A%20%20%20%20%0A%20%20%20%20%3Cstyle%3Ehtml%2C%20body%20%7Bwidth%3A%20100%25%3Bheight%3A%20100%25%3Bmargin%3A%200%3Bpadding%3A%200%3B%7D%3C/style%3E%0A%20%20%20%20%3Cstyle%3E%23map%20%7Bposition%3Aabsolute%3Btop%3A0%3Bbottom%3A0%3Bright%3A0%3Bleft%3A0%3B%7D%3C/style%3E%0A%20%20%20%20%3Cscript%20src%3D%22https%3A//cdn.jsdelivr.net/npm/leaflet%401.6.0/dist/leaflet.js%22%3E%3C/script%3E%0A%20%20%20%20%3Cscript%20src%3D%22https%3A//code.jquery.com/jquery-1.12.4.min.js%22%3E%3C/script%3E%0A%20%20%20%20%3Cscript%20src%3D%22https%3A//maxcdn.bootstrapcdn.com/bootstrap/3.2.0/js/bootstrap.min.js%22%3E%3C/script%3E%0A%20%20%20%20%3Cscript%20src%3D%22https%3A//cdnjs.cloudflare.com/ajax/libs/Leaflet.awesome-markers/2.0.2/leaflet.awesome-markers.js%22%3E%3C/script%3E%0A%20%20%20%20%3Clink%20rel%3D%22stylesheet%22%20href%3D%22https%3A//cdn.jsdelivr.net/npm/leaflet%401.6.0/dist/leaflet.css%22/%3E%0A%20%20%20%20%3Clink%20rel%3D%22stylesheet%22%20href%3D%22https%3A//maxcdn.bootstrapcdn.com/bootstrap/3.2.0/css/bootstrap.min.css%22/%3E%0A%20%20%20%20%3Clink%20rel%3D%22stylesheet%22%20href%3D%22https%3A//maxcdn.bootstrapcdn.com/bootstrap/3.2.0/css/bootstrap-theme.min.css%22/%3E%0A%20%20%20%20%3Clink%20rel%3D%22stylesheet%22%20href%3D%22https%3A//maxcdn.bootstrapcdn.com/font-awesome/4.6.3/css/font-awesome.min.css%22/%3E%0A%20%20%20%20%3Clink%20rel%3D%22stylesheet%22%20href%3D%22https%3A//cdnjs.cloudflare.com/ajax/libs/Leaflet.awesome-markers/2.0.2/leaflet.awesome-markers.css%22/%3E%0A%20%20%20%20%3Clink%20rel%3D%22stylesheet%22%20href%3D%22https%3A//cdn.jsdelivr.net/gh/python-visualization/folium/folium/templates/leaflet.awesome.rotate.min.css%22/%3E%0A%20%20%20%20%0A%20%20%20%20%20%20%20%20%20%20%20%20%3Cmeta%20name%3D%22viewport%22%20content%3D%22width%3Ddevice-width%2C%0A%20%20%20%20%20%20%20%20%20%20%20%20%20%20%20%20initial-scale%3D1.0%2C%20maximum-scale%3D1.0%2C%20user-scalable%3Dno%22%20/%3E%0A%20%20%20%20%20%20%20%20%20%20%20%20%3Cstyle%3E%0A%20%20%20%20%20%20%20%20%20%20%20%20%20%20%20%20%23map_b52832044cf64d3892e5c9b267992380%20%7B%0A%20%20%20%20%20%20%20%20%20%20%20%20%20%20%20%20%20%20%20%20position%3A%20relative%3B%0A%20%20%20%20%20%20%20%20%20%20%20%20%20%20%20%20%20%20%20%20width%3A%20100.0%25%3B%0A%20%20%20%20%20%20%20%20%20%20%20%20%20%20%20%20%20%20%20%20height%3A%20100.0%25%3B%0A%20%20%20%20%20%20%20%20%20%20%20%20%20%20%20%20%20%20%20%20left%3A%200.0%25%3B%0A%20%20%20%20%20%20%20%20%20%20%20%20%20%20%20%20%20%20%20%20top%3A%200.0%25%3B%0A%20%20%20%20%20%20%20%20%20%20%20%20%20%20%20%20%7D%0A%20%20%20%20%20%20%20%20%20%20%20%20%3C/style%3E%0A%20%20%20%20%20%20%20%20%0A%3C/head%3E%0A%3Cbody%3E%20%20%20%20%0A%20%20%20%20%0A%20%20%20%20%20%20%20%20%20%20%20%20%3Cdiv%20class%3D%22folium-map%22%20id%3D%22map_b52832044cf64d3892e5c9b267992380%22%20%3E%3C/div%3E%0A%20%20%20%20%20%20%20%20%0A%3C/body%3E%0A%3Cscript%3E%20%20%20%20%0A%20%20%20%20%0A%20%20%20%20%20%20%20%20%20%20%20%20var%20map_b52832044cf64d3892e5c9b267992380%20%3D%20L.map%28%0A%20%20%20%20%20%20%20%20%20%20%20%20%20%20%20%20%22map_b52832044cf64d3892e5c9b267992380%22%2C%0A%20%20%20%20%20%20%20%20%20%20%20%20%20%20%20%20%7B%0A%20%20%20%20%20%20%20%20%20%20%20%20%20%20%20%20%20%20%20%20center%3A%20%5B43.7253427%2C%20-79.5208805%5D%2C%0A%20%20%20%20%20%20%20%20%20%20%20%20%20%20%20%20%20%20%20%20crs%3A%20L.CRS.EPSG3857%2C%0A%20%20%20%20%20%20%20%20%20%20%20%20%20%20%20%20%20%20%20%20zoom%3A%2011%2C%0A%20%20%20%20%20%20%20%20%20%20%20%20%20%20%20%20%20%20%20%20zoomControl%3A%20true%2C%0A%20%20%20%20%20%20%20%20%20%20%20%20%20%20%20%20%20%20%20%20preferCanvas%3A%20false%2C%0A%20%20%20%20%20%20%20%20%20%20%20%20%20%20%20%20%7D%0A%20%20%20%20%20%20%20%20%20%20%20%20%29%3B%0A%0A%20%20%20%20%20%20%20%20%20%20%20%20%0A%0A%20%20%20%20%20%20%20%20%0A%20%20%20%20%0A%20%20%20%20%20%20%20%20%20%20%20%20var%20tile_layer_57e2821a781d4c2f98399d70be6af2e8%20%3D%20L.tileLayer%28%0A%20%20%20%20%20%20%20%20%20%20%20%20%20%20%20%20%22https%3A//%7Bs%7D.tile.openstreetmap.org/%7Bz%7D/%7Bx%7D/%7By%7D.png%22%2C%0A%20%20%20%20%20%20%20%20%20%20%20%20%20%20%20%20%7B%22attribution%22%3A%20%22Data%20by%20%5Cu0026copy%3B%20%5Cu003ca%20href%3D%5C%22http%3A//openstreetmap.org%5C%22%5Cu003eOpenStreetMap%5Cu003c/a%5Cu003e%2C%20under%20%5Cu003ca%20href%3D%5C%22http%3A//www.openstreetmap.org/copyright%5C%22%5Cu003eODbL%5Cu003c/a%5Cu003e.%22%2C%20%22detectRetina%22%3A%20false%2C%20%22maxNativeZoom%22%3A%2018%2C%20%22maxZoom%22%3A%2018%2C%20%22minZoom%22%3A%200%2C%20%22noWrap%22%3A%20false%2C%20%22opacity%22%3A%201%2C%20%22subdomains%22%3A%20%22abc%22%2C%20%22tms%22%3A%20false%7D%0A%20%20%20%20%20%20%20%20%20%20%20%20%29.addTo%28map_b52832044cf64d3892e5c9b267992380%29%3B%0A%20%20%20%20%20%20%20%20%0A%20%20%20%20%0A%20%20%20%20%20%20%20%20%20%20%20%20var%20circle_marker_41992cb0b67c4a4aad0fc1dcf62778ef%20%3D%20L.circleMarker%28%0A%20%20%20%20%20%20%20%20%20%20%20%20%20%20%20%20%5B43.6542599%2C%20-79.3606359%5D%2C%0A%20%20%20%20%20%20%20%20%20%20%20%20%20%20%20%20%7B%22bubblingMouseEvents%22%3A%20true%2C%20%22color%22%3A%20%22blue%22%2C%20%22dashArray%22%3A%20null%2C%20%22dashOffset%22%3A%20null%2C%20%22fill%22%3A%20true%2C%20%22fillColor%22%3A%20%22%233186cc%22%2C%20%22fillOpacity%22%3A%200.7%2C%20%22fillRule%22%3A%20%22evenodd%22%2C%20%22lineCap%22%3A%20%22round%22%2C%20%22lineJoin%22%3A%20%22round%22%2C%20%22opacity%22%3A%201.0%2C%20%22radius%22%3A%205%2C%20%22stroke%22%3A%20true%2C%20%22weight%22%3A%203%7D%0A%20%20%20%20%20%20%20%20%20%20%20%20%29.addTo%28map_b52832044cf64d3892e5c9b267992380%29%3B%0A%20%20%20%20%20%20%20%20%0A%20%20%20%20%0A%20%20%20%20%20%20%20%20var%20popup_7e18ce17ff944601a54171c4bff0865f%20%3D%20L.popup%28%7B%22maxWidth%22%3A%20%22100%25%22%2C%20%22minWidth%22%3A%201000%7D%29%3B%0A%0A%20%20%20%20%20%20%20%20%0A%20%20%20%20%20%20%20%20%20%20%20%20var%20i_frame_55070d4deef94225a717308f32259a8a%20%3D%20%24%28%60%3Ciframe%20src%3D%22data%3Atext/html%3Bcharset%3Dutf-8%3Bbase64%2CCiAgICBSZWdlbnQgUGFyaywgSGFyYm91cmZyb250LCBEb3dudG93biBUb3JvbnRv%22%20width%3D%22250%22%20style%3D%22border%3Anone%20%21important%3B%22%20height%3D%2275%22%3E%3C/iframe%3E%60%29%5B0%5D%3B%0A%20%20%20%20%20%20%20%20%20%20%20%20popup_7e18ce17ff944601a54171c4bff0865f.setContent%28i_frame_55070d4deef94225a717308f32259a8a%29%3B%0A%20%20%20%20%20%20%20%20%0A%0A%20%20%20%20%20%20%20%20circle_marker_41992cb0b67c4a4aad0fc1dcf62778ef.bindPopup%28popup_7e18ce17ff944601a54171c4bff0865f%29%0A%20%20%20%20%20%20%20%20%3B%0A%0A%20%20%20%20%20%20%20%20%0A%20%20%20%20%0A%20%20%20%20%0A%20%20%20%20%20%20%20%20%20%20%20%20var%20circle_marker_feca7380c1da46c4a25c9710f26b3ff6%20%3D%20L.circleMarker%28%0A%20%20%20%20%20%20%20%20%20%20%20%20%20%20%20%20%5B43.6623015%2C%20-79.3894938%5D%2C%0A%20%20%20%20%20%20%20%20%20%20%20%20%20%20%20%20%7B%22bubblingMouseEvents%22%3A%20true%2C%20%22color%22%3A%20%22blue%22%2C%20%22dashArray%22%3A%20null%2C%20%22dashOffset%22%3A%20null%2C%20%22fill%22%3A%20true%2C%20%22fillColor%22%3A%20%22%233186cc%22%2C%20%22fillOpacity%22%3A%200.7%2C%20%22fillRule%22%3A%20%22evenodd%22%2C%20%22lineCap%22%3A%20%22round%22%2C%20%22lineJoin%22%3A%20%22round%22%2C%20%22opacity%22%3A%201.0%2C%20%22radius%22%3A%205%2C%20%22stroke%22%3A%20true%2C%20%22weight%22%3A%203%7D%0A%20%20%20%20%20%20%20%20%20%20%20%20%29.addTo%28map_b52832044cf64d3892e5c9b267992380%29%3B%0A%20%20%20%20%20%20%20%20%0A%20%20%20%20%0A%20%20%20%20%20%20%20%20var%20popup_4983390d90a04946aeaea3869bbec361%20%3D%20L.popup%28%7B%22maxWidth%22%3A%20%22100%25%22%2C%20%22minWidth%22%3A%201000%7D%29%3B%0A%0A%20%20%20%20%20%20%20%20%0A%20%20%20%20%20%20%20%20%20%20%20%20var%20i_frame_5f6036abf9044d80b8d6f8e35784cd31%20%3D%20%24%28%60%3Ciframe%20src%3D%22data%3Atext/html%3Bcharset%3Dutf-8%3Bbase64%2CCiAgICBRdWVlbidzIFBhcmssIE9udGFyaW8gUHJvdmluY2lhbCBHb3Zlcm5tZW50LCBEb3dudG93biBUb3JvbnRv%22%20width%3D%22250%22%20style%3D%22border%3Anone%20%21important%3B%22%20height%3D%2275%22%3E%3C/iframe%3E%60%29%5B0%5D%3B%0A%20%20%20%20%20%20%20%20%20%20%20%20popup_4983390d90a04946aeaea3869bbec361.setContent%28i_frame_5f6036abf9044d80b8d6f8e35784cd31%29%3B%0A%20%20%20%20%20%20%20%20%0A%0A%20%20%20%20%20%20%20%20circle_marker_feca7380c1da46c4a25c9710f26b3ff6.bindPopup%28popup_4983390d90a04946aeaea3869bbec361%29%0A%20%20%20%20%20%20%20%20%3B%0A%0A%20%20%20%20%20%20%20%20%0A%20%20%20%20%0A%20%20%20%20%0A%20%20%20%20%20%20%20%20%20%20%20%20var%20circle_marker_37b450b1f88e4c2db29f2fb080835d47%20%3D%20L.circleMarker%28%0A%20%20%20%20%20%20%20%20%20%20%20%20%20%20%20%20%5B43.6571618%2C%20-79.37893709999999%5D%2C%0A%20%20%20%20%20%20%20%20%20%20%20%20%20%20%20%20%7B%22bubblingMouseEvents%22%3A%20true%2C%20%22color%22%3A%20%22blue%22%2C%20%22dashArray%22%3A%20null%2C%20%22dashOffset%22%3A%20null%2C%20%22fill%22%3A%20true%2C%20%22fillColor%22%3A%20%22%233186cc%22%2C%20%22fillOpacity%22%3A%200.7%2C%20%22fillRule%22%3A%20%22evenodd%22%2C%20%22lineCap%22%3A%20%22round%22%2C%20%22lineJoin%22%3A%20%22round%22%2C%20%22opacity%22%3A%201.0%2C%20%22radius%22%3A%205%2C%20%22stroke%22%3A%20true%2C%20%22weight%22%3A%203%7D%0A%20%20%20%20%20%20%20%20%20%20%20%20%29.addTo%28map_b52832044cf64d3892e5c9b267992380%29%3B%0A%20%20%20%20%20%20%20%20%0A%20%20%20%20%0A%20%20%20%20%20%20%20%20var%20popup_5d7436a3d1994a31a226522be2976697%20%3D%20L.popup%28%7B%22maxWidth%22%3A%20%22100%25%22%2C%20%22minWidth%22%3A%201000%7D%29%3B%0A%0A%20%20%20%20%20%20%20%20%0A%20%20%20%20%20%20%20%20%20%20%20%20var%20i_frame_b886bd3ec66341389f2a705aaf44439c%20%3D%20%24%28%60%3Ciframe%20src%3D%22data%3Atext/html%3Bcharset%3Dutf-8%3Bbase64%2CCiAgICBHYXJkZW4gRGlzdHJpY3QsIFJ5ZXJzb24sIERvd250b3duIFRvcm9udG8%3D%22%20width%3D%22250%22%20style%3D%22border%3Anone%20%21important%3B%22%20height%3D%2275%22%3E%3C/iframe%3E%60%29%5B0%5D%3B%0A%20%20%20%20%20%20%20%20%20%20%20%20popup_5d7436a3d1994a31a226522be2976697.setContent%28i_frame_b886bd3ec66341389f2a705aaf44439c%29%3B%0A%20%20%20%20%20%20%20%20%0A%0A%20%20%20%20%20%20%20%20circle_marker_37b450b1f88e4c2db29f2fb080835d47.bindPopup%28popup_5d7436a3d1994a31a226522be2976697%29%0A%20%20%20%20%20%20%20%20%3B%0A%0A%20%20%20%20%20%20%20%20%0A%20%20%20%20%0A%20%20%20%20%0A%20%20%20%20%20%20%20%20%20%20%20%20var%20circle_marker_7e508cac3f4b4655bb25a095935dee6a%20%3D%20L.circleMarker%28%0A%20%20%20%20%20%20%20%20%20%20%20%20%20%20%20%20%5B43.6514939%2C%20-79.3754179%5D%2C%0A%20%20%20%20%20%20%20%20%20%20%20%20%20%20%20%20%7B%22bubblingMouseEvents%22%3A%20true%2C%20%22color%22%3A%20%22blue%22%2C%20%22dashArray%22%3A%20null%2C%20%22dashOffset%22%3A%20null%2C%20%22fill%22%3A%20true%2C%20%22fillColor%22%3A%20%22%233186cc%22%2C%20%22fillOpacity%22%3A%200.7%2C%20%22fillRule%22%3A%20%22evenodd%22%2C%20%22lineCap%22%3A%20%22round%22%2C%20%22lineJoin%22%3A%20%22round%22%2C%20%22opacity%22%3A%201.0%2C%20%22radius%22%3A%205%2C%20%22stroke%22%3A%20true%2C%20%22weight%22%3A%203%7D%0A%20%20%20%20%20%20%20%20%20%20%20%20%29.addTo%28map_b52832044cf64d3892e5c9b267992380%29%3B%0A%20%20%20%20%20%20%20%20%0A%20%20%20%20%0A%20%20%20%20%20%20%20%20var%20popup_3b8ccbdbde49424b917c0d146258b0f3%20%3D%20L.popup%28%7B%22maxWidth%22%3A%20%22100%25%22%2C%20%22minWidth%22%3A%201000%7D%29%3B%0A%0A%20%20%20%20%20%20%20%20%0A%20%20%20%20%20%20%20%20%20%20%20%20var%20i_frame_b7093c0cbb7e443aa3d3035d9cc6d67a%20%3D%20%24%28%60%3Ciframe%20src%3D%22data%3Atext/html%3Bcharset%3Dutf-8%3Bbase64%2CCiAgICBTdC4gSmFtZXMgVG93biwgRG93bnRvd24gVG9yb250bw%3D%3D%22%20width%3D%22250%22%20style%3D%22border%3Anone%20%21important%3B%22%20height%3D%2275%22%3E%3C/iframe%3E%60%29%5B0%5D%3B%0A%20%20%20%20%20%20%20%20%20%20%20%20popup_3b8ccbdbde49424b917c0d146258b0f3.setContent%28i_frame_b7093c0cbb7e443aa3d3035d9cc6d67a%29%3B%0A%20%20%20%20%20%20%20%20%0A%0A%20%20%20%20%20%20%20%20circle_marker_7e508cac3f4b4655bb25a095935dee6a.bindPopup%28popup_3b8ccbdbde49424b917c0d146258b0f3%29%0A%20%20%20%20%20%20%20%20%3B%0A%0A%20%20%20%20%20%20%20%20%0A%20%20%20%20%0A%20%20%20%20%0A%20%20%20%20%20%20%20%20%20%20%20%20var%20circle_marker_03a3e69fa2c74596aeb927c4b186e298%20%3D%20L.circleMarker%28%0A%20%20%20%20%20%20%20%20%20%20%20%20%20%20%20%20%5B43.67635739999999%2C%20-79.2930312%5D%2C%0A%20%20%20%20%20%20%20%20%20%20%20%20%20%20%20%20%7B%22bubblingMouseEvents%22%3A%20true%2C%20%22color%22%3A%20%22blue%22%2C%20%22dashArray%22%3A%20null%2C%20%22dashOffset%22%3A%20null%2C%20%22fill%22%3A%20true%2C%20%22fillColor%22%3A%20%22%233186cc%22%2C%20%22fillOpacity%22%3A%200.7%2C%20%22fillRule%22%3A%20%22evenodd%22%2C%20%22lineCap%22%3A%20%22round%22%2C%20%22lineJoin%22%3A%20%22round%22%2C%20%22opacity%22%3A%201.0%2C%20%22radius%22%3A%205%2C%20%22stroke%22%3A%20true%2C%20%22weight%22%3A%203%7D%0A%20%20%20%20%20%20%20%20%20%20%20%20%29.addTo%28map_b52832044cf64d3892e5c9b267992380%29%3B%0A%20%20%20%20%20%20%20%20%0A%20%20%20%20%0A%20%20%20%20%20%20%20%20var%20popup_200b9ed4872a412fbb062d19d91424bf%20%3D%20L.popup%28%7B%22maxWidth%22%3A%20%22100%25%22%2C%20%22minWidth%22%3A%201000%7D%29%3B%0A%0A%20%20%20%20%20%20%20%20%0A%20%20%20%20%20%20%20%20%20%20%20%20var%20i_frame_94c074797d57401b9f41a3d68ff96f8e%20%3D%20%24%28%60%3Ciframe%20src%3D%22data%3Atext/html%3Bcharset%3Dutf-8%3Bbase64%2CCiAgICBUaGUgQmVhY2hlcywgRWFzdCBUb3JvbnRv%22%20width%3D%22250%22%20style%3D%22border%3Anone%20%21important%3B%22%20height%3D%2275%22%3E%3C/iframe%3E%60%29%5B0%5D%3B%0A%20%20%20%20%20%20%20%20%20%20%20%20popup_200b9ed4872a412fbb062d19d91424bf.setContent%28i_frame_94c074797d57401b9f41a3d68ff96f8e%29%3B%0A%20%20%20%20%20%20%20%20%0A%0A%20%20%20%20%20%20%20%20circle_marker_03a3e69fa2c74596aeb927c4b186e298.bindPopup%28popup_200b9ed4872a412fbb062d19d91424bf%29%0A%20%20%20%20%20%20%20%20%3B%0A%0A%20%20%20%20%20%20%20%20%0A%20%20%20%20%0A%20%20%20%20%0A%20%20%20%20%20%20%20%20%20%20%20%20var%20circle_marker_9c43d34f0a384f6fb59eb652756a6d95%20%3D%20L.circleMarker%28%0A%20%20%20%20%20%20%20%20%20%20%20%20%20%20%20%20%5B43.644770799999996%2C%20-79.3733064%5D%2C%0A%20%20%20%20%20%20%20%20%20%20%20%20%20%20%20%20%7B%22bubblingMouseEvents%22%3A%20true%2C%20%22color%22%3A%20%22blue%22%2C%20%22dashArray%22%3A%20null%2C%20%22dashOffset%22%3A%20null%2C%20%22fill%22%3A%20true%2C%20%22fillColor%22%3A%20%22%233186cc%22%2C%20%22fillOpacity%22%3A%200.7%2C%20%22fillRule%22%3A%20%22evenodd%22%2C%20%22lineCap%22%3A%20%22round%22%2C%20%22lineJoin%22%3A%20%22round%22%2C%20%22opacity%22%3A%201.0%2C%20%22radius%22%3A%205%2C%20%22stroke%22%3A%20true%2C%20%22weight%22%3A%203%7D%0A%20%20%20%20%20%20%20%20%20%20%20%20%29.addTo%28map_b52832044cf64d3892e5c9b267992380%29%3B%0A%20%20%20%20%20%20%20%20%0A%20%20%20%20%0A%20%20%20%20%20%20%20%20var%20popup_b818cec2a89f421d91e7a576fb24dc7e%20%3D%20L.popup%28%7B%22maxWidth%22%3A%20%22100%25%22%2C%20%22minWidth%22%3A%201000%7D%29%3B%0A%0A%20%20%20%20%20%20%20%20%0A%20%20%20%20%20%20%20%20%20%20%20%20var%20i_frame_bacc8244027441448839b2fc206fe68d%20%3D%20%24%28%60%3Ciframe%20src%3D%22data%3Atext/html%3Bcharset%3Dutf-8%3Bbase64%2CCiAgICBCZXJjenkgUGFyaywgRG93bnRvd24gVG9yb250bw%3D%3D%22%20width%3D%22250%22%20style%3D%22border%3Anone%20%21important%3B%22%20height%3D%2275%22%3E%3C/iframe%3E%60%29%5B0%5D%3B%0A%20%20%20%20%20%20%20%20%20%20%20%20popup_b818cec2a89f421d91e7a576fb24dc7e.setContent%28i_frame_bacc8244027441448839b2fc206fe68d%29%3B%0A%20%20%20%20%20%20%20%20%0A%0A%20%20%20%20%20%20%20%20circle_marker_9c43d34f0a384f6fb59eb652756a6d95.bindPopup%28popup_b818cec2a89f421d91e7a576fb24dc7e%29%0A%20%20%20%20%20%20%20%20%3B%0A%0A%20%20%20%20%20%20%20%20%0A%20%20%20%20%0A%20%20%20%20%0A%20%20%20%20%20%20%20%20%20%20%20%20var%20circle_marker_ff370a25789442af9c8701485cc9ce37%20%3D%20L.circleMarker%28%0A%20%20%20%20%20%20%20%20%20%20%20%20%20%20%20%20%5B43.6579524%2C%20-79.3873826%5D%2C%0A%20%20%20%20%20%20%20%20%20%20%20%20%20%20%20%20%7B%22bubblingMouseEvents%22%3A%20true%2C%20%22color%22%3A%20%22blue%22%2C%20%22dashArray%22%3A%20null%2C%20%22dashOffset%22%3A%20null%2C%20%22fill%22%3A%20true%2C%20%22fillColor%22%3A%20%22%233186cc%22%2C%20%22fillOpacity%22%3A%200.7%2C%20%22fillRule%22%3A%20%22evenodd%22%2C%20%22lineCap%22%3A%20%22round%22%2C%20%22lineJoin%22%3A%20%22round%22%2C%20%22opacity%22%3A%201.0%2C%20%22radius%22%3A%205%2C%20%22stroke%22%3A%20true%2C%20%22weight%22%3A%203%7D%0A%20%20%20%20%20%20%20%20%20%20%20%20%29.addTo%28map_b52832044cf64d3892e5c9b267992380%29%3B%0A%20%20%20%20%20%20%20%20%0A%20%20%20%20%0A%20%20%20%20%20%20%20%20var%20popup_5589d2cb412d45a5bc15c4b27efd50fc%20%3D%20L.popup%28%7B%22maxWidth%22%3A%20%22100%25%22%2C%20%22minWidth%22%3A%201000%7D%29%3B%0A%0A%20%20%20%20%20%20%20%20%0A%20%20%20%20%20%20%20%20%20%20%20%20var%20i_frame_145cc8c9b88f442b9c81246324fec4de%20%3D%20%24%28%60%3Ciframe%20src%3D%22data%3Atext/html%3Bcharset%3Dutf-8%3Bbase64%2CCiAgICBDZW50cmFsIEJheSBTdHJlZXQsIERvd250b3duIFRvcm9udG8%3D%22%20width%3D%22250%22%20style%3D%22border%3Anone%20%21important%3B%22%20height%3D%2275%22%3E%3C/iframe%3E%60%29%5B0%5D%3B%0A%20%20%20%20%20%20%20%20%20%20%20%20popup_5589d2cb412d45a5bc15c4b27efd50fc.setContent%28i_frame_145cc8c9b88f442b9c81246324fec4de%29%3B%0A%20%20%20%20%20%20%20%20%0A%0A%20%20%20%20%20%20%20%20circle_marker_ff370a25789442af9c8701485cc9ce37.bindPopup%28popup_5589d2cb412d45a5bc15c4b27efd50fc%29%0A%20%20%20%20%20%20%20%20%3B%0A%0A%20%20%20%20%20%20%20%20%0A%20%20%20%20%0A%20%20%20%20%0A%20%20%20%20%20%20%20%20%20%20%20%20var%20circle_marker_31cc1839d3094e5a8849c5b52f4cf70f%20%3D%20L.circleMarker%28%0A%20%20%20%20%20%20%20%20%20%20%20%20%20%20%20%20%5B43.669542%2C%20-79.4225637%5D%2C%0A%20%20%20%20%20%20%20%20%20%20%20%20%20%20%20%20%7B%22bubblingMouseEvents%22%3A%20true%2C%20%22color%22%3A%20%22blue%22%2C%20%22dashArray%22%3A%20null%2C%20%22dashOffset%22%3A%20null%2C%20%22fill%22%3A%20true%2C%20%22fillColor%22%3A%20%22%233186cc%22%2C%20%22fillOpacity%22%3A%200.7%2C%20%22fillRule%22%3A%20%22evenodd%22%2C%20%22lineCap%22%3A%20%22round%22%2C%20%22lineJoin%22%3A%20%22round%22%2C%20%22opacity%22%3A%201.0%2C%20%22radius%22%3A%205%2C%20%22stroke%22%3A%20true%2C%20%22weight%22%3A%203%7D%0A%20%20%20%20%20%20%20%20%20%20%20%20%29.addTo%28map_b52832044cf64d3892e5c9b267992380%29%3B%0A%20%20%20%20%20%20%20%20%0A%20%20%20%20%0A%20%20%20%20%20%20%20%20var%20popup_ee3e2af57723430991ce2f3f2493a7e7%20%3D%20L.popup%28%7B%22maxWidth%22%3A%20%22100%25%22%2C%20%22minWidth%22%3A%201000%7D%29%3B%0A%0A%20%20%20%20%20%20%20%20%0A%20%20%20%20%20%20%20%20%20%20%20%20var%20i_frame_05409298a7b74513a0f36544364768ba%20%3D%20%24%28%60%3Ciframe%20src%3D%22data%3Atext/html%3Bcharset%3Dutf-8%3Bbase64%2CCiAgICBDaHJpc3RpZSwgRG93bnRvd24gVG9yb250bw%3D%3D%22%20width%3D%22250%22%20style%3D%22border%3Anone%20%21important%3B%22%20height%3D%2275%22%3E%3C/iframe%3E%60%29%5B0%5D%3B%0A%20%20%20%20%20%20%20%20%20%20%20%20popup_ee3e2af57723430991ce2f3f2493a7e7.setContent%28i_frame_05409298a7b74513a0f36544364768ba%29%3B%0A%20%20%20%20%20%20%20%20%0A%0A%20%20%20%20%20%20%20%20circle_marker_31cc1839d3094e5a8849c5b52f4cf70f.bindPopup%28popup_ee3e2af57723430991ce2f3f2493a7e7%29%0A%20%20%20%20%20%20%20%20%3B%0A%0A%20%20%20%20%20%20%20%20%0A%20%20%20%20%0A%20%20%20%20%0A%20%20%20%20%20%20%20%20%20%20%20%20var%20circle_marker_3a8a0ac893884adba4c235875008700e%20%3D%20L.circleMarker%28%0A%20%20%20%20%20%20%20%20%20%20%20%20%20%20%20%20%5B43.65057120000001%2C%20-79.3845675%5D%2C%0A%20%20%20%20%20%20%20%20%20%20%20%20%20%20%20%20%7B%22bubblingMouseEvents%22%3A%20true%2C%20%22color%22%3A%20%22blue%22%2C%20%22dashArray%22%3A%20null%2C%20%22dashOffset%22%3A%20null%2C%20%22fill%22%3A%20true%2C%20%22fillColor%22%3A%20%22%233186cc%22%2C%20%22fillOpacity%22%3A%200.7%2C%20%22fillRule%22%3A%20%22evenodd%22%2C%20%22lineCap%22%3A%20%22round%22%2C%20%22lineJoin%22%3A%20%22round%22%2C%20%22opacity%22%3A%201.0%2C%20%22radius%22%3A%205%2C%20%22stroke%22%3A%20true%2C%20%22weight%22%3A%203%7D%0A%20%20%20%20%20%20%20%20%20%20%20%20%29.addTo%28map_b52832044cf64d3892e5c9b267992380%29%3B%0A%20%20%20%20%20%20%20%20%0A%20%20%20%20%0A%20%20%20%20%20%20%20%20var%20popup_12e632d4bce44807b953ae79a0cbcf5b%20%3D%20L.popup%28%7B%22maxWidth%22%3A%20%22100%25%22%2C%20%22minWidth%22%3A%201000%7D%29%3B%0A%0A%20%20%20%20%20%20%20%20%0A%20%20%20%20%20%20%20%20%20%20%20%20var%20i_frame_93353ae228e74f858d38b2193bd065e6%20%3D%20%24%28%60%3Ciframe%20src%3D%22data%3Atext/html%3Bcharset%3Dutf-8%3Bbase64%2CCiAgICBSaWNobW9uZCwgQWRlbGFpZGUsIEtpbmcsIERvd250b3duIFRvcm9udG8%3D%22%20width%3D%22250%22%20style%3D%22border%3Anone%20%21important%3B%22%20height%3D%2275%22%3E%3C/iframe%3E%60%29%5B0%5D%3B%0A%20%20%20%20%20%20%20%20%20%20%20%20popup_12e632d4bce44807b953ae79a0cbcf5b.setContent%28i_frame_93353ae228e74f858d38b2193bd065e6%29%3B%0A%20%20%20%20%20%20%20%20%0A%0A%20%20%20%20%20%20%20%20circle_marker_3a8a0ac893884adba4c235875008700e.bindPopup%28popup_12e632d4bce44807b953ae79a0cbcf5b%29%0A%20%20%20%20%20%20%20%20%3B%0A%0A%20%20%20%20%20%20%20%20%0A%20%20%20%20%0A%20%20%20%20%0A%20%20%20%20%20%20%20%20%20%20%20%20var%20circle_marker_26a012cb314444bbbbc62f840656da68%20%3D%20L.circleMarker%28%0A%20%20%20%20%20%20%20%20%20%20%20%20%20%20%20%20%5B43.66900510000001%2C%20-79.4422593%5D%2C%0A%20%20%20%20%20%20%20%20%20%20%20%20%20%20%20%20%7B%22bubblingMouseEvents%22%3A%20true%2C%20%22color%22%3A%20%22blue%22%2C%20%22dashArray%22%3A%20null%2C%20%22dashOffset%22%3A%20null%2C%20%22fill%22%3A%20true%2C%20%22fillColor%22%3A%20%22%233186cc%22%2C%20%22fillOpacity%22%3A%200.7%2C%20%22fillRule%22%3A%20%22evenodd%22%2C%20%22lineCap%22%3A%20%22round%22%2C%20%22lineJoin%22%3A%20%22round%22%2C%20%22opacity%22%3A%201.0%2C%20%22radius%22%3A%205%2C%20%22stroke%22%3A%20true%2C%20%22weight%22%3A%203%7D%0A%20%20%20%20%20%20%20%20%20%20%20%20%29.addTo%28map_b52832044cf64d3892e5c9b267992380%29%3B%0A%20%20%20%20%20%20%20%20%0A%20%20%20%20%0A%20%20%20%20%20%20%20%20var%20popup_8c8215d790e548ca82f07af8d51bfe2a%20%3D%20L.popup%28%7B%22maxWidth%22%3A%20%22100%25%22%2C%20%22minWidth%22%3A%201000%7D%29%3B%0A%0A%20%20%20%20%20%20%20%20%0A%20%20%20%20%20%20%20%20%20%20%20%20var%20i_frame_f223df4b6e044d97878c2de75ac35f5f%20%3D%20%24%28%60%3Ciframe%20src%3D%22data%3Atext/html%3Bcharset%3Dutf-8%3Bbase64%2CCiAgICBEdWZmZXJpbiwgRG92ZXJjb3VydCBWaWxsYWdlLCBXZXN0IFRvcm9udG8%3D%22%20width%3D%22250%22%20style%3D%22border%3Anone%20%21important%3B%22%20height%3D%2275%22%3E%3C/iframe%3E%60%29%5B0%5D%3B%0A%20%20%20%20%20%20%20%20%20%20%20%20popup_8c8215d790e548ca82f07af8d51bfe2a.setContent%28i_frame_f223df4b6e044d97878c2de75ac35f5f%29%3B%0A%20%20%20%20%20%20%20%20%0A%0A%20%20%20%20%20%20%20%20circle_marker_26a012cb314444bbbbc62f840656da68.bindPopup%28popup_8c8215d790e548ca82f07af8d51bfe2a%29%0A%20%20%20%20%20%20%20%20%3B%0A%0A%20%20%20%20%20%20%20%20%0A%20%20%20%20%0A%20%20%20%20%0A%20%20%20%20%20%20%20%20%20%20%20%20var%20circle_marker_a4dc1e17fccb4d03af755638435c2400%20%3D%20L.circleMarker%28%0A%20%20%20%20%20%20%20%20%20%20%20%20%20%20%20%20%5B43.6408157%2C%20-79.38175229999999%5D%2C%0A%20%20%20%20%20%20%20%20%20%20%20%20%20%20%20%20%7B%22bubblingMouseEvents%22%3A%20true%2C%20%22color%22%3A%20%22blue%22%2C%20%22dashArray%22%3A%20null%2C%20%22dashOffset%22%3A%20null%2C%20%22fill%22%3A%20true%2C%20%22fillColor%22%3A%20%22%233186cc%22%2C%20%22fillOpacity%22%3A%200.7%2C%20%22fillRule%22%3A%20%22evenodd%22%2C%20%22lineCap%22%3A%20%22round%22%2C%20%22lineJoin%22%3A%20%22round%22%2C%20%22opacity%22%3A%201.0%2C%20%22radius%22%3A%205%2C%20%22stroke%22%3A%20true%2C%20%22weight%22%3A%203%7D%0A%20%20%20%20%20%20%20%20%20%20%20%20%29.addTo%28map_b52832044cf64d3892e5c9b267992380%29%3B%0A%20%20%20%20%20%20%20%20%0A%20%20%20%20%0A%20%20%20%20%20%20%20%20var%20popup_29c542570511488f825c410334d64978%20%3D%20L.popup%28%7B%22maxWidth%22%3A%20%22100%25%22%2C%20%22minWidth%22%3A%201000%7D%29%3B%0A%0A%20%20%20%20%20%20%20%20%0A%20%20%20%20%20%20%20%20%20%20%20%20var%20i_frame_1ca93bbd1e69491c86831a62515529b7%20%3D%20%24%28%60%3Ciframe%20src%3D%22data%3Atext/html%3Bcharset%3Dutf-8%3Bbase64%2CCiAgICBIYXJib3VyZnJvbnQgRWFzdCwgVW5pb24gU3RhdGlvbiwgVG9yb250byBJc2xhbmRzLCBEb3dudG93biBUb3JvbnRv%22%20width%3D%22250%22%20style%3D%22border%3Anone%20%21important%3B%22%20height%3D%2275%22%3E%3C/iframe%3E%60%29%5B0%5D%3B%0A%20%20%20%20%20%20%20%20%20%20%20%20popup_29c542570511488f825c410334d64978.setContent%28i_frame_1ca93bbd1e69491c86831a62515529b7%29%3B%0A%20%20%20%20%20%20%20%20%0A%0A%20%20%20%20%20%20%20%20circle_marker_a4dc1e17fccb4d03af755638435c2400.bindPopup%28popup_29c542570511488f825c410334d64978%29%0A%20%20%20%20%20%20%20%20%3B%0A%0A%20%20%20%20%20%20%20%20%0A%20%20%20%20%0A%20%20%20%20%0A%20%20%20%20%20%20%20%20%20%20%20%20var%20circle_marker_4fecc2a8a48745a2be6b5499855ab4a0%20%3D%20L.circleMarker%28%0A%20%20%20%20%20%20%20%20%20%20%20%20%20%20%20%20%5B43.647926700000006%2C%20-79.4197497%5D%2C%0A%20%20%20%20%20%20%20%20%20%20%20%20%20%20%20%20%7B%22bubblingMouseEvents%22%3A%20true%2C%20%22color%22%3A%20%22blue%22%2C%20%22dashArray%22%3A%20null%2C%20%22dashOffset%22%3A%20null%2C%20%22fill%22%3A%20true%2C%20%22fillColor%22%3A%20%22%233186cc%22%2C%20%22fillOpacity%22%3A%200.7%2C%20%22fillRule%22%3A%20%22evenodd%22%2C%20%22lineCap%22%3A%20%22round%22%2C%20%22lineJoin%22%3A%20%22round%22%2C%20%22opacity%22%3A%201.0%2C%20%22radius%22%3A%205%2C%20%22stroke%22%3A%20true%2C%20%22weight%22%3A%203%7D%0A%20%20%20%20%20%20%20%20%20%20%20%20%29.addTo%28map_b52832044cf64d3892e5c9b267992380%29%3B%0A%20%20%20%20%20%20%20%20%0A%20%20%20%20%0A%20%20%20%20%20%20%20%20var%20popup_8aecbc27c70f477faaa33d7e935df813%20%3D%20L.popup%28%7B%22maxWidth%22%3A%20%22100%25%22%2C%20%22minWidth%22%3A%201000%7D%29%3B%0A%0A%20%20%20%20%20%20%20%20%0A%20%20%20%20%20%20%20%20%20%20%20%20var%20i_frame_754df69fd7524287b521b72856bbe511%20%3D%20%24%28%60%3Ciframe%20src%3D%22data%3Atext/html%3Bcharset%3Dutf-8%3Bbase64%2CCiAgICBMaXR0bGUgUG9ydHVnYWwsIFRyaW5pdHksIFdlc3QgVG9yb250bw%3D%3D%22%20width%3D%22250%22%20style%3D%22border%3Anone%20%21important%3B%22%20height%3D%2275%22%3E%3C/iframe%3E%60%29%5B0%5D%3B%0A%20%20%20%20%20%20%20%20%20%20%20%20popup_8aecbc27c70f477faaa33d7e935df813.setContent%28i_frame_754df69fd7524287b521b72856bbe511%29%3B%0A%20%20%20%20%20%20%20%20%0A%0A%20%20%20%20%20%20%20%20circle_marker_4fecc2a8a48745a2be6b5499855ab4a0.bindPopup%28popup_8aecbc27c70f477faaa33d7e935df813%29%0A%20%20%20%20%20%20%20%20%3B%0A%0A%20%20%20%20%20%20%20%20%0A%20%20%20%20%0A%20%20%20%20%0A%20%20%20%20%20%20%20%20%20%20%20%20var%20circle_marker_a975c96797764ce9bbdb99dd982a2dcd%20%3D%20L.circleMarker%28%0A%20%20%20%20%20%20%20%20%20%20%20%20%20%20%20%20%5B43.6795571%2C%20-79.352188%5D%2C%0A%20%20%20%20%20%20%20%20%20%20%20%20%20%20%20%20%7B%22bubblingMouseEvents%22%3A%20true%2C%20%22color%22%3A%20%22blue%22%2C%20%22dashArray%22%3A%20null%2C%20%22dashOffset%22%3A%20null%2C%20%22fill%22%3A%20true%2C%20%22fillColor%22%3A%20%22%233186cc%22%2C%20%22fillOpacity%22%3A%200.7%2C%20%22fillRule%22%3A%20%22evenodd%22%2C%20%22lineCap%22%3A%20%22round%22%2C%20%22lineJoin%22%3A%20%22round%22%2C%20%22opacity%22%3A%201.0%2C%20%22radius%22%3A%205%2C%20%22stroke%22%3A%20true%2C%20%22weight%22%3A%203%7D%0A%20%20%20%20%20%20%20%20%20%20%20%20%29.addTo%28map_b52832044cf64d3892e5c9b267992380%29%3B%0A%20%20%20%20%20%20%20%20%0A%20%20%20%20%0A%20%20%20%20%20%20%20%20var%20popup_3ad635967e8e4d558aeb3045c5457df2%20%3D%20L.popup%28%7B%22maxWidth%22%3A%20%22100%25%22%2C%20%22minWidth%22%3A%201000%7D%29%3B%0A%0A%20%20%20%20%20%20%20%20%0A%20%20%20%20%20%20%20%20%20%20%20%20var%20i_frame_953356d7d9194306ae71ccf231dfab4b%20%3D%20%24%28%60%3Ciframe%20src%3D%22data%3Atext/html%3Bcharset%3Dutf-8%3Bbase64%2CCiAgICBUaGUgRGFuZm9ydGggV2VzdCwgUml2ZXJkYWxlLCBFYXN0IFRvcm9udG8%3D%22%20width%3D%22250%22%20style%3D%22border%3Anone%20%21important%3B%22%20height%3D%2275%22%3E%3C/iframe%3E%60%29%5B0%5D%3B%0A%20%20%20%20%20%20%20%20%20%20%20%20popup_3ad635967e8e4d558aeb3045c5457df2.setContent%28i_frame_953356d7d9194306ae71ccf231dfab4b%29%3B%0A%20%20%20%20%20%20%20%20%0A%0A%20%20%20%20%20%20%20%20circle_marker_a975c96797764ce9bbdb99dd982a2dcd.bindPopup%28popup_3ad635967e8e4d558aeb3045c5457df2%29%0A%20%20%20%20%20%20%20%20%3B%0A%0A%20%20%20%20%20%20%20%20%0A%20%20%20%20%0A%20%20%20%20%0A%20%20%20%20%20%20%20%20%20%20%20%20var%20circle_marker_09875a8afe2945f986eaf56e44df0e42%20%3D%20L.circleMarker%28%0A%20%20%20%20%20%20%20%20%20%20%20%20%20%20%20%20%5B43.6471768%2C%20-79.38157640000001%5D%2C%0A%20%20%20%20%20%20%20%20%20%20%20%20%20%20%20%20%7B%22bubblingMouseEvents%22%3A%20true%2C%20%22color%22%3A%20%22blue%22%2C%20%22dashArray%22%3A%20null%2C%20%22dashOffset%22%3A%20null%2C%20%22fill%22%3A%20true%2C%20%22fillColor%22%3A%20%22%233186cc%22%2C%20%22fillOpacity%22%3A%200.7%2C%20%22fillRule%22%3A%20%22evenodd%22%2C%20%22lineCap%22%3A%20%22round%22%2C%20%22lineJoin%22%3A%20%22round%22%2C%20%22opacity%22%3A%201.0%2C%20%22radius%22%3A%205%2C%20%22stroke%22%3A%20true%2C%20%22weight%22%3A%203%7D%0A%20%20%20%20%20%20%20%20%20%20%20%20%29.addTo%28map_b52832044cf64d3892e5c9b267992380%29%3B%0A%20%20%20%20%20%20%20%20%0A%20%20%20%20%0A%20%20%20%20%20%20%20%20var%20popup_0a7eb1ddd96947699092a5594dea7392%20%3D%20L.popup%28%7B%22maxWidth%22%3A%20%22100%25%22%2C%20%22minWidth%22%3A%201000%7D%29%3B%0A%0A%20%20%20%20%20%20%20%20%0A%20%20%20%20%20%20%20%20%20%20%20%20var%20i_frame_50101dabd1a042898f182965dbe0c04b%20%3D%20%24%28%60%3Ciframe%20src%3D%22data%3Atext/html%3Bcharset%3Dutf-8%3Bbase64%2CCiAgICBUb3JvbnRvIERvbWluaW9uIENlbnRyZSwgRGVzaWduIEV4Y2hhbmdlLCBEb3dudG93biBUb3JvbnRv%22%20width%3D%22250%22%20style%3D%22border%3Anone%20%21important%3B%22%20height%3D%2275%22%3E%3C/iframe%3E%60%29%5B0%5D%3B%0A%20%20%20%20%20%20%20%20%20%20%20%20popup_0a7eb1ddd96947699092a5594dea7392.setContent%28i_frame_50101dabd1a042898f182965dbe0c04b%29%3B%0A%20%20%20%20%20%20%20%20%0A%0A%20%20%20%20%20%20%20%20circle_marker_09875a8afe2945f986eaf56e44df0e42.bindPopup%28popup_0a7eb1ddd96947699092a5594dea7392%29%0A%20%20%20%20%20%20%20%20%3B%0A%0A%20%20%20%20%20%20%20%20%0A%20%20%20%20%0A%20%20%20%20%0A%20%20%20%20%20%20%20%20%20%20%20%20var%20circle_marker_b8a2f35a4bf346ffaaf1adc44a62581f%20%3D%20L.circleMarker%28%0A%20%20%20%20%20%20%20%20%20%20%20%20%20%20%20%20%5B43.6368472%2C%20-79.42819140000002%5D%2C%0A%20%20%20%20%20%20%20%20%20%20%20%20%20%20%20%20%7B%22bubblingMouseEvents%22%3A%20true%2C%20%22color%22%3A%20%22blue%22%2C%20%22dashArray%22%3A%20null%2C%20%22dashOffset%22%3A%20null%2C%20%22fill%22%3A%20true%2C%20%22fillColor%22%3A%20%22%233186cc%22%2C%20%22fillOpacity%22%3A%200.7%2C%20%22fillRule%22%3A%20%22evenodd%22%2C%20%22lineCap%22%3A%20%22round%22%2C%20%22lineJoin%22%3A%20%22round%22%2C%20%22opacity%22%3A%201.0%2C%20%22radius%22%3A%205%2C%20%22stroke%22%3A%20true%2C%20%22weight%22%3A%203%7D%0A%20%20%20%20%20%20%20%20%20%20%20%20%29.addTo%28map_b52832044cf64d3892e5c9b267992380%29%3B%0A%20%20%20%20%20%20%20%20%0A%20%20%20%20%0A%20%20%20%20%20%20%20%20var%20popup_b3e18a0f47d0431794610a2c6cd742c7%20%3D%20L.popup%28%7B%22maxWidth%22%3A%20%22100%25%22%2C%20%22minWidth%22%3A%201000%7D%29%3B%0A%0A%20%20%20%20%20%20%20%20%0A%20%20%20%20%20%20%20%20%20%20%20%20var%20i_frame_41b4e5aac3604f4b8defe96ff0322db6%20%3D%20%24%28%60%3Ciframe%20src%3D%22data%3Atext/html%3Bcharset%3Dutf-8%3Bbase64%2CCiAgICBCcm9ja3RvbiwgUGFya2RhbGUgVmlsbGFnZSwgRXhoaWJpdGlvbiBQbGFjZSwgV2VzdCBUb3JvbnRv%22%20width%3D%22250%22%20style%3D%22border%3Anone%20%21important%3B%22%20height%3D%2275%22%3E%3C/iframe%3E%60%29%5B0%5D%3B%0A%20%20%20%20%20%20%20%20%20%20%20%20popup_b3e18a0f47d0431794610a2c6cd742c7.setContent%28i_frame_41b4e5aac3604f4b8defe96ff0322db6%29%3B%0A%20%20%20%20%20%20%20%20%0A%0A%20%20%20%20%20%20%20%20circle_marker_b8a2f35a4bf346ffaaf1adc44a62581f.bindPopup%28popup_b3e18a0f47d0431794610a2c6cd742c7%29%0A%20%20%20%20%20%20%20%20%3B%0A%0A%20%20%20%20%20%20%20%20%0A%20%20%20%20%0A%20%20%20%20%0A%20%20%20%20%20%20%20%20%20%20%20%20var%20circle_marker_04819285f4874b4a84931867d5f66178%20%3D%20L.circleMarker%28%0A%20%20%20%20%20%20%20%20%20%20%20%20%20%20%20%20%5B43.6689985%2C%20-79.31557159999998%5D%2C%0A%20%20%20%20%20%20%20%20%20%20%20%20%20%20%20%20%7B%22bubblingMouseEvents%22%3A%20true%2C%20%22color%22%3A%20%22blue%22%2C%20%22dashArray%22%3A%20null%2C%20%22dashOffset%22%3A%20null%2C%20%22fill%22%3A%20true%2C%20%22fillColor%22%3A%20%22%233186cc%22%2C%20%22fillOpacity%22%3A%200.7%2C%20%22fillRule%22%3A%20%22evenodd%22%2C%20%22lineCap%22%3A%20%22round%22%2C%20%22lineJoin%22%3A%20%22round%22%2C%20%22opacity%22%3A%201.0%2C%20%22radius%22%3A%205%2C%20%22stroke%22%3A%20true%2C%20%22weight%22%3A%203%7D%0A%20%20%20%20%20%20%20%20%20%20%20%20%29.addTo%28map_b52832044cf64d3892e5c9b267992380%29%3B%0A%20%20%20%20%20%20%20%20%0A%20%20%20%20%0A%20%20%20%20%20%20%20%20var%20popup_be788492c49141b39d54f14da12adb52%20%3D%20L.popup%28%7B%22maxWidth%22%3A%20%22100%25%22%2C%20%22minWidth%22%3A%201000%7D%29%3B%0A%0A%20%20%20%20%20%20%20%20%0A%20%20%20%20%20%20%20%20%20%20%20%20var%20i_frame_c2f5a0065a8442c88b2c12ec433bc154%20%3D%20%24%28%60%3Ciframe%20src%3D%22data%3Atext/html%3Bcharset%3Dutf-8%3Bbase64%2CCiAgICBJbmRpYSBCYXphYXIsIFRoZSBCZWFjaGVzIFdlc3QsIEVhc3QgVG9yb250bw%3D%3D%22%20width%3D%22250%22%20style%3D%22border%3Anone%20%21important%3B%22%20height%3D%2275%22%3E%3C/iframe%3E%60%29%5B0%5D%3B%0A%20%20%20%20%20%20%20%20%20%20%20%20popup_be788492c49141b39d54f14da12adb52.setContent%28i_frame_c2f5a0065a8442c88b2c12ec433bc154%29%3B%0A%20%20%20%20%20%20%20%20%0A%0A%20%20%20%20%20%20%20%20circle_marker_04819285f4874b4a84931867d5f66178.bindPopup%28popup_be788492c49141b39d54f14da12adb52%29%0A%20%20%20%20%20%20%20%20%3B%0A%0A%20%20%20%20%20%20%20%20%0A%20%20%20%20%0A%20%20%20%20%0A%20%20%20%20%20%20%20%20%20%20%20%20var%20circle_marker_ba10be2f8f5f472b8bc3f6d9b4637ce9%20%3D%20L.circleMarker%28%0A%20%20%20%20%20%20%20%20%20%20%20%20%20%20%20%20%5B43.6481985%2C%20-79.37981690000001%5D%2C%0A%20%20%20%20%20%20%20%20%20%20%20%20%20%20%20%20%7B%22bubblingMouseEvents%22%3A%20true%2C%20%22color%22%3A%20%22blue%22%2C%20%22dashArray%22%3A%20null%2C%20%22dashOffset%22%3A%20null%2C%20%22fill%22%3A%20true%2C%20%22fillColor%22%3A%20%22%233186cc%22%2C%20%22fillOpacity%22%3A%200.7%2C%20%22fillRule%22%3A%20%22evenodd%22%2C%20%22lineCap%22%3A%20%22round%22%2C%20%22lineJoin%22%3A%20%22round%22%2C%20%22opacity%22%3A%201.0%2C%20%22radius%22%3A%205%2C%20%22stroke%22%3A%20true%2C%20%22weight%22%3A%203%7D%0A%20%20%20%20%20%20%20%20%20%20%20%20%29.addTo%28map_b52832044cf64d3892e5c9b267992380%29%3B%0A%20%20%20%20%20%20%20%20%0A%20%20%20%20%0A%20%20%20%20%20%20%20%20var%20popup_03768b0fee024525a71841df46511af5%20%3D%20L.popup%28%7B%22maxWidth%22%3A%20%22100%25%22%2C%20%22minWidth%22%3A%201000%7D%29%3B%0A%0A%20%20%20%20%20%20%20%20%0A%20%20%20%20%20%20%20%20%20%20%20%20var%20i_frame_c838fb9e3c884eceac6398ec7977d835%20%3D%20%24%28%60%3Ciframe%20src%3D%22data%3Atext/html%3Bcharset%3Dutf-8%3Bbase64%2CCiAgICBDb21tZXJjZSBDb3VydCwgVmljdG9yaWEgSG90ZWwsIERvd250b3duIFRvcm9udG8%3D%22%20width%3D%22250%22%20style%3D%22border%3Anone%20%21important%3B%22%20height%3D%2275%22%3E%3C/iframe%3E%60%29%5B0%5D%3B%0A%20%20%20%20%20%20%20%20%20%20%20%20popup_03768b0fee024525a71841df46511af5.setContent%28i_frame_c838fb9e3c884eceac6398ec7977d835%29%3B%0A%20%20%20%20%20%20%20%20%0A%0A%20%20%20%20%20%20%20%20circle_marker_ba10be2f8f5f472b8bc3f6d9b4637ce9.bindPopup%28popup_03768b0fee024525a71841df46511af5%29%0A%20%20%20%20%20%20%20%20%3B%0A%0A%20%20%20%20%20%20%20%20%0A%20%20%20%20%0A%20%20%20%20%0A%20%20%20%20%20%20%20%20%20%20%20%20var%20circle_marker_da31e64d85c24d87ab2033be00356b66%20%3D%20L.circleMarker%28%0A%20%20%20%20%20%20%20%20%20%20%20%20%20%20%20%20%5B43.6595255%2C%20-79.340923%5D%2C%0A%20%20%20%20%20%20%20%20%20%20%20%20%20%20%20%20%7B%22bubblingMouseEvents%22%3A%20true%2C%20%22color%22%3A%20%22blue%22%2C%20%22dashArray%22%3A%20null%2C%20%22dashOffset%22%3A%20null%2C%20%22fill%22%3A%20true%2C%20%22fillColor%22%3A%20%22%233186cc%22%2C%20%22fillOpacity%22%3A%200.7%2C%20%22fillRule%22%3A%20%22evenodd%22%2C%20%22lineCap%22%3A%20%22round%22%2C%20%22lineJoin%22%3A%20%22round%22%2C%20%22opacity%22%3A%201.0%2C%20%22radius%22%3A%205%2C%20%22stroke%22%3A%20true%2C%20%22weight%22%3A%203%7D%0A%20%20%20%20%20%20%20%20%20%20%20%20%29.addTo%28map_b52832044cf64d3892e5c9b267992380%29%3B%0A%20%20%20%20%20%20%20%20%0A%20%20%20%20%0A%20%20%20%20%20%20%20%20var%20popup_7611e1185369466d93a76f8d0f5c4aec%20%3D%20L.popup%28%7B%22maxWidth%22%3A%20%22100%25%22%2C%20%22minWidth%22%3A%201000%7D%29%3B%0A%0A%20%20%20%20%20%20%20%20%0A%20%20%20%20%20%20%20%20%20%20%20%20var%20i_frame_84e55e30443f4d80b385ef197d43bb08%20%3D%20%24%28%60%3Ciframe%20src%3D%22data%3Atext/html%3Bcharset%3Dutf-8%3Bbase64%2CCiAgICBTdHVkaW8gRGlzdHJpY3QsIEVhc3QgVG9yb250bw%3D%3D%22%20width%3D%22250%22%20style%3D%22border%3Anone%20%21important%3B%22%20height%3D%2275%22%3E%3C/iframe%3E%60%29%5B0%5D%3B%0A%20%20%20%20%20%20%20%20%20%20%20%20popup_7611e1185369466d93a76f8d0f5c4aec.setContent%28i_frame_84e55e30443f4d80b385ef197d43bb08%29%3B%0A%20%20%20%20%20%20%20%20%0A%0A%20%20%20%20%20%20%20%20circle_marker_da31e64d85c24d87ab2033be00356b66.bindPopup%28popup_7611e1185369466d93a76f8d0f5c4aec%29%0A%20%20%20%20%20%20%20%20%3B%0A%0A%20%20%20%20%20%20%20%20%0A%20%20%20%20%0A%20%20%20%20%0A%20%20%20%20%20%20%20%20%20%20%20%20var%20circle_marker_0f09fb204422424ab9695f210e4ee868%20%3D%20L.circleMarker%28%0A%20%20%20%20%20%20%20%20%20%20%20%20%20%20%20%20%5B43.7280205%2C%20-79.3887901%5D%2C%0A%20%20%20%20%20%20%20%20%20%20%20%20%20%20%20%20%7B%22bubblingMouseEvents%22%3A%20true%2C%20%22color%22%3A%20%22blue%22%2C%20%22dashArray%22%3A%20null%2C%20%22dashOffset%22%3A%20null%2C%20%22fill%22%3A%20true%2C%20%22fillColor%22%3A%20%22%233186cc%22%2C%20%22fillOpacity%22%3A%200.7%2C%20%22fillRule%22%3A%20%22evenodd%22%2C%20%22lineCap%22%3A%20%22round%22%2C%20%22lineJoin%22%3A%20%22round%22%2C%20%22opacity%22%3A%201.0%2C%20%22radius%22%3A%205%2C%20%22stroke%22%3A%20true%2C%20%22weight%22%3A%203%7D%0A%20%20%20%20%20%20%20%20%20%20%20%20%29.addTo%28map_b52832044cf64d3892e5c9b267992380%29%3B%0A%20%20%20%20%20%20%20%20%0A%20%20%20%20%0A%20%20%20%20%20%20%20%20var%20popup_443704275ff748dfbd137a099b05e6f5%20%3D%20L.popup%28%7B%22maxWidth%22%3A%20%22100%25%22%2C%20%22minWidth%22%3A%201000%7D%29%3B%0A%0A%20%20%20%20%20%20%20%20%0A%20%20%20%20%20%20%20%20%20%20%20%20var%20i_frame_d29d1bab23fd454592663cb89313030f%20%3D%20%24%28%60%3Ciframe%20src%3D%22data%3Atext/html%3Bcharset%3Dutf-8%3Bbase64%2CCiAgICBMYXdyZW5jZSBQYXJrLCBDZW50cmFsIFRvcm9udG8%3D%22%20width%3D%22250%22%20style%3D%22border%3Anone%20%21important%3B%22%20height%3D%2275%22%3E%3C/iframe%3E%60%29%5B0%5D%3B%0A%20%20%20%20%20%20%20%20%20%20%20%20popup_443704275ff748dfbd137a099b05e6f5.setContent%28i_frame_d29d1bab23fd454592663cb89313030f%29%3B%0A%20%20%20%20%20%20%20%20%0A%0A%20%20%20%20%20%20%20%20circle_marker_0f09fb204422424ab9695f210e4ee868.bindPopup%28popup_443704275ff748dfbd137a099b05e6f5%29%0A%20%20%20%20%20%20%20%20%3B%0A%0A%20%20%20%20%20%20%20%20%0A%20%20%20%20%0A%20%20%20%20%0A%20%20%20%20%20%20%20%20%20%20%20%20var%20circle_marker_97a6891de3784877a189806462ab811d%20%3D%20L.circleMarker%28%0A%20%20%20%20%20%20%20%20%20%20%20%20%20%20%20%20%5B43.7116948%2C%20-79.41693559999999%5D%2C%0A%20%20%20%20%20%20%20%20%20%20%20%20%20%20%20%20%7B%22bubblingMouseEvents%22%3A%20true%2C%20%22color%22%3A%20%22blue%22%2C%20%22dashArray%22%3A%20null%2C%20%22dashOffset%22%3A%20null%2C%20%22fill%22%3A%20true%2C%20%22fillColor%22%3A%20%22%233186cc%22%2C%20%22fillOpacity%22%3A%200.7%2C%20%22fillRule%22%3A%20%22evenodd%22%2C%20%22lineCap%22%3A%20%22round%22%2C%20%22lineJoin%22%3A%20%22round%22%2C%20%22opacity%22%3A%201.0%2C%20%22radius%22%3A%205%2C%20%22stroke%22%3A%20true%2C%20%22weight%22%3A%203%7D%0A%20%20%20%20%20%20%20%20%20%20%20%20%29.addTo%28map_b52832044cf64d3892e5c9b267992380%29%3B%0A%20%20%20%20%20%20%20%20%0A%20%20%20%20%0A%20%20%20%20%20%20%20%20var%20popup_880ea39f647548b5a8cfabfa37f0ee4f%20%3D%20L.popup%28%7B%22maxWidth%22%3A%20%22100%25%22%2C%20%22minWidth%22%3A%201000%7D%29%3B%0A%0A%20%20%20%20%20%20%20%20%0A%20%20%20%20%20%20%20%20%20%20%20%20var%20i_frame_8331c08681a947849879d1ec9146f556%20%3D%20%24%28%60%3Ciframe%20src%3D%22data%3Atext/html%3Bcharset%3Dutf-8%3Bbase64%2CCiAgICBSb3NlbGF3biwgQ2VudHJhbCBUb3JvbnRv%22%20width%3D%22250%22%20style%3D%22border%3Anone%20%21important%3B%22%20height%3D%2275%22%3E%3C/iframe%3E%60%29%5B0%5D%3B%0A%20%20%20%20%20%20%20%20%20%20%20%20popup_880ea39f647548b5a8cfabfa37f0ee4f.setContent%28i_frame_8331c08681a947849879d1ec9146f556%29%3B%0A%20%20%20%20%20%20%20%20%0A%0A%20%20%20%20%20%20%20%20circle_marker_97a6891de3784877a189806462ab811d.bindPopup%28popup_880ea39f647548b5a8cfabfa37f0ee4f%29%0A%20%20%20%20%20%20%20%20%3B%0A%0A%20%20%20%20%20%20%20%20%0A%20%20%20%20%0A%20%20%20%20%0A%20%20%20%20%20%20%20%20%20%20%20%20var%20circle_marker_302d81cf238749a5bcf8c706b46ffa91%20%3D%20L.circleMarker%28%0A%20%20%20%20%20%20%20%20%20%20%20%20%20%20%20%20%5B43.67318529999999%2C%20-79.48726190000001%5D%2C%0A%20%20%20%20%20%20%20%20%20%20%20%20%20%20%20%20%7B%22bubblingMouseEvents%22%3A%20true%2C%20%22color%22%3A%20%22blue%22%2C%20%22dashArray%22%3A%20null%2C%20%22dashOffset%22%3A%20null%2C%20%22fill%22%3A%20true%2C%20%22fillColor%22%3A%20%22%233186cc%22%2C%20%22fillOpacity%22%3A%200.7%2C%20%22fillRule%22%3A%20%22evenodd%22%2C%20%22lineCap%22%3A%20%22round%22%2C%20%22lineJoin%22%3A%20%22round%22%2C%20%22opacity%22%3A%201.0%2C%20%22radius%22%3A%205%2C%20%22stroke%22%3A%20true%2C%20%22weight%22%3A%203%7D%0A%20%20%20%20%20%20%20%20%20%20%20%20%29.addTo%28map_b52832044cf64d3892e5c9b267992380%29%3B%0A%20%20%20%20%20%20%20%20%0A%20%20%20%20%0A%20%20%20%20%20%20%20%20var%20popup_49d38e5336534b9da6352b43c65f5d4c%20%3D%20L.popup%28%7B%22maxWidth%22%3A%20%22100%25%22%2C%20%22minWidth%22%3A%201000%7D%29%3B%0A%0A%20%20%20%20%20%20%20%20%0A%20%20%20%20%20%20%20%20%20%20%20%20var%20i_frame_f28e1dfbe5fe400882492a5ebcfe944b%20%3D%20%24%28%60%3Ciframe%20src%3D%22data%3Atext/html%3Bcharset%3Dutf-8%3Bbase64%2CCiAgICBSdW5ueW1lZGUsIFRoZSBKdW5jdGlvbiwgV2VzdG9uLVBlbGxhbSBQYXJrLCBDYXJsdG9uIFZpbGxhZ2UsIFRvcm9udG8vWW9yaw%3D%3D%22%20width%3D%22250%22%20style%3D%22border%3Anone%20%21important%3B%22%20height%3D%2275%22%3E%3C/iframe%3E%60%29%5B0%5D%3B%0A%20%20%20%20%20%20%20%20%20%20%20%20popup_49d38e5336534b9da6352b43c65f5d4c.setContent%28i_frame_f28e1dfbe5fe400882492a5ebcfe944b%29%3B%0A%20%20%20%20%20%20%20%20%0A%0A%20%20%20%20%20%20%20%20circle_marker_302d81cf238749a5bcf8c706b46ffa91.bindPopup%28popup_49d38e5336534b9da6352b43c65f5d4c%29%0A%20%20%20%20%20%20%20%20%3B%0A%0A%20%20%20%20%20%20%20%20%0A%20%20%20%20%0A%20%20%20%20%0A%20%20%20%20%20%20%20%20%20%20%20%20var%20circle_marker_33fcb22eeb384c2f994f733d732f5258%20%3D%20L.circleMarker%28%0A%20%20%20%20%20%20%20%20%20%20%20%20%20%20%20%20%5B43.7127511%2C%20-79.3901975%5D%2C%0A%20%20%20%20%20%20%20%20%20%20%20%20%20%20%20%20%7B%22bubblingMouseEvents%22%3A%20true%2C%20%22color%22%3A%20%22blue%22%2C%20%22dashArray%22%3A%20null%2C%20%22dashOffset%22%3A%20null%2C%20%22fill%22%3A%20true%2C%20%22fillColor%22%3A%20%22%233186cc%22%2C%20%22fillOpacity%22%3A%200.7%2C%20%22fillRule%22%3A%20%22evenodd%22%2C%20%22lineCap%22%3A%20%22round%22%2C%20%22lineJoin%22%3A%20%22round%22%2C%20%22opacity%22%3A%201.0%2C%20%22radius%22%3A%205%2C%20%22stroke%22%3A%20true%2C%20%22weight%22%3A%203%7D%0A%20%20%20%20%20%20%20%20%20%20%20%20%29.addTo%28map_b52832044cf64d3892e5c9b267992380%29%3B%0A%20%20%20%20%20%20%20%20%0A%20%20%20%20%0A%20%20%20%20%20%20%20%20var%20popup_5daac850e5874adc9d2012f0f2921f54%20%3D%20L.popup%28%7B%22maxWidth%22%3A%20%22100%25%22%2C%20%22minWidth%22%3A%201000%7D%29%3B%0A%0A%20%20%20%20%20%20%20%20%0A%20%20%20%20%20%20%20%20%20%20%20%20var%20i_frame_ff8e5453f61845c98e7f9ada7c55db1b%20%3D%20%24%28%60%3Ciframe%20src%3D%22data%3Atext/html%3Bcharset%3Dutf-8%3Bbase64%2CCiAgICBEYXZpc3ZpbGxlIE5vcnRoLCBDZW50cmFsIFRvcm9udG8%3D%22%20width%3D%22250%22%20style%3D%22border%3Anone%20%21important%3B%22%20height%3D%2275%22%3E%3C/iframe%3E%60%29%5B0%5D%3B%0A%20%20%20%20%20%20%20%20%20%20%20%20popup_5daac850e5874adc9d2012f0f2921f54.setContent%28i_frame_ff8e5453f61845c98e7f9ada7c55db1b%29%3B%0A%20%20%20%20%20%20%20%20%0A%0A%20%20%20%20%20%20%20%20circle_marker_33fcb22eeb384c2f994f733d732f5258.bindPopup%28popup_5daac850e5874adc9d2012f0f2921f54%29%0A%20%20%20%20%20%20%20%20%3B%0A%0A%20%20%20%20%20%20%20%20%0A%20%20%20%20%0A%20%20%20%20%0A%20%20%20%20%20%20%20%20%20%20%20%20var%20circle_marker_ea7485f4a99e43f09383639bfa1de01e%20%3D%20L.circleMarker%28%0A%20%20%20%20%20%20%20%20%20%20%20%20%20%20%20%20%5B43.6969476%2C%20-79.41130720000001%5D%2C%0A%20%20%20%20%20%20%20%20%20%20%20%20%20%20%20%20%7B%22bubblingMouseEvents%22%3A%20true%2C%20%22color%22%3A%20%22blue%22%2C%20%22dashArray%22%3A%20null%2C%20%22dashOffset%22%3A%20null%2C%20%22fill%22%3A%20true%2C%20%22fillColor%22%3A%20%22%233186cc%22%2C%20%22fillOpacity%22%3A%200.7%2C%20%22fillRule%22%3A%20%22evenodd%22%2C%20%22lineCap%22%3A%20%22round%22%2C%20%22lineJoin%22%3A%20%22round%22%2C%20%22opacity%22%3A%201.0%2C%20%22radius%22%3A%205%2C%20%22stroke%22%3A%20true%2C%20%22weight%22%3A%203%7D%0A%20%20%20%20%20%20%20%20%20%20%20%20%29.addTo%28map_b52832044cf64d3892e5c9b267992380%29%3B%0A%20%20%20%20%20%20%20%20%0A%20%20%20%20%0A%20%20%20%20%20%20%20%20var%20popup_96716fc1b22b45c98c4337ed48a1904b%20%3D%20L.popup%28%7B%22maxWidth%22%3A%20%22100%25%22%2C%20%22minWidth%22%3A%201000%7D%29%3B%0A%0A%20%20%20%20%20%20%20%20%0A%20%20%20%20%20%20%20%20%20%20%20%20var%20i_frame_486e4568b9ec4a76b51e6c017b20c364%20%3D%20%24%28%60%3Ciframe%20src%3D%22data%3Atext/html%3Bcharset%3Dutf-8%3Bbase64%2CCiAgICBGb3Jlc3QgSGlsbCBOb3J0aCAmIFdlc3QsIEZvcmVzdCBIaWxsIFJvYWQgUGFyaywgQ2VudHJhbCBUb3JvbnRv%22%20width%3D%22250%22%20style%3D%22border%3Anone%20%21important%3B%22%20height%3D%2275%22%3E%3C/iframe%3E%60%29%5B0%5D%3B%0A%20%20%20%20%20%20%20%20%20%20%20%20popup_96716fc1b22b45c98c4337ed48a1904b.setContent%28i_frame_486e4568b9ec4a76b51e6c017b20c364%29%3B%0A%20%20%20%20%20%20%20%20%0A%0A%20%20%20%20%20%20%20%20circle_marker_ea7485f4a99e43f09383639bfa1de01e.bindPopup%28popup_96716fc1b22b45c98c4337ed48a1904b%29%0A%20%20%20%20%20%20%20%20%3B%0A%0A%20%20%20%20%20%20%20%20%0A%20%20%20%20%0A%20%20%20%20%0A%20%20%20%20%20%20%20%20%20%20%20%20var%20circle_marker_72354185a0404d939b5e6d826a7ba252%20%3D%20L.circleMarker%28%0A%20%20%20%20%20%20%20%20%20%20%20%20%20%20%20%20%5B43.6616083%2C%20-79.46476329999999%5D%2C%0A%20%20%20%20%20%20%20%20%20%20%20%20%20%20%20%20%7B%22bubblingMouseEvents%22%3A%20true%2C%20%22color%22%3A%20%22blue%22%2C%20%22dashArray%22%3A%20null%2C%20%22dashOffset%22%3A%20null%2C%20%22fill%22%3A%20true%2C%20%22fillColor%22%3A%20%22%233186cc%22%2C%20%22fillOpacity%22%3A%200.7%2C%20%22fillRule%22%3A%20%22evenodd%22%2C%20%22lineCap%22%3A%20%22round%22%2C%20%22lineJoin%22%3A%20%22round%22%2C%20%22opacity%22%3A%201.0%2C%20%22radius%22%3A%205%2C%20%22stroke%22%3A%20true%2C%20%22weight%22%3A%203%7D%0A%20%20%20%20%20%20%20%20%20%20%20%20%29.addTo%28map_b52832044cf64d3892e5c9b267992380%29%3B%0A%20%20%20%20%20%20%20%20%0A%20%20%20%20%0A%20%20%20%20%20%20%20%20var%20popup_32bbc44174924a1788d539f80b917cb5%20%3D%20L.popup%28%7B%22maxWidth%22%3A%20%22100%25%22%2C%20%22minWidth%22%3A%201000%7D%29%3B%0A%0A%20%20%20%20%20%20%20%20%0A%20%20%20%20%20%20%20%20%20%20%20%20var%20i_frame_3fe440578f87440d9f5ae5df2c553364%20%3D%20%24%28%60%3Ciframe%20src%3D%22data%3Atext/html%3Bcharset%3Dutf-8%3Bbase64%2CCiAgICBIaWdoIFBhcmssIFRoZSBKdW5jdGlvbiBTb3V0aCwgV2VzdCBUb3JvbnRv%22%20width%3D%22250%22%20style%3D%22border%3Anone%20%21important%3B%22%20height%3D%2275%22%3E%3C/iframe%3E%60%29%5B0%5D%3B%0A%20%20%20%20%20%20%20%20%20%20%20%20popup_32bbc44174924a1788d539f80b917cb5.setContent%28i_frame_3fe440578f87440d9f5ae5df2c553364%29%3B%0A%20%20%20%20%20%20%20%20%0A%0A%20%20%20%20%20%20%20%20circle_marker_72354185a0404d939b5e6d826a7ba252.bindPopup%28popup_32bbc44174924a1788d539f80b917cb5%29%0A%20%20%20%20%20%20%20%20%3B%0A%0A%20%20%20%20%20%20%20%20%0A%20%20%20%20%0A%20%20%20%20%0A%20%20%20%20%20%20%20%20%20%20%20%20var%20circle_marker_6cbbcf5cc6b8456084f9296f7e67ffac%20%3D%20L.circleMarker%28%0A%20%20%20%20%20%20%20%20%20%20%20%20%20%20%20%20%5B43.7153834%2C%20-79.40567840000001%5D%2C%0A%20%20%20%20%20%20%20%20%20%20%20%20%20%20%20%20%7B%22bubblingMouseEvents%22%3A%20true%2C%20%22color%22%3A%20%22blue%22%2C%20%22dashArray%22%3A%20null%2C%20%22dashOffset%22%3A%20null%2C%20%22fill%22%3A%20true%2C%20%22fillColor%22%3A%20%22%233186cc%22%2C%20%22fillOpacity%22%3A%200.7%2C%20%22fillRule%22%3A%20%22evenodd%22%2C%20%22lineCap%22%3A%20%22round%22%2C%20%22lineJoin%22%3A%20%22round%22%2C%20%22opacity%22%3A%201.0%2C%20%22radius%22%3A%205%2C%20%22stroke%22%3A%20true%2C%20%22weight%22%3A%203%7D%0A%20%20%20%20%20%20%20%20%20%20%20%20%29.addTo%28map_b52832044cf64d3892e5c9b267992380%29%3B%0A%20%20%20%20%20%20%20%20%0A%20%20%20%20%0A%20%20%20%20%20%20%20%20var%20popup_9061b21cbcf247db8354177318e54d65%20%3D%20L.popup%28%7B%22maxWidth%22%3A%20%22100%25%22%2C%20%22minWidth%22%3A%201000%7D%29%3B%0A%0A%20%20%20%20%20%20%20%20%0A%20%20%20%20%20%20%20%20%20%20%20%20var%20i_frame_997ce0b6263341989ec22587071719ff%20%3D%20%24%28%60%3Ciframe%20src%3D%22data%3Atext/html%3Bcharset%3Dutf-8%3Bbase64%2CCiAgICBOb3J0aCBUb3JvbnRvIFdlc3QsIExhd3JlbmNlIFBhcmssIENlbnRyYWwgVG9yb250bw%3D%3D%22%20width%3D%22250%22%20style%3D%22border%3Anone%20%21important%3B%22%20height%3D%2275%22%3E%3C/iframe%3E%60%29%5B0%5D%3B%0A%20%20%20%20%20%20%20%20%20%20%20%20popup_9061b21cbcf247db8354177318e54d65.setContent%28i_frame_997ce0b6263341989ec22587071719ff%29%3B%0A%20%20%20%20%20%20%20%20%0A%0A%20%20%20%20%20%20%20%20circle_marker_6cbbcf5cc6b8456084f9296f7e67ffac.bindPopup%28popup_9061b21cbcf247db8354177318e54d65%29%0A%20%20%20%20%20%20%20%20%3B%0A%0A%20%20%20%20%20%20%20%20%0A%20%20%20%20%0A%20%20%20%20%0A%20%20%20%20%20%20%20%20%20%20%20%20var%20circle_marker_399035c0471842c68d4e895467186f81%20%3D%20L.circleMarker%28%0A%20%20%20%20%20%20%20%20%20%20%20%20%20%20%20%20%5B43.6727097%2C%20-79.40567840000001%5D%2C%0A%20%20%20%20%20%20%20%20%20%20%20%20%20%20%20%20%7B%22bubblingMouseEvents%22%3A%20true%2C%20%22color%22%3A%20%22blue%22%2C%20%22dashArray%22%3A%20null%2C%20%22dashOffset%22%3A%20null%2C%20%22fill%22%3A%20true%2C%20%22fillColor%22%3A%20%22%233186cc%22%2C%20%22fillOpacity%22%3A%200.7%2C%20%22fillRule%22%3A%20%22evenodd%22%2C%20%22lineCap%22%3A%20%22round%22%2C%20%22lineJoin%22%3A%20%22round%22%2C%20%22opacity%22%3A%201.0%2C%20%22radius%22%3A%205%2C%20%22stroke%22%3A%20true%2C%20%22weight%22%3A%203%7D%0A%20%20%20%20%20%20%20%20%20%20%20%20%29.addTo%28map_b52832044cf64d3892e5c9b267992380%29%3B%0A%20%20%20%20%20%20%20%20%0A%20%20%20%20%0A%20%20%20%20%20%20%20%20var%20popup_4e7b26675515420196c8407da17155ac%20%3D%20L.popup%28%7B%22maxWidth%22%3A%20%22100%25%22%2C%20%22minWidth%22%3A%201000%7D%29%3B%0A%0A%20%20%20%20%20%20%20%20%0A%20%20%20%20%20%20%20%20%20%20%20%20var%20i_frame_e92ebf1e531341ccab084cd944459cfb%20%3D%20%24%28%60%3Ciframe%20src%3D%22data%3Atext/html%3Bcharset%3Dutf-8%3Bbase64%2CCiAgICBUaGUgQW5uZXgsIE5vcnRoIE1pZHRvd24sIFlvcmt2aWxsZSwgQ2VudHJhbCBUb3JvbnRv%22%20width%3D%22250%22%20style%3D%22border%3Anone%20%21important%3B%22%20height%3D%2275%22%3E%3C/iframe%3E%60%29%5B0%5D%3B%0A%20%20%20%20%20%20%20%20%20%20%20%20popup_4e7b26675515420196c8407da17155ac.setContent%28i_frame_e92ebf1e531341ccab084cd944459cfb%29%3B%0A%20%20%20%20%20%20%20%20%0A%0A%20%20%20%20%20%20%20%20circle_marker_399035c0471842c68d4e895467186f81.bindPopup%28popup_4e7b26675515420196c8407da17155ac%29%0A%20%20%20%20%20%20%20%20%3B%0A%0A%20%20%20%20%20%20%20%20%0A%20%20%20%20%0A%20%20%20%20%0A%20%20%20%20%20%20%20%20%20%20%20%20var%20circle_marker_cd42065765ae4d35ad3fdd58763ded25%20%3D%20L.circleMarker%28%0A%20%20%20%20%20%20%20%20%20%20%20%20%20%20%20%20%5B43.6489597%2C%20-79.456325%5D%2C%0A%20%20%20%20%20%20%20%20%20%20%20%20%20%20%20%20%7B%22bubblingMouseEvents%22%3A%20true%2C%20%22color%22%3A%20%22blue%22%2C%20%22dashArray%22%3A%20null%2C%20%22dashOffset%22%3A%20null%2C%20%22fill%22%3A%20true%2C%20%22fillColor%22%3A%20%22%233186cc%22%2C%20%22fillOpacity%22%3A%200.7%2C%20%22fillRule%22%3A%20%22evenodd%22%2C%20%22lineCap%22%3A%20%22round%22%2C%20%22lineJoin%22%3A%20%22round%22%2C%20%22opacity%22%3A%201.0%2C%20%22radius%22%3A%205%2C%20%22stroke%22%3A%20true%2C%20%22weight%22%3A%203%7D%0A%20%20%20%20%20%20%20%20%20%20%20%20%29.addTo%28map_b52832044cf64d3892e5c9b267992380%29%3B%0A%20%20%20%20%20%20%20%20%0A%20%20%20%20%0A%20%20%20%20%20%20%20%20var%20popup_7eddcfeceb1d47178809aa5351f21914%20%3D%20L.popup%28%7B%22maxWidth%22%3A%20%22100%25%22%2C%20%22minWidth%22%3A%201000%7D%29%3B%0A%0A%20%20%20%20%20%20%20%20%0A%20%20%20%20%20%20%20%20%20%20%20%20var%20i_frame_d0367f6761f847d5939a3177c2121569%20%3D%20%24%28%60%3Ciframe%20src%3D%22data%3Atext/html%3Bcharset%3Dutf-8%3Bbase64%2CCiAgICBQYXJrZGFsZSwgUm9uY2VzdmFsbGVzLCBXZXN0IFRvcm9udG8%3D%22%20width%3D%22250%22%20style%3D%22border%3Anone%20%21important%3B%22%20height%3D%2275%22%3E%3C/iframe%3E%60%29%5B0%5D%3B%0A%20%20%20%20%20%20%20%20%20%20%20%20popup_7eddcfeceb1d47178809aa5351f21914.setContent%28i_frame_d0367f6761f847d5939a3177c2121569%29%3B%0A%20%20%20%20%20%20%20%20%0A%0A%20%20%20%20%20%20%20%20circle_marker_cd42065765ae4d35ad3fdd58763ded25.bindPopup%28popup_7eddcfeceb1d47178809aa5351f21914%29%0A%20%20%20%20%20%20%20%20%3B%0A%0A%20%20%20%20%20%20%20%20%0A%20%20%20%20%0A%20%20%20%20%0A%20%20%20%20%20%20%20%20%20%20%20%20var%20circle_marker_74c738ee4e4242ba8eb0ee58a8657181%20%3D%20L.circleMarker%28%0A%20%20%20%20%20%20%20%20%20%20%20%20%20%20%20%20%5B43.7043244%2C%20-79.3887901%5D%2C%0A%20%20%20%20%20%20%20%20%20%20%20%20%20%20%20%20%7B%22bubblingMouseEvents%22%3A%20true%2C%20%22color%22%3A%20%22blue%22%2C%20%22dashArray%22%3A%20null%2C%20%22dashOffset%22%3A%20null%2C%20%22fill%22%3A%20true%2C%20%22fillColor%22%3A%20%22%233186cc%22%2C%20%22fillOpacity%22%3A%200.7%2C%20%22fillRule%22%3A%20%22evenodd%22%2C%20%22lineCap%22%3A%20%22round%22%2C%20%22lineJoin%22%3A%20%22round%22%2C%20%22opacity%22%3A%201.0%2C%20%22radius%22%3A%205%2C%20%22stroke%22%3A%20true%2C%20%22weight%22%3A%203%7D%0A%20%20%20%20%20%20%20%20%20%20%20%20%29.addTo%28map_b52832044cf64d3892e5c9b267992380%29%3B%0A%20%20%20%20%20%20%20%20%0A%20%20%20%20%0A%20%20%20%20%20%20%20%20var%20popup_90eeac6988e44cf7a702ed56247cf0da%20%3D%20L.popup%28%7B%22maxWidth%22%3A%20%22100%25%22%2C%20%22minWidth%22%3A%201000%7D%29%3B%0A%0A%20%20%20%20%20%20%20%20%0A%20%20%20%20%20%20%20%20%20%20%20%20var%20i_frame_5fc4717668914a8d97e86ae9bf240144%20%3D%20%24%28%60%3Ciframe%20src%3D%22data%3Atext/html%3Bcharset%3Dutf-8%3Bbase64%2CCiAgICBEYXZpc3ZpbGxlLCBDZW50cmFsIFRvcm9udG8%3D%22%20width%3D%22250%22%20style%3D%22border%3Anone%20%21important%3B%22%20height%3D%2275%22%3E%3C/iframe%3E%60%29%5B0%5D%3B%0A%20%20%20%20%20%20%20%20%20%20%20%20popup_90eeac6988e44cf7a702ed56247cf0da.setContent%28i_frame_5fc4717668914a8d97e86ae9bf240144%29%3B%0A%20%20%20%20%20%20%20%20%0A%0A%20%20%20%20%20%20%20%20circle_marker_74c738ee4e4242ba8eb0ee58a8657181.bindPopup%28popup_90eeac6988e44cf7a702ed56247cf0da%29%0A%20%20%20%20%20%20%20%20%3B%0A%0A%20%20%20%20%20%20%20%20%0A%20%20%20%20%0A%20%20%20%20%0A%20%20%20%20%20%20%20%20%20%20%20%20var%20circle_marker_a448376c022a47f6981031970b14651b%20%3D%20L.circleMarker%28%0A%20%20%20%20%20%20%20%20%20%20%20%20%20%20%20%20%5B43.6626956%2C%20-79.4000493%5D%2C%0A%20%20%20%20%20%20%20%20%20%20%20%20%20%20%20%20%7B%22bubblingMouseEvents%22%3A%20true%2C%20%22color%22%3A%20%22blue%22%2C%20%22dashArray%22%3A%20null%2C%20%22dashOffset%22%3A%20null%2C%20%22fill%22%3A%20true%2C%20%22fillColor%22%3A%20%22%233186cc%22%2C%20%22fillOpacity%22%3A%200.7%2C%20%22fillRule%22%3A%20%22evenodd%22%2C%20%22lineCap%22%3A%20%22round%22%2C%20%22lineJoin%22%3A%20%22round%22%2C%20%22opacity%22%3A%201.0%2C%20%22radius%22%3A%205%2C%20%22stroke%22%3A%20true%2C%20%22weight%22%3A%203%7D%0A%20%20%20%20%20%20%20%20%20%20%20%20%29.addTo%28map_b52832044cf64d3892e5c9b267992380%29%3B%0A%20%20%20%20%20%20%20%20%0A%20%20%20%20%0A%20%20%20%20%20%20%20%20var%20popup_fbca727de5b54471bcab958b28ba0194%20%3D%20L.popup%28%7B%22maxWidth%22%3A%20%22100%25%22%2C%20%22minWidth%22%3A%201000%7D%29%3B%0A%0A%20%20%20%20%20%20%20%20%0A%20%20%20%20%20%20%20%20%20%20%20%20var%20i_frame_647ab2b090a6414796d54519aa80042e%20%3D%20%24%28%60%3Ciframe%20src%3D%22data%3Atext/html%3Bcharset%3Dutf-8%3Bbase64%2CCiAgICBVbml2ZXJzaXR5IG9mIFRvcm9udG8sIEhhcmJvcmQsIERvd250b3duIFRvcm9udG8%3D%22%20width%3D%22250%22%20style%3D%22border%3Anone%20%21important%3B%22%20height%3D%2275%22%3E%3C/iframe%3E%60%29%5B0%5D%3B%0A%20%20%20%20%20%20%20%20%20%20%20%20popup_fbca727de5b54471bcab958b28ba0194.setContent%28i_frame_647ab2b090a6414796d54519aa80042e%29%3B%0A%20%20%20%20%20%20%20%20%0A%0A%20%20%20%20%20%20%20%20circle_marker_a448376c022a47f6981031970b14651b.bindPopup%28popup_fbca727de5b54471bcab958b28ba0194%29%0A%20%20%20%20%20%20%20%20%3B%0A%0A%20%20%20%20%20%20%20%20%0A%20%20%20%20%0A%20%20%20%20%0A%20%20%20%20%20%20%20%20%20%20%20%20var%20circle_marker_5d4819f28b7a4d1b8e53855f6a0004a3%20%3D%20L.circleMarker%28%0A%20%20%20%20%20%20%20%20%20%20%20%20%20%20%20%20%5B43.6515706%2C%20-79.4844499%5D%2C%0A%20%20%20%20%20%20%20%20%20%20%20%20%20%20%20%20%7B%22bubblingMouseEvents%22%3A%20true%2C%20%22color%22%3A%20%22blue%22%2C%20%22dashArray%22%3A%20null%2C%20%22dashOffset%22%3A%20null%2C%20%22fill%22%3A%20true%2C%20%22fillColor%22%3A%20%22%233186cc%22%2C%20%22fillOpacity%22%3A%200.7%2C%20%22fillRule%22%3A%20%22evenodd%22%2C%20%22lineCap%22%3A%20%22round%22%2C%20%22lineJoin%22%3A%20%22round%22%2C%20%22opacity%22%3A%201.0%2C%20%22radius%22%3A%205%2C%20%22stroke%22%3A%20true%2C%20%22weight%22%3A%203%7D%0A%20%20%20%20%20%20%20%20%20%20%20%20%29.addTo%28map_b52832044cf64d3892e5c9b267992380%29%3B%0A%20%20%20%20%20%20%20%20%0A%20%20%20%20%0A%20%20%20%20%20%20%20%20var%20popup_94a5875f975b4f868bbe773c6dcfd2d6%20%3D%20L.popup%28%7B%22maxWidth%22%3A%20%22100%25%22%2C%20%22minWidth%22%3A%201000%7D%29%3B%0A%0A%20%20%20%20%20%20%20%20%0A%20%20%20%20%20%20%20%20%20%20%20%20var%20i_frame_387e8ad258044151a49fe00c2de6b37b%20%3D%20%24%28%60%3Ciframe%20src%3D%22data%3Atext/html%3Bcharset%3Dutf-8%3Bbase64%2CCiAgICBSdW5ueW1lZGUsIFN3YW5zZWEsIFdlc3QgVG9yb250bw%3D%3D%22%20width%3D%22250%22%20style%3D%22border%3Anone%20%21important%3B%22%20height%3D%2275%22%3E%3C/iframe%3E%60%29%5B0%5D%3B%0A%20%20%20%20%20%20%20%20%20%20%20%20popup_94a5875f975b4f868bbe773c6dcfd2d6.setContent%28i_frame_387e8ad258044151a49fe00c2de6b37b%29%3B%0A%20%20%20%20%20%20%20%20%0A%0A%20%20%20%20%20%20%20%20circle_marker_5d4819f28b7a4d1b8e53855f6a0004a3.bindPopup%28popup_94a5875f975b4f868bbe773c6dcfd2d6%29%0A%20%20%20%20%20%20%20%20%3B%0A%0A%20%20%20%20%20%20%20%20%0A%20%20%20%20%0A%20%20%20%20%0A%20%20%20%20%20%20%20%20%20%20%20%20var%20circle_marker_9e8d5f6eebfa4c869d061f6436d05fba%20%3D%20L.circleMarker%28%0A%20%20%20%20%20%20%20%20%20%20%20%20%20%20%20%20%5B43.6895743%2C%20-79.38315990000001%5D%2C%0A%20%20%20%20%20%20%20%20%20%20%20%20%20%20%20%20%7B%22bubblingMouseEvents%22%3A%20true%2C%20%22color%22%3A%20%22blue%22%2C%20%22dashArray%22%3A%20null%2C%20%22dashOffset%22%3A%20null%2C%20%22fill%22%3A%20true%2C%20%22fillColor%22%3A%20%22%233186cc%22%2C%20%22fillOpacity%22%3A%200.7%2C%20%22fillRule%22%3A%20%22evenodd%22%2C%20%22lineCap%22%3A%20%22round%22%2C%20%22lineJoin%22%3A%20%22round%22%2C%20%22opacity%22%3A%201.0%2C%20%22radius%22%3A%205%2C%20%22stroke%22%3A%20true%2C%20%22weight%22%3A%203%7D%0A%20%20%20%20%20%20%20%20%20%20%20%20%29.addTo%28map_b52832044cf64d3892e5c9b267992380%29%3B%0A%20%20%20%20%20%20%20%20%0A%20%20%20%20%0A%20%20%20%20%20%20%20%20var%20popup_29b045ace20543d5b6e2f75466cbd6ba%20%3D%20L.popup%28%7B%22maxWidth%22%3A%20%22100%25%22%2C%20%22minWidth%22%3A%201000%7D%29%3B%0A%0A%20%20%20%20%20%20%20%20%0A%20%20%20%20%20%20%20%20%20%20%20%20var%20i_frame_0bdf1b02883f4e12b4bae6eb400ea1ef%20%3D%20%24%28%60%3Ciframe%20src%3D%22data%3Atext/html%3Bcharset%3Dutf-8%3Bbase64%2CCiAgICBNb29yZSBQYXJrLCBTdW1tZXJoaWxsIEVhc3QsIENlbnRyYWwgVG9yb250bw%3D%3D%22%20width%3D%22250%22%20style%3D%22border%3Anone%20%21important%3B%22%20height%3D%2275%22%3E%3C/iframe%3E%60%29%5B0%5D%3B%0A%20%20%20%20%20%20%20%20%20%20%20%20popup_29b045ace20543d5b6e2f75466cbd6ba.setContent%28i_frame_0bdf1b02883f4e12b4bae6eb400ea1ef%29%3B%0A%20%20%20%20%20%20%20%20%0A%0A%20%20%20%20%20%20%20%20circle_marker_9e8d5f6eebfa4c869d061f6436d05fba.bindPopup%28popup_29b045ace20543d5b6e2f75466cbd6ba%29%0A%20%20%20%20%20%20%20%20%3B%0A%0A%20%20%20%20%20%20%20%20%0A%20%20%20%20%0A%20%20%20%20%0A%20%20%20%20%20%20%20%20%20%20%20%20var%20circle_marker_809debf7b112401b800293740b98e7ba%20%3D%20L.circleMarker%28%0A%20%20%20%20%20%20%20%20%20%20%20%20%20%20%20%20%5B43.6532057%2C%20-79.4000493%5D%2C%0A%20%20%20%20%20%20%20%20%20%20%20%20%20%20%20%20%7B%22bubblingMouseEvents%22%3A%20true%2C%20%22color%22%3A%20%22blue%22%2C%20%22dashArray%22%3A%20null%2C%20%22dashOffset%22%3A%20null%2C%20%22fill%22%3A%20true%2C%20%22fillColor%22%3A%20%22%233186cc%22%2C%20%22fillOpacity%22%3A%200.7%2C%20%22fillRule%22%3A%20%22evenodd%22%2C%20%22lineCap%22%3A%20%22round%22%2C%20%22lineJoin%22%3A%20%22round%22%2C%20%22opacity%22%3A%201.0%2C%20%22radius%22%3A%205%2C%20%22stroke%22%3A%20true%2C%20%22weight%22%3A%203%7D%0A%20%20%20%20%20%20%20%20%20%20%20%20%29.addTo%28map_b52832044cf64d3892e5c9b267992380%29%3B%0A%20%20%20%20%20%20%20%20%0A%20%20%20%20%0A%20%20%20%20%20%20%20%20var%20popup_c2b51064a0bc40448287fe581ce3c4c2%20%3D%20L.popup%28%7B%22maxWidth%22%3A%20%22100%25%22%2C%20%22minWidth%22%3A%201000%7D%29%3B%0A%0A%20%20%20%20%20%20%20%20%0A%20%20%20%20%20%20%20%20%20%20%20%20var%20i_frame_df7a2c4c0f1e444790d0a004c58b0ad9%20%3D%20%24%28%60%3Ciframe%20src%3D%22data%3Atext/html%3Bcharset%3Dutf-8%3Bbase64%2CCiAgICBLZW5zaW5ndG9uIE1hcmtldCwgQ2hpbmF0b3duLCBHcmFuZ2UgUGFyaywgRG93bnRvd24gVG9yb250bw%3D%3D%22%20width%3D%22250%22%20style%3D%22border%3Anone%20%21important%3B%22%20height%3D%2275%22%3E%3C/iframe%3E%60%29%5B0%5D%3B%0A%20%20%20%20%20%20%20%20%20%20%20%20popup_c2b51064a0bc40448287fe581ce3c4c2.setContent%28i_frame_df7a2c4c0f1e444790d0a004c58b0ad9%29%3B%0A%20%20%20%20%20%20%20%20%0A%0A%20%20%20%20%20%20%20%20circle_marker_809debf7b112401b800293740b98e7ba.bindPopup%28popup_c2b51064a0bc40448287fe581ce3c4c2%29%0A%20%20%20%20%20%20%20%20%3B%0A%0A%20%20%20%20%20%20%20%20%0A%20%20%20%20%0A%20%20%20%20%0A%20%20%20%20%20%20%20%20%20%20%20%20var%20circle_marker_aa0b111da57646d9b5fd735c8e25070d%20%3D%20L.circleMarker%28%0A%20%20%20%20%20%20%20%20%20%20%20%20%20%20%20%20%5B43.68641229999999%2C%20-79.4000493%5D%2C%0A%20%20%20%20%20%20%20%20%20%20%20%20%20%20%20%20%7B%22bubblingMouseEvents%22%3A%20true%2C%20%22color%22%3A%20%22blue%22%2C%20%22dashArray%22%3A%20null%2C%20%22dashOffset%22%3A%20null%2C%20%22fill%22%3A%20true%2C%20%22fillColor%22%3A%20%22%233186cc%22%2C%20%22fillOpacity%22%3A%200.7%2C%20%22fillRule%22%3A%20%22evenodd%22%2C%20%22lineCap%22%3A%20%22round%22%2C%20%22lineJoin%22%3A%20%22round%22%2C%20%22opacity%22%3A%201.0%2C%20%22radius%22%3A%205%2C%20%22stroke%22%3A%20true%2C%20%22weight%22%3A%203%7D%0A%20%20%20%20%20%20%20%20%20%20%20%20%29.addTo%28map_b52832044cf64d3892e5c9b267992380%29%3B%0A%20%20%20%20%20%20%20%20%0A%20%20%20%20%0A%20%20%20%20%20%20%20%20var%20popup_f45d0a328bb6422184ea837f2961eb59%20%3D%20L.popup%28%7B%22maxWidth%22%3A%20%22100%25%22%2C%20%22minWidth%22%3A%201000%7D%29%3B%0A%0A%20%20%20%20%20%20%20%20%0A%20%20%20%20%20%20%20%20%20%20%20%20var%20i_frame_fdf7d21289384bcebad6591db56b4d08%20%3D%20%24%28%60%3Ciframe%20src%3D%22data%3Atext/html%3Bcharset%3Dutf-8%3Bbase64%2CCiAgICBTdW1tZXJoaWxsIFdlc3QsIFJhdGhuZWxseSwgU291dGggSGlsbCwgRm9yZXN0IEhpbGwgU0UsIERlZXIgUGFyaywgQ2VudHJhbCBUb3JvbnRv%22%20width%3D%22250%22%20style%3D%22border%3Anone%20%21important%3B%22%20height%3D%2275%22%3E%3C/iframe%3E%60%29%5B0%5D%3B%0A%20%20%20%20%20%20%20%20%20%20%20%20popup_f45d0a328bb6422184ea837f2961eb59.setContent%28i_frame_fdf7d21289384bcebad6591db56b4d08%29%3B%0A%20%20%20%20%20%20%20%20%0A%0A%20%20%20%20%20%20%20%20circle_marker_aa0b111da57646d9b5fd735c8e25070d.bindPopup%28popup_f45d0a328bb6422184ea837f2961eb59%29%0A%20%20%20%20%20%20%20%20%3B%0A%0A%20%20%20%20%20%20%20%20%0A%20%20%20%20%0A%20%20%20%20%0A%20%20%20%20%20%20%20%20%20%20%20%20var%20circle_marker_ff20aa3ea7c444119ee42b3439a4a416%20%3D%20L.circleMarker%28%0A%20%20%20%20%20%20%20%20%20%20%20%20%20%20%20%20%5B43.6289467%2C%20-79.3944199%5D%2C%0A%20%20%20%20%20%20%20%20%20%20%20%20%20%20%20%20%7B%22bubblingMouseEvents%22%3A%20true%2C%20%22color%22%3A%20%22blue%22%2C%20%22dashArray%22%3A%20null%2C%20%22dashOffset%22%3A%20null%2C%20%22fill%22%3A%20true%2C%20%22fillColor%22%3A%20%22%233186cc%22%2C%20%22fillOpacity%22%3A%200.7%2C%20%22fillRule%22%3A%20%22evenodd%22%2C%20%22lineCap%22%3A%20%22round%22%2C%20%22lineJoin%22%3A%20%22round%22%2C%20%22opacity%22%3A%201.0%2C%20%22radius%22%3A%205%2C%20%22stroke%22%3A%20true%2C%20%22weight%22%3A%203%7D%0A%20%20%20%20%20%20%20%20%20%20%20%20%29.addTo%28map_b52832044cf64d3892e5c9b267992380%29%3B%0A%20%20%20%20%20%20%20%20%0A%20%20%20%20%0A%20%20%20%20%20%20%20%20var%20popup_16c3d252b2254d658d859d8a8689cb72%20%3D%20L.popup%28%7B%22maxWidth%22%3A%20%22100%25%22%2C%20%22minWidth%22%3A%201000%7D%29%3B%0A%0A%20%20%20%20%20%20%20%20%0A%20%20%20%20%20%20%20%20%20%20%20%20var%20i_frame_c83f0bb9c4a0470b901a996b8a56c8d2%20%3D%20%24%28%60%3Ciframe%20src%3D%22data%3Atext/html%3Bcharset%3Dutf-8%3Bbase64%2CCiAgICBDTiBUb3dlciwgS2luZyBhbmQgU3BhZGluYSwgUmFpbHdheSBMYW5kcywgSGFyYm91cmZyb250IFdlc3QsIEJhdGh1cnN0IFF1YXksIFNvdXRoIE5pYWdhcmEsIElzbGFuZCBhaXJwb3J0LCBEb3dudG93biBUb3JvbnRv%22%20width%3D%22250%22%20style%3D%22border%3Anone%20%21important%3B%22%20height%3D%2275%22%3E%3C/iframe%3E%60%29%5B0%5D%3B%0A%20%20%20%20%20%20%20%20%20%20%20%20popup_16c3d252b2254d658d859d8a8689cb72.setContent%28i_frame_c83f0bb9c4a0470b901a996b8a56c8d2%29%3B%0A%20%20%20%20%20%20%20%20%0A%0A%20%20%20%20%20%20%20%20circle_marker_ff20aa3ea7c444119ee42b3439a4a416.bindPopup%28popup_16c3d252b2254d658d859d8a8689cb72%29%0A%20%20%20%20%20%20%20%20%3B%0A%0A%20%20%20%20%20%20%20%20%0A%20%20%20%20%0A%20%20%20%20%0A%20%20%20%20%20%20%20%20%20%20%20%20var%20circle_marker_f1e76764d2df423a8e0737b539cfb712%20%3D%20L.circleMarker%28%0A%20%20%20%20%20%20%20%20%20%20%20%20%20%20%20%20%5B43.6795626%2C%20-79.37752940000001%5D%2C%0A%20%20%20%20%20%20%20%20%20%20%20%20%20%20%20%20%7B%22bubblingMouseEvents%22%3A%20true%2C%20%22color%22%3A%20%22blue%22%2C%20%22dashArray%22%3A%20null%2C%20%22dashOffset%22%3A%20null%2C%20%22fill%22%3A%20true%2C%20%22fillColor%22%3A%20%22%233186cc%22%2C%20%22fillOpacity%22%3A%200.7%2C%20%22fillRule%22%3A%20%22evenodd%22%2C%20%22lineCap%22%3A%20%22round%22%2C%20%22lineJoin%22%3A%20%22round%22%2C%20%22opacity%22%3A%201.0%2C%20%22radius%22%3A%205%2C%20%22stroke%22%3A%20true%2C%20%22weight%22%3A%203%7D%0A%20%20%20%20%20%20%20%20%20%20%20%20%29.addTo%28map_b52832044cf64d3892e5c9b267992380%29%3B%0A%20%20%20%20%20%20%20%20%0A%20%20%20%20%0A%20%20%20%20%20%20%20%20var%20popup_1f5492a8d433484290fe06ca3d47c0c1%20%3D%20L.popup%28%7B%22maxWidth%22%3A%20%22100%25%22%2C%20%22minWidth%22%3A%201000%7D%29%3B%0A%0A%20%20%20%20%20%20%20%20%0A%20%20%20%20%20%20%20%20%20%20%20%20var%20i_frame_f7e4ea7ad94a41a1bba2fe295ffa3ac7%20%3D%20%24%28%60%3Ciframe%20src%3D%22data%3Atext/html%3Bcharset%3Dutf-8%3Bbase64%2CCiAgICBSb3NlZGFsZSwgRG93bnRvd24gVG9yb250bw%3D%3D%22%20width%3D%22250%22%20style%3D%22border%3Anone%20%21important%3B%22%20height%3D%2275%22%3E%3C/iframe%3E%60%29%5B0%5D%3B%0A%20%20%20%20%20%20%20%20%20%20%20%20popup_1f5492a8d433484290fe06ca3d47c0c1.setContent%28i_frame_f7e4ea7ad94a41a1bba2fe295ffa3ac7%29%3B%0A%20%20%20%20%20%20%20%20%0A%0A%20%20%20%20%20%20%20%20circle_marker_f1e76764d2df423a8e0737b539cfb712.bindPopup%28popup_1f5492a8d433484290fe06ca3d47c0c1%29%0A%20%20%20%20%20%20%20%20%3B%0A%0A%20%20%20%20%20%20%20%20%0A%20%20%20%20%0A%20%20%20%20%0A%20%20%20%20%20%20%20%20%20%20%20%20var%20circle_marker_d781daf054304819ab6e4252cb080d3a%20%3D%20L.circleMarker%28%0A%20%20%20%20%20%20%20%20%20%20%20%20%20%20%20%20%5B43.6464352%2C%20-79.37484599999999%5D%2C%0A%20%20%20%20%20%20%20%20%20%20%20%20%20%20%20%20%7B%22bubblingMouseEvents%22%3A%20true%2C%20%22color%22%3A%20%22blue%22%2C%20%22dashArray%22%3A%20null%2C%20%22dashOffset%22%3A%20null%2C%20%22fill%22%3A%20true%2C%20%22fillColor%22%3A%20%22%233186cc%22%2C%20%22fillOpacity%22%3A%200.7%2C%20%22fillRule%22%3A%20%22evenodd%22%2C%20%22lineCap%22%3A%20%22round%22%2C%20%22lineJoin%22%3A%20%22round%22%2C%20%22opacity%22%3A%201.0%2C%20%22radius%22%3A%205%2C%20%22stroke%22%3A%20true%2C%20%22weight%22%3A%203%7D%0A%20%20%20%20%20%20%20%20%20%20%20%20%29.addTo%28map_b52832044cf64d3892e5c9b267992380%29%3B%0A%20%20%20%20%20%20%20%20%0A%20%20%20%20%0A%20%20%20%20%20%20%20%20var%20popup_af73bcd5127748c79bd98a9fa7304a59%20%3D%20L.popup%28%7B%22maxWidth%22%3A%20%22100%25%22%2C%20%22minWidth%22%3A%201000%7D%29%3B%0A%0A%20%20%20%20%20%20%20%20%0A%20%20%20%20%20%20%20%20%20%20%20%20var%20i_frame_6e54e7d69df14729808c360b95b536b0%20%3D%20%24%28%60%3Ciframe%20src%3D%22data%3Atext/html%3Bcharset%3Dutf-8%3Bbase64%2CCiAgICBTdG4gQSBQTyBCb3hlcywgRG93bnRvd24gVG9yb250bw%3D%3D%22%20width%3D%22250%22%20style%3D%22border%3Anone%20%21important%3B%22%20height%3D%2275%22%3E%3C/iframe%3E%60%29%5B0%5D%3B%0A%20%20%20%20%20%20%20%20%20%20%20%20popup_af73bcd5127748c79bd98a9fa7304a59.setContent%28i_frame_6e54e7d69df14729808c360b95b536b0%29%3B%0A%20%20%20%20%20%20%20%20%0A%0A%20%20%20%20%20%20%20%20circle_marker_d781daf054304819ab6e4252cb080d3a.bindPopup%28popup_af73bcd5127748c79bd98a9fa7304a59%29%0A%20%20%20%20%20%20%20%20%3B%0A%0A%20%20%20%20%20%20%20%20%0A%20%20%20%20%0A%20%20%20%20%0A%20%20%20%20%20%20%20%20%20%20%20%20var%20circle_marker_dba8e33cee5d4b06a6007e083aadf7ee%20%3D%20L.circleMarker%28%0A%20%20%20%20%20%20%20%20%20%20%20%20%20%20%20%20%5B43.667967%2C%20-79.3676753%5D%2C%0A%20%20%20%20%20%20%20%20%20%20%20%20%20%20%20%20%7B%22bubblingMouseEvents%22%3A%20true%2C%20%22color%22%3A%20%22blue%22%2C%20%22dashArray%22%3A%20null%2C%20%22dashOffset%22%3A%20null%2C%20%22fill%22%3A%20true%2C%20%22fillColor%22%3A%20%22%233186cc%22%2C%20%22fillOpacity%22%3A%200.7%2C%20%22fillRule%22%3A%20%22evenodd%22%2C%20%22lineCap%22%3A%20%22round%22%2C%20%22lineJoin%22%3A%20%22round%22%2C%20%22opacity%22%3A%201.0%2C%20%22radius%22%3A%205%2C%20%22stroke%22%3A%20true%2C%20%22weight%22%3A%203%7D%0A%20%20%20%20%20%20%20%20%20%20%20%20%29.addTo%28map_b52832044cf64d3892e5c9b267992380%29%3B%0A%20%20%20%20%20%20%20%20%0A%20%20%20%20%0A%20%20%20%20%20%20%20%20var%20popup_88030f40535044f687e213fe51bbec5f%20%3D%20L.popup%28%7B%22maxWidth%22%3A%20%22100%25%22%2C%20%22minWidth%22%3A%201000%7D%29%3B%0A%0A%20%20%20%20%20%20%20%20%0A%20%20%20%20%20%20%20%20%20%20%20%20var%20i_frame_7af85b6e1d1a47cda65e9a428ac6c4c3%20%3D%20%24%28%60%3Ciframe%20src%3D%22data%3Atext/html%3Bcharset%3Dutf-8%3Bbase64%2CCiAgICBTdC4gSmFtZXMgVG93biwgQ2FiYmFnZXRvd24sIERvd250b3duIFRvcm9udG8%3D%22%20width%3D%22250%22%20style%3D%22border%3Anone%20%21important%3B%22%20height%3D%2275%22%3E%3C/iframe%3E%60%29%5B0%5D%3B%0A%20%20%20%20%20%20%20%20%20%20%20%20popup_88030f40535044f687e213fe51bbec5f.setContent%28i_frame_7af85b6e1d1a47cda65e9a428ac6c4c3%29%3B%0A%20%20%20%20%20%20%20%20%0A%0A%20%20%20%20%20%20%20%20circle_marker_dba8e33cee5d4b06a6007e083aadf7ee.bindPopup%28popup_88030f40535044f687e213fe51bbec5f%29%0A%20%20%20%20%20%20%20%20%3B%0A%0A%20%20%20%20%20%20%20%20%0A%20%20%20%20%0A%20%20%20%20%0A%20%20%20%20%20%20%20%20%20%20%20%20var%20circle_marker_8c6a52b99fe4442c8e096af717653afd%20%3D%20L.circleMarker%28%0A%20%20%20%20%20%20%20%20%20%20%20%20%20%20%20%20%5B43.6484292%2C%20-79.3822802%5D%2C%0A%20%20%20%20%20%20%20%20%20%20%20%20%20%20%20%20%7B%22bubblingMouseEvents%22%3A%20true%2C%20%22color%22%3A%20%22blue%22%2C%20%22dashArray%22%3A%20null%2C%20%22dashOffset%22%3A%20null%2C%20%22fill%22%3A%20true%2C%20%22fillColor%22%3A%20%22%233186cc%22%2C%20%22fillOpacity%22%3A%200.7%2C%20%22fillRule%22%3A%20%22evenodd%22%2C%20%22lineCap%22%3A%20%22round%22%2C%20%22lineJoin%22%3A%20%22round%22%2C%20%22opacity%22%3A%201.0%2C%20%22radius%22%3A%205%2C%20%22stroke%22%3A%20true%2C%20%22weight%22%3A%203%7D%0A%20%20%20%20%20%20%20%20%20%20%20%20%29.addTo%28map_b52832044cf64d3892e5c9b267992380%29%3B%0A%20%20%20%20%20%20%20%20%0A%20%20%20%20%0A%20%20%20%20%20%20%20%20var%20popup_69936297e4df4897b914157532737623%20%3D%20L.popup%28%7B%22maxWidth%22%3A%20%22100%25%22%2C%20%22minWidth%22%3A%201000%7D%29%3B%0A%0A%20%20%20%20%20%20%20%20%0A%20%20%20%20%20%20%20%20%20%20%20%20var%20i_frame_28f230fd7bd849b3bfc967babf77317a%20%3D%20%24%28%60%3Ciframe%20src%3D%22data%3Atext/html%3Bcharset%3Dutf-8%3Bbase64%2CCiAgICBGaXJzdCBDYW5hZGlhbiBQbGFjZSwgVW5kZXJncm91bmQgY2l0eSwgRG93bnRvd24gVG9yb250bw%3D%3D%22%20width%3D%22250%22%20style%3D%22border%3Anone%20%21important%3B%22%20height%3D%2275%22%3E%3C/iframe%3E%60%29%5B0%5D%3B%0A%20%20%20%20%20%20%20%20%20%20%20%20popup_69936297e4df4897b914157532737623.setContent%28i_frame_28f230fd7bd849b3bfc967babf77317a%29%3B%0A%20%20%20%20%20%20%20%20%0A%0A%20%20%20%20%20%20%20%20circle_marker_8c6a52b99fe4442c8e096af717653afd.bindPopup%28popup_69936297e4df4897b914157532737623%29%0A%20%20%20%20%20%20%20%20%3B%0A%0A%20%20%20%20%20%20%20%20%0A%20%20%20%20%0A%20%20%20%20%0A%20%20%20%20%20%20%20%20%20%20%20%20var%20circle_marker_cbcdb2a1dc0d46d68461517172f9dadd%20%3D%20L.circleMarker%28%0A%20%20%20%20%20%20%20%20%20%20%20%20%20%20%20%20%5B43.6658599%2C%20-79.38315990000001%5D%2C%0A%20%20%20%20%20%20%20%20%20%20%20%20%20%20%20%20%7B%22bubblingMouseEvents%22%3A%20true%2C%20%22color%22%3A%20%22blue%22%2C%20%22dashArray%22%3A%20null%2C%20%22dashOffset%22%3A%20null%2C%20%22fill%22%3A%20true%2C%20%22fillColor%22%3A%20%22%233186cc%22%2C%20%22fillOpacity%22%3A%200.7%2C%20%22fillRule%22%3A%20%22evenodd%22%2C%20%22lineCap%22%3A%20%22round%22%2C%20%22lineJoin%22%3A%20%22round%22%2C%20%22opacity%22%3A%201.0%2C%20%22radius%22%3A%205%2C%20%22stroke%22%3A%20true%2C%20%22weight%22%3A%203%7D%0A%20%20%20%20%20%20%20%20%20%20%20%20%29.addTo%28map_b52832044cf64d3892e5c9b267992380%29%3B%0A%20%20%20%20%20%20%20%20%0A%20%20%20%20%0A%20%20%20%20%20%20%20%20var%20popup_01f9f0b5bb84407fa48c6985856b9ef0%20%3D%20L.popup%28%7B%22maxWidth%22%3A%20%22100%25%22%2C%20%22minWidth%22%3A%201000%7D%29%3B%0A%0A%20%20%20%20%20%20%20%20%0A%20%20%20%20%20%20%20%20%20%20%20%20var%20i_frame_386ba37e358f4599b66f921e6b77c51e%20%3D%20%24%28%60%3Ciframe%20src%3D%22data%3Atext/html%3Bcharset%3Dutf-8%3Bbase64%2CCiAgICBDaHVyY2ggYW5kIFdlbGxlc2xleSwgRG93bnRvd24gVG9yb250bw%3D%3D%22%20width%3D%22250%22%20style%3D%22border%3Anone%20%21important%3B%22%20height%3D%2275%22%3E%3C/iframe%3E%60%29%5B0%5D%3B%0A%20%20%20%20%20%20%20%20%20%20%20%20popup_01f9f0b5bb84407fa48c6985856b9ef0.setContent%28i_frame_386ba37e358f4599b66f921e6b77c51e%29%3B%0A%20%20%20%20%20%20%20%20%0A%0A%20%20%20%20%20%20%20%20circle_marker_cbcdb2a1dc0d46d68461517172f9dadd.bindPopup%28popup_01f9f0b5bb84407fa48c6985856b9ef0%29%0A%20%20%20%20%20%20%20%20%3B%0A%0A%20%20%20%20%20%20%20%20%0A%20%20%20%20%0A%20%20%20%20%0A%20%20%20%20%20%20%20%20%20%20%20%20var%20circle_marker_02ea63df9bc84f9faaeb4dfd5cff6b55%20%3D%20L.circleMarker%28%0A%20%20%20%20%20%20%20%20%20%20%20%20%20%20%20%20%5B43.6627439%2C%20-79.321558%5D%2C%0A%20%20%20%20%20%20%20%20%20%20%20%20%20%20%20%20%7B%22bubblingMouseEvents%22%3A%20true%2C%20%22color%22%3A%20%22blue%22%2C%20%22dashArray%22%3A%20null%2C%20%22dashOffset%22%3A%20null%2C%20%22fill%22%3A%20true%2C%20%22fillColor%22%3A%20%22%233186cc%22%2C%20%22fillOpacity%22%3A%200.7%2C%20%22fillRule%22%3A%20%22evenodd%22%2C%20%22lineCap%22%3A%20%22round%22%2C%20%22lineJoin%22%3A%20%22round%22%2C%20%22opacity%22%3A%201.0%2C%20%22radius%22%3A%205%2C%20%22stroke%22%3A%20true%2C%20%22weight%22%3A%203%7D%0A%20%20%20%20%20%20%20%20%20%20%20%20%29.addTo%28map_b52832044cf64d3892e5c9b267992380%29%3B%0A%20%20%20%20%20%20%20%20%0A%20%20%20%20%0A%20%20%20%20%20%20%20%20var%20popup_0bcfe63cad4f441b927edc7a326f2e68%20%3D%20L.popup%28%7B%22maxWidth%22%3A%20%22100%25%22%2C%20%22minWidth%22%3A%201000%7D%29%3B%0A%0A%20%20%20%20%20%20%20%20%0A%20%20%20%20%20%20%20%20%20%20%20%20var%20i_frame_683fadfde8274de9b938a7b871312a81%20%3D%20%24%28%60%3Ciframe%20src%3D%22data%3Atext/html%3Bcharset%3Dutf-8%3Bbase64%2CCiAgICBCdXNpbmVzcyByZXBseSBtYWlsIFByb2Nlc3NpbmcgQ2VudHJlLCBTb3V0aCBDZW50cmFsIExldHRlciBQcm9jZXNzaW5nIFBsYW50IFRvcm9udG8sIEVhc3QgVG9yb250bw%3D%3D%22%20width%3D%22250%22%20style%3D%22border%3Anone%20%21important%3B%22%20height%3D%2275%22%3E%3C/iframe%3E%60%29%5B0%5D%3B%0A%20%20%20%20%20%20%20%20%20%20%20%20popup_0bcfe63cad4f441b927edc7a326f2e68.setContent%28i_frame_683fadfde8274de9b938a7b871312a81%29%3B%0A%20%20%20%20%20%20%20%20%0A%0A%20%20%20%20%20%20%20%20circle_marker_02ea63df9bc84f9faaeb4dfd5cff6b55.bindPopup%28popup_0bcfe63cad4f441b927edc7a326f2e68%29%0A%20%20%20%20%20%20%20%20%3B%0A%0A%20%20%20%20%20%20%20%20%0A%20%20%20%20%0A%3C/script%3E onload=\"this.contentDocument.open();this.contentDocument.write(    decodeURIComponent(this.getAttribute('data-html')));this.contentDocument.close();\" allowfullscreen webkitallowfullscreen mozallowfullscreen></iframe></div></div>"
     },
     "metadata": {},
     "execution_count": 22
    }
   ],
   "source": [
    "# create map of Toronto using latitude and longitude values\n",
    "latitude = 43.7253427\n",
    "longitude = -79.5208805\n",
    "map_toronto = folium.Map(location=[latitude, longitude], zoom_start=11)\n",
    "\n",
    "# add markers to map\n",
    "for lat, lng, borough, neighborhood in zip(toronto_df['Latitude'], toronto_df['Longitude'], toronto_df['Borough'], toronto_df['Neighbourhood']):\n",
    "    label = '{}, {}'.format(neighborhood, borough)\n",
    "    # iframe = folium.html(label)\n",
    "    iframe = folium.IFrame(html=label, width=250, height=75)\n",
    "    label = folium.Popup(iframe, min_width= 1000, parse_html=True)\n",
    "    folium.CircleMarker(\n",
    "        [lat, lng],\n",
    "        radius=5,\n",
    "        popup=label,\n",
    "        color='blue',\n",
    "        fill=True,\n",
    "        fill_color='#3186cc',\n",
    "        fill_opacity=0.7,\n",
    "        parse_html=True).add_to(map_toronto)  \n",
    "    \n",
    "map_toronto"
   ]
  },
  {
   "source": [
    "Next, we are going to start utilizing the Foursquare API to explore the neighborhoods and segment them."
   ],
   "cell_type": "markdown",
   "metadata": {}
  },
  {
   "source": [
    "## Defining Foursquare Credentials and Version"
   ],
   "cell_type": "markdown",
   "metadata": {}
  },
  {
   "cell_type": "code",
   "execution_count": 23,
   "metadata": {},
   "outputs": [
    {
     "output_type": "stream",
     "name": "stdout",
     "text": [
      "credentails:\nCLIENT_ID: FJBBHL0CQFIZKY0C3JXRMJ1Q3YYQRG0W5OGAREGYE1TMYRL3\nCLIENT_SECRET:CM0T2DDI4IXNZAAVZNHW2Z1JQ1QYQQXUYF55GTMH4OF3BY0B\n"
     ]
    }
   ],
   "source": [
    "CLIENT_ID = 'FJBBHL0CQFIZKY0C3JXRMJ1Q3YYQRG0W5OGAREGYE1TMYRL3' # your Foursquare ID\n",
    "CLIENT_SECRET = 'CM0T2DDI4IXNZAAVZNHW2Z1JQ1QYQQXUYF55GTMH4OF3BY0B' # your Foursquare Secret\n",
    "VERSION = '20180605' # Foursquare API version\n",
    "LIMIT = 100 # A default Foursquare API limit value\n",
    "\n",
    "print('credentails:')\n",
    "print('CLIENT_ID: ' + CLIENT_ID)\n",
    "print('CLIENT_SECRET:' + CLIENT_SECRET)"
   ]
  },
  {
   "source": [
    "## Let's explore the first neighborhood in our dataframe.\n"
   ],
   "cell_type": "markdown",
   "metadata": {}
  },
  {
   "cell_type": "code",
   "execution_count": 24,
   "metadata": {},
   "outputs": [
    {
     "output_type": "execute_result",
     "data": {
      "text/plain": [
       "'Regent Park, Harbourfront'"
      ]
     },
     "metadata": {},
     "execution_count": 24
    }
   ],
   "source": [
    "toronto_df.loc[0, 'Neighbourhood']"
   ]
  },
  {
   "cell_type": "code",
   "execution_count": 25,
   "metadata": {},
   "outputs": [
    {
     "output_type": "stream",
     "name": "stdout",
     "text": [
      "Latitude and longitude values of Regent Park, Harbourfront are 43.6542599, -79.3606359.\n"
     ]
    }
   ],
   "source": [
    "neighbourhood_latitude = toronto_df.loc[0, 'Latitude'] # neighborhood latitude value\n",
    "neighbourhood_longitude = toronto_df.loc[0, 'Longitude'] # neighborhood longitude value\n",
    "\n",
    "neighbourhood_name = toronto_df.loc[0, 'Neighbourhood'] # neighborhood name\n",
    "\n",
    "print('Latitude and longitude values of {} are {}, {}.'.format(neighbourhood_name, \n",
    "                                                               neighbourhood_latitude, \n",
    "                                                               neighbourhood_longitude))"
   ]
  },
  {
   "source": [
    "#### First, let's create the GET request URL"
   ],
   "cell_type": "markdown",
   "metadata": {}
  },
  {
   "cell_type": "code",
   "execution_count": 27,
   "metadata": {},
   "outputs": [
    {
     "output_type": "execute_result",
     "data": {
      "text/plain": [
       "'https://api.foursquare.com/v2/venues/explore?&client_id=FJBBHL0CQFIZKY0C3JXRMJ1Q3YYQRG0W5OGAREGYE1TMYRL3&client_secret=CM0T2DDI4IXNZAAVZNHW2Z1JQ1QYQQXUYF55GTMH4OF3BY0B&v=20180605&ll=43.6542599,-79.3606359&radius=500&limit=100'"
      ]
     },
     "metadata": {},
     "execution_count": 27
    }
   ],
   "source": [
    "LIMIT = 100 # limit of number of venues returned by Foursquare API\n",
    "\n",
    "radius = 500 # define radius\n",
    "\n",
    "url = 'https://api.foursquare.com/v2/venues/explore?&client_id={}&client_secret={}&v={}&ll={},{}&radius={}&limit={}'.format(\n",
    "    CLIENT_ID, \n",
    "    CLIENT_SECRET, \n",
    "    VERSION, \n",
    "    neighbourhood_latitude, \n",
    "    neighbourhood_longitude, \n",
    "    radius, \n",
    "    LIMIT)\n",
    "url # display URL"
   ]
  },
  {
   "cell_type": "code",
   "execution_count": 28,
   "metadata": {},
   "outputs": [],
   "source": [
    "results = requests.get(url).json()"
   ]
  },
  {
   "source": [
    "Creating function that extracts the category of the venue"
   ],
   "cell_type": "markdown",
   "metadata": {}
  },
  {
   "cell_type": "code",
   "execution_count": 29,
   "metadata": {},
   "outputs": [],
   "source": [
    "def get_category_type(row):\n",
    "    try:\n",
    "        categories_list = row['categories']\n",
    "    except:\n",
    "        categories_list = row['venue.categories']\n",
    "        \n",
    "    if len(categories_list) == 0:\n",
    "        return None\n",
    "    else:\n",
    "        return categories_list[0]['name']"
   ]
  },
  {
   "source": [
    "Now we are ready to clean the json and structure it into a _pandas_ dataframe."
   ],
   "cell_type": "markdown",
   "metadata": {}
  },
  {
   "cell_type": "code",
   "execution_count": 30,
   "metadata": {},
   "outputs": [
    {
     "output_type": "execute_result",
     "data": {
      "text/plain": [
       "                     name           categories        lat        lng\n",
       "0        Roselle Desserts               Bakery  43.653447 -79.362017\n",
       "1           Tandem Coffee          Coffee Shop  43.653559 -79.361809\n",
       "2  Cooper Koo Family YMCA  Distribution Center  43.653249 -79.358008\n",
       "3     Body Blitz Spa East                  Spa  43.654735 -79.359874\n",
       "4          Impact Kitchen           Restaurant  43.656369 -79.356980"
      ],
      "text/html": "<div>\n<style scoped>\n    .dataframe tbody tr th:only-of-type {\n        vertical-align: middle;\n    }\n\n    .dataframe tbody tr th {\n        vertical-align: top;\n    }\n\n    .dataframe thead th {\n        text-align: right;\n    }\n</style>\n<table border=\"1\" class=\"dataframe\">\n  <thead>\n    <tr style=\"text-align: right;\">\n      <th></th>\n      <th>name</th>\n      <th>categories</th>\n      <th>lat</th>\n      <th>lng</th>\n    </tr>\n  </thead>\n  <tbody>\n    <tr>\n      <th>0</th>\n      <td>Roselle Desserts</td>\n      <td>Bakery</td>\n      <td>43.653447</td>\n      <td>-79.362017</td>\n    </tr>\n    <tr>\n      <th>1</th>\n      <td>Tandem Coffee</td>\n      <td>Coffee Shop</td>\n      <td>43.653559</td>\n      <td>-79.361809</td>\n    </tr>\n    <tr>\n      <th>2</th>\n      <td>Cooper Koo Family YMCA</td>\n      <td>Distribution Center</td>\n      <td>43.653249</td>\n      <td>-79.358008</td>\n    </tr>\n    <tr>\n      <th>3</th>\n      <td>Body Blitz Spa East</td>\n      <td>Spa</td>\n      <td>43.654735</td>\n      <td>-79.359874</td>\n    </tr>\n    <tr>\n      <th>4</th>\n      <td>Impact Kitchen</td>\n      <td>Restaurant</td>\n      <td>43.656369</td>\n      <td>-79.356980</td>\n    </tr>\n  </tbody>\n</table>\n</div>"
     },
     "metadata": {},
     "execution_count": 30
    }
   ],
   "source": [
    "venues = results['response']['groups'][0]['items']\n",
    "    \n",
    "nearby_venues = pd.json_normalize(venues) # flatten JSON\n",
    "\n",
    "# filter columns\n",
    "filtered_columns = ['venue.name', 'venue.categories', 'venue.location.lat', 'venue.location.lng']\n",
    "nearby_venues =nearby_venues.loc[:, filtered_columns]\n",
    "\n",
    "# filter the category for each row\n",
    "nearby_venues['venue.categories'] = nearby_venues.apply(get_category_type, axis=1)\n",
    "\n",
    "# clean columns\n",
    "nearby_venues.columns = [col.split(\".\")[-1] for col in nearby_venues.columns]\n",
    "\n",
    "nearby_venues.head()"
   ]
  },
  {
   "cell_type": "code",
   "execution_count": 31,
   "metadata": {},
   "outputs": [
    {
     "output_type": "stream",
     "name": "stdout",
     "text": [
      "46 venues were returned by Foursquare.\n"
     ]
    }
   ],
   "source": [
    "print('{} venues were returned by Foursquare.'.format(nearby_venues.shape[0]))"
   ]
  },
  {
   "source": [
    "#### Creating the function to repeat the same process to all the neighborhoods of Toronto"
   ],
   "cell_type": "markdown",
   "metadata": {}
  },
  {
   "cell_type": "code",
   "execution_count": 32,
   "metadata": {},
   "outputs": [],
   "source": [
    "def getNearbyVenues(names, latitudes, longitudes, radius=500):\n",
    "    \n",
    "    venues_list=[]\n",
    "    for name, lat, lng in zip(names, latitudes, longitudes):\n",
    "        print(name)\n",
    "            \n",
    "        # create the API request URL\n",
    "        url = 'https://api.foursquare.com/v2/venues/explore?&client_id={}&client_secret={}&v={}&ll={},{}&radius={}&limit={}'.format(\n",
    "            CLIENT_ID, \n",
    "            CLIENT_SECRET, \n",
    "            VERSION, \n",
    "            lat, \n",
    "            lng, \n",
    "            radius, \n",
    "            LIMIT)\n",
    "            \n",
    "        # make the GET request\n",
    "        results = requests.get(url).json()[\"response\"]['groups'][0]['items']\n",
    "        \n",
    "        # return only relevant information for each nearby venue\n",
    "        venues_list.append([(\n",
    "            name, \n",
    "            lat, \n",
    "            lng, \n",
    "            v['venue']['name'], \n",
    "            v['venue']['location']['lat'], \n",
    "            v['venue']['location']['lng'],  \n",
    "            v['venue']['categories'][0]['name']) for v in results])\n",
    "\n",
    "    nearby_venues = pd.DataFrame([item for venue_list in venues_list for item in venue_list])\n",
    "    nearby_venues.columns = ['Neighbourhood', \n",
    "                  'Neighbourhood Latitude', \n",
    "                  'Neighbourhood Longitude', \n",
    "                  'Venue', \n",
    "                  'Venue Latitude', \n",
    "                  'Venue Longitude', \n",
    "                  'Venue Category']\n",
    "    \n",
    "    return(nearby_venues)"
   ]
  },
  {
   "cell_type": "code",
   "execution_count": 36,
   "metadata": {},
   "outputs": [
    {
     "output_type": "stream",
     "name": "stdout",
     "text": [
      "Regent Park, Harbourfront\n",
      "Queen's Park, Ontario Provincial Government\n",
      "Garden District, Ryerson\n",
      "St. James Town\n",
      "The Beaches\n",
      "Berczy Park\n",
      "Central Bay Street\n",
      "Christie\n",
      "Richmond, Adelaide, King\n",
      "Dufferin, Dovercourt Village\n",
      "Harbourfront East, Union Station, Toronto Islands\n",
      "Little Portugal, Trinity\n",
      "The Danforth West, Riverdale\n",
      "Toronto Dominion Centre, Design Exchange\n",
      "Brockton, Parkdale Village, Exhibition Place\n",
      "India Bazaar, The Beaches West\n",
      "Commerce Court, Victoria Hotel\n",
      "Studio District\n",
      "Lawrence Park\n",
      "Roselawn\n",
      "Runnymede, The Junction, Weston-Pellam Park, Carlton Village\n",
      "Davisville North\n",
      "Forest Hill North & West, Forest Hill Road Park\n",
      "High Park, The Junction South\n",
      "North Toronto West, Lawrence Park\n",
      "The Annex, North Midtown, Yorkville\n",
      "Parkdale, Roncesvalles\n",
      "Davisville\n",
      "University of Toronto, Harbord\n",
      "Runnymede, Swansea\n",
      "Moore Park, Summerhill East\n",
      "Kensington Market, Chinatown, Grange Park\n",
      "Summerhill West, Rathnelly, South Hill, Forest Hill SE, Deer Park\n",
      "CN Tower, King and Spadina, Railway Lands, Harbourfront West, Bathurst Quay, South Niagara, Island airport\n",
      "Rosedale\n",
      "Stn A PO Boxes\n",
      "St. James Town, Cabbagetown\n",
      "First Canadian Place, Underground city\n",
      "Church and Wellesley\n",
      "Business reply mail Processing Centre, South Central Letter Processing Plant Toronto\n"
     ]
    }
   ],
   "source": [
    "toronto_venues = getNearbyVenues(names=toronto_df['Neighbourhood'],\n",
    "                                   latitudes=toronto_df['Latitude'],\n",
    "                                   longitudes=toronto_df['Longitude']\n",
    "                                  )"
   ]
  },
  {
   "cell_type": "code",
   "execution_count": 37,
   "metadata": {},
   "outputs": [
    {
     "output_type": "stream",
     "name": "stdout",
     "text": [
      "(1602, 7)\n"
     ]
    },
    {
     "output_type": "execute_result",
     "data": {
      "text/plain": [
       "               Neighbourhood  Neighbourhood Latitude  Neighbourhood Longitude  \\\n",
       "0  Regent Park, Harbourfront                43.65426               -79.360636   \n",
       "1  Regent Park, Harbourfront                43.65426               -79.360636   \n",
       "2  Regent Park, Harbourfront                43.65426               -79.360636   \n",
       "3  Regent Park, Harbourfront                43.65426               -79.360636   \n",
       "4  Regent Park, Harbourfront                43.65426               -79.360636   \n",
       "\n",
       "                    Venue  Venue Latitude  Venue Longitude  \\\n",
       "0        Roselle Desserts       43.653447       -79.362017   \n",
       "1           Tandem Coffee       43.653559       -79.361809   \n",
       "2  Cooper Koo Family YMCA       43.653249       -79.358008   \n",
       "3     Body Blitz Spa East       43.654735       -79.359874   \n",
       "4          Impact Kitchen       43.656369       -79.356980   \n",
       "\n",
       "        Venue Category  \n",
       "0               Bakery  \n",
       "1          Coffee Shop  \n",
       "2  Distribution Center  \n",
       "3                  Spa  \n",
       "4           Restaurant  "
      ],
      "text/html": "<div>\n<style scoped>\n    .dataframe tbody tr th:only-of-type {\n        vertical-align: middle;\n    }\n\n    .dataframe tbody tr th {\n        vertical-align: top;\n    }\n\n    .dataframe thead th {\n        text-align: right;\n    }\n</style>\n<table border=\"1\" class=\"dataframe\">\n  <thead>\n    <tr style=\"text-align: right;\">\n      <th></th>\n      <th>Neighbourhood</th>\n      <th>Neighbourhood Latitude</th>\n      <th>Neighbourhood Longitude</th>\n      <th>Venue</th>\n      <th>Venue Latitude</th>\n      <th>Venue Longitude</th>\n      <th>Venue Category</th>\n    </tr>\n  </thead>\n  <tbody>\n    <tr>\n      <th>0</th>\n      <td>Regent Park, Harbourfront</td>\n      <td>43.65426</td>\n      <td>-79.360636</td>\n      <td>Roselle Desserts</td>\n      <td>43.653447</td>\n      <td>-79.362017</td>\n      <td>Bakery</td>\n    </tr>\n    <tr>\n      <th>1</th>\n      <td>Regent Park, Harbourfront</td>\n      <td>43.65426</td>\n      <td>-79.360636</td>\n      <td>Tandem Coffee</td>\n      <td>43.653559</td>\n      <td>-79.361809</td>\n      <td>Coffee Shop</td>\n    </tr>\n    <tr>\n      <th>2</th>\n      <td>Regent Park, Harbourfront</td>\n      <td>43.65426</td>\n      <td>-79.360636</td>\n      <td>Cooper Koo Family YMCA</td>\n      <td>43.653249</td>\n      <td>-79.358008</td>\n      <td>Distribution Center</td>\n    </tr>\n    <tr>\n      <th>3</th>\n      <td>Regent Park, Harbourfront</td>\n      <td>43.65426</td>\n      <td>-79.360636</td>\n      <td>Body Blitz Spa East</td>\n      <td>43.654735</td>\n      <td>-79.359874</td>\n      <td>Spa</td>\n    </tr>\n    <tr>\n      <th>4</th>\n      <td>Regent Park, Harbourfront</td>\n      <td>43.65426</td>\n      <td>-79.360636</td>\n      <td>Impact Kitchen</td>\n      <td>43.656369</td>\n      <td>-79.356980</td>\n      <td>Restaurant</td>\n    </tr>\n  </tbody>\n</table>\n</div>"
     },
     "metadata": {},
     "execution_count": 37
    }
   ],
   "source": [
    "print(toronto_venues.shape)\n",
    "toronto_venues.head()"
   ]
  },
  {
   "source": [
    "Let's check how many venues were returned for each neighborhood"
   ],
   "cell_type": "markdown",
   "metadata": {}
  },
  {
   "cell_type": "code",
   "execution_count": 39,
   "metadata": {},
   "outputs": [
    {
     "output_type": "execute_result",
     "data": {
      "text/plain": [
       "                                                    Neighbourhood Latitude  \\\n",
       "Neighbourhood                                                                \n",
       "Berczy Park                                                             59   \n",
       "Brockton, Parkdale Village, Exhibition Place                            23   \n",
       "Business reply mail Processing Centre, South Ce...                      16   \n",
       "CN Tower, King and Spadina, Railway Lands, Harb...                      15   \n",
       "Central Bay Street                                                      61   \n",
       "Christie                                                                16   \n",
       "Church and Wellesley                                                    73   \n",
       "Commerce Court, Victoria Hotel                                         100   \n",
       "Davisville                                                              35   \n",
       "Davisville North                                                         7   \n",
       "Dufferin, Dovercourt Village                                            14   \n",
       "First Canadian Place, Underground city                                 100   \n",
       "Forest Hill North & West, Forest Hill Road Park                          4   \n",
       "Garden District, Ryerson                                               100   \n",
       "Harbourfront East, Union Station, Toronto Islands                      100   \n",
       "High Park, The Junction South                                           25   \n",
       "India Bazaar, The Beaches West                                          21   \n",
       "Kensington Market, Chinatown, Grange Park                               62   \n",
       "Lawrence Park                                                            3   \n",
       "Little Portugal, Trinity                                                43   \n",
       "North Toronto West, Lawrence Park                                       20   \n",
       "Parkdale, Roncesvalles                                                  14   \n",
       "Queen's Park, Ontario Provincial Government                             31   \n",
       "Regent Park, Harbourfront                                               46   \n",
       "Richmond, Adelaide, King                                                95   \n",
       "Rosedale                                                                 4   \n",
       "Roselawn                                                                 1   \n",
       "Runnymede, Swansea                                                      35   \n",
       "Runnymede, The Junction, Weston-Pellam Park, Ca...                       4   \n",
       "St. James Town                                                          80   \n",
       "St. James Town, Cabbagetown                                             46   \n",
       "Stn A PO Boxes                                                          99   \n",
       "Studio District                                                         36   \n",
       "Summerhill West, Rathnelly, South Hill, Forest ...                      14   \n",
       "The Annex, North Midtown, Yorkville                                     19   \n",
       "The Beaches                                                              4   \n",
       "The Danforth West, Riverdale                                            43   \n",
       "Toronto Dominion Centre, Design Exchange                               100   \n",
       "University of Toronto, Harbord                                          34   \n",
       "\n",
       "                                                    Neighbourhood Longitude  \\\n",
       "Neighbourhood                                                                 \n",
       "Berczy Park                                                              59   \n",
       "Brockton, Parkdale Village, Exhibition Place                             23   \n",
       "Business reply mail Processing Centre, South Ce...                       16   \n",
       "CN Tower, King and Spadina, Railway Lands, Harb...                       15   \n",
       "Central Bay Street                                                       61   \n",
       "Christie                                                                 16   \n",
       "Church and Wellesley                                                     73   \n",
       "Commerce Court, Victoria Hotel                                          100   \n",
       "Davisville                                                               35   \n",
       "Davisville North                                                          7   \n",
       "Dufferin, Dovercourt Village                                             14   \n",
       "First Canadian Place, Underground city                                  100   \n",
       "Forest Hill North & West, Forest Hill Road Park                           4   \n",
       "Garden District, Ryerson                                                100   \n",
       "Harbourfront East, Union Station, Toronto Islands                       100   \n",
       "High Park, The Junction South                                            25   \n",
       "India Bazaar, The Beaches West                                           21   \n",
       "Kensington Market, Chinatown, Grange Park                                62   \n",
       "Lawrence Park                                                             3   \n",
       "Little Portugal, Trinity                                                 43   \n",
       "North Toronto West, Lawrence Park                                        20   \n",
       "Parkdale, Roncesvalles                                                   14   \n",
       "Queen's Park, Ontario Provincial Government                              31   \n",
       "Regent Park, Harbourfront                                                46   \n",
       "Richmond, Adelaide, King                                                 95   \n",
       "Rosedale                                                                  4   \n",
       "Roselawn                                                                  1   \n",
       "Runnymede, Swansea                                                       35   \n",
       "Runnymede, The Junction, Weston-Pellam Park, Ca...                        4   \n",
       "St. James Town                                                           80   \n",
       "St. James Town, Cabbagetown                                              46   \n",
       "Stn A PO Boxes                                                           99   \n",
       "Studio District                                                          36   \n",
       "Summerhill West, Rathnelly, South Hill, Forest ...                       14   \n",
       "The Annex, North Midtown, Yorkville                                      19   \n",
       "The Beaches                                                               4   \n",
       "The Danforth West, Riverdale                                             43   \n",
       "Toronto Dominion Centre, Design Exchange                                100   \n",
       "University of Toronto, Harbord                                           34   \n",
       "\n",
       "                                                    Venue  Venue Latitude  \\\n",
       "Neighbourhood                                                               \n",
       "Berczy Park                                            59              59   \n",
       "Brockton, Parkdale Village, Exhibition Place           23              23   \n",
       "Business reply mail Processing Centre, South Ce...     16              16   \n",
       "CN Tower, King and Spadina, Railway Lands, Harb...     15              15   \n",
       "Central Bay Street                                     61              61   \n",
       "Christie                                               16              16   \n",
       "Church and Wellesley                                   73              73   \n",
       "Commerce Court, Victoria Hotel                        100             100   \n",
       "Davisville                                             35              35   \n",
       "Davisville North                                        7               7   \n",
       "Dufferin, Dovercourt Village                           14              14   \n",
       "First Canadian Place, Underground city                100             100   \n",
       "Forest Hill North & West, Forest Hill Road Park         4               4   \n",
       "Garden District, Ryerson                              100             100   \n",
       "Harbourfront East, Union Station, Toronto Islands     100             100   \n",
       "High Park, The Junction South                          25              25   \n",
       "India Bazaar, The Beaches West                         21              21   \n",
       "Kensington Market, Chinatown, Grange Park              62              62   \n",
       "Lawrence Park                                           3               3   \n",
       "Little Portugal, Trinity                               43              43   \n",
       "North Toronto West, Lawrence Park                      20              20   \n",
       "Parkdale, Roncesvalles                                 14              14   \n",
       "Queen's Park, Ontario Provincial Government            31              31   \n",
       "Regent Park, Harbourfront                              46              46   \n",
       "Richmond, Adelaide, King                               95              95   \n",
       "Rosedale                                                4               4   \n",
       "Roselawn                                                1               1   \n",
       "Runnymede, Swansea                                     35              35   \n",
       "Runnymede, The Junction, Weston-Pellam Park, Ca...      4               4   \n",
       "St. James Town                                         80              80   \n",
       "St. James Town, Cabbagetown                            46              46   \n",
       "Stn A PO Boxes                                         99              99   \n",
       "Studio District                                        36              36   \n",
       "Summerhill West, Rathnelly, South Hill, Forest ...     14              14   \n",
       "The Annex, North Midtown, Yorkville                    19              19   \n",
       "The Beaches                                             4               4   \n",
       "The Danforth West, Riverdale                           43              43   \n",
       "Toronto Dominion Centre, Design Exchange              100             100   \n",
       "University of Toronto, Harbord                         34              34   \n",
       "\n",
       "                                                    Venue Longitude  \\\n",
       "Neighbourhood                                                         \n",
       "Berczy Park                                                      59   \n",
       "Brockton, Parkdale Village, Exhibition Place                     23   \n",
       "Business reply mail Processing Centre, South Ce...               16   \n",
       "CN Tower, King and Spadina, Railway Lands, Harb...               15   \n",
       "Central Bay Street                                               61   \n",
       "Christie                                                         16   \n",
       "Church and Wellesley                                             73   \n",
       "Commerce Court, Victoria Hotel                                  100   \n",
       "Davisville                                                       35   \n",
       "Davisville North                                                  7   \n",
       "Dufferin, Dovercourt Village                                     14   \n",
       "First Canadian Place, Underground city                          100   \n",
       "Forest Hill North & West, Forest Hill Road Park                   4   \n",
       "Garden District, Ryerson                                        100   \n",
       "Harbourfront East, Union Station, Toronto Islands               100   \n",
       "High Park, The Junction South                                    25   \n",
       "India Bazaar, The Beaches West                                   21   \n",
       "Kensington Market, Chinatown, Grange Park                        62   \n",
       "Lawrence Park                                                     3   \n",
       "Little Portugal, Trinity                                         43   \n",
       "North Toronto West, Lawrence Park                                20   \n",
       "Parkdale, Roncesvalles                                           14   \n",
       "Queen's Park, Ontario Provincial Government                      31   \n",
       "Regent Park, Harbourfront                                        46   \n",
       "Richmond, Adelaide, King                                         95   \n",
       "Rosedale                                                          4   \n",
       "Roselawn                                                          1   \n",
       "Runnymede, Swansea                                               35   \n",
       "Runnymede, The Junction, Weston-Pellam Park, Ca...                4   \n",
       "St. James Town                                                   80   \n",
       "St. James Town, Cabbagetown                                      46   \n",
       "Stn A PO Boxes                                                   99   \n",
       "Studio District                                                  36   \n",
       "Summerhill West, Rathnelly, South Hill, Forest ...               14   \n",
       "The Annex, North Midtown, Yorkville                              19   \n",
       "The Beaches                                                       4   \n",
       "The Danforth West, Riverdale                                     43   \n",
       "Toronto Dominion Centre, Design Exchange                        100   \n",
       "University of Toronto, Harbord                                   34   \n",
       "\n",
       "                                                    Venue Category  \n",
       "Neighbourhood                                                       \n",
       "Berczy Park                                                     59  \n",
       "Brockton, Parkdale Village, Exhibition Place                    23  \n",
       "Business reply mail Processing Centre, South Ce...              16  \n",
       "CN Tower, King and Spadina, Railway Lands, Harb...              15  \n",
       "Central Bay Street                                              61  \n",
       "Christie                                                        16  \n",
       "Church and Wellesley                                            73  \n",
       "Commerce Court, Victoria Hotel                                 100  \n",
       "Davisville                                                      35  \n",
       "Davisville North                                                 7  \n",
       "Dufferin, Dovercourt Village                                    14  \n",
       "First Canadian Place, Underground city                         100  \n",
       "Forest Hill North & West, Forest Hill Road Park                  4  \n",
       "Garden District, Ryerson                                       100  \n",
       "Harbourfront East, Union Station, Toronto Islands              100  \n",
       "High Park, The Junction South                                   25  \n",
       "India Bazaar, The Beaches West                                  21  \n",
       "Kensington Market, Chinatown, Grange Park                       62  \n",
       "Lawrence Park                                                    3  \n",
       "Little Portugal, Trinity                                        43  \n",
       "North Toronto West, Lawrence Park                               20  \n",
       "Parkdale, Roncesvalles                                          14  \n",
       "Queen's Park, Ontario Provincial Government                     31  \n",
       "Regent Park, Harbourfront                                       46  \n",
       "Richmond, Adelaide, King                                        95  \n",
       "Rosedale                                                         4  \n",
       "Roselawn                                                         1  \n",
       "Runnymede, Swansea                                              35  \n",
       "Runnymede, The Junction, Weston-Pellam Park, Ca...               4  \n",
       "St. James Town                                                  80  \n",
       "St. James Town, Cabbagetown                                     46  \n",
       "Stn A PO Boxes                                                  99  \n",
       "Studio District                                                 36  \n",
       "Summerhill West, Rathnelly, South Hill, Forest ...              14  \n",
       "The Annex, North Midtown, Yorkville                             19  \n",
       "The Beaches                                                      4  \n",
       "The Danforth West, Riverdale                                    43  \n",
       "Toronto Dominion Centre, Design Exchange                       100  \n",
       "University of Toronto, Harbord                                  34  "
      ],
      "text/html": "<div>\n<style scoped>\n    .dataframe tbody tr th:only-of-type {\n        vertical-align: middle;\n    }\n\n    .dataframe tbody tr th {\n        vertical-align: top;\n    }\n\n    .dataframe thead th {\n        text-align: right;\n    }\n</style>\n<table border=\"1\" class=\"dataframe\">\n  <thead>\n    <tr style=\"text-align: right;\">\n      <th></th>\n      <th>Neighbourhood Latitude</th>\n      <th>Neighbourhood Longitude</th>\n      <th>Venue</th>\n      <th>Venue Latitude</th>\n      <th>Venue Longitude</th>\n      <th>Venue Category</th>\n    </tr>\n    <tr>\n      <th>Neighbourhood</th>\n      <th></th>\n      <th></th>\n      <th></th>\n      <th></th>\n      <th></th>\n      <th></th>\n    </tr>\n  </thead>\n  <tbody>\n    <tr>\n      <th>Berczy Park</th>\n      <td>59</td>\n      <td>59</td>\n      <td>59</td>\n      <td>59</td>\n      <td>59</td>\n      <td>59</td>\n    </tr>\n    <tr>\n      <th>Brockton, Parkdale Village, Exhibition Place</th>\n      <td>23</td>\n      <td>23</td>\n      <td>23</td>\n      <td>23</td>\n      <td>23</td>\n      <td>23</td>\n    </tr>\n    <tr>\n      <th>Business reply mail Processing Centre, South Central Letter Processing Plant Toronto</th>\n      <td>16</td>\n      <td>16</td>\n      <td>16</td>\n      <td>16</td>\n      <td>16</td>\n      <td>16</td>\n    </tr>\n    <tr>\n      <th>CN Tower, King and Spadina, Railway Lands, Harbourfront West, Bathurst Quay, South Niagara, Island airport</th>\n      <td>15</td>\n      <td>15</td>\n      <td>15</td>\n      <td>15</td>\n      <td>15</td>\n      <td>15</td>\n    </tr>\n    <tr>\n      <th>Central Bay Street</th>\n      <td>61</td>\n      <td>61</td>\n      <td>61</td>\n      <td>61</td>\n      <td>61</td>\n      <td>61</td>\n    </tr>\n    <tr>\n      <th>Christie</th>\n      <td>16</td>\n      <td>16</td>\n      <td>16</td>\n      <td>16</td>\n      <td>16</td>\n      <td>16</td>\n    </tr>\n    <tr>\n      <th>Church and Wellesley</th>\n      <td>73</td>\n      <td>73</td>\n      <td>73</td>\n      <td>73</td>\n      <td>73</td>\n      <td>73</td>\n    </tr>\n    <tr>\n      <th>Commerce Court, Victoria Hotel</th>\n      <td>100</td>\n      <td>100</td>\n      <td>100</td>\n      <td>100</td>\n      <td>100</td>\n      <td>100</td>\n    </tr>\n    <tr>\n      <th>Davisville</th>\n      <td>35</td>\n      <td>35</td>\n      <td>35</td>\n      <td>35</td>\n      <td>35</td>\n      <td>35</td>\n    </tr>\n    <tr>\n      <th>Davisville North</th>\n      <td>7</td>\n      <td>7</td>\n      <td>7</td>\n      <td>7</td>\n      <td>7</td>\n      <td>7</td>\n    </tr>\n    <tr>\n      <th>Dufferin, Dovercourt Village</th>\n      <td>14</td>\n      <td>14</td>\n      <td>14</td>\n      <td>14</td>\n      <td>14</td>\n      <td>14</td>\n    </tr>\n    <tr>\n      <th>First Canadian Place, Underground city</th>\n      <td>100</td>\n      <td>100</td>\n      <td>100</td>\n      <td>100</td>\n      <td>100</td>\n      <td>100</td>\n    </tr>\n    <tr>\n      <th>Forest Hill North &amp; West, Forest Hill Road Park</th>\n      <td>4</td>\n      <td>4</td>\n      <td>4</td>\n      <td>4</td>\n      <td>4</td>\n      <td>4</td>\n    </tr>\n    <tr>\n      <th>Garden District, Ryerson</th>\n      <td>100</td>\n      <td>100</td>\n      <td>100</td>\n      <td>100</td>\n      <td>100</td>\n      <td>100</td>\n    </tr>\n    <tr>\n      <th>Harbourfront East, Union Station, Toronto Islands</th>\n      <td>100</td>\n      <td>100</td>\n      <td>100</td>\n      <td>100</td>\n      <td>100</td>\n      <td>100</td>\n    </tr>\n    <tr>\n      <th>High Park, The Junction South</th>\n      <td>25</td>\n      <td>25</td>\n      <td>25</td>\n      <td>25</td>\n      <td>25</td>\n      <td>25</td>\n    </tr>\n    <tr>\n      <th>India Bazaar, The Beaches West</th>\n      <td>21</td>\n      <td>21</td>\n      <td>21</td>\n      <td>21</td>\n      <td>21</td>\n      <td>21</td>\n    </tr>\n    <tr>\n      <th>Kensington Market, Chinatown, Grange Park</th>\n      <td>62</td>\n      <td>62</td>\n      <td>62</td>\n      <td>62</td>\n      <td>62</td>\n      <td>62</td>\n    </tr>\n    <tr>\n      <th>Lawrence Park</th>\n      <td>3</td>\n      <td>3</td>\n      <td>3</td>\n      <td>3</td>\n      <td>3</td>\n      <td>3</td>\n    </tr>\n    <tr>\n      <th>Little Portugal, Trinity</th>\n      <td>43</td>\n      <td>43</td>\n      <td>43</td>\n      <td>43</td>\n      <td>43</td>\n      <td>43</td>\n    </tr>\n    <tr>\n      <th>North Toronto West, Lawrence Park</th>\n      <td>20</td>\n      <td>20</td>\n      <td>20</td>\n      <td>20</td>\n      <td>20</td>\n      <td>20</td>\n    </tr>\n    <tr>\n      <th>Parkdale, Roncesvalles</th>\n      <td>14</td>\n      <td>14</td>\n      <td>14</td>\n      <td>14</td>\n      <td>14</td>\n      <td>14</td>\n    </tr>\n    <tr>\n      <th>Queen's Park, Ontario Provincial Government</th>\n      <td>31</td>\n      <td>31</td>\n      <td>31</td>\n      <td>31</td>\n      <td>31</td>\n      <td>31</td>\n    </tr>\n    <tr>\n      <th>Regent Park, Harbourfront</th>\n      <td>46</td>\n      <td>46</td>\n      <td>46</td>\n      <td>46</td>\n      <td>46</td>\n      <td>46</td>\n    </tr>\n    <tr>\n      <th>Richmond, Adelaide, King</th>\n      <td>95</td>\n      <td>95</td>\n      <td>95</td>\n      <td>95</td>\n      <td>95</td>\n      <td>95</td>\n    </tr>\n    <tr>\n      <th>Rosedale</th>\n      <td>4</td>\n      <td>4</td>\n      <td>4</td>\n      <td>4</td>\n      <td>4</td>\n      <td>4</td>\n    </tr>\n    <tr>\n      <th>Roselawn</th>\n      <td>1</td>\n      <td>1</td>\n      <td>1</td>\n      <td>1</td>\n      <td>1</td>\n      <td>1</td>\n    </tr>\n    <tr>\n      <th>Runnymede, Swansea</th>\n      <td>35</td>\n      <td>35</td>\n      <td>35</td>\n      <td>35</td>\n      <td>35</td>\n      <td>35</td>\n    </tr>\n    <tr>\n      <th>Runnymede, The Junction, Weston-Pellam Park, Carlton Village</th>\n      <td>4</td>\n      <td>4</td>\n      <td>4</td>\n      <td>4</td>\n      <td>4</td>\n      <td>4</td>\n    </tr>\n    <tr>\n      <th>St. James Town</th>\n      <td>80</td>\n      <td>80</td>\n      <td>80</td>\n      <td>80</td>\n      <td>80</td>\n      <td>80</td>\n    </tr>\n    <tr>\n      <th>St. James Town, Cabbagetown</th>\n      <td>46</td>\n      <td>46</td>\n      <td>46</td>\n      <td>46</td>\n      <td>46</td>\n      <td>46</td>\n    </tr>\n    <tr>\n      <th>Stn A PO Boxes</th>\n      <td>99</td>\n      <td>99</td>\n      <td>99</td>\n      <td>99</td>\n      <td>99</td>\n      <td>99</td>\n    </tr>\n    <tr>\n      <th>Studio District</th>\n      <td>36</td>\n      <td>36</td>\n      <td>36</td>\n      <td>36</td>\n      <td>36</td>\n      <td>36</td>\n    </tr>\n    <tr>\n      <th>Summerhill West, Rathnelly, South Hill, Forest Hill SE, Deer Park</th>\n      <td>14</td>\n      <td>14</td>\n      <td>14</td>\n      <td>14</td>\n      <td>14</td>\n      <td>14</td>\n    </tr>\n    <tr>\n      <th>The Annex, North Midtown, Yorkville</th>\n      <td>19</td>\n      <td>19</td>\n      <td>19</td>\n      <td>19</td>\n      <td>19</td>\n      <td>19</td>\n    </tr>\n    <tr>\n      <th>The Beaches</th>\n      <td>4</td>\n      <td>4</td>\n      <td>4</td>\n      <td>4</td>\n      <td>4</td>\n      <td>4</td>\n    </tr>\n    <tr>\n      <th>The Danforth West, Riverdale</th>\n      <td>43</td>\n      <td>43</td>\n      <td>43</td>\n      <td>43</td>\n      <td>43</td>\n      <td>43</td>\n    </tr>\n    <tr>\n      <th>Toronto Dominion Centre, Design Exchange</th>\n      <td>100</td>\n      <td>100</td>\n      <td>100</td>\n      <td>100</td>\n      <td>100</td>\n      <td>100</td>\n    </tr>\n    <tr>\n      <th>University of Toronto, Harbord</th>\n      <td>34</td>\n      <td>34</td>\n      <td>34</td>\n      <td>34</td>\n      <td>34</td>\n      <td>34</td>\n    </tr>\n  </tbody>\n</table>\n</div>"
     },
     "metadata": {},
     "execution_count": 39
    }
   ],
   "source": [
    "toronto_venues.groupby('Neighbourhood').count()"
   ]
  },
  {
   "source": [
    "Let's find out how many unique categories can be curated from all the returned venues\n"
   ],
   "cell_type": "markdown",
   "metadata": {}
  },
  {
   "cell_type": "code",
   "execution_count": 40,
   "metadata": {},
   "outputs": [
    {
     "output_type": "stream",
     "name": "stdout",
     "text": [
      "There are 233 uniques categories.\n"
     ]
    }
   ],
   "source": [
    "print('There are {} uniques categories.'.format(len(toronto_venues['Venue Category'].unique())))"
   ]
  },
  {
   "source": [
    "## Finding the top 10 categories in toronto."
   ],
   "cell_type": "markdown",
   "metadata": {}
  },
  {
   "cell_type": "code",
   "execution_count": 148,
   "metadata": {},
   "outputs": [
    {
     "output_type": "execute_result",
     "data": {
      "text/plain": [
       "['Coffee Shop',\n",
       " 'Café',\n",
       " 'Restaurant',\n",
       " 'Italian Restaurant',\n",
       " 'Hotel',\n",
       " 'Park',\n",
       " 'Japanese Restaurant',\n",
       " 'Bakery',\n",
       " 'Sushi Restaurant',\n",
       " 'Gym']"
      ]
     },
     "metadata": {},
     "execution_count": 148
    }
   ],
   "source": [
    "top10Venues = toronto_venues['Venue Category'].value_counts()[:10].index.tolist()\n",
    "top10Venues"
   ]
  },
  {
   "source": [
    "## Analyzing each neighbourhood"
   ],
   "cell_type": "markdown",
   "metadata": {}
  },
  {
   "cell_type": "code",
   "execution_count": 132,
   "metadata": {},
   "outputs": [
    {
     "output_type": "execute_result",
     "data": {
      "text/plain": [
       "          0         0             0              0         0   \n",
       "1        0                0         0             0              0         0   \n",
       "2        0                0         0             0              0         0   \n",
       "3        0                0         0             0              0         0   \n",
       "4        0                0         0             0              0         0   \n",
       "\n",
       "   Butcher  Café  Cajun / Creole Restaurant  Candy Store  \\\n",
       "0        0     0                          0            0   \n",
       "1        0     0                          0            0   \n",
       "2        0     0                          0            0   \n",
       "3        0     0                          0            0   \n",
       "4        0     0                          0            0   \n",
       "\n",
       "   Caribbean Restaurant  Cheese Shop  Chinese Restaurant  Chocolate Shop  \\\n",
       "0                     0            0                   0               0   \n",
       "1                     0            0                   0               0   \n",
       "2                     0            0                   0               0   \n",
       "3                     0            0                   0               0   \n",
       "4                     0            0                   0               0   \n",
       "\n",
       "   Church  Climbing Gym  Clothing Store  Cocktail Bar  Coffee Shop  \\\n",
       "0       0             0               0             0            0   \n",
       "1       0             0               0             0            1   \n",
       "2       0             0               0             0            0   \n",
       "3       0             0               0             0            0   \n",
       "4       0             0               0             0            0   \n",
       "\n",
       "   College Arts Building  College Auditorium  College Cafeteria  College Gym  \\\n",
       "0                      0                   0                  0            0   \n",
       "1                      0                   0                  0            0   \n",
       "2                      0                   0                  0            0   \n",
       "3                      0                   0                  0            0   \n",
       "4                      0                   0                  0            0   \n",
       "\n",
       "   College Rec Center  Colombian Restaurant  Comfort Food Restaurant  \\\n",
       "0                   0                     0                        0   \n",
       "1                   0                     0                        0   \n",
       "2                   0                     0                        0   \n",
       "3                   0                     0                        0   \n",
       "4                   0                     0                        0   \n",
       "\n",
       "   Comic Shop  Concert Hall  Construction & Landscaping  Convenience Store  \\\n",
       "0           0             0                           0                  0   \n",
       "1           0             0                           0                  0   \n",
       "2           0             0                           0                  0   \n",
       "3           0             0                           0                  0   \n",
       "4           0             0                           0                  0   \n",
       "\n",
       "   Cosmetics Shop  Coworking Space  Creperie  Cuban Restaurant  Cupcake Shop  \\\n",
       "0               0                0         0                 0             0   \n",
       "1               0                0         0                 0             0   \n",
       "2               0                0         0                 0             0   \n",
       "3               0                0         0                 0             0   \n",
       "4               0                0         0                 0             0   \n",
       "\n",
       "   Dance Studio  Deli / Bodega  Department Store  Dessert Shop  Diner  \\\n",
       "0             0              0                 0             0      0   \n",
       "1             0              0                 0             0      0   \n",
       "2             0              0                 0             0      0   \n",
       "3             0              0                 0             0      0   \n",
       "4             0              0                 0             0      0   \n",
       "\n",
       "   Discount Store  Distribution Center  Dog Run  Doner Restaurant  Donut Shop  \\\n",
       "0               0                    0        0                 0           0   \n",
       "1               0                    0        0                 0           0   \n",
       "2               0                    1        0                 0           0   \n",
       "3               0                    0        0                 0           0   \n",
       "4               0                    0        0                 0           0   \n",
       "\n",
       "   Dumpling Restaurant  Eastern European Restaurant  Electronics Store  \\\n",
       "0                    0                            0                  0   \n",
       "1                    0                            0                  0   \n",
       "2                    0                            0                  0   \n",
       "3                    0                            0                  0   \n",
       "4                    0                            0                  0   \n",
       "\n",
       "   Escape Room  Ethiopian Restaurant  Event Space  Falafel Restaurant  \\\n",
       "0            0                     0            0                   0   \n",
       "1            0                     0            0                   0   \n",
       "2            0                     0            0                   0   \n",
       "3            0                     0            0                   0   \n",
       "4            0                     0            0                   0   \n",
       "\n",
       "   Farmers Market  Fast Food Restaurant  Filipino Restaurant  \\\n",
       "0               0                     0                    0   \n",
       "1               0                     0                    0   \n",
       "2               0                     0                    0   \n",
       "3               0                     0                    0   \n",
       "4               0                     0                    0   \n",
       "\n",
       "   Fish & Chips Shop  Fish Market  Flea Market  Flower Shop  \\\n",
       "0                  0            0            0            0   \n",
       "1                  0            0            0            0   \n",
       "2                  0            0            0            0   \n",
       "3                  0            0            0            0   \n",
       "4                  0            0            0            0   \n",
       "\n",
       "   Food & Drink Shop  Food Court  Food Truck  Fountain  French Restaurant  \\\n",
       "0                  0           0           0         0                  0   \n",
       "1                  0           0           0         0                  0   \n",
       "2                  0           0           0         0                  0   \n",
       "3                  0           0           0         0                  0   \n",
       "4                  0           0           0         0                  0   \n",
       "\n",
       "   Fried Chicken Joint  Frozen Yogurt Shop  Fruit & Vegetable Store  \\\n",
       "0                    0                   0                        0   \n",
       "1                    0                   0                        0   \n",
       "2                    0                   0                        0   \n",
       "3                    0                   0                        0   \n",
       "4                    0                   0                        0   \n",
       "\n",
       "   Furniture / Home Store  Gaming Cafe  Garden  Garden Center  Gas Station  \\\n",
       "0                       0            0       0              0            0   \n",
       "1                       0            0       0              0            0   \n",
       "2                       0            0       0              0            0   \n",
       "3                       0            0       0              0            0   \n",
       "4                       0            0       0              0            0   \n",
       "\n",
       "   Gastropub  Gay Bar  General Entertainment  General Travel  \\\n",
       "0          0        0                      0               0   \n",
       "1          0        0                      0               0   \n",
       "2          0        0                      0               0   \n",
       "3          0        0                      0               0   \n",
       "4          0        0                      0               0   \n",
       "\n",
       "   German Restaurant  Gift Shop  Gluten-free Restaurant  Gourmet Shop  \\\n",
       "0                  0          0                       0             0   \n",
       "1                  0          0                       0             0   \n",
       "2                  0          0                       0             0   \n",
       "3                  0          0                       0             0   \n",
       "4                  0          0                       0             0   \n",
       "\n",
       "   Greek Restaurant  Grocery Store  Gym  Gym / Fitness Center  \\\n",
       "0                 0              0    0                     0   \n",
       "1                 0              0    0                     0   \n",
       "2                 0              0    0                     0   \n",
       "3                 0              0    0                     0   \n",
       "4                 0              0    0                     0   \n",
       "\n",
       "   Harbor / Marina  Health & Beauty Service  Health Food Store  Historic Site  \\\n",
       "0                0                        0                  0              0   \n",
       "1                0                        0                  0              0   \n",
       "2                0                        0                  0              0   \n",
       "3                0                        0                  0              0   \n",
       "4                0                        0                  0              0   \n",
       "\n",
       "   History Museum  Home Service  Hookah Bar  Hospital  Hostel  Hotel  \\\n",
       "0               0             0           0         0       0      0   \n",
       "1               0             0           0         0       0      0   \n",
       "2               0             0           0         0       0      0   \n",
       "3               0             0           0         0       0      0   \n",
       "4               0             0           0         0       0      0   \n",
       "\n",
       "   Hotel Bar  IT Services  Ice Cream Shop  Indian Restaurant  \\\n",
       "0          0            0               0                  0   \n",
       "1          0            0               0                  0   \n",
       "2          0            0               0                  0   \n",
       "3          0            0               0                  0   \n",
       "4          0            0               0                  0   \n",
       "\n",
       "   Indie Movie Theater  Intersection  Irish Pub  Italian Restaurant  \\\n",
       "0                    0             0          0                   0   \n",
       "1                    0             0          0                   0   \n",
       "2                    0             0          0                   0   \n",
       "3                    0             0          0                   0   \n",
       "4                    0             0          0                   0   \n",
       "\n",
       "   Japanese Restaurant  Jazz Club  Jewelry Store  Juice Bar  \\\n",
       "0                    0          0              0          0   \n",
       "1                    0          0              0          0   \n",
       "2                    0          0              0          0   \n",
       "3                    0          0              0          0   \n",
       "4                    0          0              0          0   \n",
       "\n",
       "   Korean Restaurant  Lake  Latin American Restaurant  Light Rail Station  \\\n",
       "0                  0     0                          0                   0   \n",
       "1                  0     0                          0                   0   \n",
       "2                  0     0                          0                   0   \n",
       "3                  0     0                          0                   0   \n",
       "4                  0     0                          0                   0   \n",
       "\n",
       "   Lingerie Store  Liquor Store  Lounge  Market  Martial Arts School  \\\n",
       "0               0             0       0       0                    0   \n",
       "1               0             0       0       0                    0   \n",
       "2               0             0       0       0                    0   \n",
       "3               0             0       0       0                    0   \n",
       "4               0             0       0       0                    0   \n",
       "\n",
       "   Massage Studio  Mediterranean Restaurant  Men's Store  Mexican Restaurant  \\\n",
       "0               0                         0            0                   0   \n",
       "1               0                         0            0                   0   \n",
       "2               0                         0            0                   0   \n",
       "3               0                         0            0                   0   \n",
       "4               0                         0            0                   0   \n",
       "\n",
       "   Middle Eastern Restaurant  Miscellaneous Shop  Modern European Restaurant  \\\n",
       "0                          0                   0                           0   \n",
       "1                          0                   0                           0   \n",
       "2                          0                   0                           0   \n",
       "3                          0                   0                           0   \n",
       "4                          0                   0                           0   \n",
       "\n",
       "   Molecular Gastronomy Restaurant  Monument / Landmark  Moroccan Restaurant  \\\n",
       "0                                0                    0                    0   \n",
       "1                                0                    0                    0   \n",
       "2                                0                    0                    0   \n",
       "3                                0                    0                    0   \n",
       "4                                0                    0                    0   \n",
       "\n",
       "   Movie Theater  Moving Target  Museum  Music Venue  Neighborhood  \\\n",
       "0              0              0       0            0             0   \n",
       "1              0              0       0            0             0   \n",
       "2              0              0       0            0             0   \n",
       "3              0              0       0            0             0   \n",
       "4              0              0       0            0             0   \n",
       "\n",
       "   New American Restaurant  Nightclub  Noodle House  Office  Opera House  \\\n",
       "0                        0          0             0       0            0   \n",
       "1                        0          0             0       0            0   \n",
       "2                        0          0             0       0            0   \n",
       "3                        0          0             0       0            0   \n",
       "4                        0          0             0       0            0   \n",
       "\n",
       "   Optical Shop  Organic Grocery  Other Great Outdoors  Park  \\\n",
       "0             0                0                     0     0   \n",
       "1             0                0                     0     0   \n",
       "2             0                0                     0     0   \n",
       "3             0                0                     0     0   \n",
       "4             0                0                     0     0   \n",
       "\n",
       "   Performing Arts Venue  Pet Store  Pharmacy  Pizza Place  Plane  Playground  \\\n",
       "0                      0          0         0            0      0           0   \n",
       "1                      0          0         0            0      0           0   \n",
       "2                      0          0         0            0      0           0   \n",
       "3                      0          0         0            0      0           0   \n",
       "4                      0          0         0            0      0           0   \n",
       "\n",
       "   Plaza  Poke Place  Pool  Portuguese Restaurant  Poutine Place  Pub  \\\n",
       "0      0           0     0                      0              0    0   \n",
       "1      0           0     0                      0              0    0   \n",
       "2      0           0     0                      0              0    0   \n",
       "3      0           0     0                      0              0    0   \n",
       "4      0           0     0                      0              0    0   \n",
       "\n",
       "   Ramen Restaurant  Record Shop  Rental Car Location  Restaurant  Roof Deck  \\\n",
       "0                 0            0                    0           0          0   \n",
       "1                 0            0                    0           0          0   \n",
       "2                 0            0                    0           0          0   \n",
       "3                 0            0                    0           0          0   \n",
       "4                 0            0                    0           1          0   \n",
       "\n",
       "   Sake Bar  Salad Place  Salon / Barbershop  Sandwich Place  Scenic Lookout  \\\n",
       "0         0            0                   0               0               0   \n",
       "1         0            0                   0               0               0   \n",
       "2         0            0                   0               0               0   \n",
       "3         0            0                   0               0               0   \n",
       "4         0            0                   0               0               0   \n",
       "\n",
       "   Sculpture Garden  Seafood Restaurant  Shoe Store  Shopping Mall  \\\n",
       "0                 0                   0           0              0   \n",
       "1                 0                   0           0              0   \n",
       "2                 0                   0           0              0   \n",
       "3                 0                   0           0              0   \n",
       "4                 0                   0           0              0   \n",
       "\n",
       "   Skate Park  Skating Rink  Smoke Shop  Smoothie Shop  Snack Place  \\\n",
       "0           0             0           0              0            0   \n",
       "1           0             0           0              0            0   \n",
       "2           0             0           0              0            0   \n",
       "3           0             0           0              0            0   \n",
       "4           0             0           0              0            0   \n",
       "\n",
       "   Soup Place  Spa  Speakeasy  Sporting Goods Shop  Sports Bar  Stadium  \\\n",
       "0           0    0          0                    0           0        0   \n",
       "1           0    0          0                    0           0        0   \n",
       "2           0    0          0                    0           0        0   \n",
       "3           0    1          0                    0           0        0   \n",
       "4           0    0          0                    0           0        0   \n",
       "\n",
       "   Stationery Store  Steakhouse  Strip Club  Supermarket  Sushi Restaurant  \\\n",
       "0                 0           0           0            0                 0   \n",
       "1                 0           0           0            0                 0   \n",
       "2                 0           0           0            0                 0   \n",
       "3                 0           0           0            0                 0   \n",
       "4                 0           0           0            0                 0   \n",
       "\n",
       "   Swim School  Taco Place  Tailor Shop  Taiwanese Restaurant  Tanning Salon  \\\n",
       "0            0           0            0                     0              0   \n",
       "1            0           0            0                     0              0   \n",
       "2            0           0            0                     0              0   \n",
       "3            0           0            0                     0              0   \n",
       "4            0           0            0                     0              0   \n",
       "\n",
       "   Tea Room  Thai Restaurant  Theater  Theme Restaurant  \\\n",
       "0         0                0        0                 0   \n",
       "1         0                0        0                 0   \n",
       "2         0                0        0                 0   \n",
       "3         0                0        0                 0   \n",
       "4         0                0        0                 0   \n",
       "\n",
       "   Thrift / Vintage Store  Tibetan Restaurant  Toy / Game Store  Trail  \\\n",
       "0                       0                   0                 0      0   \n",
       "1                       0                   0                 0      0   \n",
       "2                       0                   0                 0      0   \n",
       "3                       0                   0                 0      0   \n",
       "4                       0                   0                 0      0   \n",
       "\n",
       "   Train Station  Vegetarian / Vegan Restaurant  Video Game Store  \\\n",
       "0              0                              0                 0   \n",
       "1              0                              0                 0   \n",
       "2              0                              0                 0   \n",
       "3              0                              0                 0   \n",
       "4              0                              0                 0   \n",
       "\n",
       "   Vietnamese Restaurant  Wine Bar  Yoga Studio  \n",
       "0                      0         0            0  \n",
       "1                      0         0            0  \n",
       "2                      0         0            0  \n",
       "3                      0         0            0  \n",
       "4                      0         0            0  "
      ],
      "text/html": "<div>\n<style scoped>\n    .dataframe tbody tr th:only-of-type {\n        vertical-align: middle;\n    }\n\n    .dataframe tbody tr th {\n        vertical-align: top;\n    }\n\n    .dataframe thead th {\n        text-align: right;\n    }\n</style>\n<table border=\"1\" class=\"dataframe\">\n  <thead>\n    <tr style=\"text-align: right;\">\n      <th></th>\n      <th>Neighbourhood</th>\n      <th>Airport</th>\n      <th>Airport Food Court</th>\n      <th>Airport Lounge</th>\n      <th>Airport Service</th>\n      <th>Airport Terminal</th>\n      <th>American Restaurant</th>\n      <th>Antique Shop</th>\n      <th>Aquarium</th>\n      <th>Art Gallery</th>\n      <th>Art Museum</th>\n      <th>Arts &amp; Crafts Store</th>\n      <th>Asian Restaurant</th>\n      <th>Athletics &amp; Sports</th>\n      <th>Auto Workshop</th>\n      <th>BBQ Joint</th>\n      <th>Baby Store</th>\n      <th>Bagel Shop</th>\n      <th>Bakery</th>\n      <th>Bank</th>\n      <th>Bar</th>\n      <th>Baseball Stadium</th>\n      <th>Basketball Stadium</th>\n      <th>Beach</th>\n      <th>Bed &amp; Breakfast</th>\n      <th>Beer Bar</th>\n      <th>Beer Store</th>\n      <th>Belgian Restaurant</th>\n      <th>Bistro</th>\n      <th>Board Shop</th>\n      <th>Boat or Ferry</th>\n      <th>Bookstore</th>\n      <th>Brazilian Restaurant</th>\n      <th>Breakfast Spot</th>\n      <th>Brewery</th>\n      <th>Bubble Tea Shop</th>\n      <th>Building</th>\n      <th>Burger Joint</th>\n      <th>Burrito Place</th>\n      <th>Bus Line</th>\n      <th>Butcher</th>\n      <th>Café</th>\n      <th>Cajun / Creole Restaurant</th>\n      <th>Candy Store</th>\n      <th>Caribbean Restaurant</th>\n      <th>Cheese Shop</th>\n      <th>Chinese Restaurant</th>\n      <th>Chocolate Shop</th>\n      <th>Church</th>\n      <th>Climbing Gym</th>\n      <th>Clothing Store</th>\n      <th>Cocktail Bar</th>\n      <th>Coffee Shop</th>\n      <th>College Arts Building</th>\n      <th>College Auditorium</th>\n      <th>College Cafeteria</th>\n      <th>College Gym</th>\n      <th>College Rec Center</th>\n      <th>Colombian Restaurant</th>\n      <th>Comfort Food Restaurant</th>\n      <th>Comic Shop</th>\n      <th>Concert Hall</th>\n      <th>Construction &amp; Landscaping</th>\n      <th>Convenience Store</th>\n      <th>Cosmetics Shop</th>\n      <th>Coworking Space</th>\n      <th>Creperie</th>\n      <th>Cuban Restaurant</th>\n      <th>Cupcake Shop</th>\n      <th>Dance Studio</th>\n      <th>Deli / Bodega</th>\n      <th>Department Store</th>\n      <th>Dessert Shop</th>\n      <th>Diner</th>\n      <th>Discount Store</th>\n      <th>Distribution Center</th>\n      <th>Dog Run</th>\n      <th>Doner Restaurant</th>\n      <th>Donut Shop</th>\n      <th>Dumpling Restaurant</th>\n      <th>Eastern European Restaurant</th>\n      <th>Electronics Store</th>\n      <th>Escape Room</th>\n      <th>Ethiopian Restaurant</th>\n      <th>Event Space</th>\n      <th>Falafel Restaurant</th>\n      <th>Farmers Market</th>\n      <th>Fast Food Restaurant</th>\n      <th>Filipino Restaurant</th>\n      <th>Fish &amp; Chips Shop</th>\n      <th>Fish Market</th>\n      <th>Flea Market</th>\n      <th>Flower Shop</th>\n      <th>Food &amp; Drink Shop</th>\n      <th>Food Court</th>\n      <th>Food Truck</th>\n      <th>Fountain</th>\n      <th>French Restaurant</th>\n      <th>Fried Chicken Joint</th>\n      <th>Frozen Yogurt Shop</th>\n      <th>Fruit &amp; Vegetable Store</th>\n      <th>Furniture / Home Store</th>\n      <th>Gaming Cafe</th>\n      <th>Garden</th>\n      <th>Garden Center</th>\n      <th>Gas Station</th>\n      <th>Gastropub</th>\n      <th>Gay Bar</th>\n      <th>General Entertainment</th>\n      <th>General Travel</th>\n      <th>German Restaurant</th>\n      <th>Gift Shop</th>\n      <th>Gluten-free Restaurant</th>\n      <th>Gourmet Shop</th>\n      <th>Greek Restaurant</th>\n      <th>Grocery Store</th>\n      <th>Gym</th>\n      <th>Gym / Fitness Center</th>\n      <th>Harbor / Marina</th>\n      <th>Health &amp; Beauty Service</th>\n      <th>Health Food Store</th>\n      <th>Historic Site</th>\n      <th>History Museum</th>\n      <th>Home Service</th>\n      <th>Hookah Bar</th>\n      <th>Hospital</th>\n      <th>Hostel</th>\n      <th>Hotel</th>\n      <th>Hotel Bar</th>\n      <th>IT Services</th>\n      <th>Ice Cream Shop</th>\n      <th>Indian Restaurant</th>\n      <th>Indie Movie Theater</th>\n      <th>Intersection</th>\n      <th>Irish Pub</th>\n      <th>Italian Restaurant</th>\n      <th>Japanese Restaurant</th>\n      <th>Jazz Club</th>\n      <th>Jewelry Store</th>\n      <th>Juice Bar</th>\n      <th>Korean Restaurant</th>\n      <th>Lake</th>\n      <th>Latin American Restaurant</th>\n      <th>Light Rail Station</th>\n      <th>Lingerie Store</th>\n      <th>Liquor Store</th>\n      <th>Lounge</th>\n      <th>Market</th>\n      <th>Martial Arts School</th>\n      <th>Massage Studio</th>\n      <th>Mediterranean Restaurant</th>\n      <th>Men's Store</th>\n      <th>Mexican Restaurant</th>\n      <th>Middle Eastern Restaurant</th>\n      <th>Miscellaneous Shop</th>\n      <th>Modern European Restaurant</th>\n      <th>Molecular Gastronomy Restaurant</th>\n      <th>Monument / Landmark</th>\n      <th>Moroccan Restaurant</th>\n      <th>Movie Theater</th>\n      <th>Moving Target</th>\n      <th>Museum</th>\n      <th>Music Venue</th>\n      <th>Neighborhood</th>\n      <th>New American Restaurant</th>\n      <th>Nightclub</th>\n      <th>Noodle House</th>\n      <th>Office</th>\n      <th>Opera House</th>\n      <th>Optical Shop</th>\n      <th>Organic Grocery</th>\n      <th>Other Great Outdoors</th>\n      <th>Park</th>\n      <th>Performing Arts Venue</th>\n      <th>Pet Store</th>\n      <th>Pharmacy</th>\n      <th>Pizza Place</th>\n      <th>Plane</th>\n      <th>Playground</th>\n      <th>Plaza</th>\n      <th>Poke Place</th>\n      <th>Pool</th>\n      <th>Portuguese Restaurant</th>\n      <th>Poutine Place</th>\n      <th>Pub</th>\n      <th>Ramen Restaurant</th>\n      <th>Record Shop</th>\n      <th>Rental Car Location</th>\n      <th>Restaurant</th>\n      <th>Roof Deck</th>\n      <th>Sake Bar</th>\n      <th>Salad Place</th>\n      <th>Salon / Barbershop</th>\n      <th>Sandwich Place</th>\n      <th>Scenic Lookout</th>\n      <th>Sculpture Garden</th>\n      <th>Seafood Restaurant</th>\n      <th>Shoe Store</th>\n      <th>Shopping Mall</th>\n      <th>Skate Park</th>\n      <th>Skating Rink</th>\n      <th>Smoke Shop</th>\n      <th>Smoothie Shop</th>\n      <th>Snack Place</th>\n      <th>Soup Place</th>\n      <th>Spa</th>\n      <th>Speakeasy</th>\n      <th>Sporting Goods Shop</th>\n      <th>Sports Bar</th>\n      <th>Stadium</th>\n      <th>Stationery Store</th>\n      <th>Steakhouse</th>\n      <th>Strip Club</th>\n      <th>Supermarket</th>\n      <th>Sushi Restaurant</th>\n      <th>Swim School</th>\n      <th>Taco Place</th>\n      <th>Tailor Shop</th>\n      <th>Taiwanese Restaurant</th>\n      <th>Tanning Salon</th>\n      <th>Tea Room</th>\n      <th>Thai Restaurant</th>\n      <th>Theater</th>\n      <th>Theme Restaurant</th>\n      <th>Thrift / Vintage Store</th>\n      <th>Tibetan Restaurant</th>\n      <th>Toy / Game Store</th>\n      <th>Trail</th>\n      <th>Train Station</th>\n      <th>Vegetarian / Vegan Restaurant</th>\n      <th>Video Game Store</th>\n      <th>Vietnamese Restaurant</th>\n      <th>Wine Bar</th>\n      <th>Yoga Studio</th>\n    </tr>\n  </thead>\n  <tbody>\n    <tr>\n      <th>0</th>\n      <td>Regent Park, Harbourfront</td>\n      <td>0</td>\n      <td>0</td>\n      <td>0</td>\n      <td>0</td>\n      <td>0</td>\n      <td>0</td>\n      <td>0</td>\n      <td>0</td>\n      <td>0</td>\n      <td>0</td>\n      <td>0</td>\n      <td>0</td>\n      <td>0</td>\n      <td>0</td>\n      <td>0</td>\n      <td>0</td>\n      <td>0</td>\n      <td>1</td>\n      <td>0</td>\n      <td>0</td>\n      <td>0</td>\n      <td>0</td>\n      <td>0</td>\n      <td>0</td>\n      <td>0</td>\n      <td>0</td>\n      <td>0</td>\n      <td>0</td>\n      <td>0</td>\n      <td>0</td>\n      <td>0</td>\n      <td>0</td>\n      <td>0</td>\n      <td>0</td>\n      <td>0</td>\n      <td>0</td>\n      <td>0</td>\n      <td>0</td>\n      <td>0</td>\n      <td>0</td>\n      <td>0</td>\n      <td>0</td>\n      <td>0</td>\n      <td>0</td>\n      <td>0</td>\n      <td>0</td>\n      <td>0</td>\n      <td>0</td>\n      <td>0</td>\n      <td>0</td>\n      <td>0</td>\n      <td>0</td>\n      <td>0</td>\n      <td>0</td>\n      <td>0</td>\n      <td>0</td>\n      <td>0</td>\n      <td>0</td>\n      <td>0</td>\n      <td>0</td>\n      <td>0</td>\n      <td>0</td>\n      <td>0</td>\n      <td>0</td>\n      <td>0</td>\n      <td>0</td>\n      <td>0</td>\n      <td>0</td>\n      <td>0</td>\n      <td>0</td>\n      <td>0</td>\n      <td>0</td>\n      <td>0</td>\n      <td>0</td>\n      <td>0</td>\n      <td>0</td>\n      <td>0</td>\n      <td>0</td>\n      <td>0</td>\n      <td>0</td>\n      <td>0</td>\n      <td>0</td>\n      <td>0</td>\n      <td>0</td>\n      <td>0</td>\n      <td>0</td>\n      <td>0</td>\n      <td>0</td>\n      <td>0</td>\n      <td>0</td>\n      <td>0</td>\n      <td>0</td>\n      <td>0</td>\n      <td>0</td>\n      <td>0</td>\n      <td>0</td>\n      <td>0</td>\n      <td>0</td>\n      <td>0</td>\n      <td>0</td>\n      <td>0</td>\n      <td>0</td>\n      <td>0</td>\n      <td>0</td>\n      <td>0</td>\n      <td>0</td>\n      <td>0</td>\n      <td>0</td>\n      <td>0</td>\n      <td>0</td>\n      <td>0</td>\n      <td>0</td>\n      <td>0</td>\n      <td>0</td>\n      <td>0</td>\n      <td>0</td>\n      <td>0</td>\n      <td>0</td>\n      <td>0</td>\n      <td>0</td>\n      <td>0</td>\n      <td>0</td>\n      <td>0</td>\n      <td>0</td>\n      <td>0</td>\n      <td>0</td>\n      <td>0</td>\n      <td>0</td>\n      <td>0</td>\n      <td>0</td>\n      <td>0</td>\n      <td>0</td>\n      <td>0</td>\n      <td>0</td>\n      <td>0</td>\n      <td>0</td>\n      <td>0</td>\n      <td>0</td>\n      <td>0</td>\n      <td>0</td>\n      <td>0</td>\n      <td>0</td>\n      <td>0</td>\n      <td>0</td>\n      <td>0</td>\n      <td>0</td>\n      <td>0</td>\n      <td>0</td>\n      <td>0</td>\n      <td>0</td>\n      <td>0</td>\n      <td>0</td>\n      <td>0</td>\n      <td>0</td>\n      <td>0</td>\n      <td>0</td>\n      <td>0</td>\n      <td>0</td>\n      <td>0</td>\n      <td>0</td>\n      <td>0</td>\n      <td>0</td>\n      <td>0</td>\n      <td>0</td>\n      <td>0</td>\n      <td>0</td>\n      <td>0</td>\n      <td>0</td>\n      <td>0</td>\n      <td>0</td>\n      <td>0</td>\n      <td>0</td>\n      <td>0</td>\n      <td>0</td>\n      <td>0</td>\n      <td>0</td>\n      <td>0</td>\n      <td>0</td>\n      <td>0</td>\n      <td>0</td>\n      <td>0</td>\n      <td>0</td>\n      <td>0</td>\n      <td>0</td>\n      <td>0</td>\n      <td>0</td>\n      <td>0</td>\n      <td>0</td>\n      <td>0</td>\n      <td>0</td>\n      <td>0</td>\n      <td>0</td>\n      <td>0</td>\n      <td>0</td>\n      <td>0</td>\n      <td>0</td>\n      <td>0</td>\n      <td>0</td>\n      <td>0</td>\n      <td>0</td>\n      <td>0</td>\n      <td>0</td>\n      <td>0</td>\n      <td>0</td>\n      <td>0</td>\n      <td>0</td>\n      <td>0</td>\n      <td>0</td>\n      <td>0</td>\n      <td>0</td>\n      <td>0</td>\n      <td>0</td>\n      <td>0</td>\n      <td>0</td>\n      <td>0</td>\n      <td>0</td>\n      <td>0</td>\n      <td>0</td>\n      <td>0</td>\n      <td>0</td>\n      <td>0</td>\n      <td>0</td>\n      <td>0</td>\n      <td>0</td>\n      <td>0</td>\n      <td>0</td>\n      <td>0</td>\n      <td>0</td>\n      <td>0</td>\n      <td>0</td>\n      <td>0</td>\n      <td>0</td>\n      <td>0</td>\n    </tr>\n    <tr>\n      <th>1</th>\n      <td>Regent Park, Harbourfront</td>\n      <td>0</td>\n      <td>0</td>\n      <td>0</td>\n      <td>0</td>\n      <td>0</td>\n      <td>0</td>\n      <td>0</td>\n      <td>0</td>\n      <td>0</td>\n      <td>0</td>\n      <td>0</td>\n      <td>0</td>\n      <td>0</td>\n      <td>0</td>\n      <td>0</td>\n      <td>0</td>\n      <td>0</td>\n      <td>0</td>\n      <td>0</td>\n      <td>0</td>\n      <td>0</td>\n      <td>0</td>\n      <td>0</td>\n      <td>0</td>\n      <td>0</td>\n      <td>0</td>\n      <td>0</td>\n      <td>0</td>\n      <td>0</td>\n      <td>0</td>\n      <td>0</td>\n      <td>0</td>\n      <td>0</td>\n      <td>0</td>\n      <td>0</td>\n      <td>0</td>\n      <td>0</td>\n      <td>0</td>\n      <td>0</td>\n      <td>0</td>\n      <td>0</td>\n      <td>0</td>\n      <td>0</td>\n      <td>0</td>\n      <td>0</td>\n      <td>0</td>\n      <td>0</td>\n      <td>0</td>\n      <td>0</td>\n      <td>0</td>\n      <td>0</td>\n      <td>1</td>\n      <td>0</td>\n      <td>0</td>\n      <td>0</td>\n      <td>0</td>\n      <td>0</td>\n      <td>0</td>\n      <td>0</td>\n      <td>0</td>\n      <td>0</td>\n      <td>0</td>\n      <td>0</td>\n      <td>0</td>\n      <td>0</td>\n      <td>0</td>\n      <td>0</td>\n      <td>0</td>\n      <td>0</td>\n      <td>0</td>\n      <td>0</td>\n      <td>0</td>\n      <td>0</td>\n      <td>0</td>\n      <td>0</td>\n      <td>0</td>\n      <td>0</td>\n      <td>0</td>\n      <td>0</td>\n      <td>0</td>\n      <td>0</td>\n      <td>0</td>\n      <td>0</td>\n      <td>0</td>\n      <td>0</td>\n      <td>0</td>\n      <td>0</td>\n      <td>0</td>\n      <td>0</td>\n      <td>0</td>\n      <td>0</td>\n      <td>0</td>\n      <td>0</td>\n      <td>0</td>\n      <td>0</td>\n      <td>0</td>\n      <td>0</td>\n      <td>0</td>\n      <td>0</td>\n      <td>0</td>\n      <td>0</td>\n      <td>0</td>\n      <td>0</td>\n      <td>0</td>\n      <td>0</td>\n      <td>0</td>\n      <td>0</td>\n      <td>0</td>\n      <td>0</td>\n      <td>0</td>\n      <td>0</td>\n      <td>0</td>\n      <td>0</td>\n      <td>0</td>\n      <td>0</td>\n      <td>0</td>\n      <td>0</td>\n      <td>0</td>\n      <td>0</td>\n      <td>0</td>\n      <td>0</td>\n      <td>0</td>\n      <td>0</td>\n      <td>0</td>\n      <td>0</td>\n      <td>0</td>\n      <td>0</td>\n      <td>0</td>\n      <td>0</td>\n      <td>0</td>\n      <td>0</td>\n      <td>0</td>\n      <td>0</td>\n      <td>0</td>\n      <td>0</td>\n      <td>0</td>\n      <td>0</td>\n      <td>0</td>\n      <td>0</td>\n      <td>0</td>\n      <td>0</td>\n      <td>0</td>\n      <td>0</td>\n      <td>0</td>\n      <td>0</td>\n      <td>0</td>\n      <td>0</td>\n      <td>0</td>\n      <td>0</td>\n      <td>0</td>\n      <td>0</td>\n      <td>0</td>\n      <td>0</td>\n      <td>0</td>\n      <td>0</td>\n      <td>0</td>\n      <td>0</td>\n      <td>0</td>\n      <td>0</td>\n      <td>0</td>\n      <td>0</td>\n      <td>0</td>\n      <td>0</td>\n      <td>0</td>\n      <td>0</td>\n      <td>0</td>\n      <td>0</td>\n      <td>0</td>\n      <td>0</td>\n      <td>0</td>\n      <td>0</td>\n      <td>0</td>\n      <td>0</td>\n      <td>0</td>\n      <td>0</td>\n      <td>0</td>\n      <td>0</td>\n      <td>0</td>\n      <td>0</td>\n      <td>0</td>\n      <td>0</td>\n      <td>0</td>\n      <td>0</td>\n      <td>0</td>\n      <td>0</td>\n      <td>0</td>\n      <td>0</td>\n      <td>0</td>\n      <td>0</td>\n      <td>0</td>\n      <td>0</td>\n      <td>0</td>\n      <td>0</td>\n      <td>0</td>\n      <td>0</td>\n      <td>0</td>\n      <td>0</td>\n      <td>0</td>\n      <td>0</td>\n      <td>0</td>\n      <td>0</td>\n      <td>0</td>\n      <td>0</td>\n      <td>0</td>\n      <td>0</td>\n      <td>0</td>\n      <td>0</td>\n      <td>0</td>\n      <td>0</td>\n      <td>0</td>\n      <td>0</td>\n      <td>0</td>\n      <td>0</td>\n      <td>0</td>\n      <td>0</td>\n      <td>0</td>\n      <td>0</td>\n      <td>0</td>\n      <td>0</td>\n      <td>0</td>\n      <td>0</td>\n      <td>0</td>\n      <td>0</td>\n      <td>0</td>\n      <td>0</td>\n      <td>0</td>\n      <td>0</td>\n      <td>0</td>\n      <td>0</td>\n      <td>0</td>\n      <td>0</td>\n      <td>0</td>\n      <td>0</td>\n    </tr>\n    <tr>\n      <th>2</th>\n      <td>Regent Park, Harbourfront</td>\n      <td>0</td>\n      <td>0</td>\n      <td>0</td>\n      <td>0</td>\n      <td>0</td>\n      <td>0</td>\n      <td>0</td>\n      <td>0</td>\n      <td>0</td>\n      <td>0</td>\n      <td>0</td>\n      <td>0</td>\n      <td>0</td>\n      <td>0</td>\n      <td>0</td>\n      <td>0</td>\n      <td>0</td>\n      <td>0</td>\n      <td>0</td>\n      <td>0</td>\n      <td>0</td>\n      <td>0</td>\n      <td>0</td>\n      <td>0</td>\n      <td>0</td>\n      <td>0</td>\n      <td>0</td>\n      <td>0</td>\n      <td>0</td>\n      <td>0</td>\n      <td>0</td>\n      <td>0</td>\n      <td>0</td>\n      <td>0</td>\n      <td>0</td>\n      <td>0</td>\n      <td>0</td>\n      <td>0</td>\n      <td>0</td>\n      <td>0</td>\n      <td>0</td>\n      <td>0</td>\n      <td>0</td>\n      <td>0</td>\n      <td>0</td>\n      <td>0</td>\n      <td>0</td>\n      <td>0</td>\n      <td>0</td>\n      <td>0</td>\n      <td>0</td>\n      <td>0</td>\n      <td>0</td>\n      <td>0</td>\n      <td>0</td>\n      <td>0</td>\n      <td>0</td>\n      <td>0</td>\n      <td>0</td>\n      <td>0</td>\n      <td>0</td>\n      <td>0</td>\n      <td>0</td>\n      <td>0</td>\n      <td>0</td>\n      <td>0</td>\n      <td>0</td>\n      <td>0</td>\n      <td>0</td>\n      <td>0</td>\n      <td>0</td>\n      <td>0</td>\n      <td>0</td>\n      <td>0</td>\n      <td>1</td>\n      <td>0</td>\n      <td>0</td>\n      <td>0</td>\n      <td>0</td>\n      <td>0</td>\n      <td>0</td>\n      <td>0</td>\n      <td>0</td>\n      <td>0</td>\n      <td>0</td>\n      <td>0</td>\n      <td>0</td>\n      <td>0</td>\n      <td>0</td>\n      <td>0</td>\n      <td>0</td>\n      <td>0</td>\n      <td>0</td>\n      <td>0</td>\n      <td>0</td>\n      <td>0</td>\n      <td>0</td>\n      <td>0</td>\n      <td>0</td>\n      <td>0</td>\n      <td>0</td>\n      <td>0</td>\n      <td>0</td>\n      <td>0</td>\n      <td>0</td>\n      <td>0</td>\n      <td>0</td>\n      <td>0</td>\n      <td>0</td>\n      <td>0</td>\n      <td>0</td>\n      <td>0</td>\n      <td>0</td>\n      <td>0</td>\n      <td>0</td>\n      <td>0</td>\n      <td>0</td>\n      <td>0</td>\n      <td>0</td>\n      <td>0</td>\n      <td>0</td>\n      <td>0</td>\n      <td>0</td>\n      <td>0</td>\n      <td>0</td>\n      <td>0</td>\n      <td>0</td>\n      <td>0</td>\n      <td>0</td>\n      <td>0</td>\n      <td>0</td>\n      <td>0</td>\n      <td>0</td>\n      <td>0</td>\n      <td>0</td>\n      <td>0</td>\n      <td>0</td>\n      <td>0</td>\n      <td>0</td>\n      <td>0</td>\n      <td>0</td>\n      <td>0</td>\n      <td>0</td>\n      <td>0</td>\n      <td>0</td>\n      <td>0</td>\n      <td>0</td>\n      <td>0</td>\n      <td>0</td>\n      <td>0</td>\n      <td>0</td>\n      <td>0</td>\n      <td>0</td>\n      <td>0</td>\n      <td>0</td>\n      <td>0</td>\n      <td>0</td>\n      <td>0</td>\n      <td>0</td>\n      <td>0</td>\n      <td>0</td>\n      <td>0</td>\n      <td>0</td>\n      <td>0</td>\n      <td>0</td>\n      <td>0</td>\n      <td>0</td>\n      <td>0</td>\n      <td>0</td>\n      <td>0</td>\n      <td>0</td>\n      <td>0</td>\n      <td>0</td>\n      <td>0</td>\n      <td>0</td>\n      <td>0</td>\n      <td>0</td>\n      <td>0</td>\n      <td>0</td>\n      <td>0</td>\n      <td>0</td>\n      <td>0</td>\n      <td>0</td>\n      <td>0</td>\n      <td>0</td>\n      <td>0</td>\n      <td>0</td>\n      <td>0</td>\n      <td>0</td>\n      <td>0</td>\n      <td>0</td>\n      <td>0</td>\n      <td>0</td>\n      <td>0</td>\n      <td>0</td>\n      <td>0</td>\n      <td>0</td>\n      <td>0</td>\n      <td>0</td>\n      <td>0</td>\n      <td>0</td>\n      <td>0</td>\n      <td>0</td>\n      <td>0</td>\n      <td>0</td>\n      <td>0</td>\n      <td>0</td>\n      <td>0</td>\n      <td>0</td>\n      <td>0</td>\n      <td>0</td>\n      <td>0</td>\n      <td>0</td>\n      <td>0</td>\n      <td>0</td>\n      <td>0</td>\n      <td>0</td>\n      <td>0</td>\n      <td>0</td>\n      <td>0</td>\n      <td>0</td>\n      <td>0</td>\n      <td>0</td>\n      <td>0</td>\n      <td>0</td>\n      <td>0</td>\n      <td>0</td>\n      <td>0</td>\n      <td>0</td>\n      <td>0</td>\n      <td>0</td>\n      <td>0</td>\n      <td>0</td>\n    </tr>\n    <tr>\n      <th>3</th>\n      <td>Regent Park, Harbourfront</td>\n      <td>0</td>\n      <td>0</td>\n      <td>0</td>\n      <td>0</td>\n      <td>0</td>\n      <td>0</td>\n      <td>0</td>\n      <td>0</td>\n      <td>0</td>\n      <td>0</td>\n      <td>0</td>\n      <td>0</td>\n      <td>0</td>\n      <td>0</td>\n      <td>0</td>\n      <td>0</td>\n      <td>0</td>\n      <td>0</td>\n      <td>0</td>\n      <td>0</td>\n      <td>0</td>\n      <td>0</td>\n      <td>0</td>\n      <td>0</td>\n      <td>0</td>\n      <td>0</td>\n      <td>0</td>\n      <td>0</td>\n      <td>0</td>\n      <td>0</td>\n      <td>0</td>\n      <td>0</td>\n      <td>0</td>\n      <td>0</td>\n      <td>0</td>\n      <td>0</td>\n      <td>0</td>\n      <td>0</td>\n      <td>0</td>\n      <td>0</td>\n      <td>0</td>\n      <td>0</td>\n      <td>0</td>\n      <td>0</td>\n      <td>0</td>\n      <td>0</td>\n      <td>0</td>\n      <td>0</td>\n      <td>0</td>\n      <td>0</td>\n      <td>0</td>\n      <td>0</td>\n      <td>0</td>\n      <td>0</td>\n      <td>0</td>\n      <td>0</td>\n      <td>0</td>\n      <td>0</td>\n      <td>0</td>\n      <td>0</td>\n      <td>0</td>\n      <td>0</td>\n      <td>0</td>\n      <td>0</td>\n      <td>0</td>\n      <td>0</td>\n      <td>0</td>\n      <td>0</td>\n      <td>0</td>\n      <td>0</td>\n      <td>0</td>\n      <td>0</td>\n      <td>0</td>\n      <td>0</td>\n      <td>0</td>\n      <td>0</td>\n      <td>0</td>\n      <td>0</td>\n      <td>0</td>\n      <td>0</td>\n      <td>0</td>\n      <td>0</td>\n      <td>0</td>\n      <td>0</td>\n      <td>0</td>\n      <td>0</td>\n      <td>0</td>\n      <td>0</td>\n      <td>0</td>\n      <td>0</td>\n      <td>0</td>\n      <td>0</td>\n      <td>0</td>\n      <td>0</td>\n      <td>0</td>\n      <td>0</td>\n      <td>0</td>\n      <td>0</td>\n      <td>0</td>\n      <td>0</td>\n      <td>0</td>\n      <td>0</td>\n      <td>0</td>\n      <td>0</td>\n      <td>0</td>\n      <td>0</td>\n      <td>0</td>\n      <td>0</td>\n      <td>0</td>\n      <td>0</td>\n      <td>0</td>\n      <td>0</td>\n      <td>0</td>\n      <td>0</td>\n      <td>0</td>\n      <td>0</td>\n      <td>0</td>\n      <td>0</td>\n      <td>0</td>\n      <td>0</td>\n      <td>0</td>\n      <td>0</td>\n      <td>0</td>\n      <td>0</td>\n      <td>0</td>\n      <td>0</td>\n      <td>0</td>\n      <td>0</td>\n      <td>0</td>\n      <td>0</td>\n      <td>0</td>\n      <td>0</td>\n      <td>0</td>\n      <td>0</td>\n      <td>0</td>\n      <td>0</td>\n      <td>0</td>\n      <td>0</td>\n      <td>0</td>\n      <td>0</td>\n      <td>0</td>\n      <td>0</td>\n      <td>0</td>\n      <td>0</td>\n      <td>0</td>\n      <td>0</td>\n      <td>0</td>\n      <td>0</td>\n      <td>0</td>\n      <td>0</td>\n      <td>0</td>\n      <td>0</td>\n      <td>0</td>\n      <td>0</td>\n      <td>0</td>\n      <td>0</td>\n      <td>0</td>\n      <td>0</td>\n      <td>0</td>\n      <td>0</td>\n      <td>0</td>\n      <td>0</td>\n      <td>0</td>\n      <td>0</td>\n      <td>0</td>\n      <td>0</td>\n      <td>0</td>\n      <td>0</td>\n      <td>0</td>\n      <td>0</td>\n      <td>0</td>\n      <td>0</td>\n      <td>0</td>\n      <td>0</td>\n      <td>0</td>\n      <td>0</td>\n      <td>0</td>\n      <td>0</td>\n      <td>0</td>\n      <td>0</td>\n      <td>0</td>\n      <td>0</td>\n      <td>0</td>\n      <td>0</td>\n      <td>0</td>\n      <td>0</td>\n      <td>0</td>\n      <td>0</td>\n      <td>0</td>\n      <td>0</td>\n      <td>0</td>\n      <td>0</td>\n      <td>0</td>\n      <td>0</td>\n      <td>0</td>\n      <td>0</td>\n      <td>0</td>\n      <td>0</td>\n      <td>0</td>\n      <td>0</td>\n      <td>0</td>\n      <td>0</td>\n      <td>0</td>\n      <td>0</td>\n      <td>1</td>\n      <td>0</td>\n      <td>0</td>\n      <td>0</td>\n      <td>0</td>\n      <td>0</td>\n      <td>0</td>\n      <td>0</td>\n      <td>0</td>\n      <td>0</td>\n      <td>0</td>\n      <td>0</td>\n      <td>0</td>\n      <td>0</td>\n      <td>0</td>\n      <td>0</td>\n      <td>0</td>\n      <td>0</td>\n      <td>0</td>\n      <td>0</td>\n      <td>0</td>\n      <td>0</td>\n      <td>0</td>\n      <td>0</td>\n      <td>0</td>\n      <td>0</td>\n      <td>0</td>\n      <td>0</td>\n      <td>0</td>\n    </tr>\n    <tr>\n      <th>4</th>\n      <td>Regent Park, Harbourfront</td>\n      <td>0</td>\n      <td>0</td>\n      <td>0</td>\n      <td>0</td>\n      <td>0</td>\n      <td>0</td>\n      <td>0</td>\n      <td>0</td>\n      <td>0</td>\n      <td>0</td>\n      <td>0</td>\n      <td>0</td>\n      <td>0</td>\n      <td>0</td>\n      <td>0</td>\n      <td>0</td>\n      <td>0</td>\n      <td>0</td>\n      <td>0</td>\n      <td>0</td>\n      <td>0</td>\n      <td>0</td>\n      <td>0</td>\n      <td>0</td>\n      <td>0</td>\n      <td>0</td>\n      <td>0</td>\n      <td>0</td>\n      <td>0</td>\n      <td>0</td>\n      <td>0</td>\n      <td>0</td>\n      <td>0</td>\n      <td>0</td>\n      <td>0</td>\n      <td>0</td>\n      <td>0</td>\n      <td>0</td>\n      <td>0</td>\n      <td>0</td>\n      <td>0</td>\n      <td>0</td>\n      <td>0</td>\n      <td>0</td>\n      <td>0</td>\n      <td>0</td>\n      <td>0</td>\n      <td>0</td>\n      <td>0</td>\n      <td>0</td>\n      <td>0</td>\n      <td>0</td>\n      <td>0</td>\n      <td>0</td>\n      <td>0</td>\n      <td>0</td>\n      <td>0</td>\n      <td>0</td>\n      <td>0</td>\n      <td>0</td>\n      <td>0</td>\n      <td>0</td>\n      <td>0</td>\n      <td>0</td>\n      <td>0</td>\n      <td>0</td>\n      <td>0</td>\n      <td>0</td>\n      <td>0</td>\n      <td>0</td>\n      <td>0</td>\n      <td>0</td>\n      <td>0</td>\n      <td>0</td>\n      <td>0</td>\n      <td>0</td>\n      <td>0</td>\n      <td>0</td>\n      <td>0</td>\n      <td>0</td>\n      <td>0</td>\n      <td>0</td>\n      <td>0</td>\n      <td>0</td>\n      <td>0</td>\n      <td>0</td>\n      <td>0</td>\n      <td>0</td>\n      <td>0</td>\n      <td>0</td>\n      <td>0</td>\n      <td>0</td>\n      <td>0</td>\n      <td>0</td>\n      <td>0</td>\n      <td>0</td>\n      <td>0</td>\n      <td>0</td>\n      <td>0</td>\n      <td>0</td>\n      <td>0</td>\n      <td>0</td>\n      <td>0</td>\n      <td>0</td>\n      <td>0</td>\n      <td>0</td>\n      <td>0</td>\n      <td>0</td>\n      <td>0</td>\n      <td>0</td>\n      <td>0</td>\n      <td>0</td>\n      <td>0</td>\n      <td>0</td>\n      <td>0</td>\n      <td>0</td>\n      <td>0</td>\n      <td>0</td>\n      <td>0</td>\n      <td>0</td>\n      <td>0</td>\n      <td>0</td>\n      <td>0</td>\n      <td>0</td>\n      <td>0</td>\n      <td>0</td>\n      <td>0</td>\n      <td>0</td>\n      <td>0</td>\n      <td>0</td>\n      <td>0</td>\n      <td>0</td>\n      <td>0</td>\n      <td>0</td>\n      <td>0</td>\n      <td>0</td>\n      <td>0</td>\n      <td>0</td>\n      <td>0</td>\n      <td>0</td>\n      <td>0</td>\n      <td>0</td>\n      <td>0</td>\n      <td>0</td>\n      <td>0</td>\n      <td>0</td>\n      <td>0</td>\n      <td>0</td>\n      <td>0</td>\n      <td>0</td>\n      <td>0</td>\n      <td>0</td>\n      <td>0</td>\n      <td>0</td>\n      <td>0</td>\n      <td>0</td>\n      <td>0</td>\n      <td>0</td>\n      <td>0</td>\n      <td>0</td>\n      <td>0</td>\n      <td>0</td>\n      <td>0</td>\n      <td>0</td>\n      <td>0</td>\n      <td>0</td>\n      <td>0</td>\n      <td>0</td>\n      <td>0</td>\n      <td>0</td>\n      <td>0</td>\n      <td>0</td>\n      <td>0</td>\n      <td>0</td>\n      <td>0</td>\n      <td>0</td>\n      <td>0</td>\n      <td>0</td>\n      <td>0</td>\n      <td>0</td>\n      <td>0</td>\n      <td>0</td>\n      <td>0</td>\n      <td>0</td>\n      <td>0</td>\n      <td>0</td>\n      <td>0</td>\n      <td>1</td>\n      <td>0</td>\n      <td>0</td>\n      <td>0</td>\n      <td>0</td>\n      <td>0</td>\n      <td>0</td>\n      <td>0</td>\n      <td>0</td>\n      <td>0</td>\n      <td>0</td>\n      <td>0</td>\n      <td>0</td>\n      <td>0</td>\n      <td>0</td>\n      <td>0</td>\n      <td>0</td>\n      <td>0</td>\n      <td>0</td>\n      <td>0</td>\n      <td>0</td>\n      <td>0</td>\n      <td>0</td>\n      <td>0</td>\n      <td>0</td>\n      <td>0</td>\n      <td>0</td>\n      <td>0</td>\n      <td>0</td>\n      <td>0</td>\n      <td>0</td>\n      <td>0</td>\n      <td>0</td>\n      <td>0</td>\n      <td>0</td>\n      <td>0</td>\n      <td>0</td>\n      <td>0</td>\n      <td>0</td>\n      <td>0</td>\n      <td>0</td>\n      <td>0</td>\n      <td>0</td>\n      <td>0</td>\n      <td>0</td>\n      <td>0</td>\n    </tr>\n  </tbody>\n</table>\n</div>"
     },
     "metadata": {},
     "execution_count": 132
    }
   ],
   "source": [
    "# one hot encoding\n",
    "toronto_onehot = pd.get_dummies(toronto_venues[['Venue Category']], prefix=\"\", prefix_sep=\"\")\n",
    "\n",
    "# add neighborhood column back to dataframe\n",
    "toronto_onehot['Neighbourhood'] = toronto_venues['Neighbourhood'] \n",
    "\n",
    "# move neighborhood column to the first column\n",
    "fixed_columns = [toronto_onehot.columns[-1]] + list(toronto_onehot.columns[:-1])\n",
    "toronto_onehot = toronto_onehot[fixed_columns]\n",
    "\n",
    "toronto_onehot.head()"
   ]
  },
  {
   "cell_type": "code",
   "execution_count": 133,
   "metadata": {},
   "outputs": [
    {
     "output_type": "execute_result",
     "data": {
      "text/plain": [
       "(1602, 234)"
      ]
     },
     "metadata": {},
     "execution_count": 133
    }
   ],
   "source": [
    "toronto_onehot.shape"
   ]
  },
  {
   "source": [
    "#### Next, let's group rows by neighbourhood and by taking the mean of the frequency of occurrence of each category\n"
   ],
   "cell_type": "markdown",
   "metadata": {}
  },
  {
   "cell_type": "code",
   "execution_count": 134,
   "metadata": {},
   "outputs": [
    {
     "output_type": "execute_result",
     "data": {
      "text/plain": [
       "(39, 234)"
      ]
     },
     "metadata": {},
     "execution_count": 134
    }
   ],
   "source": [
    "toronto_grouped = toronto_onehot.groupby('Neighbourhood').mean().reset_index()\n",
    "toronto_grouped.shape"
   ]
  },
  {
   "source": [
    "## Finally, finding least competitive Neighbourhood"
   ],
   "cell_type": "markdown",
   "metadata": {}
  },
  {
   "source": [
    "For example if you want to open a coffee shop you can consider following neighbourhoods, because these neighbourhoods don't have any coffee shop."
   ],
   "cell_type": "markdown",
   "metadata": {}
  },
  {
   "cell_type": "code",
   "execution_count": 142,
   "metadata": {},
   "outputs": [
    {
     "output_type": "execute_result",
     "data": {
      "text/plain": [
       "['Business reply mail Processing Centre, South Central Letter Processing Plant Toronto',\n",
       " 'Davisville North',\n",
       " 'Dufferin, Dovercourt Village',\n",
       " 'Forest Hill North & West, Forest Hill Road Park',\n",
       " 'High Park, The Junction South',\n",
       " 'India Bazaar, The Beaches West',\n",
       " 'Lawrence Park',\n",
       " 'Rosedale',\n",
       " 'Roselawn',\n",
       " 'Runnymede, The Junction, Weston-Pellam Park, Carlton Village',\n",
       " 'The Beaches']"
      ]
     },
     "metadata": {},
     "execution_count": 142
    }
   ],
   "source": [
    "temp = toronto_grouped[toronto_grouped['Coffee Shop'] == 0.0]\n",
    "temp['Neighbourhood'].tolist()"
   ]
  },
  {
   "source": [
    "### Now showing less competitive neighbourhoods for each venue type"
   ],
   "cell_type": "markdown",
   "metadata": {}
  },
  {
   "cell_type": "code",
   "execution_count": 143,
   "metadata": {},
   "outputs": [
    {
     "output_type": "stream",
     "name": "stdout",
     "text": [
      "----Coffee Shop----\n2     Business reply mail Processing Centre, South C...\n9                                      Davisville North\n10                         Dufferin, Dovercourt Village\n12      Forest Hill North & West, Forest Hill Road Park\n15                        High Park, The Junction South\n16                       India Bazaar, The Beaches West\n18                                        Lawrence Park\n25                                             Rosedale\n26                                             Roselawn\n28    Runnymede, The Junction, Weston-Pellam Park, C...\n35                                          The Beaches\nName: Neighbourhood, dtype: object\n----Café----\n2     Business reply mail Processing Centre, South C...\n3     CN Tower, King and Spadina, Railway Lands, Har...\n9                                      Davisville North\n12      Forest Hill North & West, Forest Hill Road Park\n16                       India Bazaar, The Beaches West\n18                                        Lawrence Park\n21                               Parkdale, Roncesvalles\n25                                             Rosedale\n26                                             Roselawn\n28    Runnymede, The Junction, Weston-Pellam Park, C...\n33    Summerhill West, Rathnelly, South Hill, Forest...\n35                                          The Beaches\nName: Neighbourhood, dtype: object\n----Restaurant----\n3     CN Tower, King and Spadina, Railway Lands, Har...\n9                                      Davisville North\n10                         Dufferin, Dovercourt Village\n12      Forest Hill North & West, Forest Hill Road Park\n15                        High Park, The Junction South\n17            Kensington Market, Chinatown, Grange Park\n18                                        Lawrence Park\n22          Queen's Park, Ontario Provincial Government\n25                                             Rosedale\n26                                             Roselawn\n27                                   Runnymede, Swansea\n28    Runnymede, The Junction, Weston-Pellam Park, C...\n32                                      Studio District\n34                  The Annex, North Midtown, Yorkville\n35                                          The Beaches\nName: Neighbourhood, dtype: object\n----Italian Restaurant----\n0                                           Berczy Park\n2     Business reply mail Processing Centre, South C...\n3     CN Tower, King and Spadina, Railway Lands, Har...\n9                                      Davisville North\n10                         Dufferin, Dovercourt Village\n12      Forest Hill North & West, Forest Hill Road Park\n17            Kensington Market, Chinatown, Grange Park\n18                                        Lawrence Park\n23                            Regent Park, Harbourfront\n24                             Richmond, Adelaide, King\n25                                             Rosedale\n26                                             Roselawn\n28    Runnymede, The Junction, Weston-Pellam Park, C...\n33    Summerhill West, Rathnelly, South Hill, Forest...\n34                  The Annex, North Midtown, Yorkville\n35                                          The Beaches\nName: Neighbourhood, dtype: object\n----Hotel----\n1          Brockton, Parkdale Village, Exhibition Place\n2     Business reply mail Processing Centre, South C...\n3     CN Tower, King and Spadina, Railway Lands, Har...\n4                                    Central Bay Street\n5                                              Christie\n8                                            Davisville\n10                         Dufferin, Dovercourt Village\n12      Forest Hill North & West, Forest Hill Road Park\n15                        High Park, The Junction South\n16                       India Bazaar, The Beaches West\n17            Kensington Market, Chinatown, Grange Park\n18                                        Lawrence Park\n19                             Little Portugal, Trinity\n20                    North Toronto West, Lawrence Park\n21                               Parkdale, Roncesvalles\n22          Queen's Park, Ontario Provincial Government\n25                                             Rosedale\n26                                             Roselawn\n27                                   Runnymede, Swansea\n28    Runnymede, The Junction, Weston-Pellam Park, C...\n30                          St. James Town, Cabbagetown\n32                                      Studio District\n33    Summerhill West, Rathnelly, South Hill, Forest...\n34                  The Annex, North Midtown, Yorkville\n35                                          The Beaches\n36                         The Danforth West, Riverdale\n38                       University of Toronto, Harbord\nName: Neighbourhood, dtype: object\n----Park----\n1          Brockton, Parkdale Village, Exhibition Place\n3     CN Tower, King and Spadina, Railway Lands, Har...\n11               First Canadian Place, Underground city\n12      Forest Hill North & West, Forest Hill Road Park\n21                               Parkdale, Roncesvalles\n24                             Richmond, Adelaide, King\n26                                             Roselawn\n27                                   Runnymede, Swansea\n28    Runnymede, The Junction, Weston-Pellam Park, C...\n33    Summerhill West, Rathnelly, South Hill, Forest...\n35                                          The Beaches\n36                         The Danforth West, Riverdale\n37             Toronto Dominion Centre, Design Exchange\n38                       University of Toronto, Harbord\nName: Neighbourhood, dtype: object\n----Japanese Restaurant----\n1          Brockton, Parkdale Village, Exhibition Place\n2     Business reply mail Processing Centre, South C...\n3     CN Tower, King and Spadina, Railway Lands, Har...\n5                                              Christie\n8                                            Davisville\n9                                      Davisville North\n10                         Dufferin, Dovercourt Village\n12      Forest Hill North & West, Forest Hill Road Park\n15                        High Park, The Junction South\n16                       India Bazaar, The Beaches West\n18                                        Lawrence Park\n20                    North Toronto West, Lawrence Park\n21                               Parkdale, Roncesvalles\n23                            Regent Park, Harbourfront\n25                                             Rosedale\n26                                             Roselawn\n27                                   Runnymede, Swansea\n28    Runnymede, The Junction, Weston-Pellam Park, C...\n32                                      Studio District\n33    Summerhill West, Rathnelly, South Hill, Forest...\n34                  The Annex, North Midtown, Yorkville\n35                                          The Beaches\n36                         The Danforth West, Riverdale\nName: Neighbourhood, dtype: object\n----Bakery----\n2     Business reply mail Processing Centre, South C...\n3     CN Tower, King and Spadina, Railway Lands, Har...\n4                                    Central Bay Street\n5                                              Christie\n6                                  Church and Wellesley\n8                                            Davisville\n9                                      Davisville North\n12      Forest Hill North & West, Forest Hill Road Park\n16                       India Bazaar, The Beaches West\n18                                        Lawrence Park\n20                    North Toronto West, Lawrence Park\n21                               Parkdale, Roncesvalles\n22          Queen's Park, Ontario Provincial Government\n25                                             Rosedale\n26                                             Roselawn\n27                                   Runnymede, Swansea\n28    Runnymede, The Junction, Weston-Pellam Park, C...\n33    Summerhill West, Rathnelly, South Hill, Forest...\n34                  The Annex, North Midtown, Yorkville\n35                                          The Beaches\nName: Neighbourhood, dtype: object\n----Sushi Restaurant----\n1          Brockton, Parkdale Village, Exhibition Place\n2     Business reply mail Processing Centre, South C...\n3     CN Tower, King and Spadina, Railway Lands, Har...\n5                                              Christie\n7                        Commerce Court, Victoria Hotel\n9                                      Davisville North\n10                         Dufferin, Dovercourt Village\n13                             Garden District, Ryerson\n15                        High Park, The Junction South\n17            Kensington Market, Chinatown, Grange Park\n18                                        Lawrence Park\n19                             Little Portugal, Trinity\n20                    North Toronto West, Lawrence Park\n21                               Parkdale, Roncesvalles\n23                            Regent Park, Harbourfront\n25                                             Rosedale\n26                                             Roselawn\n28    Runnymede, The Junction, Weston-Pellam Park, C...\n29                                       St. James Town\n32                                      Studio District\n34                  The Annex, North Midtown, Yorkville\n35                                          The Beaches\n36                         The Danforth West, Riverdale\nName: Neighbourhood, dtype: object\n----Gym----\n0                                           Berczy Park\n2     Business reply mail Processing Centre, South C...\n3     CN Tower, King and Spadina, Railway Lands, Har...\n4                                    Central Bay Street\n5                                              Christie\n6                                  Church and Wellesley\n9                                      Davisville North\n10                         Dufferin, Dovercourt Village\n12      Forest Hill North & West, Forest Hill Road Park\n15                        High Park, The Junction South\n17            Kensington Market, Chinatown, Grange Park\n18                                        Lawrence Park\n19                             Little Portugal, Trinity\n20                    North Toronto West, Lawrence Park\n21                               Parkdale, Roncesvalles\n23                            Regent Park, Harbourfront\n25                                             Rosedale\n26                                             Roselawn\n28    Runnymede, The Junction, Weston-Pellam Park, C...\n30                          St. James Town, Cabbagetown\n32                                      Studio District\n33    Summerhill West, Rathnelly, South Hill, Forest...\n34                  The Annex, North Midtown, Yorkville\n35                                          The Beaches\n36                         The Danforth West, Riverdale\n38                       University of Toronto, Harbord\nName: Neighbourhood, dtype: object\n"
     ]
    }
   ],
   "source": [
    "for venue in top10Venues:\n",
    "    print(\"----\" + venue + \"----\")\n",
    "    temp = toronto_grouped[toronto_grouped[venue] == 0.0]\n",
    "    print(temp['Neighbourhood'])"
   ]
  },
  {
   "source": [
    "### Finding less competitive neighbourhoods overall."
   ],
   "cell_type": "markdown",
   "metadata": {}
  },
  {
   "source": [
    "First, filtering out other Venue types and only keeping top 10 types"
   ],
   "cell_type": "markdown",
   "metadata": {}
  },
  {
   "cell_type": "code",
   "execution_count": 135,
   "metadata": {},
   "outputs": [
    {
     "output_type": "execute_result",
     "data": {
      "text/plain": [
       "                                       Neighbourhood    Bakery      Café  \\\n",
       "0                                        Berczy Park  0.050847  0.016949   \n",
       "1       Brockton, Parkdale Village, Exhibition Place  0.043478  0.130435   \n",
       "2  Business reply mail Processing Centre, South C...  0.000000  0.000000   \n",
       "3  CN Tower, King and Spadina, Railway Lands, Har...  0.000000  0.000000   \n",
       "4                                 Central Bay Street  0.000000  0.049180   \n",
       "\n",
       "   Coffee Shop       Gym     Hotel  Italian Restaurant  Japanese Restaurant  \\\n",
       "0     0.084746  0.000000  0.016949            0.000000             0.016949   \n",
       "1     0.086957  0.043478  0.000000            0.043478             0.000000   \n",
       "2     0.000000  0.000000  0.000000            0.000000             0.000000   \n",
       "3     0.066667  0.000000  0.000000            0.000000             0.000000   \n",
       "4     0.180328  0.000000  0.000000            0.049180             0.032787   \n",
       "\n",
       "       Park  Restaurant  Sushi Restaurant  \n",
       "0  0.016949    0.033898          0.016949  \n",
       "1  0.000000    0.043478          0.000000  \n",
       "2  0.062500    0.062500          0.000000  \n",
       "3  0.000000    0.000000          0.000000  \n",
       "4  0.016393    0.016393          0.016393  "
      ],
      "text/html": "<div>\n<style scoped>\n    .dataframe tbody tr th:only-of-type {\n        vertical-align: middle;\n    }\n\n    .dataframe tbody tr th {\n        vertical-align: top;\n    }\n\n    .dataframe thead th {\n        text-align: right;\n    }\n</style>\n<table border=\"1\" class=\"dataframe\">\n  <thead>\n    <tr style=\"text-align: right;\">\n      <th></th>\n      <th>Neighbourhood</th>\n      <th>Bakery</th>\n      <th>Café</th>\n      <th>Coffee Shop</th>\n      <th>Gym</th>\n      <th>Hotel</th>\n      <th>Italian Restaurant</th>\n      <th>Japanese Restaurant</th>\n      <th>Park</th>\n      <th>Restaurant</th>\n      <th>Sushi Restaurant</th>\n    </tr>\n  </thead>\n  <tbody>\n    <tr>\n      <th>0</th>\n      <td>Berczy Park</td>\n      <td>0.050847</td>\n      <td>0.016949</td>\n      <td>0.084746</td>\n      <td>0.000000</td>\n      <td>0.016949</td>\n      <td>0.000000</td>\n      <td>0.016949</td>\n      <td>0.016949</td>\n      <td>0.033898</td>\n      <td>0.016949</td>\n    </tr>\n    <tr>\n      <th>1</th>\n      <td>Brockton, Parkdale Village, Exhibition Place</td>\n      <td>0.043478</td>\n      <td>0.130435</td>\n      <td>0.086957</td>\n      <td>0.043478</td>\n      <td>0.000000</td>\n      <td>0.043478</td>\n      <td>0.000000</td>\n      <td>0.000000</td>\n      <td>0.043478</td>\n      <td>0.000000</td>\n    </tr>\n    <tr>\n      <th>2</th>\n      <td>Business reply mail Processing Centre, South C...</td>\n      <td>0.000000</td>\n      <td>0.000000</td>\n      <td>0.000000</td>\n      <td>0.000000</td>\n      <td>0.000000</td>\n      <td>0.000000</td>\n      <td>0.000000</td>\n      <td>0.062500</td>\n      <td>0.062500</td>\n      <td>0.000000</td>\n    </tr>\n    <tr>\n      <th>3</th>\n      <td>CN Tower, King and Spadina, Railway Lands, Har...</td>\n      <td>0.000000</td>\n      <td>0.000000</td>\n      <td>0.066667</td>\n      <td>0.000000</td>\n      <td>0.000000</td>\n      <td>0.000000</td>\n      <td>0.000000</td>\n      <td>0.000000</td>\n      <td>0.000000</td>\n      <td>0.000000</td>\n    </tr>\n    <tr>\n      <th>4</th>\n      <td>Central Bay Street</td>\n      <td>0.000000</td>\n      <td>0.049180</td>\n      <td>0.180328</td>\n      <td>0.000000</td>\n      <td>0.000000</td>\n      <td>0.049180</td>\n      <td>0.032787</td>\n      <td>0.016393</td>\n      <td>0.016393</td>\n      <td>0.016393</td>\n    </tr>\n  </tbody>\n</table>\n</div>"
     },
     "metadata": {},
     "execution_count": 135
    }
   ],
   "source": [
    "top10Venues.append('Neighbourhood')\n",
    "toronto_grouped.drop(toronto_grouped.columns.difference(top10Venues), 1, inplace=True)\n",
    "top10Venues.remove('Neighbourhood')\n",
    "toronto_grouped.head()"
   ]
  },
  {
   "source": [
    "Then, caluclate the mean of each neighbourhood."
   ],
   "cell_type": "markdown",
   "metadata": {}
  },
  {
   "cell_type": "code",
   "execution_count": 162,
   "metadata": {},
   "outputs": [
    {
     "output_type": "execute_result",
     "data": {
      "text/plain": [
       "                                        Neighbourhood    Bakery      Café  \\\n",
       "0                                         Berczy Park  0.050847  0.016949   \n",
       "1        Brockton, Parkdale Village, Exhibition Place  0.043478  0.130435   \n",
       "2   Business reply mail Processing Centre, South C...  0.000000  0.000000   \n",
       "3   CN Tower, King and Spadina, Railway Lands, Har...  0.000000  0.000000   \n",
       "4                                  Central Bay Street  0.000000  0.049180   \n",
       "5                                            Christie  0.000000  0.187500   \n",
       "6                                Church and Wellesley  0.000000  0.027397   \n",
       "7                      Commerce Court, Victoria Hotel  0.020000  0.060000   \n",
       "8                                          Davisville  0.000000  0.057143   \n",
       "9                                    Davisville North  0.000000  0.000000   \n",
       "10                       Dufferin, Dovercourt Village  0.142857  0.071429   \n",
       "11             First Canadian Place, Underground city  0.020000  0.070000   \n",
       "12    Forest Hill North & West, Forest Hill Road Park  0.000000  0.000000   \n",
       "13                           Garden District, Ryerson  0.010000  0.030000   \n",
       "14  Harbourfront East, Union Station, Toronto Islands  0.020000  0.040000   \n",
       "15                      High Park, The Junction South  0.040000  0.080000   \n",
       "16                     India Bazaar, The Beaches West  0.000000  0.000000   \n",
       "17          Kensington Market, Chinatown, Grange Park  0.016129  0.080645   \n",
       "18                                      Lawrence Park  0.000000  0.000000   \n",
       "19                           Little Portugal, Trinity  0.023256  0.046512   \n",
       "20                  North Toronto West, Lawrence Park  0.000000  0.050000   \n",
       "21                             Parkdale, Roncesvalles  0.000000  0.000000   \n",
       "22        Queen's Park, Ontario Provincial Government  0.000000  0.032258   \n",
       "23                          Regent Park, Harbourfront  0.065217  0.043478   \n",
       "24                           Richmond, Adelaide, King  0.010526  0.052632   \n",
       "25                                           Rosedale  0.000000  0.000000   \n",
       "26                                           Roselawn  0.000000  0.000000   \n",
       "27                                 Runnymede, Swansea  0.000000  0.085714   \n",
       "28  Runnymede, The Junction, Weston-Pellam Park, C...  0.000000  0.000000   \n",
       "29                                     St. James Town  0.012500  0.062500   \n",
       "30                        St. James Town, Cabbagetown  0.043478  0.043478   \n",
       "31                                     Stn A PO Boxes  0.030303  0.030303   \n",
       "32                                    Studio District  0.055556  0.055556   \n",
       "33  Summerhill West, Rathnelly, South Hill, Forest...  0.000000  0.000000   \n",
       "34                The Annex, North Midtown, Yorkville  0.000000  0.157895   \n",
       "35                                        The Beaches  0.000000  0.000000   \n",
       "36                       The Danforth West, Riverdale  0.023256  0.023256   \n",
       "37           Toronto Dominion Centre, Design Exchange  0.020000  0.060000   \n",
       "38                     University of Toronto, Harbord  0.058824  0.147059   \n",
       "\n",
       "    Coffee Shop       Gym     Hotel  Italian Restaurant  Japanese Restaurant  \\\n",
       "0      0.084746  0.000000  0.016949            0.000000             0.016949   \n",
       "1      0.086957  0.043478  0.000000            0.043478             0.000000   \n",
       "2      0.000000  0.000000  0.000000            0.000000             0.000000   \n",
       "3      0.066667  0.000000  0.000000            0.000000             0.000000   \n",
       "4      0.180328  0.000000  0.000000            0.049180             0.032787   \n",
       "5      0.062500  0.000000  0.000000            0.062500             0.000000   \n",
       "6      0.082192  0.000000  0.027397            0.013699             0.068493   \n",
       "7      0.130000  0.040000  0.050000            0.040000             0.030000   \n",
       "8      0.057143  0.057143  0.000000            0.057143             0.000000   \n",
       "9      0.000000  0.000000  0.142857            0.000000             0.000000   \n",
       "10     0.000000  0.000000  0.000000            0.000000             0.000000   \n",
       "11     0.110000  0.040000  0.050000            0.010000             0.040000   \n",
       "12     0.000000  0.000000  0.000000            0.000000             0.000000   \n",
       "13     0.080000  0.010000  0.030000            0.020000             0.030000   \n",
       "14     0.130000  0.010000  0.040000            0.030000             0.010000   \n",
       "15     0.000000  0.000000  0.000000            0.040000             0.000000   \n",
       "16     0.000000  0.047619  0.000000            0.047619             0.000000   \n",
       "17     0.064516  0.000000  0.000000            0.000000             0.016129   \n",
       "18     0.000000  0.000000  0.000000            0.000000             0.000000   \n",
       "19     0.046512  0.000000  0.000000            0.023256             0.023256   \n",
       "20     0.100000  0.000000  0.000000            0.050000             0.000000   \n",
       "21     0.071429  0.000000  0.000000            0.071429             0.000000   \n",
       "22     0.193548  0.064516  0.000000            0.032258             0.032258   \n",
       "23     0.152174  0.000000  0.021739            0.000000             0.000000   \n",
       "24     0.105263  0.031579  0.031579            0.000000             0.010526   \n",
       "25     0.000000  0.000000  0.000000            0.000000             0.000000   \n",
       "26     0.000000  0.000000  0.000000            0.000000             0.000000   \n",
       "27     0.085714  0.028571  0.000000            0.057143             0.000000   \n",
       "28     0.000000  0.000000  0.000000            0.000000             0.000000   \n",
       "29     0.062500  0.025000  0.025000            0.025000             0.012500   \n",
       "30     0.086957  0.000000  0.000000            0.043478             0.021739   \n",
       "31     0.111111  0.020202  0.020202            0.030303             0.030303   \n",
       "32     0.083333  0.000000  0.000000            0.027778             0.000000   \n",
       "33     0.142857  0.000000  0.000000            0.000000             0.000000   \n",
       "34     0.105263  0.000000  0.000000            0.000000             0.000000   \n",
       "35     0.000000  0.000000  0.000000            0.000000             0.000000   \n",
       "36     0.093023  0.000000  0.000000            0.069767             0.000000   \n",
       "37     0.110000  0.010000  0.080000            0.030000             0.030000   \n",
       "38     0.029412  0.000000  0.000000            0.058824             0.058824   \n",
       "\n",
       "        Park  Restaurant  Sushi Restaurant      mean  \n",
       "0   0.016949    0.033898          0.016949  0.025424  \n",
       "1   0.000000    0.043478          0.000000  0.039130  \n",
       "2   0.062500    0.062500          0.000000  0.012500  \n",
       "3   0.000000    0.000000          0.000000  0.006667  \n",
       "4   0.016393    0.016393          0.016393  0.036066  \n",
       "5   0.125000    0.062500          0.000000  0.050000  \n",
       "6   0.013699    0.041096          0.068493  0.034247  \n",
       "7   0.010000    0.070000          0.000000  0.045000  \n",
       "8   0.028571    0.028571          0.057143  0.034286  \n",
       "9   0.142857    0.000000          0.000000  0.028571  \n",
       "10  0.071429    0.000000          0.000000  0.028571  \n",
       "11  0.000000    0.050000          0.020000  0.041000  \n",
       "12  0.000000    0.000000          0.250000  0.025000  \n",
       "13  0.010000    0.010000          0.000000  0.023000  \n",
       "14  0.020000    0.030000          0.010000  0.034000  \n",
       "15  0.080000    0.000000          0.000000  0.024000  \n",
       "16  0.095238    0.047619          0.047619  0.028571  \n",
       "17  0.032258    0.000000          0.000000  0.020968  \n",
       "18  0.333333    0.000000          0.000000  0.033333  \n",
       "19  0.023256    0.046512          0.000000  0.023256  \n",
       "20  0.050000    0.050000          0.000000  0.030000  \n",
       "21  0.000000    0.071429          0.000000  0.021429  \n",
       "22  0.032258    0.000000          0.064516  0.045161  \n",
       "23  0.065217    0.021739          0.000000  0.036957  \n",
       "24  0.000000    0.042105          0.021053  0.030526  \n",
       "25  0.500000    0.000000          0.000000  0.050000  \n",
       "26  0.000000    0.000000          0.000000  0.000000  \n",
       "27  0.000000    0.000000          0.057143  0.031429  \n",
       "28  0.000000    0.000000          0.000000  0.000000  \n",
       "29  0.025000    0.037500          0.000000  0.028750  \n",
       "30  0.021739    0.043478          0.021739  0.032609  \n",
       "31  0.020202    0.030303          0.010101  0.033333  \n",
       "32  0.027778    0.000000          0.000000  0.025000  \n",
       "33  0.000000    0.071429          0.071429  0.028571  \n",
       "34  0.052632    0.000000          0.000000  0.031579  \n",
       "35  0.000000    0.000000          0.000000  0.000000  \n",
       "36  0.000000    0.046512          0.000000  0.025581  \n",
       "37  0.000000    0.040000          0.020000  0.040000  \n",
       "38  0.000000    0.029412          0.029412  0.041176  "
      ],
      "text/html": "<div>\n<style scoped>\n    .dataframe tbody tr th:only-of-type {\n        vertical-align: middle;\n    }\n\n    .dataframe tbody tr th {\n        vertical-align: top;\n    }\n\n    .dataframe thead th {\n        text-align: right;\n    }\n</style>\n<table border=\"1\" class=\"dataframe\">\n  <thead>\n    <tr style=\"text-align: right;\">\n      <th></th>\n      <th>Neighbourhood</th>\n      <th>Bakery</th>\n      <th>Café</th>\n      <th>Coffee Shop</th>\n      <th>Gym</th>\n      <th>Hotel</th>\n      <th>Italian Restaurant</th>\n      <th>Japanese Restaurant</th>\n      <th>Park</th>\n      <th>Restaurant</th>\n      <th>Sushi Restaurant</th>\n      <th>mean</th>\n    </tr>\n  </thead>\n  <tbody>\n    <tr>\n      <th>0</th>\n      <td>Berczy Park</td>\n      <td>0.050847</td>\n      <td>0.016949</td>\n      <td>0.084746</td>\n      <td>0.000000</td>\n      <td>0.016949</td>\n      <td>0.000000</td>\n      <td>0.016949</td>\n      <td>0.016949</td>\n      <td>0.033898</td>\n      <td>0.016949</td>\n      <td>0.025424</td>\n    </tr>\n    <tr>\n      <th>1</th>\n      <td>Brockton, Parkdale Village, Exhibition Place</td>\n      <td>0.043478</td>\n      <td>0.130435</td>\n      <td>0.086957</td>\n      <td>0.043478</td>\n      <td>0.000000</td>\n      <td>0.043478</td>\n      <td>0.000000</td>\n      <td>0.000000</td>\n      <td>0.043478</td>\n      <td>0.000000</td>\n      <td>0.039130</td>\n    </tr>\n    <tr>\n      <th>2</th>\n      <td>Business reply mail Processing Centre, South C...</td>\n      <td>0.000000</td>\n      <td>0.000000</td>\n      <td>0.000000</td>\n      <td>0.000000</td>\n      <td>0.000000</td>\n      <td>0.000000</td>\n      <td>0.000000</td>\n      <td>0.062500</td>\n      <td>0.062500</td>\n      <td>0.000000</td>\n      <td>0.012500</td>\n    </tr>\n    <tr>\n      <th>3</th>\n      <td>CN Tower, King and Spadina, Railway Lands, Har...</td>\n      <td>0.000000</td>\n      <td>0.000000</td>\n      <td>0.066667</td>\n      <td>0.000000</td>\n      <td>0.000000</td>\n      <td>0.000000</td>\n      <td>0.000000</td>\n      <td>0.000000</td>\n      <td>0.000000</td>\n      <td>0.000000</td>\n      <td>0.006667</td>\n    </tr>\n    <tr>\n      <th>4</th>\n      <td>Central Bay Street</td>\n      <td>0.000000</td>\n      <td>0.049180</td>\n      <td>0.180328</td>\n      <td>0.000000</td>\n      <td>0.000000</td>\n      <td>0.049180</td>\n      <td>0.032787</td>\n      <td>0.016393</td>\n      <td>0.016393</td>\n      <td>0.016393</td>\n      <td>0.036066</td>\n    </tr>\n    <tr>\n      <th>5</th>\n      <td>Christie</td>\n      <td>0.000000</td>\n      <td>0.187500</td>\n      <td>0.062500</td>\n      <td>0.000000</td>\n      <td>0.000000</td>\n      <td>0.062500</td>\n      <td>0.000000</td>\n      <td>0.125000</td>\n      <td>0.062500</td>\n      <td>0.000000</td>\n      <td>0.050000</td>\n    </tr>\n    <tr>\n      <th>6</th>\n      <td>Church and Wellesley</td>\n      <td>0.000000</td>\n      <td>0.027397</td>\n      <td>0.082192</td>\n      <td>0.000000</td>\n      <td>0.027397</td>\n      <td>0.013699</td>\n      <td>0.068493</td>\n      <td>0.013699</td>\n      <td>0.041096</td>\n      <td>0.068493</td>\n      <td>0.034247</td>\n    </tr>\n    <tr>\n      <th>7</th>\n      <td>Commerce Court, Victoria Hotel</td>\n      <td>0.020000</td>\n      <td>0.060000</td>\n      <td>0.130000</td>\n      <td>0.040000</td>\n      <td>0.050000</td>\n      <td>0.040000</td>\n      <td>0.030000</td>\n      <td>0.010000</td>\n      <td>0.070000</td>\n      <td>0.000000</td>\n      <td>0.045000</td>\n    </tr>\n    <tr>\n      <th>8</th>\n      <td>Davisville</td>\n      <td>0.000000</td>\n      <td>0.057143</td>\n      <td>0.057143</td>\n      <td>0.057143</td>\n      <td>0.000000</td>\n      <td>0.057143</td>\n      <td>0.000000</td>\n      <td>0.028571</td>\n      <td>0.028571</td>\n      <td>0.057143</td>\n      <td>0.034286</td>\n    </tr>\n    <tr>\n      <th>9</th>\n      <td>Davisville North</td>\n      <td>0.000000</td>\n      <td>0.000000</td>\n      <td>0.000000</td>\n      <td>0.000000</td>\n      <td>0.142857</td>\n      <td>0.000000</td>\n      <td>0.000000</td>\n      <td>0.142857</td>\n      <td>0.000000</td>\n      <td>0.000000</td>\n      <td>0.028571</td>\n    </tr>\n    <tr>\n      <th>10</th>\n      <td>Dufferin, Dovercourt Village</td>\n      <td>0.142857</td>\n      <td>0.071429</td>\n      <td>0.000000</td>\n      <td>0.000000</td>\n      <td>0.000000</td>\n      <td>0.000000</td>\n      <td>0.000000</td>\n      <td>0.071429</td>\n      <td>0.000000</td>\n      <td>0.000000</td>\n      <td>0.028571</td>\n    </tr>\n    <tr>\n      <th>11</th>\n      <td>First Canadian Place, Underground city</td>\n      <td>0.020000</td>\n      <td>0.070000</td>\n      <td>0.110000</td>\n      <td>0.040000</td>\n      <td>0.050000</td>\n      <td>0.010000</td>\n      <td>0.040000</td>\n      <td>0.000000</td>\n      <td>0.050000</td>\n      <td>0.020000</td>\n      <td>0.041000</td>\n    </tr>\n    <tr>\n      <th>12</th>\n      <td>Forest Hill North &amp; West, Forest Hill Road Park</td>\n      <td>0.000000</td>\n      <td>0.000000</td>\n      <td>0.000000</td>\n      <td>0.000000</td>\n      <td>0.000000</td>\n      <td>0.000000</td>\n      <td>0.000000</td>\n      <td>0.000000</td>\n      <td>0.000000</td>\n      <td>0.250000</td>\n      <td>0.025000</td>\n    </tr>\n    <tr>\n      <th>13</th>\n      <td>Garden District, Ryerson</td>\n      <td>0.010000</td>\n      <td>0.030000</td>\n      <td>0.080000</td>\n      <td>0.010000</td>\n      <td>0.030000</td>\n      <td>0.020000</td>\n      <td>0.030000</td>\n      <td>0.010000</td>\n      <td>0.010000</td>\n      <td>0.000000</td>\n      <td>0.023000</td>\n    </tr>\n    <tr>\n      <th>14</th>\n      <td>Harbourfront East, Union Station, Toronto Islands</td>\n      <td>0.020000</td>\n      <td>0.040000</td>\n      <td>0.130000</td>\n      <td>0.010000</td>\n      <td>0.040000</td>\n      <td>0.030000</td>\n      <td>0.010000</td>\n      <td>0.020000</td>\n      <td>0.030000</td>\n      <td>0.010000</td>\n      <td>0.034000</td>\n    </tr>\n    <tr>\n      <th>15</th>\n      <td>High Park, The Junction South</td>\n      <td>0.040000</td>\n      <td>0.080000</td>\n      <td>0.000000</td>\n      <td>0.000000</td>\n      <td>0.000000</td>\n      <td>0.040000</td>\n      <td>0.000000</td>\n      <td>0.080000</td>\n      <td>0.000000</td>\n      <td>0.000000</td>\n      <td>0.024000</td>\n    </tr>\n    <tr>\n      <th>16</th>\n      <td>India Bazaar, The Beaches West</td>\n      <td>0.000000</td>\n      <td>0.000000</td>\n      <td>0.000000</td>\n      <td>0.047619</td>\n      <td>0.000000</td>\n      <td>0.047619</td>\n      <td>0.000000</td>\n      <td>0.095238</td>\n      <td>0.047619</td>\n      <td>0.047619</td>\n      <td>0.028571</td>\n    </tr>\n    <tr>\n      <th>17</th>\n      <td>Kensington Market, Chinatown, Grange Park</td>\n      <td>0.016129</td>\n      <td>0.080645</td>\n      <td>0.064516</td>\n      <td>0.000000</td>\n      <td>0.000000</td>\n      <td>0.000000</td>\n      <td>0.016129</td>\n      <td>0.032258</td>\n      <td>0.000000</td>\n      <td>0.000000</td>\n      <td>0.020968</td>\n    </tr>\n    <tr>\n      <th>18</th>\n      <td>Lawrence Park</td>\n      <td>0.000000</td>\n      <td>0.000000</td>\n      <td>0.000000</td>\n      <td>0.000000</td>\n      <td>0.000000</td>\n      <td>0.000000</td>\n      <td>0.000000</td>\n      <td>0.333333</td>\n      <td>0.000000</td>\n      <td>0.000000</td>\n      <td>0.033333</td>\n    </tr>\n    <tr>\n      <th>19</th>\n      <td>Little Portugal, Trinity</td>\n      <td>0.023256</td>\n      <td>0.046512</td>\n      <td>0.046512</td>\n      <td>0.000000</td>\n      <td>0.000000</td>\n      <td>0.023256</td>\n      <td>0.023256</td>\n      <td>0.023256</td>\n      <td>0.046512</td>\n      <td>0.000000</td>\n      <td>0.023256</td>\n    </tr>\n    <tr>\n      <th>20</th>\n      <td>North Toronto West, Lawrence Park</td>\n      <td>0.000000</td>\n      <td>0.050000</td>\n      <td>0.100000</td>\n      <td>0.000000</td>\n      <td>0.000000</td>\n      <td>0.050000</td>\n      <td>0.000000</td>\n      <td>0.050000</td>\n      <td>0.050000</td>\n      <td>0.000000</td>\n      <td>0.030000</td>\n    </tr>\n    <tr>\n      <th>21</th>\n      <td>Parkdale, Roncesvalles</td>\n      <td>0.000000</td>\n      <td>0.000000</td>\n      <td>0.071429</td>\n      <td>0.000000</td>\n      <td>0.000000</td>\n      <td>0.071429</td>\n      <td>0.000000</td>\n      <td>0.000000</td>\n      <td>0.071429</td>\n      <td>0.000000</td>\n      <td>0.021429</td>\n    </tr>\n    <tr>\n      <th>22</th>\n      <td>Queen's Park, Ontario Provincial Government</td>\n      <td>0.000000</td>\n      <td>0.032258</td>\n      <td>0.193548</td>\n      <td>0.064516</td>\n      <td>0.000000</td>\n      <td>0.032258</td>\n      <td>0.032258</td>\n      <td>0.032258</td>\n      <td>0.000000</td>\n      <td>0.064516</td>\n      <td>0.045161</td>\n    </tr>\n    <tr>\n      <th>23</th>\n      <td>Regent Park, Harbourfront</td>\n      <td>0.065217</td>\n      <td>0.043478</td>\n      <td>0.152174</td>\n      <td>0.000000</td>\n      <td>0.021739</td>\n      <td>0.000000</td>\n      <td>0.000000</td>\n      <td>0.065217</td>\n      <td>0.021739</td>\n      <td>0.000000</td>\n      <td>0.036957</td>\n    </tr>\n    <tr>\n      <th>24</th>\n      <td>Richmond, Adelaide, King</td>\n      <td>0.010526</td>\n      <td>0.052632</td>\n      <td>0.105263</td>\n      <td>0.031579</td>\n      <td>0.031579</td>\n      <td>0.000000</td>\n      <td>0.010526</td>\n      <td>0.000000</td>\n      <td>0.042105</td>\n      <td>0.021053</td>\n      <td>0.030526</td>\n    </tr>\n    <tr>\n      <th>25</th>\n      <td>Rosedale</td>\n      <td>0.000000</td>\n      <td>0.000000</td>\n      <td>0.000000</td>\n      <td>0.000000</td>\n      <td>0.000000</td>\n      <td>0.000000</td>\n      <td>0.000000</td>\n      <td>0.500000</td>\n      <td>0.000000</td>\n      <td>0.000000</td>\n      <td>0.050000</td>\n    </tr>\n    <tr>\n      <th>26</th>\n      <td>Roselawn</td>\n      <td>0.000000</td>\n      <td>0.000000</td>\n      <td>0.000000</td>\n      <td>0.000000</td>\n      <td>0.000000</td>\n      <td>0.000000</td>\n      <td>0.000000</td>\n      <td>0.000000</td>\n      <td>0.000000</td>\n      <td>0.000000</td>\n      <td>0.000000</td>\n    </tr>\n    <tr>\n      <th>27</th>\n      <td>Runnymede, Swansea</td>\n      <td>0.000000</td>\n      <td>0.085714</td>\n      <td>0.085714</td>\n      <td>0.028571</td>\n      <td>0.000000</td>\n      <td>0.057143</td>\n      <td>0.000000</td>\n      <td>0.000000</td>\n      <td>0.000000</td>\n      <td>0.057143</td>\n      <td>0.031429</td>\n    </tr>\n    <tr>\n      <th>28</th>\n      <td>Runnymede, The Junction, Weston-Pellam Park, C...</td>\n      <td>0.000000</td>\n      <td>0.000000</td>\n      <td>0.000000</td>\n      <td>0.000000</td>\n      <td>0.000000</td>\n      <td>0.000000</td>\n      <td>0.000000</td>\n      <td>0.000000</td>\n      <td>0.000000</td>\n      <td>0.000000</td>\n      <td>0.000000</td>\n    </tr>\n    <tr>\n      <th>29</th>\n      <td>St. James Town</td>\n      <td>0.012500</td>\n      <td>0.062500</td>\n      <td>0.062500</td>\n      <td>0.025000</td>\n      <td>0.025000</td>\n      <td>0.025000</td>\n      <td>0.012500</td>\n      <td>0.025000</td>\n      <td>0.037500</td>\n      <td>0.000000</td>\n      <td>0.028750</td>\n    </tr>\n    <tr>\n      <th>30</th>\n      <td>St. James Town, Cabbagetown</td>\n      <td>0.043478</td>\n      <td>0.043478</td>\n      <td>0.086957</td>\n      <td>0.000000</td>\n      <td>0.000000</td>\n      <td>0.043478</td>\n      <td>0.021739</td>\n      <td>0.021739</td>\n      <td>0.043478</td>\n      <td>0.021739</td>\n      <td>0.032609</td>\n    </tr>\n    <tr>\n      <th>31</th>\n      <td>Stn A PO Boxes</td>\n      <td>0.030303</td>\n      <td>0.030303</td>\n      <td>0.111111</td>\n      <td>0.020202</td>\n      <td>0.020202</td>\n      <td>0.030303</td>\n      <td>0.030303</td>\n      <td>0.020202</td>\n      <td>0.030303</td>\n      <td>0.010101</td>\n      <td>0.033333</td>\n    </tr>\n    <tr>\n      <th>32</th>\n      <td>Studio District</td>\n      <td>0.055556</td>\n      <td>0.055556</td>\n      <td>0.083333</td>\n      <td>0.000000</td>\n      <td>0.000000</td>\n      <td>0.027778</td>\n      <td>0.000000</td>\n      <td>0.027778</td>\n      <td>0.000000</td>\n      <td>0.000000</td>\n      <td>0.025000</td>\n    </tr>\n    <tr>\n      <th>33</th>\n      <td>Summerhill West, Rathnelly, South Hill, Forest...</td>\n      <td>0.000000</td>\n      <td>0.000000</td>\n      <td>0.142857</td>\n      <td>0.000000</td>\n      <td>0.000000</td>\n      <td>0.000000</td>\n      <td>0.000000</td>\n      <td>0.000000</td>\n      <td>0.071429</td>\n      <td>0.071429</td>\n      <td>0.028571</td>\n    </tr>\n    <tr>\n      <th>34</th>\n      <td>The Annex, North Midtown, Yorkville</td>\n      <td>0.000000</td>\n      <td>0.157895</td>\n      <td>0.105263</td>\n      <td>0.000000</td>\n      <td>0.000000</td>\n      <td>0.000000</td>\n      <td>0.000000</td>\n      <td>0.052632</td>\n      <td>0.000000</td>\n      <td>0.000000</td>\n      <td>0.031579</td>\n    </tr>\n    <tr>\n      <th>35</th>\n      <td>The Beaches</td>\n      <td>0.000000</td>\n      <td>0.000000</td>\n      <td>0.000000</td>\n      <td>0.000000</td>\n      <td>0.000000</td>\n      <td>0.000000</td>\n      <td>0.000000</td>\n      <td>0.000000</td>\n      <td>0.000000</td>\n      <td>0.000000</td>\n      <td>0.000000</td>\n    </tr>\n    <tr>\n      <th>36</th>\n      <td>The Danforth West, Riverdale</td>\n      <td>0.023256</td>\n      <td>0.023256</td>\n      <td>0.093023</td>\n      <td>0.000000</td>\n      <td>0.000000</td>\n      <td>0.069767</td>\n      <td>0.000000</td>\n      <td>0.000000</td>\n      <td>0.046512</td>\n      <td>0.000000</td>\n      <td>0.025581</td>\n    </tr>\n    <tr>\n      <th>37</th>\n      <td>Toronto Dominion Centre, Design Exchange</td>\n      <td>0.020000</td>\n      <td>0.060000</td>\n      <td>0.110000</td>\n      <td>0.010000</td>\n      <td>0.080000</td>\n      <td>0.030000</td>\n      <td>0.030000</td>\n      <td>0.000000</td>\n      <td>0.040000</td>\n      <td>0.020000</td>\n      <td>0.040000</td>\n    </tr>\n    <tr>\n      <th>38</th>\n      <td>University of Toronto, Harbord</td>\n      <td>0.058824</td>\n      <td>0.147059</td>\n      <td>0.029412</td>\n      <td>0.000000</td>\n      <td>0.000000</td>\n      <td>0.058824</td>\n      <td>0.058824</td>\n      <td>0.000000</td>\n      <td>0.029412</td>\n      <td>0.029412</td>\n      <td>0.041176</td>\n    </tr>\n  </tbody>\n</table>\n</div>"
     },
     "metadata": {},
     "execution_count": 162
    }
   ],
   "source": [
    "toronto_grouped['mean'] = toronto_grouped.mean(axis=1)\n",
    "toronto_grouped"
   ]
  },
  {
   "source": [
    "Low mean value indicates that it has less number of our top 10 venues."
   ],
   "cell_type": "markdown",
   "metadata": {}
  },
  {
   "cell_type": "code",
   "execution_count": 170,
   "metadata": {},
   "outputs": [],
   "source": [
    "top5= toronto_grouped.sort_values('mean', ascending=True).head().reset_index(drop=True)"
   ]
  },
  {
   "source": [
    "### So, following are the top 5 neighbourhoods with less competition overall and any thing you open from that top 10 list would have higher chance of success."
   ],
   "cell_type": "markdown",
   "metadata": {}
  },
  {
   "cell_type": "code",
   "execution_count": 178,
   "metadata": {},
   "outputs": [
    {
     "output_type": "stream",
     "name": "stdout",
     "text": [
      "1. The Beaches\n2. Runnymede, The Junction, Weston-Pellam Park, Carlton Village\n3. Roselawn\n4. CN Tower, King and Spadina, Railway Lands, Harbourfront West, Bathurst Quay, South Niagara, Island airport\n5. Business reply mail Processing Centre, South Central Letter Processing Plant Toronto\n"
     ]
    }
   ],
   "source": [
    "\n",
    "for index, row in top5.iterrows():\n",
    "    \n",
    "    print(str(index+ 1) + \". \" + row['Neighbourhood'])"
   ]
  }
 ],
 "metadata": {
  "kernelspec": {
   "name": "python3",
   "display_name": "Python 3.8.0 64-bit",
   "metadata": {
    "interpreter": {
     "hash": "2b00adca941fc1a0d2fc6f545a20340250afae17ad7b180cce7aadd60adcf469"
    }
   }
  },
  "language_info": {
   "codemirror_mode": {
    "name": "ipython",
    "version": 3
   },
   "file_extension": ".py",
   "mimetype": "text/x-python",
   "name": "python",
   "nbconvert_exporter": "python",
   "pygments_lexer": "ipython3",
   "version": "3.8.0-final"
  }
 },
 "nbformat": 4,
 "nbformat_minor": 4
}