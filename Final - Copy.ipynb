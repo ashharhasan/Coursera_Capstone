{
 "cells": [
  {
   "cell_type": "markdown",
   "metadata": {},
   "source": [
    "# Toronto Neighbourhoods"
   ]
  },
  {
   "cell_type": "markdown",
   "metadata": {},
   "source": [
    "This notebook is used for data science capstone project.\n",
    "Before we get the data and start exploring it, let's download all the dependencies that we will need."
   ]
  },
  {
   "cell_type": "code",
   "execution_count": 78,
   "metadata": {},
   "outputs": [
    {
     "output_type": "stream",
     "name": "stdout",
     "text": [
      "Libraries imported.\n"
     ]
    }
   ],
   "source": [
    "import numpy as np # library to handle data in a vectorized manner\n",
    "\n",
    "import pandas as pd # library for data analsysis\n",
    "\n",
    "import folium # map rendering library\n",
    "\n",
    "import requests # library to handle requests\n",
    "from pandas.io.json import json_normalize # tranform JSON file into a pandas dataframe\n",
    "\n",
    "# import k-means from clustering stage\n",
    "from sklearn.cluster import KMeans\n",
    "\n",
    "# Matplotlib and associated plotting modules\n",
    "import matplotlib.cm as cm\n",
    "import matplotlib.colors as colors\n",
    "\n",
    "print('Libraries imported.')"
   ]
  },
  {
   "source": [
    "Getting the list of toronto neighbourhoods by web scrapping"
   ],
   "cell_type": "markdown",
   "metadata": {}
  },
  {
   "cell_type": "code",
   "execution_count": 79,
   "metadata": {},
   "outputs": [
    {
     "output_type": "stream",
     "name": "stdout",
     "text": [
      "3\n"
     ]
    }
   ],
   "source": [
    "# results = requests.get('https://en.wikipedia.org/wiki/List_of_postal_codes_of_Canada:_M')\n",
    "# results\n",
    "dfs = pd.read_html('https://en.wikipedia.org/w/index.php?title=List_of_postal_codes_of_Canada:_M&oldid=1011037969')\n",
    "print(len(dfs))"
   ]
  },
  {
   "source": [
    "So there are three dataframes, but it's the first one which we need."
   ],
   "cell_type": "markdown",
   "metadata": {}
  },
  {
   "cell_type": "code",
   "execution_count": 80,
   "metadata": {},
   "outputs": [],
   "source": [
    "df= dfs[0]\n"
   ]
  },
  {
   "source": [
    "Now, we have to clean the data, so first removing space from column name to correct the naming conventions"
   ],
   "cell_type": "markdown",
   "metadata": {}
  },
  {
   "source": [
    "df.rename(columns={'Postal Code': 'PostalCode'},inplace=True)"
   ],
   "cell_type": "code",
   "metadata": {},
   "execution_count": 81,
   "outputs": []
  },
  {
   "source": [
    "Removing all the rows where Borough and neighbourhood is not assigned."
   ],
   "cell_type": "markdown",
   "metadata": {}
  },
  {
   "cell_type": "code",
   "execution_count": 82,
   "metadata": {},
   "outputs": [],
   "source": [
    "df = df.query('(Borough != \"Not assigned\") and (Neighbourhood != \"Not assigned\")')"
   ]
  },
  {
   "cell_type": "code",
   "execution_count": 83,
   "metadata": {},
   "outputs": [
    {
     "output_type": "execute_result",
     "data": {
      "text/plain": [
       "  PostalCode           Borough                                Neighbourhood\n",
       "2        M3A        North York                                    Parkwoods\n",
       "3        M4A        North York                             Victoria Village\n",
       "4        M5A  Downtown Toronto                    Regent Park, Harbourfront\n",
       "5        M6A        North York             Lawrence Manor, Lawrence Heights\n",
       "6        M7A  Downtown Toronto  Queen's Park, Ontario Provincial Government"
      ],
      "text/html": "<div>\n<style scoped>\n    .dataframe tbody tr th:only-of-type {\n        vertical-align: middle;\n    }\n\n    .dataframe tbody tr th {\n        vertical-align: top;\n    }\n\n    .dataframe thead th {\n        text-align: right;\n    }\n</style>\n<table border=\"1\" class=\"dataframe\">\n  <thead>\n    <tr style=\"text-align: right;\">\n      <th></th>\n      <th>PostalCode</th>\n      <th>Borough</th>\n      <th>Neighbourhood</th>\n    </tr>\n  </thead>\n  <tbody>\n    <tr>\n      <th>2</th>\n      <td>M3A</td>\n      <td>North York</td>\n      <td>Parkwoods</td>\n    </tr>\n    <tr>\n      <th>3</th>\n      <td>M4A</td>\n      <td>North York</td>\n      <td>Victoria Village</td>\n    </tr>\n    <tr>\n      <th>4</th>\n      <td>M5A</td>\n      <td>Downtown Toronto</td>\n      <td>Regent Park, Harbourfront</td>\n    </tr>\n    <tr>\n      <th>5</th>\n      <td>M6A</td>\n      <td>North York</td>\n      <td>Lawrence Manor, Lawrence Heights</td>\n    </tr>\n    <tr>\n      <th>6</th>\n      <td>M7A</td>\n      <td>Downtown Toronto</td>\n      <td>Queen's Park, Ontario Provincial Government</td>\n    </tr>\n  </tbody>\n</table>\n</div>"
     },
     "metadata": {},
     "execution_count": 83
    }
   ],
   "source": [
    "df.head()"
   ]
  },
  {
   "source": [
    "Checking if any row has neighbourhood which is not assigned."
   ],
   "cell_type": "markdown",
   "metadata": {}
  },
  {
   "cell_type": "code",
   "execution_count": 84,
   "metadata": {},
   "outputs": [
    {
     "output_type": "execute_result",
     "data": {
      "text/plain": [
       "Empty DataFrame\n",
       "Columns: [PostalCode, Borough, Neighbourhood]\n",
       "Index: []"
      ],
      "text/html": "<div>\n<style scoped>\n    .dataframe tbody tr th:only-of-type {\n        vertical-align: middle;\n    }\n\n    .dataframe tbody tr th {\n        vertical-align: top;\n    }\n\n    .dataframe thead th {\n        text-align: right;\n    }\n</style>\n<table border=\"1\" class=\"dataframe\">\n  <thead>\n    <tr style=\"text-align: right;\">\n      <th></th>\n      <th>PostalCode</th>\n      <th>Borough</th>\n      <th>Neighbourhood</th>\n    </tr>\n  </thead>\n  <tbody>\n  </tbody>\n</table>\n</div>"
     },
     "metadata": {},
     "execution_count": 84
    }
   ],
   "source": [
    "df.query('(Neighbourhood == \"Not assigned\")')"
   ]
  },
  {
   "cell_type": "code",
   "execution_count": 85,
   "metadata": {},
   "outputs": [
    {
     "output_type": "execute_result",
     "data": {
      "text/plain": [
       "(103, 3)"
      ]
     },
     "metadata": {},
     "execution_count": 85
    }
   ],
   "source": [
    "df.shape"
   ]
  },
  {
   "source": [
    "Now getting the coordinates of neighbourhoods from a file provided by this course"
   ],
   "cell_type": "markdown",
   "metadata": {}
  },
  {
   "cell_type": "code",
   "execution_count": 86,
   "metadata": {},
   "outputs": [
    {
     "output_type": "execute_result",
     "data": {
      "text/plain": [
       "  Postal Code   Latitude  Longitude\n",
       "0         M1B  43.806686 -79.194353\n",
       "1         M1C  43.784535 -79.160497\n",
       "2         M1E  43.763573 -79.188711\n",
       "3         M1G  43.770992 -79.216917\n",
       "4         M1H  43.773136 -79.239476"
      ],
      "text/html": "<div>\n<style scoped>\n    .dataframe tbody tr th:only-of-type {\n        vertical-align: middle;\n    }\n\n    .dataframe tbody tr th {\n        vertical-align: top;\n    }\n\n    .dataframe thead th {\n        text-align: right;\n    }\n</style>\n<table border=\"1\" class=\"dataframe\">\n  <thead>\n    <tr style=\"text-align: right;\">\n      <th></th>\n      <th>Postal Code</th>\n      <th>Latitude</th>\n      <th>Longitude</th>\n    </tr>\n  </thead>\n  <tbody>\n    <tr>\n      <th>0</th>\n      <td>M1B</td>\n      <td>43.806686</td>\n      <td>-79.194353</td>\n    </tr>\n    <tr>\n      <th>1</th>\n      <td>M1C</td>\n      <td>43.784535</td>\n      <td>-79.160497</td>\n    </tr>\n    <tr>\n      <th>2</th>\n      <td>M1E</td>\n      <td>43.763573</td>\n      <td>-79.188711</td>\n    </tr>\n    <tr>\n      <th>3</th>\n      <td>M1G</td>\n      <td>43.770992</td>\n      <td>-79.216917</td>\n    </tr>\n    <tr>\n      <th>4</th>\n      <td>M1H</td>\n      <td>43.773136</td>\n      <td>-79.239476</td>\n    </tr>\n  </tbody>\n</table>\n</div>"
     },
     "metadata": {},
     "execution_count": 86
    }
   ],
   "source": [
    "data= pd.read_csv('data/Geospatial_Coordinates.csv')\n",
    "data.head()"
   ]
  },
  {
   "cell_type": "code",
   "execution_count": 87,
   "metadata": {},
   "outputs": [
    {
     "output_type": "execute_result",
     "data": {
      "text/plain": [
       "(103, 3)"
      ]
     },
     "metadata": {},
     "execution_count": 87
    }
   ],
   "source": [
    "data.shape"
   ]
  },
  {
   "cell_type": "code",
   "execution_count": 88,
   "metadata": {},
   "outputs": [],
   "source": [
    "pd.set_option('display.max_columns', None)\n",
    "pd.set_option('display.max_rows', None)"
   ]
  },
  {
   "source": [
    "Now joining the two dataframes"
   ],
   "cell_type": "markdown",
   "metadata": {}
  },
  {
   "cell_type": "code",
   "execution_count": 89,
   "metadata": {},
   "outputs": [
    {
     "output_type": "execute_result",
     "data": {
      "text/plain": [
       "  PostalCode           Borough                                Neighbourhood  \\\n",
       "0        M3A        North York                                    Parkwoods   \n",
       "1        M4A        North York                             Victoria Village   \n",
       "2        M5A  Downtown Toronto                    Regent Park, Harbourfront   \n",
       "3        M6A        North York             Lawrence Manor, Lawrence Heights   \n",
       "4        M7A  Downtown Toronto  Queen's Park, Ontario Provincial Government   \n",
       "\n",
       "  Postal Code   Latitude  Longitude  \n",
       "0         M3A  43.753259 -79.329656  \n",
       "1         M4A  43.725882 -79.315572  \n",
       "2         M5A  43.654260 -79.360636  \n",
       "3         M6A  43.718518 -79.464763  \n",
       "4         M7A  43.662301 -79.389494  "
      ],
      "text/html": "<div>\n<style scoped>\n    .dataframe tbody tr th:only-of-type {\n        vertical-align: middle;\n    }\n\n    .dataframe tbody tr th {\n        vertical-align: top;\n    }\n\n    .dataframe thead th {\n        text-align: right;\n    }\n</style>\n<table border=\"1\" class=\"dataframe\">\n  <thead>\n    <tr style=\"text-align: right;\">\n      <th></th>\n      <th>PostalCode</th>\n      <th>Borough</th>\n      <th>Neighbourhood</th>\n      <th>Postal Code</th>\n      <th>Latitude</th>\n      <th>Longitude</th>\n    </tr>\n  </thead>\n  <tbody>\n    <tr>\n      <th>0</th>\n      <td>M3A</td>\n      <td>North York</td>\n      <td>Parkwoods</td>\n      <td>M3A</td>\n      <td>43.753259</td>\n      <td>-79.329656</td>\n    </tr>\n    <tr>\n      <th>1</th>\n      <td>M4A</td>\n      <td>North York</td>\n      <td>Victoria Village</td>\n      <td>M4A</td>\n      <td>43.725882</td>\n      <td>-79.315572</td>\n    </tr>\n    <tr>\n      <th>2</th>\n      <td>M5A</td>\n      <td>Downtown Toronto</td>\n      <td>Regent Park, Harbourfront</td>\n      <td>M5A</td>\n      <td>43.654260</td>\n      <td>-79.360636</td>\n    </tr>\n    <tr>\n      <th>3</th>\n      <td>M6A</td>\n      <td>North York</td>\n      <td>Lawrence Manor, Lawrence Heights</td>\n      <td>M6A</td>\n      <td>43.718518</td>\n      <td>-79.464763</td>\n    </tr>\n    <tr>\n      <th>4</th>\n      <td>M7A</td>\n      <td>Downtown Toronto</td>\n      <td>Queen's Park, Ontario Provincial Government</td>\n      <td>M7A</td>\n      <td>43.662301</td>\n      <td>-79.389494</td>\n    </tr>\n  </tbody>\n</table>\n</div>"
     },
     "metadata": {},
     "execution_count": 89
    }
   ],
   "source": [
    "merged = pd.merge(left=df, right=data,how='left', left_on='PostalCode', right_on='Postal Code')\n",
    "merged.head()"
   ]
  },
  {
   "source": [
    "## Now keeping only toronto boroughs"
   ],
   "cell_type": "markdown",
   "metadata": {}
  },
  {
   "cell_type": "code",
   "execution_count": 90,
   "metadata": {},
   "outputs": [
    {
     "output_type": "execute_result",
     "data": {
      "text/plain": [
       "  PostalCode           Borough                                Neighbourhood  \\\n",
       "0        M5A  Downtown Toronto                    Regent Park, Harbourfront   \n",
       "1        M7A  Downtown Toronto  Queen's Park, Ontario Provincial Government   \n",
       "2        M5B  Downtown Toronto                     Garden District, Ryerson   \n",
       "3        M5C  Downtown Toronto                               St. James Town   \n",
       "4        M4E      East Toronto                                  The Beaches   \n",
       "\n",
       "  Postal Code   Latitude  Longitude  \n",
       "0         M5A  43.654260 -79.360636  \n",
       "1         M7A  43.662301 -79.389494  \n",
       "2         M5B  43.657162 -79.378937  \n",
       "3         M5C  43.651494 -79.375418  \n",
       "4         M4E  43.676357 -79.293031  "
      ],
      "text/html": "<div>\n<style scoped>\n    .dataframe tbody tr th:only-of-type {\n        vertical-align: middle;\n    }\n\n    .dataframe tbody tr th {\n        vertical-align: top;\n    }\n\n    .dataframe thead th {\n        text-align: right;\n    }\n</style>\n<table border=\"1\" class=\"dataframe\">\n  <thead>\n    <tr style=\"text-align: right;\">\n      <th></th>\n      <th>PostalCode</th>\n      <th>Borough</th>\n      <th>Neighbourhood</th>\n      <th>Postal Code</th>\n      <th>Latitude</th>\n      <th>Longitude</th>\n    </tr>\n  </thead>\n  <tbody>\n    <tr>\n      <th>0</th>\n      <td>M5A</td>\n      <td>Downtown Toronto</td>\n      <td>Regent Park, Harbourfront</td>\n      <td>M5A</td>\n      <td>43.654260</td>\n      <td>-79.360636</td>\n    </tr>\n    <tr>\n      <th>1</th>\n      <td>M7A</td>\n      <td>Downtown Toronto</td>\n      <td>Queen's Park, Ontario Provincial Government</td>\n      <td>M7A</td>\n      <td>43.662301</td>\n      <td>-79.389494</td>\n    </tr>\n    <tr>\n      <th>2</th>\n      <td>M5B</td>\n      <td>Downtown Toronto</td>\n      <td>Garden District, Ryerson</td>\n      <td>M5B</td>\n      <td>43.657162</td>\n      <td>-79.378937</td>\n    </tr>\n    <tr>\n      <th>3</th>\n      <td>M5C</td>\n      <td>Downtown Toronto</td>\n      <td>St. James Town</td>\n      <td>M5C</td>\n      <td>43.651494</td>\n      <td>-79.375418</td>\n    </tr>\n    <tr>\n      <th>4</th>\n      <td>M4E</td>\n      <td>East Toronto</td>\n      <td>The Beaches</td>\n      <td>M4E</td>\n      <td>43.676357</td>\n      <td>-79.293031</td>\n    </tr>\n  </tbody>\n</table>\n</div>"
     },
     "metadata": {},
     "execution_count": 90
    }
   ],
   "source": [
    "toronto_df = merged.query('(Borough.str.contains(\"Toronto\")) or (Borough.str.contains(\"toronto\"))')\n",
    "toronto_df.reset_index(drop=True,inplace=True)\n",
    "toronto_df.head()"
   ]
  },
  {
   "source": [
    "## Creating a map of Toronto with neighborhoods superimposed on top."
   ],
   "cell_type": "markdown",
   "metadata": {}
  },
  {
   "cell_type": "code",
   "execution_count": 91,
   "metadata": {},
   "outputs": [
    {
     "output_type": "execute_result",
     "data": {
      "text/plain": [
       "<folium.folium.Map at 0x28575d9b2e0>"
      ],
      "text/html": "<div style=\"width:100%;\"><div style=\"position:relative;width:100%;height:0;padding-bottom:60%;\"><span style=\"color:#565656\">Make this Notebook Trusted to load map: File -> Trust Notebook</span><iframe src=\"about:blank\" style=\"position:absolute;width:100%;height:100%;left:0;top:0;border:none !important;\" data-html=%3C%21DOCTYPE%20html%3E%0A%3Chead%3E%20%20%20%20%0A%20%20%20%20%3Cmeta%20http-equiv%3D%22content-type%22%20content%3D%22text/html%3B%20charset%3DUTF-8%22%20/%3E%0A%20%20%20%20%0A%20%20%20%20%20%20%20%20%3Cscript%3E%0A%20%20%20%20%20%20%20%20%20%20%20%20L_NO_TOUCH%20%3D%20false%3B%0A%20%20%20%20%20%20%20%20%20%20%20%20L_DISABLE_3D%20%3D%20false%3B%0A%20%20%20%20%20%20%20%20%3C/script%3E%0A%20%20%20%20%0A%20%20%20%20%3Cstyle%3Ehtml%2C%20body%20%7Bwidth%3A%20100%25%3Bheight%3A%20100%25%3Bmargin%3A%200%3Bpadding%3A%200%3B%7D%3C/style%3E%0A%20%20%20%20%3Cstyle%3E%23map%20%7Bposition%3Aabsolute%3Btop%3A0%3Bbottom%3A0%3Bright%3A0%3Bleft%3A0%3B%7D%3C/style%3E%0A%20%20%20%20%3Cscript%20src%3D%22https%3A//cdn.jsdelivr.net/npm/leaflet%401.6.0/dist/leaflet.js%22%3E%3C/script%3E%0A%20%20%20%20%3Cscript%20src%3D%22https%3A//code.jquery.com/jquery-1.12.4.min.js%22%3E%3C/script%3E%0A%20%20%20%20%3Cscript%20src%3D%22https%3A//maxcdn.bootstrapcdn.com/bootstrap/3.2.0/js/bootstrap.min.js%22%3E%3C/script%3E%0A%20%20%20%20%3Cscript%20src%3D%22https%3A//cdnjs.cloudflare.com/ajax/libs/Leaflet.awesome-markers/2.0.2/leaflet.awesome-markers.js%22%3E%3C/script%3E%0A%20%20%20%20%3Clink%20rel%3D%22stylesheet%22%20href%3D%22https%3A//cdn.jsdelivr.net/npm/leaflet%401.6.0/dist/leaflet.css%22/%3E%0A%20%20%20%20%3Clink%20rel%3D%22stylesheet%22%20href%3D%22https%3A//maxcdn.bootstrapcdn.com/bootstrap/3.2.0/css/bootstrap.min.css%22/%3E%0A%20%20%20%20%3Clink%20rel%3D%22stylesheet%22%20href%3D%22https%3A//maxcdn.bootstrapcdn.com/bootstrap/3.2.0/css/bootstrap-theme.min.css%22/%3E%0A%20%20%20%20%3Clink%20rel%3D%22stylesheet%22%20href%3D%22https%3A//maxcdn.bootstrapcdn.com/font-awesome/4.6.3/css/font-awesome.min.css%22/%3E%0A%20%20%20%20%3Clink%20rel%3D%22stylesheet%22%20href%3D%22https%3A//cdnjs.cloudflare.com/ajax/libs/Leaflet.awesome-markers/2.0.2/leaflet.awesome-markers.css%22/%3E%0A%20%20%20%20%3Clink%20rel%3D%22stylesheet%22%20href%3D%22https%3A//cdn.jsdelivr.net/gh/python-visualization/folium/folium/templates/leaflet.awesome.rotate.min.css%22/%3E%0A%20%20%20%20%0A%20%20%20%20%20%20%20%20%20%20%20%20%3Cmeta%20name%3D%22viewport%22%20content%3D%22width%3Ddevice-width%2C%0A%20%20%20%20%20%20%20%20%20%20%20%20%20%20%20%20initial-scale%3D1.0%2C%20maximum-scale%3D1.0%2C%20user-scalable%3Dno%22%20/%3E%0A%20%20%20%20%20%20%20%20%20%20%20%20%3Cstyle%3E%0A%20%20%20%20%20%20%20%20%20%20%20%20%20%20%20%20%23map_01d7decb81374a4299b5e1d8817ac1f9%20%7B%0A%20%20%20%20%20%20%20%20%20%20%20%20%20%20%20%20%20%20%20%20position%3A%20relative%3B%0A%20%20%20%20%20%20%20%20%20%20%20%20%20%20%20%20%20%20%20%20width%3A%20100.0%25%3B%0A%20%20%20%20%20%20%20%20%20%20%20%20%20%20%20%20%20%20%20%20height%3A%20100.0%25%3B%0A%20%20%20%20%20%20%20%20%20%20%20%20%20%20%20%20%20%20%20%20left%3A%200.0%25%3B%0A%20%20%20%20%20%20%20%20%20%20%20%20%20%20%20%20%20%20%20%20top%3A%200.0%25%3B%0A%20%20%20%20%20%20%20%20%20%20%20%20%20%20%20%20%7D%0A%20%20%20%20%20%20%20%20%20%20%20%20%3C/style%3E%0A%20%20%20%20%20%20%20%20%0A%3C/head%3E%0A%3Cbody%3E%20%20%20%20%0A%20%20%20%20%0A%20%20%20%20%20%20%20%20%20%20%20%20%3Cdiv%20class%3D%22folium-map%22%20id%3D%22map_01d7decb81374a4299b5e1d8817ac1f9%22%20%3E%3C/div%3E%0A%20%20%20%20%20%20%20%20%0A%3C/body%3E%0A%3Cscript%3E%20%20%20%20%0A%20%20%20%20%0A%20%20%20%20%20%20%20%20%20%20%20%20var%20map_01d7decb81374a4299b5e1d8817ac1f9%20%3D%20L.map%28%0A%20%20%20%20%20%20%20%20%20%20%20%20%20%20%20%20%22map_01d7decb81374a4299b5e1d8817ac1f9%22%2C%0A%20%20%20%20%20%20%20%20%20%20%20%20%20%20%20%20%7B%0A%20%20%20%20%20%20%20%20%20%20%20%20%20%20%20%20%20%20%20%20center%3A%20%5B43.7253427%2C%20-79.5208805%5D%2C%0A%20%20%20%20%20%20%20%20%20%20%20%20%20%20%20%20%20%20%20%20crs%3A%20L.CRS.EPSG3857%2C%0A%20%20%20%20%20%20%20%20%20%20%20%20%20%20%20%20%20%20%20%20zoom%3A%2011%2C%0A%20%20%20%20%20%20%20%20%20%20%20%20%20%20%20%20%20%20%20%20zoomControl%3A%20true%2C%0A%20%20%20%20%20%20%20%20%20%20%20%20%20%20%20%20%20%20%20%20preferCanvas%3A%20false%2C%0A%20%20%20%20%20%20%20%20%20%20%20%20%20%20%20%20%7D%0A%20%20%20%20%20%20%20%20%20%20%20%20%29%3B%0A%0A%20%20%20%20%20%20%20%20%20%20%20%20%0A%0A%20%20%20%20%20%20%20%20%0A%20%20%20%20%0A%20%20%20%20%20%20%20%20%20%20%20%20var%20tile_layer_32708dec5fc848338a529ba85e91e5d2%20%3D%20L.tileLayer%28%0A%20%20%20%20%20%20%20%20%20%20%20%20%20%20%20%20%22https%3A//%7Bs%7D.tile.openstreetmap.org/%7Bz%7D/%7Bx%7D/%7By%7D.png%22%2C%0A%20%20%20%20%20%20%20%20%20%20%20%20%20%20%20%20%7B%22attribution%22%3A%20%22Data%20by%20%5Cu0026copy%3B%20%5Cu003ca%20href%3D%5C%22http%3A//openstreetmap.org%5C%22%5Cu003eOpenStreetMap%5Cu003c/a%5Cu003e%2C%20under%20%5Cu003ca%20href%3D%5C%22http%3A//www.openstreetmap.org/copyright%5C%22%5Cu003eODbL%5Cu003c/a%5Cu003e.%22%2C%20%22detectRetina%22%3A%20false%2C%20%22maxNativeZoom%22%3A%2018%2C%20%22maxZoom%22%3A%2018%2C%20%22minZoom%22%3A%200%2C%20%22noWrap%22%3A%20false%2C%20%22opacity%22%3A%201%2C%20%22subdomains%22%3A%20%22abc%22%2C%20%22tms%22%3A%20false%7D%0A%20%20%20%20%20%20%20%20%20%20%20%20%29.addTo%28map_01d7decb81374a4299b5e1d8817ac1f9%29%3B%0A%20%20%20%20%20%20%20%20%0A%20%20%20%20%0A%20%20%20%20%20%20%20%20%20%20%20%20var%20circle_marker_13a42013acfd403d89f79156e459bb34%20%3D%20L.circleMarker%28%0A%20%20%20%20%20%20%20%20%20%20%20%20%20%20%20%20%5B43.6542599%2C%20-79.3606359%5D%2C%0A%20%20%20%20%20%20%20%20%20%20%20%20%20%20%20%20%7B%22bubblingMouseEvents%22%3A%20true%2C%20%22color%22%3A%20%22blue%22%2C%20%22dashArray%22%3A%20null%2C%20%22dashOffset%22%3A%20null%2C%20%22fill%22%3A%20true%2C%20%22fillColor%22%3A%20%22%233186cc%22%2C%20%22fillOpacity%22%3A%200.7%2C%20%22fillRule%22%3A%20%22evenodd%22%2C%20%22lineCap%22%3A%20%22round%22%2C%20%22lineJoin%22%3A%20%22round%22%2C%20%22opacity%22%3A%201.0%2C%20%22radius%22%3A%205%2C%20%22stroke%22%3A%20true%2C%20%22weight%22%3A%203%7D%0A%20%20%20%20%20%20%20%20%20%20%20%20%29.addTo%28map_01d7decb81374a4299b5e1d8817ac1f9%29%3B%0A%20%20%20%20%20%20%20%20%0A%20%20%20%20%0A%20%20%20%20%20%20%20%20var%20popup_f03acd1f89ff49a597855b6f1b7abdf4%20%3D%20L.popup%28%7B%22maxWidth%22%3A%20%22100%25%22%2C%20%22minWidth%22%3A%201000%7D%29%3B%0A%0A%20%20%20%20%20%20%20%20%0A%20%20%20%20%20%20%20%20%20%20%20%20var%20i_frame_e42e5808dc6942668a085120a78ab6df%20%3D%20%24%28%60%3Ciframe%20src%3D%22data%3Atext/html%3Bcharset%3Dutf-8%3Bbase64%2CCiAgICBSZWdlbnQgUGFyaywgSGFyYm91cmZyb250LCBEb3dudG93biBUb3JvbnRv%22%20width%3D%22250%22%20style%3D%22border%3Anone%20%21important%3B%22%20height%3D%2275%22%3E%3C/iframe%3E%60%29%5B0%5D%3B%0A%20%20%20%20%20%20%20%20%20%20%20%20popup_f03acd1f89ff49a597855b6f1b7abdf4.setContent%28i_frame_e42e5808dc6942668a085120a78ab6df%29%3B%0A%20%20%20%20%20%20%20%20%0A%0A%20%20%20%20%20%20%20%20circle_marker_13a42013acfd403d89f79156e459bb34.bindPopup%28popup_f03acd1f89ff49a597855b6f1b7abdf4%29%0A%20%20%20%20%20%20%20%20%3B%0A%0A%20%20%20%20%20%20%20%20%0A%20%20%20%20%0A%20%20%20%20%0A%20%20%20%20%20%20%20%20%20%20%20%20var%20circle_marker_68197256c6e0403eb105cb3eb551675c%20%3D%20L.circleMarker%28%0A%20%20%20%20%20%20%20%20%20%20%20%20%20%20%20%20%5B43.6623015%2C%20-79.3894938%5D%2C%0A%20%20%20%20%20%20%20%20%20%20%20%20%20%20%20%20%7B%22bubblingMouseEvents%22%3A%20true%2C%20%22color%22%3A%20%22blue%22%2C%20%22dashArray%22%3A%20null%2C%20%22dashOffset%22%3A%20null%2C%20%22fill%22%3A%20true%2C%20%22fillColor%22%3A%20%22%233186cc%22%2C%20%22fillOpacity%22%3A%200.7%2C%20%22fillRule%22%3A%20%22evenodd%22%2C%20%22lineCap%22%3A%20%22round%22%2C%20%22lineJoin%22%3A%20%22round%22%2C%20%22opacity%22%3A%201.0%2C%20%22radius%22%3A%205%2C%20%22stroke%22%3A%20true%2C%20%22weight%22%3A%203%7D%0A%20%20%20%20%20%20%20%20%20%20%20%20%29.addTo%28map_01d7decb81374a4299b5e1d8817ac1f9%29%3B%0A%20%20%20%20%20%20%20%20%0A%20%20%20%20%0A%20%20%20%20%20%20%20%20var%20popup_2520f83abe0e461b9c684acdc8b7d405%20%3D%20L.popup%28%7B%22maxWidth%22%3A%20%22100%25%22%2C%20%22minWidth%22%3A%201000%7D%29%3B%0A%0A%20%20%20%20%20%20%20%20%0A%20%20%20%20%20%20%20%20%20%20%20%20var%20i_frame_a27e1d94cade4c228736283dcec5f277%20%3D%20%24%28%60%3Ciframe%20src%3D%22data%3Atext/html%3Bcharset%3Dutf-8%3Bbase64%2CCiAgICBRdWVlbidzIFBhcmssIE9udGFyaW8gUHJvdmluY2lhbCBHb3Zlcm5tZW50LCBEb3dudG93biBUb3JvbnRv%22%20width%3D%22250%22%20style%3D%22border%3Anone%20%21important%3B%22%20height%3D%2275%22%3E%3C/iframe%3E%60%29%5B0%5D%3B%0A%20%20%20%20%20%20%20%20%20%20%20%20popup_2520f83abe0e461b9c684acdc8b7d405.setContent%28i_frame_a27e1d94cade4c228736283dcec5f277%29%3B%0A%20%20%20%20%20%20%20%20%0A%0A%20%20%20%20%20%20%20%20circle_marker_68197256c6e0403eb105cb3eb551675c.bindPopup%28popup_2520f83abe0e461b9c684acdc8b7d405%29%0A%20%20%20%20%20%20%20%20%3B%0A%0A%20%20%20%20%20%20%20%20%0A%20%20%20%20%0A%20%20%20%20%0A%20%20%20%20%20%20%20%20%20%20%20%20var%20circle_marker_31795a4f54d14d058c4f9e9c5e659ac2%20%3D%20L.circleMarker%28%0A%20%20%20%20%20%20%20%20%20%20%20%20%20%20%20%20%5B43.6571618%2C%20-79.37893709999999%5D%2C%0A%20%20%20%20%20%20%20%20%20%20%20%20%20%20%20%20%7B%22bubblingMouseEvents%22%3A%20true%2C%20%22color%22%3A%20%22blue%22%2C%20%22dashArray%22%3A%20null%2C%20%22dashOffset%22%3A%20null%2C%20%22fill%22%3A%20true%2C%20%22fillColor%22%3A%20%22%233186cc%22%2C%20%22fillOpacity%22%3A%200.7%2C%20%22fillRule%22%3A%20%22evenodd%22%2C%20%22lineCap%22%3A%20%22round%22%2C%20%22lineJoin%22%3A%20%22round%22%2C%20%22opacity%22%3A%201.0%2C%20%22radius%22%3A%205%2C%20%22stroke%22%3A%20true%2C%20%22weight%22%3A%203%7D%0A%20%20%20%20%20%20%20%20%20%20%20%20%29.addTo%28map_01d7decb81374a4299b5e1d8817ac1f9%29%3B%0A%20%20%20%20%20%20%20%20%0A%20%20%20%20%0A%20%20%20%20%20%20%20%20var%20popup_bc873ff8e727439085daf605fedb6e9a%20%3D%20L.popup%28%7B%22maxWidth%22%3A%20%22100%25%22%2C%20%22minWidth%22%3A%201000%7D%29%3B%0A%0A%20%20%20%20%20%20%20%20%0A%20%20%20%20%20%20%20%20%20%20%20%20var%20i_frame_6801fde3587549f497ea3bd7083a7d0c%20%3D%20%24%28%60%3Ciframe%20src%3D%22data%3Atext/html%3Bcharset%3Dutf-8%3Bbase64%2CCiAgICBHYXJkZW4gRGlzdHJpY3QsIFJ5ZXJzb24sIERvd250b3duIFRvcm9udG8%3D%22%20width%3D%22250%22%20style%3D%22border%3Anone%20%21important%3B%22%20height%3D%2275%22%3E%3C/iframe%3E%60%29%5B0%5D%3B%0A%20%20%20%20%20%20%20%20%20%20%20%20popup_bc873ff8e727439085daf605fedb6e9a.setContent%28i_frame_6801fde3587549f497ea3bd7083a7d0c%29%3B%0A%20%20%20%20%20%20%20%20%0A%0A%20%20%20%20%20%20%20%20circle_marker_31795a4f54d14d058c4f9e9c5e659ac2.bindPopup%28popup_bc873ff8e727439085daf605fedb6e9a%29%0A%20%20%20%20%20%20%20%20%3B%0A%0A%20%20%20%20%20%20%20%20%0A%20%20%20%20%0A%20%20%20%20%0A%20%20%20%20%20%20%20%20%20%20%20%20var%20circle_marker_b5bcf2e8741842a48deec03e9f8f70c8%20%3D%20L.circleMarker%28%0A%20%20%20%20%20%20%20%20%20%20%20%20%20%20%20%20%5B43.6514939%2C%20-79.3754179%5D%2C%0A%20%20%20%20%20%20%20%20%20%20%20%20%20%20%20%20%7B%22bubblingMouseEvents%22%3A%20true%2C%20%22color%22%3A%20%22blue%22%2C%20%22dashArray%22%3A%20null%2C%20%22dashOffset%22%3A%20null%2C%20%22fill%22%3A%20true%2C%20%22fillColor%22%3A%20%22%233186cc%22%2C%20%22fillOpacity%22%3A%200.7%2C%20%22fillRule%22%3A%20%22evenodd%22%2C%20%22lineCap%22%3A%20%22round%22%2C%20%22lineJoin%22%3A%20%22round%22%2C%20%22opacity%22%3A%201.0%2C%20%22radius%22%3A%205%2C%20%22stroke%22%3A%20true%2C%20%22weight%22%3A%203%7D%0A%20%20%20%20%20%20%20%20%20%20%20%20%29.addTo%28map_01d7decb81374a4299b5e1d8817ac1f9%29%3B%0A%20%20%20%20%20%20%20%20%0A%20%20%20%20%0A%20%20%20%20%20%20%20%20var%20popup_8119fbb0045f4543ab450e5888f69213%20%3D%20L.popup%28%7B%22maxWidth%22%3A%20%22100%25%22%2C%20%22minWidth%22%3A%201000%7D%29%3B%0A%0A%20%20%20%20%20%20%20%20%0A%20%20%20%20%20%20%20%20%20%20%20%20var%20i_frame_8ab76e9215f34660a8ee2cc78349bee6%20%3D%20%24%28%60%3Ciframe%20src%3D%22data%3Atext/html%3Bcharset%3Dutf-8%3Bbase64%2CCiAgICBTdC4gSmFtZXMgVG93biwgRG93bnRvd24gVG9yb250bw%3D%3D%22%20width%3D%22250%22%20style%3D%22border%3Anone%20%21important%3B%22%20height%3D%2275%22%3E%3C/iframe%3E%60%29%5B0%5D%3B%0A%20%20%20%20%20%20%20%20%20%20%20%20popup_8119fbb0045f4543ab450e5888f69213.setContent%28i_frame_8ab76e9215f34660a8ee2cc78349bee6%29%3B%0A%20%20%20%20%20%20%20%20%0A%0A%20%20%20%20%20%20%20%20circle_marker_b5bcf2e8741842a48deec03e9f8f70c8.bindPopup%28popup_8119fbb0045f4543ab450e5888f69213%29%0A%20%20%20%20%20%20%20%20%3B%0A%0A%20%20%20%20%20%20%20%20%0A%20%20%20%20%0A%20%20%20%20%0A%20%20%20%20%20%20%20%20%20%20%20%20var%20circle_marker_15cc017467b24bd98f135e51f4b1e867%20%3D%20L.circleMarker%28%0A%20%20%20%20%20%20%20%20%20%20%20%20%20%20%20%20%5B43.67635739999999%2C%20-79.2930312%5D%2C%0A%20%20%20%20%20%20%20%20%20%20%20%20%20%20%20%20%7B%22bubblingMouseEvents%22%3A%20true%2C%20%22color%22%3A%20%22blue%22%2C%20%22dashArray%22%3A%20null%2C%20%22dashOffset%22%3A%20null%2C%20%22fill%22%3A%20true%2C%20%22fillColor%22%3A%20%22%233186cc%22%2C%20%22fillOpacity%22%3A%200.7%2C%20%22fillRule%22%3A%20%22evenodd%22%2C%20%22lineCap%22%3A%20%22round%22%2C%20%22lineJoin%22%3A%20%22round%22%2C%20%22opacity%22%3A%201.0%2C%20%22radius%22%3A%205%2C%20%22stroke%22%3A%20true%2C%20%22weight%22%3A%203%7D%0A%20%20%20%20%20%20%20%20%20%20%20%20%29.addTo%28map_01d7decb81374a4299b5e1d8817ac1f9%29%3B%0A%20%20%20%20%20%20%20%20%0A%20%20%20%20%0A%20%20%20%20%20%20%20%20var%20popup_283a9bc19ed3483c9df642c8c62c4cad%20%3D%20L.popup%28%7B%22maxWidth%22%3A%20%22100%25%22%2C%20%22minWidth%22%3A%201000%7D%29%3B%0A%0A%20%20%20%20%20%20%20%20%0A%20%20%20%20%20%20%20%20%20%20%20%20var%20i_frame_bf241c5b0c70438b9f50df706e03b4ac%20%3D%20%24%28%60%3Ciframe%20src%3D%22data%3Atext/html%3Bcharset%3Dutf-8%3Bbase64%2CCiAgICBUaGUgQmVhY2hlcywgRWFzdCBUb3JvbnRv%22%20width%3D%22250%22%20style%3D%22border%3Anone%20%21important%3B%22%20height%3D%2275%22%3E%3C/iframe%3E%60%29%5B0%5D%3B%0A%20%20%20%20%20%20%20%20%20%20%20%20popup_283a9bc19ed3483c9df642c8c62c4cad.setContent%28i_frame_bf241c5b0c70438b9f50df706e03b4ac%29%3B%0A%20%20%20%20%20%20%20%20%0A%0A%20%20%20%20%20%20%20%20circle_marker_15cc017467b24bd98f135e51f4b1e867.bindPopup%28popup_283a9bc19ed3483c9df642c8c62c4cad%29%0A%20%20%20%20%20%20%20%20%3B%0A%0A%20%20%20%20%20%20%20%20%0A%20%20%20%20%0A%20%20%20%20%0A%20%20%20%20%20%20%20%20%20%20%20%20var%20circle_marker_b7bbae64b23b424facc456d3dc167528%20%3D%20L.circleMarker%28%0A%20%20%20%20%20%20%20%20%20%20%20%20%20%20%20%20%5B43.644770799999996%2C%20-79.3733064%5D%2C%0A%20%20%20%20%20%20%20%20%20%20%20%20%20%20%20%20%7B%22bubblingMouseEvents%22%3A%20true%2C%20%22color%22%3A%20%22blue%22%2C%20%22dashArray%22%3A%20null%2C%20%22dashOffset%22%3A%20null%2C%20%22fill%22%3A%20true%2C%20%22fillColor%22%3A%20%22%233186cc%22%2C%20%22fillOpacity%22%3A%200.7%2C%20%22fillRule%22%3A%20%22evenodd%22%2C%20%22lineCap%22%3A%20%22round%22%2C%20%22lineJoin%22%3A%20%22round%22%2C%20%22opacity%22%3A%201.0%2C%20%22radius%22%3A%205%2C%20%22stroke%22%3A%20true%2C%20%22weight%22%3A%203%7D%0A%20%20%20%20%20%20%20%20%20%20%20%20%29.addTo%28map_01d7decb81374a4299b5e1d8817ac1f9%29%3B%0A%20%20%20%20%20%20%20%20%0A%20%20%20%20%0A%20%20%20%20%20%20%20%20var%20popup_3f71686200fd4b3fae5967b5727693e1%20%3D%20L.popup%28%7B%22maxWidth%22%3A%20%22100%25%22%2C%20%22minWidth%22%3A%201000%7D%29%3B%0A%0A%20%20%20%20%20%20%20%20%0A%20%20%20%20%20%20%20%20%20%20%20%20var%20i_frame_54d6e5f1e60b4afa97644b32b58b0e6d%20%3D%20%24%28%60%3Ciframe%20src%3D%22data%3Atext/html%3Bcharset%3Dutf-8%3Bbase64%2CCiAgICBCZXJjenkgUGFyaywgRG93bnRvd24gVG9yb250bw%3D%3D%22%20width%3D%22250%22%20style%3D%22border%3Anone%20%21important%3B%22%20height%3D%2275%22%3E%3C/iframe%3E%60%29%5B0%5D%3B%0A%20%20%20%20%20%20%20%20%20%20%20%20popup_3f71686200fd4b3fae5967b5727693e1.setContent%28i_frame_54d6e5f1e60b4afa97644b32b58b0e6d%29%3B%0A%20%20%20%20%20%20%20%20%0A%0A%20%20%20%20%20%20%20%20circle_marker_b7bbae64b23b424facc456d3dc167528.bindPopup%28popup_3f71686200fd4b3fae5967b5727693e1%29%0A%20%20%20%20%20%20%20%20%3B%0A%0A%20%20%20%20%20%20%20%20%0A%20%20%20%20%0A%20%20%20%20%0A%20%20%20%20%20%20%20%20%20%20%20%20var%20circle_marker_0069525698814e4eb745cfebf789471b%20%3D%20L.circleMarker%28%0A%20%20%20%20%20%20%20%20%20%20%20%20%20%20%20%20%5B43.6579524%2C%20-79.3873826%5D%2C%0A%20%20%20%20%20%20%20%20%20%20%20%20%20%20%20%20%7B%22bubblingMouseEvents%22%3A%20true%2C%20%22color%22%3A%20%22blue%22%2C%20%22dashArray%22%3A%20null%2C%20%22dashOffset%22%3A%20null%2C%20%22fill%22%3A%20true%2C%20%22fillColor%22%3A%20%22%233186cc%22%2C%20%22fillOpacity%22%3A%200.7%2C%20%22fillRule%22%3A%20%22evenodd%22%2C%20%22lineCap%22%3A%20%22round%22%2C%20%22lineJoin%22%3A%20%22round%22%2C%20%22opacity%22%3A%201.0%2C%20%22radius%22%3A%205%2C%20%22stroke%22%3A%20true%2C%20%22weight%22%3A%203%7D%0A%20%20%20%20%20%20%20%20%20%20%20%20%29.addTo%28map_01d7decb81374a4299b5e1d8817ac1f9%29%3B%0A%20%20%20%20%20%20%20%20%0A%20%20%20%20%0A%20%20%20%20%20%20%20%20var%20popup_76d7365cbb954910b9a89cdaf2698d8c%20%3D%20L.popup%28%7B%22maxWidth%22%3A%20%22100%25%22%2C%20%22minWidth%22%3A%201000%7D%29%3B%0A%0A%20%20%20%20%20%20%20%20%0A%20%20%20%20%20%20%20%20%20%20%20%20var%20i_frame_dc0d81c5522e47608dbc387b77f049eb%20%3D%20%24%28%60%3Ciframe%20src%3D%22data%3Atext/html%3Bcharset%3Dutf-8%3Bbase64%2CCiAgICBDZW50cmFsIEJheSBTdHJlZXQsIERvd250b3duIFRvcm9udG8%3D%22%20width%3D%22250%22%20style%3D%22border%3Anone%20%21important%3B%22%20height%3D%2275%22%3E%3C/iframe%3E%60%29%5B0%5D%3B%0A%20%20%20%20%20%20%20%20%20%20%20%20popup_76d7365cbb954910b9a89cdaf2698d8c.setContent%28i_frame_dc0d81c5522e47608dbc387b77f049eb%29%3B%0A%20%20%20%20%20%20%20%20%0A%0A%20%20%20%20%20%20%20%20circle_marker_0069525698814e4eb745cfebf789471b.bindPopup%28popup_76d7365cbb954910b9a89cdaf2698d8c%29%0A%20%20%20%20%20%20%20%20%3B%0A%0A%20%20%20%20%20%20%20%20%0A%20%20%20%20%0A%20%20%20%20%0A%20%20%20%20%20%20%20%20%20%20%20%20var%20circle_marker_8b4f806267064ecf9958f0fae88adcb8%20%3D%20L.circleMarker%28%0A%20%20%20%20%20%20%20%20%20%20%20%20%20%20%20%20%5B43.669542%2C%20-79.4225637%5D%2C%0A%20%20%20%20%20%20%20%20%20%20%20%20%20%20%20%20%7B%22bubblingMouseEvents%22%3A%20true%2C%20%22color%22%3A%20%22blue%22%2C%20%22dashArray%22%3A%20null%2C%20%22dashOffset%22%3A%20null%2C%20%22fill%22%3A%20true%2C%20%22fillColor%22%3A%20%22%233186cc%22%2C%20%22fillOpacity%22%3A%200.7%2C%20%22fillRule%22%3A%20%22evenodd%22%2C%20%22lineCap%22%3A%20%22round%22%2C%20%22lineJoin%22%3A%20%22round%22%2C%20%22opacity%22%3A%201.0%2C%20%22radius%22%3A%205%2C%20%22stroke%22%3A%20true%2C%20%22weight%22%3A%203%7D%0A%20%20%20%20%20%20%20%20%20%20%20%20%29.addTo%28map_01d7decb81374a4299b5e1d8817ac1f9%29%3B%0A%20%20%20%20%20%20%20%20%0A%20%20%20%20%0A%20%20%20%20%20%20%20%20var%20popup_552d1ca3776b4b6b975ead2cc8d6236b%20%3D%20L.popup%28%7B%22maxWidth%22%3A%20%22100%25%22%2C%20%22minWidth%22%3A%201000%7D%29%3B%0A%0A%20%20%20%20%20%20%20%20%0A%20%20%20%20%20%20%20%20%20%20%20%20var%20i_frame_26e2500495314fa3b4120551cb691765%20%3D%20%24%28%60%3Ciframe%20src%3D%22data%3Atext/html%3Bcharset%3Dutf-8%3Bbase64%2CCiAgICBDaHJpc3RpZSwgRG93bnRvd24gVG9yb250bw%3D%3D%22%20width%3D%22250%22%20style%3D%22border%3Anone%20%21important%3B%22%20height%3D%2275%22%3E%3C/iframe%3E%60%29%5B0%5D%3B%0A%20%20%20%20%20%20%20%20%20%20%20%20popup_552d1ca3776b4b6b975ead2cc8d6236b.setContent%28i_frame_26e2500495314fa3b4120551cb691765%29%3B%0A%20%20%20%20%20%20%20%20%0A%0A%20%20%20%20%20%20%20%20circle_marker_8b4f806267064ecf9958f0fae88adcb8.bindPopup%28popup_552d1ca3776b4b6b975ead2cc8d6236b%29%0A%20%20%20%20%20%20%20%20%3B%0A%0A%20%20%20%20%20%20%20%20%0A%20%20%20%20%0A%20%20%20%20%0A%20%20%20%20%20%20%20%20%20%20%20%20var%20circle_marker_568d2ce7e8534bd1ac0aeb00d4f9e928%20%3D%20L.circleMarker%28%0A%20%20%20%20%20%20%20%20%20%20%20%20%20%20%20%20%5B43.65057120000001%2C%20-79.3845675%5D%2C%0A%20%20%20%20%20%20%20%20%20%20%20%20%20%20%20%20%7B%22bubblingMouseEvents%22%3A%20true%2C%20%22color%22%3A%20%22blue%22%2C%20%22dashArray%22%3A%20null%2C%20%22dashOffset%22%3A%20null%2C%20%22fill%22%3A%20true%2C%20%22fillColor%22%3A%20%22%233186cc%22%2C%20%22fillOpacity%22%3A%200.7%2C%20%22fillRule%22%3A%20%22evenodd%22%2C%20%22lineCap%22%3A%20%22round%22%2C%20%22lineJoin%22%3A%20%22round%22%2C%20%22opacity%22%3A%201.0%2C%20%22radius%22%3A%205%2C%20%22stroke%22%3A%20true%2C%20%22weight%22%3A%203%7D%0A%20%20%20%20%20%20%20%20%20%20%20%20%29.addTo%28map_01d7decb81374a4299b5e1d8817ac1f9%29%3B%0A%20%20%20%20%20%20%20%20%0A%20%20%20%20%0A%20%20%20%20%20%20%20%20var%20popup_973c16422fc84ff8826ccea97450109b%20%3D%20L.popup%28%7B%22maxWidth%22%3A%20%22100%25%22%2C%20%22minWidth%22%3A%201000%7D%29%3B%0A%0A%20%20%20%20%20%20%20%20%0A%20%20%20%20%20%20%20%20%20%20%20%20var%20i_frame_b24430314f9d42fdb5691a07af27c932%20%3D%20%24%28%60%3Ciframe%20src%3D%22data%3Atext/html%3Bcharset%3Dutf-8%3Bbase64%2CCiAgICBSaWNobW9uZCwgQWRlbGFpZGUsIEtpbmcsIERvd250b3duIFRvcm9udG8%3D%22%20width%3D%22250%22%20style%3D%22border%3Anone%20%21important%3B%22%20height%3D%2275%22%3E%3C/iframe%3E%60%29%5B0%5D%3B%0A%20%20%20%20%20%20%20%20%20%20%20%20popup_973c16422fc84ff8826ccea97450109b.setContent%28i_frame_b24430314f9d42fdb5691a07af27c932%29%3B%0A%20%20%20%20%20%20%20%20%0A%0A%20%20%20%20%20%20%20%20circle_marker_568d2ce7e8534bd1ac0aeb00d4f9e928.bindPopup%28popup_973c16422fc84ff8826ccea97450109b%29%0A%20%20%20%20%20%20%20%20%3B%0A%0A%20%20%20%20%20%20%20%20%0A%20%20%20%20%0A%20%20%20%20%0A%20%20%20%20%20%20%20%20%20%20%20%20var%20circle_marker_df05f6e42f1b4fcc840e5307bf65ebb0%20%3D%20L.circleMarker%28%0A%20%20%20%20%20%20%20%20%20%20%20%20%20%20%20%20%5B43.66900510000001%2C%20-79.4422593%5D%2C%0A%20%20%20%20%20%20%20%20%20%20%20%20%20%20%20%20%7B%22bubblingMouseEvents%22%3A%20true%2C%20%22color%22%3A%20%22blue%22%2C%20%22dashArray%22%3A%20null%2C%20%22dashOffset%22%3A%20null%2C%20%22fill%22%3A%20true%2C%20%22fillColor%22%3A%20%22%233186cc%22%2C%20%22fillOpacity%22%3A%200.7%2C%20%22fillRule%22%3A%20%22evenodd%22%2C%20%22lineCap%22%3A%20%22round%22%2C%20%22lineJoin%22%3A%20%22round%22%2C%20%22opacity%22%3A%201.0%2C%20%22radius%22%3A%205%2C%20%22stroke%22%3A%20true%2C%20%22weight%22%3A%203%7D%0A%20%20%20%20%20%20%20%20%20%20%20%20%29.addTo%28map_01d7decb81374a4299b5e1d8817ac1f9%29%3B%0A%20%20%20%20%20%20%20%20%0A%20%20%20%20%0A%20%20%20%20%20%20%20%20var%20popup_0da9af0712aa42ff82ba482b74fa78bf%20%3D%20L.popup%28%7B%22maxWidth%22%3A%20%22100%25%22%2C%20%22minWidth%22%3A%201000%7D%29%3B%0A%0A%20%20%20%20%20%20%20%20%0A%20%20%20%20%20%20%20%20%20%20%20%20var%20i_frame_9efab846f7704ae08937c9d606cf2139%20%3D%20%24%28%60%3Ciframe%20src%3D%22data%3Atext/html%3Bcharset%3Dutf-8%3Bbase64%2CCiAgICBEdWZmZXJpbiwgRG92ZXJjb3VydCBWaWxsYWdlLCBXZXN0IFRvcm9udG8%3D%22%20width%3D%22250%22%20style%3D%22border%3Anone%20%21important%3B%22%20height%3D%2275%22%3E%3C/iframe%3E%60%29%5B0%5D%3B%0A%20%20%20%20%20%20%20%20%20%20%20%20popup_0da9af0712aa42ff82ba482b74fa78bf.setContent%28i_frame_9efab846f7704ae08937c9d606cf2139%29%3B%0A%20%20%20%20%20%20%20%20%0A%0A%20%20%20%20%20%20%20%20circle_marker_df05f6e42f1b4fcc840e5307bf65ebb0.bindPopup%28popup_0da9af0712aa42ff82ba482b74fa78bf%29%0A%20%20%20%20%20%20%20%20%3B%0A%0A%20%20%20%20%20%20%20%20%0A%20%20%20%20%0A%20%20%20%20%0A%20%20%20%20%20%20%20%20%20%20%20%20var%20circle_marker_1189c33ed153411e8b28bf1e2c692198%20%3D%20L.circleMarker%28%0A%20%20%20%20%20%20%20%20%20%20%20%20%20%20%20%20%5B43.6408157%2C%20-79.38175229999999%5D%2C%0A%20%20%20%20%20%20%20%20%20%20%20%20%20%20%20%20%7B%22bubblingMouseEvents%22%3A%20true%2C%20%22color%22%3A%20%22blue%22%2C%20%22dashArray%22%3A%20null%2C%20%22dashOffset%22%3A%20null%2C%20%22fill%22%3A%20true%2C%20%22fillColor%22%3A%20%22%233186cc%22%2C%20%22fillOpacity%22%3A%200.7%2C%20%22fillRule%22%3A%20%22evenodd%22%2C%20%22lineCap%22%3A%20%22round%22%2C%20%22lineJoin%22%3A%20%22round%22%2C%20%22opacity%22%3A%201.0%2C%20%22radius%22%3A%205%2C%20%22stroke%22%3A%20true%2C%20%22weight%22%3A%203%7D%0A%20%20%20%20%20%20%20%20%20%20%20%20%29.addTo%28map_01d7decb81374a4299b5e1d8817ac1f9%29%3B%0A%20%20%20%20%20%20%20%20%0A%20%20%20%20%0A%20%20%20%20%20%20%20%20var%20popup_2aa36fc7bd664ce79a526da60f5f02ac%20%3D%20L.popup%28%7B%22maxWidth%22%3A%20%22100%25%22%2C%20%22minWidth%22%3A%201000%7D%29%3B%0A%0A%20%20%20%20%20%20%20%20%0A%20%20%20%20%20%20%20%20%20%20%20%20var%20i_frame_234adb6b649b4f518a26c1b5bc03f2d3%20%3D%20%24%28%60%3Ciframe%20src%3D%22data%3Atext/html%3Bcharset%3Dutf-8%3Bbase64%2CCiAgICBIYXJib3VyZnJvbnQgRWFzdCwgVW5pb24gU3RhdGlvbiwgVG9yb250byBJc2xhbmRzLCBEb3dudG93biBUb3JvbnRv%22%20width%3D%22250%22%20style%3D%22border%3Anone%20%21important%3B%22%20height%3D%2275%22%3E%3C/iframe%3E%60%29%5B0%5D%3B%0A%20%20%20%20%20%20%20%20%20%20%20%20popup_2aa36fc7bd664ce79a526da60f5f02ac.setContent%28i_frame_234adb6b649b4f518a26c1b5bc03f2d3%29%3B%0A%20%20%20%20%20%20%20%20%0A%0A%20%20%20%20%20%20%20%20circle_marker_1189c33ed153411e8b28bf1e2c692198.bindPopup%28popup_2aa36fc7bd664ce79a526da60f5f02ac%29%0A%20%20%20%20%20%20%20%20%3B%0A%0A%20%20%20%20%20%20%20%20%0A%20%20%20%20%0A%20%20%20%20%0A%20%20%20%20%20%20%20%20%20%20%20%20var%20circle_marker_6fb6c1af7c6a4934a81ac7f6dfc032ca%20%3D%20L.circleMarker%28%0A%20%20%20%20%20%20%20%20%20%20%20%20%20%20%20%20%5B43.647926700000006%2C%20-79.4197497%5D%2C%0A%20%20%20%20%20%20%20%20%20%20%20%20%20%20%20%20%7B%22bubblingMouseEvents%22%3A%20true%2C%20%22color%22%3A%20%22blue%22%2C%20%22dashArray%22%3A%20null%2C%20%22dashOffset%22%3A%20null%2C%20%22fill%22%3A%20true%2C%20%22fillColor%22%3A%20%22%233186cc%22%2C%20%22fillOpacity%22%3A%200.7%2C%20%22fillRule%22%3A%20%22evenodd%22%2C%20%22lineCap%22%3A%20%22round%22%2C%20%22lineJoin%22%3A%20%22round%22%2C%20%22opacity%22%3A%201.0%2C%20%22radius%22%3A%205%2C%20%22stroke%22%3A%20true%2C%20%22weight%22%3A%203%7D%0A%20%20%20%20%20%20%20%20%20%20%20%20%29.addTo%28map_01d7decb81374a4299b5e1d8817ac1f9%29%3B%0A%20%20%20%20%20%20%20%20%0A%20%20%20%20%0A%20%20%20%20%20%20%20%20var%20popup_53e83ff4ba2541149f11c168ba70086d%20%3D%20L.popup%28%7B%22maxWidth%22%3A%20%22100%25%22%2C%20%22minWidth%22%3A%201000%7D%29%3B%0A%0A%20%20%20%20%20%20%20%20%0A%20%20%20%20%20%20%20%20%20%20%20%20var%20i_frame_d5ffc39bfbee4dbaba78a0a5dedaced9%20%3D%20%24%28%60%3Ciframe%20src%3D%22data%3Atext/html%3Bcharset%3Dutf-8%3Bbase64%2CCiAgICBMaXR0bGUgUG9ydHVnYWwsIFRyaW5pdHksIFdlc3QgVG9yb250bw%3D%3D%22%20width%3D%22250%22%20style%3D%22border%3Anone%20%21important%3B%22%20height%3D%2275%22%3E%3C/iframe%3E%60%29%5B0%5D%3B%0A%20%20%20%20%20%20%20%20%20%20%20%20popup_53e83ff4ba2541149f11c168ba70086d.setContent%28i_frame_d5ffc39bfbee4dbaba78a0a5dedaced9%29%3B%0A%20%20%20%20%20%20%20%20%0A%0A%20%20%20%20%20%20%20%20circle_marker_6fb6c1af7c6a4934a81ac7f6dfc032ca.bindPopup%28popup_53e83ff4ba2541149f11c168ba70086d%29%0A%20%20%20%20%20%20%20%20%3B%0A%0A%20%20%20%20%20%20%20%20%0A%20%20%20%20%0A%20%20%20%20%0A%20%20%20%20%20%20%20%20%20%20%20%20var%20circle_marker_575a8522a80e442dab39dd23abd25c9a%20%3D%20L.circleMarker%28%0A%20%20%20%20%20%20%20%20%20%20%20%20%20%20%20%20%5B43.6795571%2C%20-79.352188%5D%2C%0A%20%20%20%20%20%20%20%20%20%20%20%20%20%20%20%20%7B%22bubblingMouseEvents%22%3A%20true%2C%20%22color%22%3A%20%22blue%22%2C%20%22dashArray%22%3A%20null%2C%20%22dashOffset%22%3A%20null%2C%20%22fill%22%3A%20true%2C%20%22fillColor%22%3A%20%22%233186cc%22%2C%20%22fillOpacity%22%3A%200.7%2C%20%22fillRule%22%3A%20%22evenodd%22%2C%20%22lineCap%22%3A%20%22round%22%2C%20%22lineJoin%22%3A%20%22round%22%2C%20%22opacity%22%3A%201.0%2C%20%22radius%22%3A%205%2C%20%22stroke%22%3A%20true%2C%20%22weight%22%3A%203%7D%0A%20%20%20%20%20%20%20%20%20%20%20%20%29.addTo%28map_01d7decb81374a4299b5e1d8817ac1f9%29%3B%0A%20%20%20%20%20%20%20%20%0A%20%20%20%20%0A%20%20%20%20%20%20%20%20var%20popup_925e34d8fbe34511b3dfbc9c4ccb4cca%20%3D%20L.popup%28%7B%22maxWidth%22%3A%20%22100%25%22%2C%20%22minWidth%22%3A%201000%7D%29%3B%0A%0A%20%20%20%20%20%20%20%20%0A%20%20%20%20%20%20%20%20%20%20%20%20var%20i_frame_c0610a2c5c5040ec89a973605936bf55%20%3D%20%24%28%60%3Ciframe%20src%3D%22data%3Atext/html%3Bcharset%3Dutf-8%3Bbase64%2CCiAgICBUaGUgRGFuZm9ydGggV2VzdCwgUml2ZXJkYWxlLCBFYXN0IFRvcm9udG8%3D%22%20width%3D%22250%22%20style%3D%22border%3Anone%20%21important%3B%22%20height%3D%2275%22%3E%3C/iframe%3E%60%29%5B0%5D%3B%0A%20%20%20%20%20%20%20%20%20%20%20%20popup_925e34d8fbe34511b3dfbc9c4ccb4cca.setContent%28i_frame_c0610a2c5c5040ec89a973605936bf55%29%3B%0A%20%20%20%20%20%20%20%20%0A%0A%20%20%20%20%20%20%20%20circle_marker_575a8522a80e442dab39dd23abd25c9a.bindPopup%28popup_925e34d8fbe34511b3dfbc9c4ccb4cca%29%0A%20%20%20%20%20%20%20%20%3B%0A%0A%20%20%20%20%20%20%20%20%0A%20%20%20%20%0A%20%20%20%20%0A%20%20%20%20%20%20%20%20%20%20%20%20var%20circle_marker_3347820b95604f99b680328dd3e1cc4c%20%3D%20L.circleMarker%28%0A%20%20%20%20%20%20%20%20%20%20%20%20%20%20%20%20%5B43.6471768%2C%20-79.38157640000001%5D%2C%0A%20%20%20%20%20%20%20%20%20%20%20%20%20%20%20%20%7B%22bubblingMouseEvents%22%3A%20true%2C%20%22color%22%3A%20%22blue%22%2C%20%22dashArray%22%3A%20null%2C%20%22dashOffset%22%3A%20null%2C%20%22fill%22%3A%20true%2C%20%22fillColor%22%3A%20%22%233186cc%22%2C%20%22fillOpacity%22%3A%200.7%2C%20%22fillRule%22%3A%20%22evenodd%22%2C%20%22lineCap%22%3A%20%22round%22%2C%20%22lineJoin%22%3A%20%22round%22%2C%20%22opacity%22%3A%201.0%2C%20%22radius%22%3A%205%2C%20%22stroke%22%3A%20true%2C%20%22weight%22%3A%203%7D%0A%20%20%20%20%20%20%20%20%20%20%20%20%29.addTo%28map_01d7decb81374a4299b5e1d8817ac1f9%29%3B%0A%20%20%20%20%20%20%20%20%0A%20%20%20%20%0A%20%20%20%20%20%20%20%20var%20popup_bcf85c1c171d4ad49f583829031eb02f%20%3D%20L.popup%28%7B%22maxWidth%22%3A%20%22100%25%22%2C%20%22minWidth%22%3A%201000%7D%29%3B%0A%0A%20%20%20%20%20%20%20%20%0A%20%20%20%20%20%20%20%20%20%20%20%20var%20i_frame_2503c8ba2f3343f5ba710953b6a03d08%20%3D%20%24%28%60%3Ciframe%20src%3D%22data%3Atext/html%3Bcharset%3Dutf-8%3Bbase64%2CCiAgICBUb3JvbnRvIERvbWluaW9uIENlbnRyZSwgRGVzaWduIEV4Y2hhbmdlLCBEb3dudG93biBUb3JvbnRv%22%20width%3D%22250%22%20style%3D%22border%3Anone%20%21important%3B%22%20height%3D%2275%22%3E%3C/iframe%3E%60%29%5B0%5D%3B%0A%20%20%20%20%20%20%20%20%20%20%20%20popup_bcf85c1c171d4ad49f583829031eb02f.setContent%28i_frame_2503c8ba2f3343f5ba710953b6a03d08%29%3B%0A%20%20%20%20%20%20%20%20%0A%0A%20%20%20%20%20%20%20%20circle_marker_3347820b95604f99b680328dd3e1cc4c.bindPopup%28popup_bcf85c1c171d4ad49f583829031eb02f%29%0A%20%20%20%20%20%20%20%20%3B%0A%0A%20%20%20%20%20%20%20%20%0A%20%20%20%20%0A%20%20%20%20%0A%20%20%20%20%20%20%20%20%20%20%20%20var%20circle_marker_14a5cdd879d343d086782957611ab923%20%3D%20L.circleMarker%28%0A%20%20%20%20%20%20%20%20%20%20%20%20%20%20%20%20%5B43.6368472%2C%20-79.42819140000002%5D%2C%0A%20%20%20%20%20%20%20%20%20%20%20%20%20%20%20%20%7B%22bubblingMouseEvents%22%3A%20true%2C%20%22color%22%3A%20%22blue%22%2C%20%22dashArray%22%3A%20null%2C%20%22dashOffset%22%3A%20null%2C%20%22fill%22%3A%20true%2C%20%22fillColor%22%3A%20%22%233186cc%22%2C%20%22fillOpacity%22%3A%200.7%2C%20%22fillRule%22%3A%20%22evenodd%22%2C%20%22lineCap%22%3A%20%22round%22%2C%20%22lineJoin%22%3A%20%22round%22%2C%20%22opacity%22%3A%201.0%2C%20%22radius%22%3A%205%2C%20%22stroke%22%3A%20true%2C%20%22weight%22%3A%203%7D%0A%20%20%20%20%20%20%20%20%20%20%20%20%29.addTo%28map_01d7decb81374a4299b5e1d8817ac1f9%29%3B%0A%20%20%20%20%20%20%20%20%0A%20%20%20%20%0A%20%20%20%20%20%20%20%20var%20popup_47cc72049f16474b9bfce244851b8e9f%20%3D%20L.popup%28%7B%22maxWidth%22%3A%20%22100%25%22%2C%20%22minWidth%22%3A%201000%7D%29%3B%0A%0A%20%20%20%20%20%20%20%20%0A%20%20%20%20%20%20%20%20%20%20%20%20var%20i_frame_546d87dd636a42a4b08edf5fc28cf7cb%20%3D%20%24%28%60%3Ciframe%20src%3D%22data%3Atext/html%3Bcharset%3Dutf-8%3Bbase64%2CCiAgICBCcm9ja3RvbiwgUGFya2RhbGUgVmlsbGFnZSwgRXhoaWJpdGlvbiBQbGFjZSwgV2VzdCBUb3JvbnRv%22%20width%3D%22250%22%20style%3D%22border%3Anone%20%21important%3B%22%20height%3D%2275%22%3E%3C/iframe%3E%60%29%5B0%5D%3B%0A%20%20%20%20%20%20%20%20%20%20%20%20popup_47cc72049f16474b9bfce244851b8e9f.setContent%28i_frame_546d87dd636a42a4b08edf5fc28cf7cb%29%3B%0A%20%20%20%20%20%20%20%20%0A%0A%20%20%20%20%20%20%20%20circle_marker_14a5cdd879d343d086782957611ab923.bindPopup%28popup_47cc72049f16474b9bfce244851b8e9f%29%0A%20%20%20%20%20%20%20%20%3B%0A%0A%20%20%20%20%20%20%20%20%0A%20%20%20%20%0A%20%20%20%20%0A%20%20%20%20%20%20%20%20%20%20%20%20var%20circle_marker_c2860e652aec484db752c1f992877562%20%3D%20L.circleMarker%28%0A%20%20%20%20%20%20%20%20%20%20%20%20%20%20%20%20%5B43.6689985%2C%20-79.31557159999998%5D%2C%0A%20%20%20%20%20%20%20%20%20%20%20%20%20%20%20%20%7B%22bubblingMouseEvents%22%3A%20true%2C%20%22color%22%3A%20%22blue%22%2C%20%22dashArray%22%3A%20null%2C%20%22dashOffset%22%3A%20null%2C%20%22fill%22%3A%20true%2C%20%22fillColor%22%3A%20%22%233186cc%22%2C%20%22fillOpacity%22%3A%200.7%2C%20%22fillRule%22%3A%20%22evenodd%22%2C%20%22lineCap%22%3A%20%22round%22%2C%20%22lineJoin%22%3A%20%22round%22%2C%20%22opacity%22%3A%201.0%2C%20%22radius%22%3A%205%2C%20%22stroke%22%3A%20true%2C%20%22weight%22%3A%203%7D%0A%20%20%20%20%20%20%20%20%20%20%20%20%29.addTo%28map_01d7decb81374a4299b5e1d8817ac1f9%29%3B%0A%20%20%20%20%20%20%20%20%0A%20%20%20%20%0A%20%20%20%20%20%20%20%20var%20popup_5b3207496f6c45d9b0371d337fd8de5f%20%3D%20L.popup%28%7B%22maxWidth%22%3A%20%22100%25%22%2C%20%22minWidth%22%3A%201000%7D%29%3B%0A%0A%20%20%20%20%20%20%20%20%0A%20%20%20%20%20%20%20%20%20%20%20%20var%20i_frame_e9eee755ebe14ea6b6b0881a4b83b98e%20%3D%20%24%28%60%3Ciframe%20src%3D%22data%3Atext/html%3Bcharset%3Dutf-8%3Bbase64%2CCiAgICBJbmRpYSBCYXphYXIsIFRoZSBCZWFjaGVzIFdlc3QsIEVhc3QgVG9yb250bw%3D%3D%22%20width%3D%22250%22%20style%3D%22border%3Anone%20%21important%3B%22%20height%3D%2275%22%3E%3C/iframe%3E%60%29%5B0%5D%3B%0A%20%20%20%20%20%20%20%20%20%20%20%20popup_5b3207496f6c45d9b0371d337fd8de5f.setContent%28i_frame_e9eee755ebe14ea6b6b0881a4b83b98e%29%3B%0A%20%20%20%20%20%20%20%20%0A%0A%20%20%20%20%20%20%20%20circle_marker_c2860e652aec484db752c1f992877562.bindPopup%28popup_5b3207496f6c45d9b0371d337fd8de5f%29%0A%20%20%20%20%20%20%20%20%3B%0A%0A%20%20%20%20%20%20%20%20%0A%20%20%20%20%0A%20%20%20%20%0A%20%20%20%20%20%20%20%20%20%20%20%20var%20circle_marker_482815aa939641ad9197c2e6482c6450%20%3D%20L.circleMarker%28%0A%20%20%20%20%20%20%20%20%20%20%20%20%20%20%20%20%5B43.6481985%2C%20-79.37981690000001%5D%2C%0A%20%20%20%20%20%20%20%20%20%20%20%20%20%20%20%20%7B%22bubblingMouseEvents%22%3A%20true%2C%20%22color%22%3A%20%22blue%22%2C%20%22dashArray%22%3A%20null%2C%20%22dashOffset%22%3A%20null%2C%20%22fill%22%3A%20true%2C%20%22fillColor%22%3A%20%22%233186cc%22%2C%20%22fillOpacity%22%3A%200.7%2C%20%22fillRule%22%3A%20%22evenodd%22%2C%20%22lineCap%22%3A%20%22round%22%2C%20%22lineJoin%22%3A%20%22round%22%2C%20%22opacity%22%3A%201.0%2C%20%22radius%22%3A%205%2C%20%22stroke%22%3A%20true%2C%20%22weight%22%3A%203%7D%0A%20%20%20%20%20%20%20%20%20%20%20%20%29.addTo%28map_01d7decb81374a4299b5e1d8817ac1f9%29%3B%0A%20%20%20%20%20%20%20%20%0A%20%20%20%20%0A%20%20%20%20%20%20%20%20var%20popup_bbbb4d1193ab49f886fce72a99042363%20%3D%20L.popup%28%7B%22maxWidth%22%3A%20%22100%25%22%2C%20%22minWidth%22%3A%201000%7D%29%3B%0A%0A%20%20%20%20%20%20%20%20%0A%20%20%20%20%20%20%20%20%20%20%20%20var%20i_frame_8123483a8b7445069060352e68679886%20%3D%20%24%28%60%3Ciframe%20src%3D%22data%3Atext/html%3Bcharset%3Dutf-8%3Bbase64%2CCiAgICBDb21tZXJjZSBDb3VydCwgVmljdG9yaWEgSG90ZWwsIERvd250b3duIFRvcm9udG8%3D%22%20width%3D%22250%22%20style%3D%22border%3Anone%20%21important%3B%22%20height%3D%2275%22%3E%3C/iframe%3E%60%29%5B0%5D%3B%0A%20%20%20%20%20%20%20%20%20%20%20%20popup_bbbb4d1193ab49f886fce72a99042363.setContent%28i_frame_8123483a8b7445069060352e68679886%29%3B%0A%20%20%20%20%20%20%20%20%0A%0A%20%20%20%20%20%20%20%20circle_marker_482815aa939641ad9197c2e6482c6450.bindPopup%28popup_bbbb4d1193ab49f886fce72a99042363%29%0A%20%20%20%20%20%20%20%20%3B%0A%0A%20%20%20%20%20%20%20%20%0A%20%20%20%20%0A%20%20%20%20%0A%20%20%20%20%20%20%20%20%20%20%20%20var%20circle_marker_6e7e6e88363545efb9ef694c1f450e48%20%3D%20L.circleMarker%28%0A%20%20%20%20%20%20%20%20%20%20%20%20%20%20%20%20%5B43.6595255%2C%20-79.340923%5D%2C%0A%20%20%20%20%20%20%20%20%20%20%20%20%20%20%20%20%7B%22bubblingMouseEvents%22%3A%20true%2C%20%22color%22%3A%20%22blue%22%2C%20%22dashArray%22%3A%20null%2C%20%22dashOffset%22%3A%20null%2C%20%22fill%22%3A%20true%2C%20%22fillColor%22%3A%20%22%233186cc%22%2C%20%22fillOpacity%22%3A%200.7%2C%20%22fillRule%22%3A%20%22evenodd%22%2C%20%22lineCap%22%3A%20%22round%22%2C%20%22lineJoin%22%3A%20%22round%22%2C%20%22opacity%22%3A%201.0%2C%20%22radius%22%3A%205%2C%20%22stroke%22%3A%20true%2C%20%22weight%22%3A%203%7D%0A%20%20%20%20%20%20%20%20%20%20%20%20%29.addTo%28map_01d7decb81374a4299b5e1d8817ac1f9%29%3B%0A%20%20%20%20%20%20%20%20%0A%20%20%20%20%0A%20%20%20%20%20%20%20%20var%20popup_2cda5c05b64b46c19448c09e9e41dbe2%20%3D%20L.popup%28%7B%22maxWidth%22%3A%20%22100%25%22%2C%20%22minWidth%22%3A%201000%7D%29%3B%0A%0A%20%20%20%20%20%20%20%20%0A%20%20%20%20%20%20%20%20%20%20%20%20var%20i_frame_df3f020954134b29b57d783d26829857%20%3D%20%24%28%60%3Ciframe%20src%3D%22data%3Atext/html%3Bcharset%3Dutf-8%3Bbase64%2CCiAgICBTdHVkaW8gRGlzdHJpY3QsIEVhc3QgVG9yb250bw%3D%3D%22%20width%3D%22250%22%20style%3D%22border%3Anone%20%21important%3B%22%20height%3D%2275%22%3E%3C/iframe%3E%60%29%5B0%5D%3B%0A%20%20%20%20%20%20%20%20%20%20%20%20popup_2cda5c05b64b46c19448c09e9e41dbe2.setContent%28i_frame_df3f020954134b29b57d783d26829857%29%3B%0A%20%20%20%20%20%20%20%20%0A%0A%20%20%20%20%20%20%20%20circle_marker_6e7e6e88363545efb9ef694c1f450e48.bindPopup%28popup_2cda5c05b64b46c19448c09e9e41dbe2%29%0A%20%20%20%20%20%20%20%20%3B%0A%0A%20%20%20%20%20%20%20%20%0A%20%20%20%20%0A%20%20%20%20%0A%20%20%20%20%20%20%20%20%20%20%20%20var%20circle_marker_547d368dc9e34cc0ad6bd859e8687a66%20%3D%20L.circleMarker%28%0A%20%20%20%20%20%20%20%20%20%20%20%20%20%20%20%20%5B43.7280205%2C%20-79.3887901%5D%2C%0A%20%20%20%20%20%20%20%20%20%20%20%20%20%20%20%20%7B%22bubblingMouseEvents%22%3A%20true%2C%20%22color%22%3A%20%22blue%22%2C%20%22dashArray%22%3A%20null%2C%20%22dashOffset%22%3A%20null%2C%20%22fill%22%3A%20true%2C%20%22fillColor%22%3A%20%22%233186cc%22%2C%20%22fillOpacity%22%3A%200.7%2C%20%22fillRule%22%3A%20%22evenodd%22%2C%20%22lineCap%22%3A%20%22round%22%2C%20%22lineJoin%22%3A%20%22round%22%2C%20%22opacity%22%3A%201.0%2C%20%22radius%22%3A%205%2C%20%22stroke%22%3A%20true%2C%20%22weight%22%3A%203%7D%0A%20%20%20%20%20%20%20%20%20%20%20%20%29.addTo%28map_01d7decb81374a4299b5e1d8817ac1f9%29%3B%0A%20%20%20%20%20%20%20%20%0A%20%20%20%20%0A%20%20%20%20%20%20%20%20var%20popup_31b779b96bc749bfae4af781ca7efa08%20%3D%20L.popup%28%7B%22maxWidth%22%3A%20%22100%25%22%2C%20%22minWidth%22%3A%201000%7D%29%3B%0A%0A%20%20%20%20%20%20%20%20%0A%20%20%20%20%20%20%20%20%20%20%20%20var%20i_frame_eb283bc5ef714800be5d093af9b6c200%20%3D%20%24%28%60%3Ciframe%20src%3D%22data%3Atext/html%3Bcharset%3Dutf-8%3Bbase64%2CCiAgICBMYXdyZW5jZSBQYXJrLCBDZW50cmFsIFRvcm9udG8%3D%22%20width%3D%22250%22%20style%3D%22border%3Anone%20%21important%3B%22%20height%3D%2275%22%3E%3C/iframe%3E%60%29%5B0%5D%3B%0A%20%20%20%20%20%20%20%20%20%20%20%20popup_31b779b96bc749bfae4af781ca7efa08.setContent%28i_frame_eb283bc5ef714800be5d093af9b6c200%29%3B%0A%20%20%20%20%20%20%20%20%0A%0A%20%20%20%20%20%20%20%20circle_marker_547d368dc9e34cc0ad6bd859e8687a66.bindPopup%28popup_31b779b96bc749bfae4af781ca7efa08%29%0A%20%20%20%20%20%20%20%20%3B%0A%0A%20%20%20%20%20%20%20%20%0A%20%20%20%20%0A%20%20%20%20%0A%20%20%20%20%20%20%20%20%20%20%20%20var%20circle_marker_5e2f6d8aa2fa4fe39d4c85c0975e03a2%20%3D%20L.circleMarker%28%0A%20%20%20%20%20%20%20%20%20%20%20%20%20%20%20%20%5B43.7116948%2C%20-79.41693559999999%5D%2C%0A%20%20%20%20%20%20%20%20%20%20%20%20%20%20%20%20%7B%22bubblingMouseEvents%22%3A%20true%2C%20%22color%22%3A%20%22blue%22%2C%20%22dashArray%22%3A%20null%2C%20%22dashOffset%22%3A%20null%2C%20%22fill%22%3A%20true%2C%20%22fillColor%22%3A%20%22%233186cc%22%2C%20%22fillOpacity%22%3A%200.7%2C%20%22fillRule%22%3A%20%22evenodd%22%2C%20%22lineCap%22%3A%20%22round%22%2C%20%22lineJoin%22%3A%20%22round%22%2C%20%22opacity%22%3A%201.0%2C%20%22radius%22%3A%205%2C%20%22stroke%22%3A%20true%2C%20%22weight%22%3A%203%7D%0A%20%20%20%20%20%20%20%20%20%20%20%20%29.addTo%28map_01d7decb81374a4299b5e1d8817ac1f9%29%3B%0A%20%20%20%20%20%20%20%20%0A%20%20%20%20%0A%20%20%20%20%20%20%20%20var%20popup_003892198d6a4244a589b53eb0488dd5%20%3D%20L.popup%28%7B%22maxWidth%22%3A%20%22100%25%22%2C%20%22minWidth%22%3A%201000%7D%29%3B%0A%0A%20%20%20%20%20%20%20%20%0A%20%20%20%20%20%20%20%20%20%20%20%20var%20i_frame_13bb419e7189499ea08baae83a400fbd%20%3D%20%24%28%60%3Ciframe%20src%3D%22data%3Atext/html%3Bcharset%3Dutf-8%3Bbase64%2CCiAgICBSb3NlbGF3biwgQ2VudHJhbCBUb3JvbnRv%22%20width%3D%22250%22%20style%3D%22border%3Anone%20%21important%3B%22%20height%3D%2275%22%3E%3C/iframe%3E%60%29%5B0%5D%3B%0A%20%20%20%20%20%20%20%20%20%20%20%20popup_003892198d6a4244a589b53eb0488dd5.setContent%28i_frame_13bb419e7189499ea08baae83a400fbd%29%3B%0A%20%20%20%20%20%20%20%20%0A%0A%20%20%20%20%20%20%20%20circle_marker_5e2f6d8aa2fa4fe39d4c85c0975e03a2.bindPopup%28popup_003892198d6a4244a589b53eb0488dd5%29%0A%20%20%20%20%20%20%20%20%3B%0A%0A%20%20%20%20%20%20%20%20%0A%20%20%20%20%0A%20%20%20%20%0A%20%20%20%20%20%20%20%20%20%20%20%20var%20circle_marker_568264b882da4c8a89db6e47e83a9cf7%20%3D%20L.circleMarker%28%0A%20%20%20%20%20%20%20%20%20%20%20%20%20%20%20%20%5B43.67318529999999%2C%20-79.48726190000001%5D%2C%0A%20%20%20%20%20%20%20%20%20%20%20%20%20%20%20%20%7B%22bubblingMouseEvents%22%3A%20true%2C%20%22color%22%3A%20%22blue%22%2C%20%22dashArray%22%3A%20null%2C%20%22dashOffset%22%3A%20null%2C%20%22fill%22%3A%20true%2C%20%22fillColor%22%3A%20%22%233186cc%22%2C%20%22fillOpacity%22%3A%200.7%2C%20%22fillRule%22%3A%20%22evenodd%22%2C%20%22lineCap%22%3A%20%22round%22%2C%20%22lineJoin%22%3A%20%22round%22%2C%20%22opacity%22%3A%201.0%2C%20%22radius%22%3A%205%2C%20%22stroke%22%3A%20true%2C%20%22weight%22%3A%203%7D%0A%20%20%20%20%20%20%20%20%20%20%20%20%29.addTo%28map_01d7decb81374a4299b5e1d8817ac1f9%29%3B%0A%20%20%20%20%20%20%20%20%0A%20%20%20%20%0A%20%20%20%20%20%20%20%20var%20popup_4b26dec912424b099c77ab8687aff738%20%3D%20L.popup%28%7B%22maxWidth%22%3A%20%22100%25%22%2C%20%22minWidth%22%3A%201000%7D%29%3B%0A%0A%20%20%20%20%20%20%20%20%0A%20%20%20%20%20%20%20%20%20%20%20%20var%20i_frame_fbd186c032cd4305b201c56f00632a6f%20%3D%20%24%28%60%3Ciframe%20src%3D%22data%3Atext/html%3Bcharset%3Dutf-8%3Bbase64%2CCiAgICBSdW5ueW1lZGUsIFRoZSBKdW5jdGlvbiwgV2VzdG9uLVBlbGxhbSBQYXJrLCBDYXJsdG9uIFZpbGxhZ2UsIFRvcm9udG8vWW9yaw%3D%3D%22%20width%3D%22250%22%20style%3D%22border%3Anone%20%21important%3B%22%20height%3D%2275%22%3E%3C/iframe%3E%60%29%5B0%5D%3B%0A%20%20%20%20%20%20%20%20%20%20%20%20popup_4b26dec912424b099c77ab8687aff738.setContent%28i_frame_fbd186c032cd4305b201c56f00632a6f%29%3B%0A%20%20%20%20%20%20%20%20%0A%0A%20%20%20%20%20%20%20%20circle_marker_568264b882da4c8a89db6e47e83a9cf7.bindPopup%28popup_4b26dec912424b099c77ab8687aff738%29%0A%20%20%20%20%20%20%20%20%3B%0A%0A%20%20%20%20%20%20%20%20%0A%20%20%20%20%0A%20%20%20%20%0A%20%20%20%20%20%20%20%20%20%20%20%20var%20circle_marker_623241cbb4ba4e27bcf3869bf772fb7a%20%3D%20L.circleMarker%28%0A%20%20%20%20%20%20%20%20%20%20%20%20%20%20%20%20%5B43.7127511%2C%20-79.3901975%5D%2C%0A%20%20%20%20%20%20%20%20%20%20%20%20%20%20%20%20%7B%22bubblingMouseEvents%22%3A%20true%2C%20%22color%22%3A%20%22blue%22%2C%20%22dashArray%22%3A%20null%2C%20%22dashOffset%22%3A%20null%2C%20%22fill%22%3A%20true%2C%20%22fillColor%22%3A%20%22%233186cc%22%2C%20%22fillOpacity%22%3A%200.7%2C%20%22fillRule%22%3A%20%22evenodd%22%2C%20%22lineCap%22%3A%20%22round%22%2C%20%22lineJoin%22%3A%20%22round%22%2C%20%22opacity%22%3A%201.0%2C%20%22radius%22%3A%205%2C%20%22stroke%22%3A%20true%2C%20%22weight%22%3A%203%7D%0A%20%20%20%20%20%20%20%20%20%20%20%20%29.addTo%28map_01d7decb81374a4299b5e1d8817ac1f9%29%3B%0A%20%20%20%20%20%20%20%20%0A%20%20%20%20%0A%20%20%20%20%20%20%20%20var%20popup_30bc14959fcd44b38da709dfcfd25e39%20%3D%20L.popup%28%7B%22maxWidth%22%3A%20%22100%25%22%2C%20%22minWidth%22%3A%201000%7D%29%3B%0A%0A%20%20%20%20%20%20%20%20%0A%20%20%20%20%20%20%20%20%20%20%20%20var%20i_frame_d495c22ad96c43928dac6d1ca9d5e619%20%3D%20%24%28%60%3Ciframe%20src%3D%22data%3Atext/html%3Bcharset%3Dutf-8%3Bbase64%2CCiAgICBEYXZpc3ZpbGxlIE5vcnRoLCBDZW50cmFsIFRvcm9udG8%3D%22%20width%3D%22250%22%20style%3D%22border%3Anone%20%21important%3B%22%20height%3D%2275%22%3E%3C/iframe%3E%60%29%5B0%5D%3B%0A%20%20%20%20%20%20%20%20%20%20%20%20popup_30bc14959fcd44b38da709dfcfd25e39.setContent%28i_frame_d495c22ad96c43928dac6d1ca9d5e619%29%3B%0A%20%20%20%20%20%20%20%20%0A%0A%20%20%20%20%20%20%20%20circle_marker_623241cbb4ba4e27bcf3869bf772fb7a.bindPopup%28popup_30bc14959fcd44b38da709dfcfd25e39%29%0A%20%20%20%20%20%20%20%20%3B%0A%0A%20%20%20%20%20%20%20%20%0A%20%20%20%20%0A%20%20%20%20%0A%20%20%20%20%20%20%20%20%20%20%20%20var%20circle_marker_cc5e03dff71940f58b13bee00a295784%20%3D%20L.circleMarker%28%0A%20%20%20%20%20%20%20%20%20%20%20%20%20%20%20%20%5B43.6969476%2C%20-79.41130720000001%5D%2C%0A%20%20%20%20%20%20%20%20%20%20%20%20%20%20%20%20%7B%22bubblingMouseEvents%22%3A%20true%2C%20%22color%22%3A%20%22blue%22%2C%20%22dashArray%22%3A%20null%2C%20%22dashOffset%22%3A%20null%2C%20%22fill%22%3A%20true%2C%20%22fillColor%22%3A%20%22%233186cc%22%2C%20%22fillOpacity%22%3A%200.7%2C%20%22fillRule%22%3A%20%22evenodd%22%2C%20%22lineCap%22%3A%20%22round%22%2C%20%22lineJoin%22%3A%20%22round%22%2C%20%22opacity%22%3A%201.0%2C%20%22radius%22%3A%205%2C%20%22stroke%22%3A%20true%2C%20%22weight%22%3A%203%7D%0A%20%20%20%20%20%20%20%20%20%20%20%20%29.addTo%28map_01d7decb81374a4299b5e1d8817ac1f9%29%3B%0A%20%20%20%20%20%20%20%20%0A%20%20%20%20%0A%20%20%20%20%20%20%20%20var%20popup_ec227e76fffb441c873cb7162179f772%20%3D%20L.popup%28%7B%22maxWidth%22%3A%20%22100%25%22%2C%20%22minWidth%22%3A%201000%7D%29%3B%0A%0A%20%20%20%20%20%20%20%20%0A%20%20%20%20%20%20%20%20%20%20%20%20var%20i_frame_846591d2dc3d445f83d6a05de6fe4f6b%20%3D%20%24%28%60%3Ciframe%20src%3D%22data%3Atext/html%3Bcharset%3Dutf-8%3Bbase64%2CCiAgICBGb3Jlc3QgSGlsbCBOb3J0aCAmIFdlc3QsIEZvcmVzdCBIaWxsIFJvYWQgUGFyaywgQ2VudHJhbCBUb3JvbnRv%22%20width%3D%22250%22%20style%3D%22border%3Anone%20%21important%3B%22%20height%3D%2275%22%3E%3C/iframe%3E%60%29%5B0%5D%3B%0A%20%20%20%20%20%20%20%20%20%20%20%20popup_ec227e76fffb441c873cb7162179f772.setContent%28i_frame_846591d2dc3d445f83d6a05de6fe4f6b%29%3B%0A%20%20%20%20%20%20%20%20%0A%0A%20%20%20%20%20%20%20%20circle_marker_cc5e03dff71940f58b13bee00a295784.bindPopup%28popup_ec227e76fffb441c873cb7162179f772%29%0A%20%20%20%20%20%20%20%20%3B%0A%0A%20%20%20%20%20%20%20%20%0A%20%20%20%20%0A%20%20%20%20%0A%20%20%20%20%20%20%20%20%20%20%20%20var%20circle_marker_b36fd724a82d46fcbcd7a96f4af0ee67%20%3D%20L.circleMarker%28%0A%20%20%20%20%20%20%20%20%20%20%20%20%20%20%20%20%5B43.6616083%2C%20-79.46476329999999%5D%2C%0A%20%20%20%20%20%20%20%20%20%20%20%20%20%20%20%20%7B%22bubblingMouseEvents%22%3A%20true%2C%20%22color%22%3A%20%22blue%22%2C%20%22dashArray%22%3A%20null%2C%20%22dashOffset%22%3A%20null%2C%20%22fill%22%3A%20true%2C%20%22fillColor%22%3A%20%22%233186cc%22%2C%20%22fillOpacity%22%3A%200.7%2C%20%22fillRule%22%3A%20%22evenodd%22%2C%20%22lineCap%22%3A%20%22round%22%2C%20%22lineJoin%22%3A%20%22round%22%2C%20%22opacity%22%3A%201.0%2C%20%22radius%22%3A%205%2C%20%22stroke%22%3A%20true%2C%20%22weight%22%3A%203%7D%0A%20%20%20%20%20%20%20%20%20%20%20%20%29.addTo%28map_01d7decb81374a4299b5e1d8817ac1f9%29%3B%0A%20%20%20%20%20%20%20%20%0A%20%20%20%20%0A%20%20%20%20%20%20%20%20var%20popup_9d106422db3243d88bd2d8b3a3b76b26%20%3D%20L.popup%28%7B%22maxWidth%22%3A%20%22100%25%22%2C%20%22minWidth%22%3A%201000%7D%29%3B%0A%0A%20%20%20%20%20%20%20%20%0A%20%20%20%20%20%20%20%20%20%20%20%20var%20i_frame_faa7cca7afdf41c3a1ac3ef6b80c0dfa%20%3D%20%24%28%60%3Ciframe%20src%3D%22data%3Atext/html%3Bcharset%3Dutf-8%3Bbase64%2CCiAgICBIaWdoIFBhcmssIFRoZSBKdW5jdGlvbiBTb3V0aCwgV2VzdCBUb3JvbnRv%22%20width%3D%22250%22%20style%3D%22border%3Anone%20%21important%3B%22%20height%3D%2275%22%3E%3C/iframe%3E%60%29%5B0%5D%3B%0A%20%20%20%20%20%20%20%20%20%20%20%20popup_9d106422db3243d88bd2d8b3a3b76b26.setContent%28i_frame_faa7cca7afdf41c3a1ac3ef6b80c0dfa%29%3B%0A%20%20%20%20%20%20%20%20%0A%0A%20%20%20%20%20%20%20%20circle_marker_b36fd724a82d46fcbcd7a96f4af0ee67.bindPopup%28popup_9d106422db3243d88bd2d8b3a3b76b26%29%0A%20%20%20%20%20%20%20%20%3B%0A%0A%20%20%20%20%20%20%20%20%0A%20%20%20%20%0A%20%20%20%20%0A%20%20%20%20%20%20%20%20%20%20%20%20var%20circle_marker_e4dc418805594e52b3de39cb9709dad3%20%3D%20L.circleMarker%28%0A%20%20%20%20%20%20%20%20%20%20%20%20%20%20%20%20%5B43.7153834%2C%20-79.40567840000001%5D%2C%0A%20%20%20%20%20%20%20%20%20%20%20%20%20%20%20%20%7B%22bubblingMouseEvents%22%3A%20true%2C%20%22color%22%3A%20%22blue%22%2C%20%22dashArray%22%3A%20null%2C%20%22dashOffset%22%3A%20null%2C%20%22fill%22%3A%20true%2C%20%22fillColor%22%3A%20%22%233186cc%22%2C%20%22fillOpacity%22%3A%200.7%2C%20%22fillRule%22%3A%20%22evenodd%22%2C%20%22lineCap%22%3A%20%22round%22%2C%20%22lineJoin%22%3A%20%22round%22%2C%20%22opacity%22%3A%201.0%2C%20%22radius%22%3A%205%2C%20%22stroke%22%3A%20true%2C%20%22weight%22%3A%203%7D%0A%20%20%20%20%20%20%20%20%20%20%20%20%29.addTo%28map_01d7decb81374a4299b5e1d8817ac1f9%29%3B%0A%20%20%20%20%20%20%20%20%0A%20%20%20%20%0A%20%20%20%20%20%20%20%20var%20popup_d0831c5d3bdd4230916f6529cad8b661%20%3D%20L.popup%28%7B%22maxWidth%22%3A%20%22100%25%22%2C%20%22minWidth%22%3A%201000%7D%29%3B%0A%0A%20%20%20%20%20%20%20%20%0A%20%20%20%20%20%20%20%20%20%20%20%20var%20i_frame_c67e803e3131404f8c4d32f13d2e6ea3%20%3D%20%24%28%60%3Ciframe%20src%3D%22data%3Atext/html%3Bcharset%3Dutf-8%3Bbase64%2CCiAgICBOb3J0aCBUb3JvbnRvIFdlc3QsIExhd3JlbmNlIFBhcmssIENlbnRyYWwgVG9yb250bw%3D%3D%22%20width%3D%22250%22%20style%3D%22border%3Anone%20%21important%3B%22%20height%3D%2275%22%3E%3C/iframe%3E%60%29%5B0%5D%3B%0A%20%20%20%20%20%20%20%20%20%20%20%20popup_d0831c5d3bdd4230916f6529cad8b661.setContent%28i_frame_c67e803e3131404f8c4d32f13d2e6ea3%29%3B%0A%20%20%20%20%20%20%20%20%0A%0A%20%20%20%20%20%20%20%20circle_marker_e4dc418805594e52b3de39cb9709dad3.bindPopup%28popup_d0831c5d3bdd4230916f6529cad8b661%29%0A%20%20%20%20%20%20%20%20%3B%0A%0A%20%20%20%20%20%20%20%20%0A%20%20%20%20%0A%20%20%20%20%0A%20%20%20%20%20%20%20%20%20%20%20%20var%20circle_marker_6d3a845327f641c18e096cfd1793961d%20%3D%20L.circleMarker%28%0A%20%20%20%20%20%20%20%20%20%20%20%20%20%20%20%20%5B43.6727097%2C%20-79.40567840000001%5D%2C%0A%20%20%20%20%20%20%20%20%20%20%20%20%20%20%20%20%7B%22bubblingMouseEvents%22%3A%20true%2C%20%22color%22%3A%20%22blue%22%2C%20%22dashArray%22%3A%20null%2C%20%22dashOffset%22%3A%20null%2C%20%22fill%22%3A%20true%2C%20%22fillColor%22%3A%20%22%233186cc%22%2C%20%22fillOpacity%22%3A%200.7%2C%20%22fillRule%22%3A%20%22evenodd%22%2C%20%22lineCap%22%3A%20%22round%22%2C%20%22lineJoin%22%3A%20%22round%22%2C%20%22opacity%22%3A%201.0%2C%20%22radius%22%3A%205%2C%20%22stroke%22%3A%20true%2C%20%22weight%22%3A%203%7D%0A%20%20%20%20%20%20%20%20%20%20%20%20%29.addTo%28map_01d7decb81374a4299b5e1d8817ac1f9%29%3B%0A%20%20%20%20%20%20%20%20%0A%20%20%20%20%0A%20%20%20%20%20%20%20%20var%20popup_6271653ffdc2464d8bb9aa70a2f747db%20%3D%20L.popup%28%7B%22maxWidth%22%3A%20%22100%25%22%2C%20%22minWidth%22%3A%201000%7D%29%3B%0A%0A%20%20%20%20%20%20%20%20%0A%20%20%20%20%20%20%20%20%20%20%20%20var%20i_frame_479d4826b95c4cde9b36a1bcf7705b1c%20%3D%20%24%28%60%3Ciframe%20src%3D%22data%3Atext/html%3Bcharset%3Dutf-8%3Bbase64%2CCiAgICBUaGUgQW5uZXgsIE5vcnRoIE1pZHRvd24sIFlvcmt2aWxsZSwgQ2VudHJhbCBUb3JvbnRv%22%20width%3D%22250%22%20style%3D%22border%3Anone%20%21important%3B%22%20height%3D%2275%22%3E%3C/iframe%3E%60%29%5B0%5D%3B%0A%20%20%20%20%20%20%20%20%20%20%20%20popup_6271653ffdc2464d8bb9aa70a2f747db.setContent%28i_frame_479d4826b95c4cde9b36a1bcf7705b1c%29%3B%0A%20%20%20%20%20%20%20%20%0A%0A%20%20%20%20%20%20%20%20circle_marker_6d3a845327f641c18e096cfd1793961d.bindPopup%28popup_6271653ffdc2464d8bb9aa70a2f747db%29%0A%20%20%20%20%20%20%20%20%3B%0A%0A%20%20%20%20%20%20%20%20%0A%20%20%20%20%0A%20%20%20%20%0A%20%20%20%20%20%20%20%20%20%20%20%20var%20circle_marker_0c69fe96cdf14af8b9f95f9e2b9a84ce%20%3D%20L.circleMarker%28%0A%20%20%20%20%20%20%20%20%20%20%20%20%20%20%20%20%5B43.6489597%2C%20-79.456325%5D%2C%0A%20%20%20%20%20%20%20%20%20%20%20%20%20%20%20%20%7B%22bubblingMouseEvents%22%3A%20true%2C%20%22color%22%3A%20%22blue%22%2C%20%22dashArray%22%3A%20null%2C%20%22dashOffset%22%3A%20null%2C%20%22fill%22%3A%20true%2C%20%22fillColor%22%3A%20%22%233186cc%22%2C%20%22fillOpacity%22%3A%200.7%2C%20%22fillRule%22%3A%20%22evenodd%22%2C%20%22lineCap%22%3A%20%22round%22%2C%20%22lineJoin%22%3A%20%22round%22%2C%20%22opacity%22%3A%201.0%2C%20%22radius%22%3A%205%2C%20%22stroke%22%3A%20true%2C%20%22weight%22%3A%203%7D%0A%20%20%20%20%20%20%20%20%20%20%20%20%29.addTo%28map_01d7decb81374a4299b5e1d8817ac1f9%29%3B%0A%20%20%20%20%20%20%20%20%0A%20%20%20%20%0A%20%20%20%20%20%20%20%20var%20popup_e518cdc0a663458b9d267941c2f77013%20%3D%20L.popup%28%7B%22maxWidth%22%3A%20%22100%25%22%2C%20%22minWidth%22%3A%201000%7D%29%3B%0A%0A%20%20%20%20%20%20%20%20%0A%20%20%20%20%20%20%20%20%20%20%20%20var%20i_frame_30c257c315b24c23996849495579f07e%20%3D%20%24%28%60%3Ciframe%20src%3D%22data%3Atext/html%3Bcharset%3Dutf-8%3Bbase64%2CCiAgICBQYXJrZGFsZSwgUm9uY2VzdmFsbGVzLCBXZXN0IFRvcm9udG8%3D%22%20width%3D%22250%22%20style%3D%22border%3Anone%20%21important%3B%22%20height%3D%2275%22%3E%3C/iframe%3E%60%29%5B0%5D%3B%0A%20%20%20%20%20%20%20%20%20%20%20%20popup_e518cdc0a663458b9d267941c2f77013.setContent%28i_frame_30c257c315b24c23996849495579f07e%29%3B%0A%20%20%20%20%20%20%20%20%0A%0A%20%20%20%20%20%20%20%20circle_marker_0c69fe96cdf14af8b9f95f9e2b9a84ce.bindPopup%28popup_e518cdc0a663458b9d267941c2f77013%29%0A%20%20%20%20%20%20%20%20%3B%0A%0A%20%20%20%20%20%20%20%20%0A%20%20%20%20%0A%20%20%20%20%0A%20%20%20%20%20%20%20%20%20%20%20%20var%20circle_marker_30ce16d210ea4aeaa3d720aa924b4ff9%20%3D%20L.circleMarker%28%0A%20%20%20%20%20%20%20%20%20%20%20%20%20%20%20%20%5B43.7043244%2C%20-79.3887901%5D%2C%0A%20%20%20%20%20%20%20%20%20%20%20%20%20%20%20%20%7B%22bubblingMouseEvents%22%3A%20true%2C%20%22color%22%3A%20%22blue%22%2C%20%22dashArray%22%3A%20null%2C%20%22dashOffset%22%3A%20null%2C%20%22fill%22%3A%20true%2C%20%22fillColor%22%3A%20%22%233186cc%22%2C%20%22fillOpacity%22%3A%200.7%2C%20%22fillRule%22%3A%20%22evenodd%22%2C%20%22lineCap%22%3A%20%22round%22%2C%20%22lineJoin%22%3A%20%22round%22%2C%20%22opacity%22%3A%201.0%2C%20%22radius%22%3A%205%2C%20%22stroke%22%3A%20true%2C%20%22weight%22%3A%203%7D%0A%20%20%20%20%20%20%20%20%20%20%20%20%29.addTo%28map_01d7decb81374a4299b5e1d8817ac1f9%29%3B%0A%20%20%20%20%20%20%20%20%0A%20%20%20%20%0A%20%20%20%20%20%20%20%20var%20popup_f903b2197a574308903fcbe74e7f1134%20%3D%20L.popup%28%7B%22maxWidth%22%3A%20%22100%25%22%2C%20%22minWidth%22%3A%201000%7D%29%3B%0A%0A%20%20%20%20%20%20%20%20%0A%20%20%20%20%20%20%20%20%20%20%20%20var%20i_frame_dd424521d24a484ca2d93ac6c6896c5d%20%3D%20%24%28%60%3Ciframe%20src%3D%22data%3Atext/html%3Bcharset%3Dutf-8%3Bbase64%2CCiAgICBEYXZpc3ZpbGxlLCBDZW50cmFsIFRvcm9udG8%3D%22%20width%3D%22250%22%20style%3D%22border%3Anone%20%21important%3B%22%20height%3D%2275%22%3E%3C/iframe%3E%60%29%5B0%5D%3B%0A%20%20%20%20%20%20%20%20%20%20%20%20popup_f903b2197a574308903fcbe74e7f1134.setContent%28i_frame_dd424521d24a484ca2d93ac6c6896c5d%29%3B%0A%20%20%20%20%20%20%20%20%0A%0A%20%20%20%20%20%20%20%20circle_marker_30ce16d210ea4aeaa3d720aa924b4ff9.bindPopup%28popup_f903b2197a574308903fcbe74e7f1134%29%0A%20%20%20%20%20%20%20%20%3B%0A%0A%20%20%20%20%20%20%20%20%0A%20%20%20%20%0A%20%20%20%20%0A%20%20%20%20%20%20%20%20%20%20%20%20var%20circle_marker_efb561c7a2cc4e57aafa98c0be8fbaf5%20%3D%20L.circleMarker%28%0A%20%20%20%20%20%20%20%20%20%20%20%20%20%20%20%20%5B43.6626956%2C%20-79.4000493%5D%2C%0A%20%20%20%20%20%20%20%20%20%20%20%20%20%20%20%20%7B%22bubblingMouseEvents%22%3A%20true%2C%20%22color%22%3A%20%22blue%22%2C%20%22dashArray%22%3A%20null%2C%20%22dashOffset%22%3A%20null%2C%20%22fill%22%3A%20true%2C%20%22fillColor%22%3A%20%22%233186cc%22%2C%20%22fillOpacity%22%3A%200.7%2C%20%22fillRule%22%3A%20%22evenodd%22%2C%20%22lineCap%22%3A%20%22round%22%2C%20%22lineJoin%22%3A%20%22round%22%2C%20%22opacity%22%3A%201.0%2C%20%22radius%22%3A%205%2C%20%22stroke%22%3A%20true%2C%20%22weight%22%3A%203%7D%0A%20%20%20%20%20%20%20%20%20%20%20%20%29.addTo%28map_01d7decb81374a4299b5e1d8817ac1f9%29%3B%0A%20%20%20%20%20%20%20%20%0A%20%20%20%20%0A%20%20%20%20%20%20%20%20var%20popup_5255d9ba6d6641e9b5f8eee3f63ef3d3%20%3D%20L.popup%28%7B%22maxWidth%22%3A%20%22100%25%22%2C%20%22minWidth%22%3A%201000%7D%29%3B%0A%0A%20%20%20%20%20%20%20%20%0A%20%20%20%20%20%20%20%20%20%20%20%20var%20i_frame_de3d14b78d07400cbe4c860ca1f88b46%20%3D%20%24%28%60%3Ciframe%20src%3D%22data%3Atext/html%3Bcharset%3Dutf-8%3Bbase64%2CCiAgICBVbml2ZXJzaXR5IG9mIFRvcm9udG8sIEhhcmJvcmQsIERvd250b3duIFRvcm9udG8%3D%22%20width%3D%22250%22%20style%3D%22border%3Anone%20%21important%3B%22%20height%3D%2275%22%3E%3C/iframe%3E%60%29%5B0%5D%3B%0A%20%20%20%20%20%20%20%20%20%20%20%20popup_5255d9ba6d6641e9b5f8eee3f63ef3d3.setContent%28i_frame_de3d14b78d07400cbe4c860ca1f88b46%29%3B%0A%20%20%20%20%20%20%20%20%0A%0A%20%20%20%20%20%20%20%20circle_marker_efb561c7a2cc4e57aafa98c0be8fbaf5.bindPopup%28popup_5255d9ba6d6641e9b5f8eee3f63ef3d3%29%0A%20%20%20%20%20%20%20%20%3B%0A%0A%20%20%20%20%20%20%20%20%0A%20%20%20%20%0A%20%20%20%20%0A%20%20%20%20%20%20%20%20%20%20%20%20var%20circle_marker_5d101ed5a0694881a11318756fdbd6d0%20%3D%20L.circleMarker%28%0A%20%20%20%20%20%20%20%20%20%20%20%20%20%20%20%20%5B43.6515706%2C%20-79.4844499%5D%2C%0A%20%20%20%20%20%20%20%20%20%20%20%20%20%20%20%20%7B%22bubblingMouseEvents%22%3A%20true%2C%20%22color%22%3A%20%22blue%22%2C%20%22dashArray%22%3A%20null%2C%20%22dashOffset%22%3A%20null%2C%20%22fill%22%3A%20true%2C%20%22fillColor%22%3A%20%22%233186cc%22%2C%20%22fillOpacity%22%3A%200.7%2C%20%22fillRule%22%3A%20%22evenodd%22%2C%20%22lineCap%22%3A%20%22round%22%2C%20%22lineJoin%22%3A%20%22round%22%2C%20%22opacity%22%3A%201.0%2C%20%22radius%22%3A%205%2C%20%22stroke%22%3A%20true%2C%20%22weight%22%3A%203%7D%0A%20%20%20%20%20%20%20%20%20%20%20%20%29.addTo%28map_01d7decb81374a4299b5e1d8817ac1f9%29%3B%0A%20%20%20%20%20%20%20%20%0A%20%20%20%20%0A%20%20%20%20%20%20%20%20var%20popup_6ececb5ff65b48ec9a1f8026aa6ce406%20%3D%20L.popup%28%7B%22maxWidth%22%3A%20%22100%25%22%2C%20%22minWidth%22%3A%201000%7D%29%3B%0A%0A%20%20%20%20%20%20%20%20%0A%20%20%20%20%20%20%20%20%20%20%20%20var%20i_frame_abed2026d6c543cda274578de86702bc%20%3D%20%24%28%60%3Ciframe%20src%3D%22data%3Atext/html%3Bcharset%3Dutf-8%3Bbase64%2CCiAgICBSdW5ueW1lZGUsIFN3YW5zZWEsIFdlc3QgVG9yb250bw%3D%3D%22%20width%3D%22250%22%20style%3D%22border%3Anone%20%21important%3B%22%20height%3D%2275%22%3E%3C/iframe%3E%60%29%5B0%5D%3B%0A%20%20%20%20%20%20%20%20%20%20%20%20popup_6ececb5ff65b48ec9a1f8026aa6ce406.setContent%28i_frame_abed2026d6c543cda274578de86702bc%29%3B%0A%20%20%20%20%20%20%20%20%0A%0A%20%20%20%20%20%20%20%20circle_marker_5d101ed5a0694881a11318756fdbd6d0.bindPopup%28popup_6ececb5ff65b48ec9a1f8026aa6ce406%29%0A%20%20%20%20%20%20%20%20%3B%0A%0A%20%20%20%20%20%20%20%20%0A%20%20%20%20%0A%20%20%20%20%0A%20%20%20%20%20%20%20%20%20%20%20%20var%20circle_marker_d0e5e8c8b0ff47b7a99300250ad565d1%20%3D%20L.circleMarker%28%0A%20%20%20%20%20%20%20%20%20%20%20%20%20%20%20%20%5B43.6895743%2C%20-79.38315990000001%5D%2C%0A%20%20%20%20%20%20%20%20%20%20%20%20%20%20%20%20%7B%22bubblingMouseEvents%22%3A%20true%2C%20%22color%22%3A%20%22blue%22%2C%20%22dashArray%22%3A%20null%2C%20%22dashOffset%22%3A%20null%2C%20%22fill%22%3A%20true%2C%20%22fillColor%22%3A%20%22%233186cc%22%2C%20%22fillOpacity%22%3A%200.7%2C%20%22fillRule%22%3A%20%22evenodd%22%2C%20%22lineCap%22%3A%20%22round%22%2C%20%22lineJoin%22%3A%20%22round%22%2C%20%22opacity%22%3A%201.0%2C%20%22radius%22%3A%205%2C%20%22stroke%22%3A%20true%2C%20%22weight%22%3A%203%7D%0A%20%20%20%20%20%20%20%20%20%20%20%20%29.addTo%28map_01d7decb81374a4299b5e1d8817ac1f9%29%3B%0A%20%20%20%20%20%20%20%20%0A%20%20%20%20%0A%20%20%20%20%20%20%20%20var%20popup_dc65f496f1984bf09211099b28f6f8a2%20%3D%20L.popup%28%7B%22maxWidth%22%3A%20%22100%25%22%2C%20%22minWidth%22%3A%201000%7D%29%3B%0A%0A%20%20%20%20%20%20%20%20%0A%20%20%20%20%20%20%20%20%20%20%20%20var%20i_frame_1dbc4df2b6f24319a45348dff7067501%20%3D%20%24%28%60%3Ciframe%20src%3D%22data%3Atext/html%3Bcharset%3Dutf-8%3Bbase64%2CCiAgICBNb29yZSBQYXJrLCBTdW1tZXJoaWxsIEVhc3QsIENlbnRyYWwgVG9yb250bw%3D%3D%22%20width%3D%22250%22%20style%3D%22border%3Anone%20%21important%3B%22%20height%3D%2275%22%3E%3C/iframe%3E%60%29%5B0%5D%3B%0A%20%20%20%20%20%20%20%20%20%20%20%20popup_dc65f496f1984bf09211099b28f6f8a2.setContent%28i_frame_1dbc4df2b6f24319a45348dff7067501%29%3B%0A%20%20%20%20%20%20%20%20%0A%0A%20%20%20%20%20%20%20%20circle_marker_d0e5e8c8b0ff47b7a99300250ad565d1.bindPopup%28popup_dc65f496f1984bf09211099b28f6f8a2%29%0A%20%20%20%20%20%20%20%20%3B%0A%0A%20%20%20%20%20%20%20%20%0A%20%20%20%20%0A%20%20%20%20%0A%20%20%20%20%20%20%20%20%20%20%20%20var%20circle_marker_e6454cd067be49a590448944765de06b%20%3D%20L.circleMarker%28%0A%20%20%20%20%20%20%20%20%20%20%20%20%20%20%20%20%5B43.6532057%2C%20-79.4000493%5D%2C%0A%20%20%20%20%20%20%20%20%20%20%20%20%20%20%20%20%7B%22bubblingMouseEvents%22%3A%20true%2C%20%22color%22%3A%20%22blue%22%2C%20%22dashArray%22%3A%20null%2C%20%22dashOffset%22%3A%20null%2C%20%22fill%22%3A%20true%2C%20%22fillColor%22%3A%20%22%233186cc%22%2C%20%22fillOpacity%22%3A%200.7%2C%20%22fillRule%22%3A%20%22evenodd%22%2C%20%22lineCap%22%3A%20%22round%22%2C%20%22lineJoin%22%3A%20%22round%22%2C%20%22opacity%22%3A%201.0%2C%20%22radius%22%3A%205%2C%20%22stroke%22%3A%20true%2C%20%22weight%22%3A%203%7D%0A%20%20%20%20%20%20%20%20%20%20%20%20%29.addTo%28map_01d7decb81374a4299b5e1d8817ac1f9%29%3B%0A%20%20%20%20%20%20%20%20%0A%20%20%20%20%0A%20%20%20%20%20%20%20%20var%20popup_7e5abfab0f1243018803cf6fafb2039d%20%3D%20L.popup%28%7B%22maxWidth%22%3A%20%22100%25%22%2C%20%22minWidth%22%3A%201000%7D%29%3B%0A%0A%20%20%20%20%20%20%20%20%0A%20%20%20%20%20%20%20%20%20%20%20%20var%20i_frame_8ff19e0801364e929fd42d199bbf91b7%20%3D%20%24%28%60%3Ciframe%20src%3D%22data%3Atext/html%3Bcharset%3Dutf-8%3Bbase64%2CCiAgICBLZW5zaW5ndG9uIE1hcmtldCwgQ2hpbmF0b3duLCBHcmFuZ2UgUGFyaywgRG93bnRvd24gVG9yb250bw%3D%3D%22%20width%3D%22250%22%20style%3D%22border%3Anone%20%21important%3B%22%20height%3D%2275%22%3E%3C/iframe%3E%60%29%5B0%5D%3B%0A%20%20%20%20%20%20%20%20%20%20%20%20popup_7e5abfab0f1243018803cf6fafb2039d.setContent%28i_frame_8ff19e0801364e929fd42d199bbf91b7%29%3B%0A%20%20%20%20%20%20%20%20%0A%0A%20%20%20%20%20%20%20%20circle_marker_e6454cd067be49a590448944765de06b.bindPopup%28popup_7e5abfab0f1243018803cf6fafb2039d%29%0A%20%20%20%20%20%20%20%20%3B%0A%0A%20%20%20%20%20%20%20%20%0A%20%20%20%20%0A%20%20%20%20%0A%20%20%20%20%20%20%20%20%20%20%20%20var%20circle_marker_6859495182cd43e7b7a8fa75dc7749d9%20%3D%20L.circleMarker%28%0A%20%20%20%20%20%20%20%20%20%20%20%20%20%20%20%20%5B43.68641229999999%2C%20-79.4000493%5D%2C%0A%20%20%20%20%20%20%20%20%20%20%20%20%20%20%20%20%7B%22bubblingMouseEvents%22%3A%20true%2C%20%22color%22%3A%20%22blue%22%2C%20%22dashArray%22%3A%20null%2C%20%22dashOffset%22%3A%20null%2C%20%22fill%22%3A%20true%2C%20%22fillColor%22%3A%20%22%233186cc%22%2C%20%22fillOpacity%22%3A%200.7%2C%20%22fillRule%22%3A%20%22evenodd%22%2C%20%22lineCap%22%3A%20%22round%22%2C%20%22lineJoin%22%3A%20%22round%22%2C%20%22opacity%22%3A%201.0%2C%20%22radius%22%3A%205%2C%20%22stroke%22%3A%20true%2C%20%22weight%22%3A%203%7D%0A%20%20%20%20%20%20%20%20%20%20%20%20%29.addTo%28map_01d7decb81374a4299b5e1d8817ac1f9%29%3B%0A%20%20%20%20%20%20%20%20%0A%20%20%20%20%0A%20%20%20%20%20%20%20%20var%20popup_f403a29df81246f295dcf8aaa3f0f8d6%20%3D%20L.popup%28%7B%22maxWidth%22%3A%20%22100%25%22%2C%20%22minWidth%22%3A%201000%7D%29%3B%0A%0A%20%20%20%20%20%20%20%20%0A%20%20%20%20%20%20%20%20%20%20%20%20var%20i_frame_9838a4aebd8244289f1f5bd3f107e906%20%3D%20%24%28%60%3Ciframe%20src%3D%22data%3Atext/html%3Bcharset%3Dutf-8%3Bbase64%2CCiAgICBTdW1tZXJoaWxsIFdlc3QsIFJhdGhuZWxseSwgU291dGggSGlsbCwgRm9yZXN0IEhpbGwgU0UsIERlZXIgUGFyaywgQ2VudHJhbCBUb3JvbnRv%22%20width%3D%22250%22%20style%3D%22border%3Anone%20%21important%3B%22%20height%3D%2275%22%3E%3C/iframe%3E%60%29%5B0%5D%3B%0A%20%20%20%20%20%20%20%20%20%20%20%20popup_f403a29df81246f295dcf8aaa3f0f8d6.setContent%28i_frame_9838a4aebd8244289f1f5bd3f107e906%29%3B%0A%20%20%20%20%20%20%20%20%0A%0A%20%20%20%20%20%20%20%20circle_marker_6859495182cd43e7b7a8fa75dc7749d9.bindPopup%28popup_f403a29df81246f295dcf8aaa3f0f8d6%29%0A%20%20%20%20%20%20%20%20%3B%0A%0A%20%20%20%20%20%20%20%20%0A%20%20%20%20%0A%20%20%20%20%0A%20%20%20%20%20%20%20%20%20%20%20%20var%20circle_marker_d80ced3b286a4046919661b8c7b4babe%20%3D%20L.circleMarker%28%0A%20%20%20%20%20%20%20%20%20%20%20%20%20%20%20%20%5B43.6289467%2C%20-79.3944199%5D%2C%0A%20%20%20%20%20%20%20%20%20%20%20%20%20%20%20%20%7B%22bubblingMouseEvents%22%3A%20true%2C%20%22color%22%3A%20%22blue%22%2C%20%22dashArray%22%3A%20null%2C%20%22dashOffset%22%3A%20null%2C%20%22fill%22%3A%20true%2C%20%22fillColor%22%3A%20%22%233186cc%22%2C%20%22fillOpacity%22%3A%200.7%2C%20%22fillRule%22%3A%20%22evenodd%22%2C%20%22lineCap%22%3A%20%22round%22%2C%20%22lineJoin%22%3A%20%22round%22%2C%20%22opacity%22%3A%201.0%2C%20%22radius%22%3A%205%2C%20%22stroke%22%3A%20true%2C%20%22weight%22%3A%203%7D%0A%20%20%20%20%20%20%20%20%20%20%20%20%29.addTo%28map_01d7decb81374a4299b5e1d8817ac1f9%29%3B%0A%20%20%20%20%20%20%20%20%0A%20%20%20%20%0A%20%20%20%20%20%20%20%20var%20popup_4616f7177c844e4383b4daaa92c5ba51%20%3D%20L.popup%28%7B%22maxWidth%22%3A%20%22100%25%22%2C%20%22minWidth%22%3A%201000%7D%29%3B%0A%0A%20%20%20%20%20%20%20%20%0A%20%20%20%20%20%20%20%20%20%20%20%20var%20i_frame_333da0bd09054dec80aed07e36b8d311%20%3D%20%24%28%60%3Ciframe%20src%3D%22data%3Atext/html%3Bcharset%3Dutf-8%3Bbase64%2CCiAgICBDTiBUb3dlciwgS2luZyBhbmQgU3BhZGluYSwgUmFpbHdheSBMYW5kcywgSGFyYm91cmZyb250IFdlc3QsIEJhdGh1cnN0IFF1YXksIFNvdXRoIE5pYWdhcmEsIElzbGFuZCBhaXJwb3J0LCBEb3dudG93biBUb3JvbnRv%22%20width%3D%22250%22%20style%3D%22border%3Anone%20%21important%3B%22%20height%3D%2275%22%3E%3C/iframe%3E%60%29%5B0%5D%3B%0A%20%20%20%20%20%20%20%20%20%20%20%20popup_4616f7177c844e4383b4daaa92c5ba51.setContent%28i_frame_333da0bd09054dec80aed07e36b8d311%29%3B%0A%20%20%20%20%20%20%20%20%0A%0A%20%20%20%20%20%20%20%20circle_marker_d80ced3b286a4046919661b8c7b4babe.bindPopup%28popup_4616f7177c844e4383b4daaa92c5ba51%29%0A%20%20%20%20%20%20%20%20%3B%0A%0A%20%20%20%20%20%20%20%20%0A%20%20%20%20%0A%20%20%20%20%0A%20%20%20%20%20%20%20%20%20%20%20%20var%20circle_marker_0a46c130fcf84cf8854df6e667a22fb5%20%3D%20L.circleMarker%28%0A%20%20%20%20%20%20%20%20%20%20%20%20%20%20%20%20%5B43.6795626%2C%20-79.37752940000001%5D%2C%0A%20%20%20%20%20%20%20%20%20%20%20%20%20%20%20%20%7B%22bubblingMouseEvents%22%3A%20true%2C%20%22color%22%3A%20%22blue%22%2C%20%22dashArray%22%3A%20null%2C%20%22dashOffset%22%3A%20null%2C%20%22fill%22%3A%20true%2C%20%22fillColor%22%3A%20%22%233186cc%22%2C%20%22fillOpacity%22%3A%200.7%2C%20%22fillRule%22%3A%20%22evenodd%22%2C%20%22lineCap%22%3A%20%22round%22%2C%20%22lineJoin%22%3A%20%22round%22%2C%20%22opacity%22%3A%201.0%2C%20%22radius%22%3A%205%2C%20%22stroke%22%3A%20true%2C%20%22weight%22%3A%203%7D%0A%20%20%20%20%20%20%20%20%20%20%20%20%29.addTo%28map_01d7decb81374a4299b5e1d8817ac1f9%29%3B%0A%20%20%20%20%20%20%20%20%0A%20%20%20%20%0A%20%20%20%20%20%20%20%20var%20popup_4d0e9313495643db9221f3b7de10ef1b%20%3D%20L.popup%28%7B%22maxWidth%22%3A%20%22100%25%22%2C%20%22minWidth%22%3A%201000%7D%29%3B%0A%0A%20%20%20%20%20%20%20%20%0A%20%20%20%20%20%20%20%20%20%20%20%20var%20i_frame_4f42c47fdde246bb9836b173bb91543e%20%3D%20%24%28%60%3Ciframe%20src%3D%22data%3Atext/html%3Bcharset%3Dutf-8%3Bbase64%2CCiAgICBSb3NlZGFsZSwgRG93bnRvd24gVG9yb250bw%3D%3D%22%20width%3D%22250%22%20style%3D%22border%3Anone%20%21important%3B%22%20height%3D%2275%22%3E%3C/iframe%3E%60%29%5B0%5D%3B%0A%20%20%20%20%20%20%20%20%20%20%20%20popup_4d0e9313495643db9221f3b7de10ef1b.setContent%28i_frame_4f42c47fdde246bb9836b173bb91543e%29%3B%0A%20%20%20%20%20%20%20%20%0A%0A%20%20%20%20%20%20%20%20circle_marker_0a46c130fcf84cf8854df6e667a22fb5.bindPopup%28popup_4d0e9313495643db9221f3b7de10ef1b%29%0A%20%20%20%20%20%20%20%20%3B%0A%0A%20%20%20%20%20%20%20%20%0A%20%20%20%20%0A%20%20%20%20%0A%20%20%20%20%20%20%20%20%20%20%20%20var%20circle_marker_21ba2aecffed43a0aeb21ed8b0f32552%20%3D%20L.circleMarker%28%0A%20%20%20%20%20%20%20%20%20%20%20%20%20%20%20%20%5B43.6464352%2C%20-79.37484599999999%5D%2C%0A%20%20%20%20%20%20%20%20%20%20%20%20%20%20%20%20%7B%22bubblingMouseEvents%22%3A%20true%2C%20%22color%22%3A%20%22blue%22%2C%20%22dashArray%22%3A%20null%2C%20%22dashOffset%22%3A%20null%2C%20%22fill%22%3A%20true%2C%20%22fillColor%22%3A%20%22%233186cc%22%2C%20%22fillOpacity%22%3A%200.7%2C%20%22fillRule%22%3A%20%22evenodd%22%2C%20%22lineCap%22%3A%20%22round%22%2C%20%22lineJoin%22%3A%20%22round%22%2C%20%22opacity%22%3A%201.0%2C%20%22radius%22%3A%205%2C%20%22stroke%22%3A%20true%2C%20%22weight%22%3A%203%7D%0A%20%20%20%20%20%20%20%20%20%20%20%20%29.addTo%28map_01d7decb81374a4299b5e1d8817ac1f9%29%3B%0A%20%20%20%20%20%20%20%20%0A%20%20%20%20%0A%20%20%20%20%20%20%20%20var%20popup_8f9f13af64ee49d0a1fff170b3e27402%20%3D%20L.popup%28%7B%22maxWidth%22%3A%20%22100%25%22%2C%20%22minWidth%22%3A%201000%7D%29%3B%0A%0A%20%20%20%20%20%20%20%20%0A%20%20%20%20%20%20%20%20%20%20%20%20var%20i_frame_31144f970afd41a2891ff353f978a0e8%20%3D%20%24%28%60%3Ciframe%20src%3D%22data%3Atext/html%3Bcharset%3Dutf-8%3Bbase64%2CCiAgICBTdG4gQSBQTyBCb3hlcywgRG93bnRvd24gVG9yb250bw%3D%3D%22%20width%3D%22250%22%20style%3D%22border%3Anone%20%21important%3B%22%20height%3D%2275%22%3E%3C/iframe%3E%60%29%5B0%5D%3B%0A%20%20%20%20%20%20%20%20%20%20%20%20popup_8f9f13af64ee49d0a1fff170b3e27402.setContent%28i_frame_31144f970afd41a2891ff353f978a0e8%29%3B%0A%20%20%20%20%20%20%20%20%0A%0A%20%20%20%20%20%20%20%20circle_marker_21ba2aecffed43a0aeb21ed8b0f32552.bindPopup%28popup_8f9f13af64ee49d0a1fff170b3e27402%29%0A%20%20%20%20%20%20%20%20%3B%0A%0A%20%20%20%20%20%20%20%20%0A%20%20%20%20%0A%20%20%20%20%0A%20%20%20%20%20%20%20%20%20%20%20%20var%20circle_marker_58a2efc49e2743ffb966ce946deb25a7%20%3D%20L.circleMarker%28%0A%20%20%20%20%20%20%20%20%20%20%20%20%20%20%20%20%5B43.667967%2C%20-79.3676753%5D%2C%0A%20%20%20%20%20%20%20%20%20%20%20%20%20%20%20%20%7B%22bubblingMouseEvents%22%3A%20true%2C%20%22color%22%3A%20%22blue%22%2C%20%22dashArray%22%3A%20null%2C%20%22dashOffset%22%3A%20null%2C%20%22fill%22%3A%20true%2C%20%22fillColor%22%3A%20%22%233186cc%22%2C%20%22fillOpacity%22%3A%200.7%2C%20%22fillRule%22%3A%20%22evenodd%22%2C%20%22lineCap%22%3A%20%22round%22%2C%20%22lineJoin%22%3A%20%22round%22%2C%20%22opacity%22%3A%201.0%2C%20%22radius%22%3A%205%2C%20%22stroke%22%3A%20true%2C%20%22weight%22%3A%203%7D%0A%20%20%20%20%20%20%20%20%20%20%20%20%29.addTo%28map_01d7decb81374a4299b5e1d8817ac1f9%29%3B%0A%20%20%20%20%20%20%20%20%0A%20%20%20%20%0A%20%20%20%20%20%20%20%20var%20popup_18843d818d1d457da121ddc06ebcd033%20%3D%20L.popup%28%7B%22maxWidth%22%3A%20%22100%25%22%2C%20%22minWidth%22%3A%201000%7D%29%3B%0A%0A%20%20%20%20%20%20%20%20%0A%20%20%20%20%20%20%20%20%20%20%20%20var%20i_frame_fb87a75138e44a3c81513370e1216d7e%20%3D%20%24%28%60%3Ciframe%20src%3D%22data%3Atext/html%3Bcharset%3Dutf-8%3Bbase64%2CCiAgICBTdC4gSmFtZXMgVG93biwgQ2FiYmFnZXRvd24sIERvd250b3duIFRvcm9udG8%3D%22%20width%3D%22250%22%20style%3D%22border%3Anone%20%21important%3B%22%20height%3D%2275%22%3E%3C/iframe%3E%60%29%5B0%5D%3B%0A%20%20%20%20%20%20%20%20%20%20%20%20popup_18843d818d1d457da121ddc06ebcd033.setContent%28i_frame_fb87a75138e44a3c81513370e1216d7e%29%3B%0A%20%20%20%20%20%20%20%20%0A%0A%20%20%20%20%20%20%20%20circle_marker_58a2efc49e2743ffb966ce946deb25a7.bindPopup%28popup_18843d818d1d457da121ddc06ebcd033%29%0A%20%20%20%20%20%20%20%20%3B%0A%0A%20%20%20%20%20%20%20%20%0A%20%20%20%20%0A%20%20%20%20%0A%20%20%20%20%20%20%20%20%20%20%20%20var%20circle_marker_7f93b4827623410a82a0639a24e97ee7%20%3D%20L.circleMarker%28%0A%20%20%20%20%20%20%20%20%20%20%20%20%20%20%20%20%5B43.6484292%2C%20-79.3822802%5D%2C%0A%20%20%20%20%20%20%20%20%20%20%20%20%20%20%20%20%7B%22bubblingMouseEvents%22%3A%20true%2C%20%22color%22%3A%20%22blue%22%2C%20%22dashArray%22%3A%20null%2C%20%22dashOffset%22%3A%20null%2C%20%22fill%22%3A%20true%2C%20%22fillColor%22%3A%20%22%233186cc%22%2C%20%22fillOpacity%22%3A%200.7%2C%20%22fillRule%22%3A%20%22evenodd%22%2C%20%22lineCap%22%3A%20%22round%22%2C%20%22lineJoin%22%3A%20%22round%22%2C%20%22opacity%22%3A%201.0%2C%20%22radius%22%3A%205%2C%20%22stroke%22%3A%20true%2C%20%22weight%22%3A%203%7D%0A%20%20%20%20%20%20%20%20%20%20%20%20%29.addTo%28map_01d7decb81374a4299b5e1d8817ac1f9%29%3B%0A%20%20%20%20%20%20%20%20%0A%20%20%20%20%0A%20%20%20%20%20%20%20%20var%20popup_43b587acbf834a55a57f19db62a464ca%20%3D%20L.popup%28%7B%22maxWidth%22%3A%20%22100%25%22%2C%20%22minWidth%22%3A%201000%7D%29%3B%0A%0A%20%20%20%20%20%20%20%20%0A%20%20%20%20%20%20%20%20%20%20%20%20var%20i_frame_63819282119a462284f560187eea4fcf%20%3D%20%24%28%60%3Ciframe%20src%3D%22data%3Atext/html%3Bcharset%3Dutf-8%3Bbase64%2CCiAgICBGaXJzdCBDYW5hZGlhbiBQbGFjZSwgVW5kZXJncm91bmQgY2l0eSwgRG93bnRvd24gVG9yb250bw%3D%3D%22%20width%3D%22250%22%20style%3D%22border%3Anone%20%21important%3B%22%20height%3D%2275%22%3E%3C/iframe%3E%60%29%5B0%5D%3B%0A%20%20%20%20%20%20%20%20%20%20%20%20popup_43b587acbf834a55a57f19db62a464ca.setContent%28i_frame_63819282119a462284f560187eea4fcf%29%3B%0A%20%20%20%20%20%20%20%20%0A%0A%20%20%20%20%20%20%20%20circle_marker_7f93b4827623410a82a0639a24e97ee7.bindPopup%28popup_43b587acbf834a55a57f19db62a464ca%29%0A%20%20%20%20%20%20%20%20%3B%0A%0A%20%20%20%20%20%20%20%20%0A%20%20%20%20%0A%20%20%20%20%0A%20%20%20%20%20%20%20%20%20%20%20%20var%20circle_marker_7b142753b40b44caa6aaf14dfed214df%20%3D%20L.circleMarker%28%0A%20%20%20%20%20%20%20%20%20%20%20%20%20%20%20%20%5B43.6658599%2C%20-79.38315990000001%5D%2C%0A%20%20%20%20%20%20%20%20%20%20%20%20%20%20%20%20%7B%22bubblingMouseEvents%22%3A%20true%2C%20%22color%22%3A%20%22blue%22%2C%20%22dashArray%22%3A%20null%2C%20%22dashOffset%22%3A%20null%2C%20%22fill%22%3A%20true%2C%20%22fillColor%22%3A%20%22%233186cc%22%2C%20%22fillOpacity%22%3A%200.7%2C%20%22fillRule%22%3A%20%22evenodd%22%2C%20%22lineCap%22%3A%20%22round%22%2C%20%22lineJoin%22%3A%20%22round%22%2C%20%22opacity%22%3A%201.0%2C%20%22radius%22%3A%205%2C%20%22stroke%22%3A%20true%2C%20%22weight%22%3A%203%7D%0A%20%20%20%20%20%20%20%20%20%20%20%20%29.addTo%28map_01d7decb81374a4299b5e1d8817ac1f9%29%3B%0A%20%20%20%20%20%20%20%20%0A%20%20%20%20%0A%20%20%20%20%20%20%20%20var%20popup_b9e045b4b3c14d78b5d7624fb448b476%20%3D%20L.popup%28%7B%22maxWidth%22%3A%20%22100%25%22%2C%20%22minWidth%22%3A%201000%7D%29%3B%0A%0A%20%20%20%20%20%20%20%20%0A%20%20%20%20%20%20%20%20%20%20%20%20var%20i_frame_d8b57cfabcf64ed4a110bebb6d92fe45%20%3D%20%24%28%60%3Ciframe%20src%3D%22data%3Atext/html%3Bcharset%3Dutf-8%3Bbase64%2CCiAgICBDaHVyY2ggYW5kIFdlbGxlc2xleSwgRG93bnRvd24gVG9yb250bw%3D%3D%22%20width%3D%22250%22%20style%3D%22border%3Anone%20%21important%3B%22%20height%3D%2275%22%3E%3C/iframe%3E%60%29%5B0%5D%3B%0A%20%20%20%20%20%20%20%20%20%20%20%20popup_b9e045b4b3c14d78b5d7624fb448b476.setContent%28i_frame_d8b57cfabcf64ed4a110bebb6d92fe45%29%3B%0A%20%20%20%20%20%20%20%20%0A%0A%20%20%20%20%20%20%20%20circle_marker_7b142753b40b44caa6aaf14dfed214df.bindPopup%28popup_b9e045b4b3c14d78b5d7624fb448b476%29%0A%20%20%20%20%20%20%20%20%3B%0A%0A%20%20%20%20%20%20%20%20%0A%20%20%20%20%0A%20%20%20%20%0A%20%20%20%20%20%20%20%20%20%20%20%20var%20circle_marker_9b536077967b497e8d47d25c36d8d02e%20%3D%20L.circleMarker%28%0A%20%20%20%20%20%20%20%20%20%20%20%20%20%20%20%20%5B43.6627439%2C%20-79.321558%5D%2C%0A%20%20%20%20%20%20%20%20%20%20%20%20%20%20%20%20%7B%22bubblingMouseEvents%22%3A%20true%2C%20%22color%22%3A%20%22blue%22%2C%20%22dashArray%22%3A%20null%2C%20%22dashOffset%22%3A%20null%2C%20%22fill%22%3A%20true%2C%20%22fillColor%22%3A%20%22%233186cc%22%2C%20%22fillOpacity%22%3A%200.7%2C%20%22fillRule%22%3A%20%22evenodd%22%2C%20%22lineCap%22%3A%20%22round%22%2C%20%22lineJoin%22%3A%20%22round%22%2C%20%22opacity%22%3A%201.0%2C%20%22radius%22%3A%205%2C%20%22stroke%22%3A%20true%2C%20%22weight%22%3A%203%7D%0A%20%20%20%20%20%20%20%20%20%20%20%20%29.addTo%28map_01d7decb81374a4299b5e1d8817ac1f9%29%3B%0A%20%20%20%20%20%20%20%20%0A%20%20%20%20%0A%20%20%20%20%20%20%20%20var%20popup_95a6017f58554ea58259d354d218255e%20%3D%20L.popup%28%7B%22maxWidth%22%3A%20%22100%25%22%2C%20%22minWidth%22%3A%201000%7D%29%3B%0A%0A%20%20%20%20%20%20%20%20%0A%20%20%20%20%20%20%20%20%20%20%20%20var%20i_frame_01f389247598482a8184954e4e02dd0f%20%3D%20%24%28%60%3Ciframe%20src%3D%22data%3Atext/html%3Bcharset%3Dutf-8%3Bbase64%2CCiAgICBCdXNpbmVzcyByZXBseSBtYWlsIFByb2Nlc3NpbmcgQ2VudHJlLCBTb3V0aCBDZW50cmFsIExldHRlciBQcm9jZXNzaW5nIFBsYW50IFRvcm9udG8sIEVhc3QgVG9yb250bw%3D%3D%22%20width%3D%22250%22%20style%3D%22border%3Anone%20%21important%3B%22%20height%3D%2275%22%3E%3C/iframe%3E%60%29%5B0%5D%3B%0A%20%20%20%20%20%20%20%20%20%20%20%20popup_95a6017f58554ea58259d354d218255e.setContent%28i_frame_01f389247598482a8184954e4e02dd0f%29%3B%0A%20%20%20%20%20%20%20%20%0A%0A%20%20%20%20%20%20%20%20circle_marker_9b536077967b497e8d47d25c36d8d02e.bindPopup%28popup_95a6017f58554ea58259d354d218255e%29%0A%20%20%20%20%20%20%20%20%3B%0A%0A%20%20%20%20%20%20%20%20%0A%20%20%20%20%0A%3C/script%3E onload=\"this.contentDocument.open();this.contentDocument.write(    decodeURIComponent(this.getAttribute('data-html')));this.contentDocument.close();\" allowfullscreen webkitallowfullscreen mozallowfullscreen></iframe></div></div>"
     },
     "metadata": {},
     "execution_count": 91
    }
   ],
   "source": [
    "# create map of Toronto using latitude and longitude values\n",
    "latitude = 43.7253427\n",
    "longitude = -79.5208805\n",
    "map_toronto = folium.Map(location=[latitude, longitude], zoom_start=11)\n",
    "\n",
    "# add markers to map\n",
    "for lat, lng, borough, neighborhood in zip(toronto_df['Latitude'], toronto_df['Longitude'], toronto_df['Borough'], toronto_df['Neighbourhood']):\n",
    "    label = '{}, {}'.format(neighborhood, borough)\n",
    "    # iframe = folium.html(label)\n",
    "    iframe = folium.IFrame(html=label, width=250, height=75)\n",
    "    label = folium.Popup(iframe, min_width= 1000, parse_html=True)\n",
    "    folium.CircleMarker(\n",
    "        [lat, lng],\n",
    "        radius=5,\n",
    "        popup=label,\n",
    "        color='blue',\n",
    "        fill=True,\n",
    "        fill_color='#3186cc',\n",
    "        fill_opacity=0.7,\n",
    "        parse_html=True).add_to(map_toronto)  \n",
    "    \n",
    "map_toronto"
   ]
  },
  {
   "source": [
    "Next, we are going to start utilizing the Foursquare API to explore the neighborhoods and segment them."
   ],
   "cell_type": "markdown",
   "metadata": {}
  },
  {
   "source": [
    "## Defining Foursquare Credentials and Version"
   ],
   "cell_type": "markdown",
   "metadata": {}
  },
  {
   "cell_type": "code",
   "execution_count": 92,
   "metadata": {},
   "outputs": [
    {
     "output_type": "stream",
     "name": "stdout",
     "text": [
      "credentails:\nCLIENT_ID: FJBBHL0CQFIZKY0C3JXRMJ1Q3YYQRG0W5OGAREGYE1TMYRL3\nCLIENT_SECRET:CM0T2DDI4IXNZAAVZNHW2Z1JQ1QYQQXUYF55GTMH4OF3BY0B\n"
     ]
    }
   ],
   "source": [
    "CLIENT_ID = 'FJBBHL0CQFIZKY0C3JXRMJ1Q3YYQRG0W5OGAREGYE1TMYRL3' # your Foursquare ID\n",
    "CLIENT_SECRET = 'CM0T2DDI4IXNZAAVZNHW2Z1JQ1QYQQXUYF55GTMH4OF3BY0B' # your Foursquare Secret\n",
    "VERSION = '20180605' # Foursquare API version\n",
    "LIMIT = 100 # A default Foursquare API limit value\n",
    "\n",
    "print('credentails:')\n",
    "print('CLIENT_ID: ' + CLIENT_ID)\n",
    "print('CLIENT_SECRET:' + CLIENT_SECRET)"
   ]
  },
  {
   "source": [
    "## Let's explore the first neighborhood in our dataframe.\n"
   ],
   "cell_type": "markdown",
   "metadata": {}
  },
  {
   "cell_type": "code",
   "execution_count": 93,
   "metadata": {},
   "outputs": [
    {
     "output_type": "execute_result",
     "data": {
      "text/plain": [
       "'Regent Park, Harbourfront'"
      ]
     },
     "metadata": {},
     "execution_count": 93
    }
   ],
   "source": [
    "toronto_df.loc[0, 'Neighbourhood']"
   ]
  },
  {
   "cell_type": "code",
   "execution_count": 94,
   "metadata": {},
   "outputs": [
    {
     "output_type": "stream",
     "name": "stdout",
     "text": [
      "Latitude and longitude values of Regent Park, Harbourfront are 43.6542599, -79.3606359.\n"
     ]
    }
   ],
   "source": [
    "neighbourhood_latitude = toronto_df.loc[0, 'Latitude'] # neighborhood latitude value\n",
    "neighbourhood_longitude = toronto_df.loc[0, 'Longitude'] # neighborhood longitude value\n",
    "\n",
    "neighbourhood_name = toronto_df.loc[0, 'Neighbourhood'] # neighborhood name\n",
    "\n",
    "print('Latitude and longitude values of {} are {}, {}.'.format(neighbourhood_name, \n",
    "                                                               neighbourhood_latitude, \n",
    "                                                               neighbourhood_longitude))"
   ]
  },
  {
   "source": [
    "#### First, let's create the GET request URL"
   ],
   "cell_type": "markdown",
   "metadata": {}
  },
  {
   "cell_type": "code",
   "execution_count": 95,
   "metadata": {},
   "outputs": [
    {
     "output_type": "execute_result",
     "data": {
      "text/plain": [
       "'https://api.foursquare.com/v2/venues/explore?&client_id=FJBBHL0CQFIZKY0C3JXRMJ1Q3YYQRG0W5OGAREGYE1TMYRL3&client_secret=CM0T2DDI4IXNZAAVZNHW2Z1JQ1QYQQXUYF55GTMH4OF3BY0B&v=20180605&ll=43.6542599,-79.3606359&radius=500&limit=100'"
      ]
     },
     "metadata": {},
     "execution_count": 95
    }
   ],
   "source": [
    "LIMIT = 100 # limit of number of venues returned by Foursquare API\n",
    "\n",
    "radius = 500 # define radius\n",
    "\n",
    "url = 'https://api.foursquare.com/v2/venues/explore?&client_id={}&client_secret={}&v={}&ll={},{}&radius={}&limit={}'.format(\n",
    "    CLIENT_ID, \n",
    "    CLIENT_SECRET, \n",
    "    VERSION, \n",
    "    neighbourhood_latitude, \n",
    "    neighbourhood_longitude, \n",
    "    radius, \n",
    "    LIMIT)\n",
    "url # display URL"
   ]
  },
  {
   "cell_type": "code",
   "execution_count": 96,
   "metadata": {},
   "outputs": [],
   "source": [
    "results = requests.get(url).json()"
   ]
  },
  {
   "source": [
    "Creating function that extracts the category of the venue"
   ],
   "cell_type": "markdown",
   "metadata": {}
  },
  {
   "cell_type": "code",
   "execution_count": 97,
   "metadata": {},
   "outputs": [],
   "source": [
    "def get_category_type(row):\n",
    "    try:\n",
    "        categories_list = row['categories']\n",
    "    except:\n",
    "        categories_list = row['venue.categories']\n",
    "        \n",
    "    if len(categories_list) == 0:\n",
    "        return None\n",
    "    else:\n",
    "        return categories_list[0]['name']"
   ]
  },
  {
   "source": [
    "Now we are ready to clean the json and structure it into a _pandas_ dataframe."
   ],
   "cell_type": "markdown",
   "metadata": {}
  },
  {
   "cell_type": "code",
   "execution_count": 98,
   "metadata": {},
   "outputs": [
    {
     "output_type": "execute_result",
     "data": {
      "text/plain": [
       "                     name           categories        lat        lng\n",
       "0           Tandem Coffee          Coffee Shop  43.653559 -79.361809\n",
       "1        Roselle Desserts               Bakery  43.653447 -79.362017\n",
       "2  Cooper Koo Family YMCA  Distribution Center  43.653249 -79.358008\n",
       "3          Impact Kitchen           Restaurant  43.656369 -79.356980\n",
       "4     Body Blitz Spa East                  Spa  43.654735 -79.359874"
      ],
      "text/html": "<div>\n<style scoped>\n    .dataframe tbody tr th:only-of-type {\n        vertical-align: middle;\n    }\n\n    .dataframe tbody tr th {\n        vertical-align: top;\n    }\n\n    .dataframe thead th {\n        text-align: right;\n    }\n</style>\n<table border=\"1\" class=\"dataframe\">\n  <thead>\n    <tr style=\"text-align: right;\">\n      <th></th>\n      <th>name</th>\n      <th>categories</th>\n      <th>lat</th>\n      <th>lng</th>\n    </tr>\n  </thead>\n  <tbody>\n    <tr>\n      <th>0</th>\n      <td>Tandem Coffee</td>\n      <td>Coffee Shop</td>\n      <td>43.653559</td>\n      <td>-79.361809</td>\n    </tr>\n    <tr>\n      <th>1</th>\n      <td>Roselle Desserts</td>\n      <td>Bakery</td>\n      <td>43.653447</td>\n      <td>-79.362017</td>\n    </tr>\n    <tr>\n      <th>2</th>\n      <td>Cooper Koo Family YMCA</td>\n      <td>Distribution Center</td>\n      <td>43.653249</td>\n      <td>-79.358008</td>\n    </tr>\n    <tr>\n      <th>3</th>\n      <td>Impact Kitchen</td>\n      <td>Restaurant</td>\n      <td>43.656369</td>\n      <td>-79.356980</td>\n    </tr>\n    <tr>\n      <th>4</th>\n      <td>Body Blitz Spa East</td>\n      <td>Spa</td>\n      <td>43.654735</td>\n      <td>-79.359874</td>\n    </tr>\n  </tbody>\n</table>\n</div>"
     },
     "metadata": {},
     "execution_count": 98
    }
   ],
   "source": [
    "venues = results['response']['groups'][0]['items']\n",
    "    \n",
    "nearby_venues = pd.json_normalize(venues) # flatten JSON\n",
    "\n",
    "# filter columns\n",
    "filtered_columns = ['venue.name', 'venue.categories', 'venue.location.lat', 'venue.location.lng']\n",
    "nearby_venues =nearby_venues.loc[:, filtered_columns]\n",
    "\n",
    "# filter the category for each row\n",
    "nearby_venues['venue.categories'] = nearby_venues.apply(get_category_type, axis=1)\n",
    "\n",
    "# clean columns\n",
    "nearby_venues.columns = [col.split(\".\")[-1] for col in nearby_venues.columns]\n",
    "\n",
    "nearby_venues.head()"
   ]
  },
  {
   "cell_type": "code",
   "execution_count": 99,
   "metadata": {},
   "outputs": [
    {
     "output_type": "stream",
     "name": "stdout",
     "text": [
      "45 venues were returned by Foursquare.\n"
     ]
    }
   ],
   "source": [
    "print('{} venues were returned by Foursquare.'.format(nearby_venues.shape[0]))"
   ]
  },
  {
   "source": [
    "#### Creating the function to repeat the same process to all the neighborhoods of Toronto"
   ],
   "cell_type": "markdown",
   "metadata": {}
  },
  {
   "cell_type": "code",
   "execution_count": 100,
   "metadata": {},
   "outputs": [],
   "source": [
    "def getNearbyVenues(names, latitudes, longitudes, radius=500):\n",
    "    \n",
    "    venues_list=[]\n",
    "    for name, lat, lng in zip(names, latitudes, longitudes):\n",
    "        print(name)\n",
    "            \n",
    "        # create the API request URL\n",
    "        url = 'https://api.foursquare.com/v2/venues/explore?&client_id={}&client_secret={}&v={}&ll={},{}&radius={}&limit={}'.format(\n",
    "            CLIENT_ID, \n",
    "            CLIENT_SECRET, \n",
    "            VERSION, \n",
    "            lat, \n",
    "            lng, \n",
    "            radius, \n",
    "            LIMIT)\n",
    "            \n",
    "        # make the GET request\n",
    "        results = requests.get(url).json()[\"response\"]['groups'][0]['items']\n",
    "        \n",
    "        # return only relevant information for each nearby venue\n",
    "        venues_list.append([(\n",
    "            name, \n",
    "            lat, \n",
    "            lng, \n",
    "            v['venue']['name'], \n",
    "            v['venue']['location']['lat'], \n",
    "            v['venue']['location']['lng'],  \n",
    "            v['venue']['categories'][0]['name']) for v in results])\n",
    "\n",
    "    nearby_venues = pd.DataFrame([item for venue_list in venues_list for item in venue_list])\n",
    "    nearby_venues.columns = ['Neighbourhood', \n",
    "                  'Neighbourhood Latitude', \n",
    "                  'Neighbourhood Longitude', \n",
    "                  'Venue', \n",
    "                  'Venue Latitude', \n",
    "                  'Venue Longitude', \n",
    "                  'Venue Category']\n",
    "    \n",
    "    return(nearby_venues)"
   ]
  },
  {
   "cell_type": "code",
   "execution_count": 101,
   "metadata": {},
   "outputs": [
    {
     "output_type": "stream",
     "name": "stdout",
     "text": [
      "Regent Park, Harbourfront\n",
      "Queen's Park, Ontario Provincial Government\n",
      "Garden District, Ryerson\n",
      "St. James Town\n",
      "The Beaches\n",
      "Berczy Park\n",
      "Central Bay Street\n",
      "Christie\n",
      "Richmond, Adelaide, King\n",
      "Dufferin, Dovercourt Village\n",
      "Harbourfront East, Union Station, Toronto Islands\n",
      "Little Portugal, Trinity\n",
      "The Danforth West, Riverdale\n",
      "Toronto Dominion Centre, Design Exchange\n",
      "Brockton, Parkdale Village, Exhibition Place\n",
      "India Bazaar, The Beaches West\n",
      "Commerce Court, Victoria Hotel\n",
      "Studio District\n",
      "Lawrence Park\n",
      "Roselawn\n",
      "Runnymede, The Junction, Weston-Pellam Park, Carlton Village\n",
      "Davisville North\n",
      "Forest Hill North & West, Forest Hill Road Park\n",
      "High Park, The Junction South\n",
      "North Toronto West, Lawrence Park\n",
      "The Annex, North Midtown, Yorkville\n",
      "Parkdale, Roncesvalles\n",
      "Davisville\n",
      "University of Toronto, Harbord\n",
      "Runnymede, Swansea\n",
      "Moore Park, Summerhill East\n",
      "Kensington Market, Chinatown, Grange Park\n",
      "Summerhill West, Rathnelly, South Hill, Forest Hill SE, Deer Park\n",
      "CN Tower, King and Spadina, Railway Lands, Harbourfront West, Bathurst Quay, South Niagara, Island airport\n",
      "Rosedale\n",
      "Stn A PO Boxes\n",
      "St. James Town, Cabbagetown\n",
      "First Canadian Place, Underground city\n",
      "Church and Wellesley\n",
      "Business reply mail Processing Centre, South Central Letter Processing Plant Toronto\n"
     ]
    }
   ],
   "source": [
    "toronto_venues = getNearbyVenues(names=toronto_df['Neighbourhood'],\n",
    "                                   latitudes=toronto_df['Latitude'],\n",
    "                                   longitudes=toronto_df['Longitude']\n",
    "                                  )"
   ]
  },
  {
   "cell_type": "code",
   "execution_count": 102,
   "metadata": {},
   "outputs": [
    {
     "output_type": "stream",
     "name": "stdout",
     "text": [
      "(1610, 7)\n"
     ]
    },
    {
     "output_type": "execute_result",
     "data": {
      "text/plain": [
       "               Neighbourhood  Neighbourhood Latitude  Neighbourhood Longitude  \\\n",
       "0  Regent Park, Harbourfront                43.65426               -79.360636   \n",
       "1  Regent Park, Harbourfront                43.65426               -79.360636   \n",
       "2  Regent Park, Harbourfront                43.65426               -79.360636   \n",
       "3  Regent Park, Harbourfront                43.65426               -79.360636   \n",
       "4  Regent Park, Harbourfront                43.65426               -79.360636   \n",
       "\n",
       "                    Venue  Venue Latitude  Venue Longitude  \\\n",
       "0           Tandem Coffee       43.653559       -79.361809   \n",
       "1        Roselle Desserts       43.653447       -79.362017   \n",
       "2  Cooper Koo Family YMCA       43.653249       -79.358008   \n",
       "3          Impact Kitchen       43.656369       -79.356980   \n",
       "4     Body Blitz Spa East       43.654735       -79.359874   \n",
       "\n",
       "        Venue Category  \n",
       "0          Coffee Shop  \n",
       "1               Bakery  \n",
       "2  Distribution Center  \n",
       "3           Restaurant  \n",
       "4                  Spa  "
      ],
      "text/html": "<div>\n<style scoped>\n    .dataframe tbody tr th:only-of-type {\n        vertical-align: middle;\n    }\n\n    .dataframe tbody tr th {\n        vertical-align: top;\n    }\n\n    .dataframe thead th {\n        text-align: right;\n    }\n</style>\n<table border=\"1\" class=\"dataframe\">\n  <thead>\n    <tr style=\"text-align: right;\">\n      <th></th>\n      <th>Neighbourhood</th>\n      <th>Neighbourhood Latitude</th>\n      <th>Neighbourhood Longitude</th>\n      <th>Venue</th>\n      <th>Venue Latitude</th>\n      <th>Venue Longitude</th>\n      <th>Venue Category</th>\n    </tr>\n  </thead>\n  <tbody>\n    <tr>\n      <th>0</th>\n      <td>Regent Park, Harbourfront</td>\n      <td>43.65426</td>\n      <td>-79.360636</td>\n      <td>Tandem Coffee</td>\n      <td>43.653559</td>\n      <td>-79.361809</td>\n      <td>Coffee Shop</td>\n    </tr>\n    <tr>\n      <th>1</th>\n      <td>Regent Park, Harbourfront</td>\n      <td>43.65426</td>\n      <td>-79.360636</td>\n      <td>Roselle Desserts</td>\n      <td>43.653447</td>\n      <td>-79.362017</td>\n      <td>Bakery</td>\n    </tr>\n    <tr>\n      <th>2</th>\n      <td>Regent Park, Harbourfront</td>\n      <td>43.65426</td>\n      <td>-79.360636</td>\n      <td>Cooper Koo Family YMCA</td>\n      <td>43.653249</td>\n      <td>-79.358008</td>\n      <td>Distribution Center</td>\n    </tr>\n    <tr>\n      <th>3</th>\n      <td>Regent Park, Harbourfront</td>\n      <td>43.65426</td>\n      <td>-79.360636</td>\n      <td>Impact Kitchen</td>\n      <td>43.656369</td>\n      <td>-79.356980</td>\n      <td>Restaurant</td>\n    </tr>\n    <tr>\n      <th>4</th>\n      <td>Regent Park, Harbourfront</td>\n      <td>43.65426</td>\n      <td>-79.360636</td>\n      <td>Body Blitz Spa East</td>\n      <td>43.654735</td>\n      <td>-79.359874</td>\n      <td>Spa</td>\n    </tr>\n  </tbody>\n</table>\n</div>"
     },
     "metadata": {},
     "execution_count": 102
    }
   ],
   "source": [
    "print(toronto_venues.shape)\n",
    "toronto_venues.head()"
   ]
  },
  {
   "source": [
    "Let's check how many venues were returned for each neighbourhood"
   ],
   "cell_type": "markdown",
   "metadata": {}
  },
  {
   "cell_type": "code",
   "execution_count": 103,
   "metadata": {},
   "outputs": [
    {
     "output_type": "execute_result",
     "data": {
      "text/plain": [
       "                                                    Neighbourhood Latitude  \\\n",
       "Neighbourhood                                                                \n",
       "Berczy Park                                                             60   \n",
       "Brockton, Parkdale Village, Exhibition Place                            23   \n",
       "Business reply mail Processing Centre, South Ce...                      16   \n",
       "CN Tower, King and Spadina, Railway Lands, Harb...                      16   \n",
       "Central Bay Street                                                      63   \n",
       "Christie                                                                16   \n",
       "Church and Wellesley                                                    72   \n",
       "Commerce Court, Victoria Hotel                                         100   \n",
       "Davisville                                                              35   \n",
       "Davisville North                                                         7   \n",
       "Dufferin, Dovercourt Village                                            14   \n",
       "First Canadian Place, Underground city                                 100   \n",
       "Forest Hill North & West, Forest Hill Road Park                          4   \n",
       "Garden District, Ryerson                                               100   \n",
       "Harbourfront East, Union Station, Toronto Islands                      100   \n",
       "High Park, The Junction South                                           24   \n",
       "India Bazaar, The Beaches West                                          20   \n",
       "Kensington Market, Chinatown, Grange Park                               63   \n",
       "Lawrence Park                                                            3   \n",
       "Little Portugal, Trinity                                                44   \n",
       "Moore Park, Summerhill East                                              4   \n",
       "North Toronto West, Lawrence Park                                       19   \n",
       "Parkdale, Roncesvalles                                                  15   \n",
       "Queen's Park, Ontario Provincial Government                             31   \n",
       "Regent Park, Harbourfront                                               45   \n",
       "Richmond, Adelaide, King                                                94   \n",
       "Rosedale                                                                 4   \n",
       "Roselawn                                                                 2   \n",
       "Runnymede, Swansea                                                      35   \n",
       "Runnymede, The Junction, Weston-Pellam Park, Ca...                       4   \n",
       "St. James Town                                                          80   \n",
       "St. James Town, Cabbagetown                                             45   \n",
       "Stn A PO Boxes                                                         100   \n",
       "Studio District                                                         37   \n",
       "Summerhill West, Rathnelly, South Hill, Forest ...                      14   \n",
       "The Annex, North Midtown, Yorkville                                     21   \n",
       "The Beaches                                                              5   \n",
       "The Danforth West, Riverdale                                            43   \n",
       "Toronto Dominion Centre, Design Exchange                               100   \n",
       "University of Toronto, Harbord                                          32   \n",
       "\n",
       "                                                    Neighbourhood Longitude  \\\n",
       "Neighbourhood                                                                 \n",
       "Berczy Park                                                              60   \n",
       "Brockton, Parkdale Village, Exhibition Place                             23   \n",
       "Business reply mail Processing Centre, South Ce...                       16   \n",
       "CN Tower, King and Spadina, Railway Lands, Harb...                       16   \n",
       "Central Bay Street                                                       63   \n",
       "Christie                                                                 16   \n",
       "Church and Wellesley                                                     72   \n",
       "Commerce Court, Victoria Hotel                                          100   \n",
       "Davisville                                                               35   \n",
       "Davisville North                                                          7   \n",
       "Dufferin, Dovercourt Village                                             14   \n",
       "First Canadian Place, Underground city                                  100   \n",
       "Forest Hill North & West, Forest Hill Road Park                           4   \n",
       "Garden District, Ryerson                                                100   \n",
       "Harbourfront East, Union Station, Toronto Islands                       100   \n",
       "High Park, The Junction South                                            24   \n",
       "India Bazaar, The Beaches West                                           20   \n",
       "Kensington Market, Chinatown, Grange Park                                63   \n",
       "Lawrence Park                                                             3   \n",
       "Little Portugal, Trinity                                                 44   \n",
       "Moore Park, Summerhill East                                               4   \n",
       "North Toronto West, Lawrence Park                                        19   \n",
       "Parkdale, Roncesvalles                                                   15   \n",
       "Queen's Park, Ontario Provincial Government                              31   \n",
       "Regent Park, Harbourfront                                                45   \n",
       "Richmond, Adelaide, King                                                 94   \n",
       "Rosedale                                                                  4   \n",
       "Roselawn                                                                  2   \n",
       "Runnymede, Swansea                                                       35   \n",
       "Runnymede, The Junction, Weston-Pellam Park, Ca...                        4   \n",
       "St. James Town                                                           80   \n",
       "St. James Town, Cabbagetown                                              45   \n",
       "Stn A PO Boxes                                                          100   \n",
       "Studio District                                                          37   \n",
       "Summerhill West, Rathnelly, South Hill, Forest ...                       14   \n",
       "The Annex, North Midtown, Yorkville                                      21   \n",
       "The Beaches                                                               5   \n",
       "The Danforth West, Riverdale                                             43   \n",
       "Toronto Dominion Centre, Design Exchange                                100   \n",
       "University of Toronto, Harbord                                           32   \n",
       "\n",
       "                                                    Venue  Venue Latitude  \\\n",
       "Neighbourhood                                                               \n",
       "Berczy Park                                            60              60   \n",
       "Brockton, Parkdale Village, Exhibition Place           23              23   \n",
       "Business reply mail Processing Centre, South Ce...     16              16   \n",
       "CN Tower, King and Spadina, Railway Lands, Harb...     16              16   \n",
       "Central Bay Street                                     63              63   \n",
       "Christie                                               16              16   \n",
       "Church and Wellesley                                   72              72   \n",
       "Commerce Court, Victoria Hotel                        100             100   \n",
       "Davisville                                             35              35   \n",
       "Davisville North                                        7               7   \n",
       "Dufferin, Dovercourt Village                           14              14   \n",
       "First Canadian Place, Underground city                100             100   \n",
       "Forest Hill North & West, Forest Hill Road Park         4               4   \n",
       "Garden District, Ryerson                              100             100   \n",
       "Harbourfront East, Union Station, Toronto Islands     100             100   \n",
       "High Park, The Junction South                          24              24   \n",
       "India Bazaar, The Beaches West                         20              20   \n",
       "Kensington Market, Chinatown, Grange Park              63              63   \n",
       "Lawrence Park                                           3               3   \n",
       "Little Portugal, Trinity                               44              44   \n",
       "Moore Park, Summerhill East                             4               4   \n",
       "North Toronto West, Lawrence Park                      19              19   \n",
       "Parkdale, Roncesvalles                                 15              15   \n",
       "Queen's Park, Ontario Provincial Government            31              31   \n",
       "Regent Park, Harbourfront                              45              45   \n",
       "Richmond, Adelaide, King                               94              94   \n",
       "Rosedale                                                4               4   \n",
       "Roselawn                                                2               2   \n",
       "Runnymede, Swansea                                     35              35   \n",
       "Runnymede, The Junction, Weston-Pellam Park, Ca...      4               4   \n",
       "St. James Town                                         80              80   \n",
       "St. James Town, Cabbagetown                            45              45   \n",
       "Stn A PO Boxes                                        100             100   \n",
       "Studio District                                        37              37   \n",
       "Summerhill West, Rathnelly, South Hill, Forest ...     14              14   \n",
       "The Annex, North Midtown, Yorkville                    21              21   \n",
       "The Beaches                                             5               5   \n",
       "The Danforth West, Riverdale                           43              43   \n",
       "Toronto Dominion Centre, Design Exchange              100             100   \n",
       "University of Toronto, Harbord                         32              32   \n",
       "\n",
       "                                                    Venue Longitude  \\\n",
       "Neighbourhood                                                         \n",
       "Berczy Park                                                      60   \n",
       "Brockton, Parkdale Village, Exhibition Place                     23   \n",
       "Business reply mail Processing Centre, South Ce...               16   \n",
       "CN Tower, King and Spadina, Railway Lands, Harb...               16   \n",
       "Central Bay Street                                               63   \n",
       "Christie                                                         16   \n",
       "Church and Wellesley                                             72   \n",
       "Commerce Court, Victoria Hotel                                  100   \n",
       "Davisville                                                       35   \n",
       "Davisville North                                                  7   \n",
       "Dufferin, Dovercourt Village                                     14   \n",
       "First Canadian Place, Underground city                          100   \n",
       "Forest Hill North & West, Forest Hill Road Park                   4   \n",
       "Garden District, Ryerson                                        100   \n",
       "Harbourfront East, Union Station, Toronto Islands               100   \n",
       "High Park, The Junction South                                    24   \n",
       "India Bazaar, The Beaches West                                   20   \n",
       "Kensington Market, Chinatown, Grange Park                        63   \n",
       "Lawrence Park                                                     3   \n",
       "Little Portugal, Trinity                                         44   \n",
       "Moore Park, Summerhill East                                       4   \n",
       "North Toronto West, Lawrence Park                                19   \n",
       "Parkdale, Roncesvalles                                           15   \n",
       "Queen's Park, Ontario Provincial Government                      31   \n",
       "Regent Park, Harbourfront                                        45   \n",
       "Richmond, Adelaide, King                                         94   \n",
       "Rosedale                                                          4   \n",
       "Roselawn                                                          2   \n",
       "Runnymede, Swansea                                               35   \n",
       "Runnymede, The Junction, Weston-Pellam Park, Ca...                4   \n",
       "St. James Town                                                   80   \n",
       "St. James Town, Cabbagetown                                      45   \n",
       "Stn A PO Boxes                                                  100   \n",
       "Studio District                                                  37   \n",
       "Summerhill West, Rathnelly, South Hill, Forest ...               14   \n",
       "The Annex, North Midtown, Yorkville                              21   \n",
       "The Beaches                                                       5   \n",
       "The Danforth West, Riverdale                                     43   \n",
       "Toronto Dominion Centre, Design Exchange                        100   \n",
       "University of Toronto, Harbord                                   32   \n",
       "\n",
       "                                                    Venue Category  \n",
       "Neighbourhood                                                       \n",
       "Berczy Park                                                     60  \n",
       "Brockton, Parkdale Village, Exhibition Place                    23  \n",
       "Business reply mail Processing Centre, South Ce...              16  \n",
       "CN Tower, King and Spadina, Railway Lands, Harb...              16  \n",
       "Central Bay Street                                              63  \n",
       "Christie                                                        16  \n",
       "Church and Wellesley                                            72  \n",
       "Commerce Court, Victoria Hotel                                 100  \n",
       "Davisville                                                      35  \n",
       "Davisville North                                                 7  \n",
       "Dufferin, Dovercourt Village                                    14  \n",
       "First Canadian Place, Underground city                         100  \n",
       "Forest Hill North & West, Forest Hill Road Park                  4  \n",
       "Garden District, Ryerson                                       100  \n",
       "Harbourfront East, Union Station, Toronto Islands              100  \n",
       "High Park, The Junction South                                   24  \n",
       "India Bazaar, The Beaches West                                  20  \n",
       "Kensington Market, Chinatown, Grange Park                       63  \n",
       "Lawrence Park                                                    3  \n",
       "Little Portugal, Trinity                                        44  \n",
       "Moore Park, Summerhill East                                      4  \n",
       "North Toronto West, Lawrence Park                               19  \n",
       "Parkdale, Roncesvalles                                          15  \n",
       "Queen's Park, Ontario Provincial Government                     31  \n",
       "Regent Park, Harbourfront                                       45  \n",
       "Richmond, Adelaide, King                                        94  \n",
       "Rosedale                                                         4  \n",
       "Roselawn                                                         2  \n",
       "Runnymede, Swansea                                              35  \n",
       "Runnymede, The Junction, Weston-Pellam Park, Ca...               4  \n",
       "St. James Town                                                  80  \n",
       "St. James Town, Cabbagetown                                     45  \n",
       "Stn A PO Boxes                                                 100  \n",
       "Studio District                                                 37  \n",
       "Summerhill West, Rathnelly, South Hill, Forest ...              14  \n",
       "The Annex, North Midtown, Yorkville                             21  \n",
       "The Beaches                                                      5  \n",
       "The Danforth West, Riverdale                                    43  \n",
       "Toronto Dominion Centre, Design Exchange                       100  \n",
       "University of Toronto, Harbord                                  32  "
      ],
      "text/html": "<div>\n<style scoped>\n    .dataframe tbody tr th:only-of-type {\n        vertical-align: middle;\n    }\n\n    .dataframe tbody tr th {\n        vertical-align: top;\n    }\n\n    .dataframe thead th {\n        text-align: right;\n    }\n</style>\n<table border=\"1\" class=\"dataframe\">\n  <thead>\n    <tr style=\"text-align: right;\">\n      <th></th>\n      <th>Neighbourhood Latitude</th>\n      <th>Neighbourhood Longitude</th>\n      <th>Venue</th>\n      <th>Venue Latitude</th>\n      <th>Venue Longitude</th>\n      <th>Venue Category</th>\n    </tr>\n    <tr>\n      <th>Neighbourhood</th>\n      <th></th>\n      <th></th>\n      <th></th>\n      <th></th>\n      <th></th>\n      <th></th>\n    </tr>\n  </thead>\n  <tbody>\n    <tr>\n      <th>Berczy Park</th>\n      <td>60</td>\n      <td>60</td>\n      <td>60</td>\n      <td>60</td>\n      <td>60</td>\n      <td>60</td>\n    </tr>\n    <tr>\n      <th>Brockton, Parkdale Village, Exhibition Place</th>\n      <td>23</td>\n      <td>23</td>\n      <td>23</td>\n      <td>23</td>\n      <td>23</td>\n      <td>23</td>\n    </tr>\n    <tr>\n      <th>Business reply mail Processing Centre, South Central Letter Processing Plant Toronto</th>\n      <td>16</td>\n      <td>16</td>\n      <td>16</td>\n      <td>16</td>\n      <td>16</td>\n      <td>16</td>\n    </tr>\n    <tr>\n      <th>CN Tower, King and Spadina, Railway Lands, Harbourfront West, Bathurst Quay, South Niagara, Island airport</th>\n      <td>16</td>\n      <td>16</td>\n      <td>16</td>\n      <td>16</td>\n      <td>16</td>\n      <td>16</td>\n    </tr>\n    <tr>\n      <th>Central Bay Street</th>\n      <td>63</td>\n      <td>63</td>\n      <td>63</td>\n      <td>63</td>\n      <td>63</td>\n      <td>63</td>\n    </tr>\n    <tr>\n      <th>Christie</th>\n      <td>16</td>\n      <td>16</td>\n      <td>16</td>\n      <td>16</td>\n      <td>16</td>\n      <td>16</td>\n    </tr>\n    <tr>\n      <th>Church and Wellesley</th>\n      <td>72</td>\n      <td>72</td>\n      <td>72</td>\n      <td>72</td>\n      <td>72</td>\n      <td>72</td>\n    </tr>\n    <tr>\n      <th>Commerce Court, Victoria Hotel</th>\n      <td>100</td>\n      <td>100</td>\n      <td>100</td>\n      <td>100</td>\n      <td>100</td>\n      <td>100</td>\n    </tr>\n    <tr>\n      <th>Davisville</th>\n      <td>35</td>\n      <td>35</td>\n      <td>35</td>\n      <td>35</td>\n      <td>35</td>\n      <td>35</td>\n    </tr>\n    <tr>\n      <th>Davisville North</th>\n      <td>7</td>\n      <td>7</td>\n      <td>7</td>\n      <td>7</td>\n      <td>7</td>\n      <td>7</td>\n    </tr>\n    <tr>\n      <th>Dufferin, Dovercourt Village</th>\n      <td>14</td>\n      <td>14</td>\n      <td>14</td>\n      <td>14</td>\n      <td>14</td>\n      <td>14</td>\n    </tr>\n    <tr>\n      <th>First Canadian Place, Underground city</th>\n      <td>100</td>\n      <td>100</td>\n      <td>100</td>\n      <td>100</td>\n      <td>100</td>\n      <td>100</td>\n    </tr>\n    <tr>\n      <th>Forest Hill North &amp; West, Forest Hill Road Park</th>\n      <td>4</td>\n      <td>4</td>\n      <td>4</td>\n      <td>4</td>\n      <td>4</td>\n      <td>4</td>\n    </tr>\n    <tr>\n      <th>Garden District, Ryerson</th>\n      <td>100</td>\n      <td>100</td>\n      <td>100</td>\n      <td>100</td>\n      <td>100</td>\n      <td>100</td>\n    </tr>\n    <tr>\n      <th>Harbourfront East, Union Station, Toronto Islands</th>\n      <td>100</td>\n      <td>100</td>\n      <td>100</td>\n      <td>100</td>\n      <td>100</td>\n      <td>100</td>\n    </tr>\n    <tr>\n      <th>High Park, The Junction South</th>\n      <td>24</td>\n      <td>24</td>\n      <td>24</td>\n      <td>24</td>\n      <td>24</td>\n      <td>24</td>\n    </tr>\n    <tr>\n      <th>India Bazaar, The Beaches West</th>\n      <td>20</td>\n      <td>20</td>\n      <td>20</td>\n      <td>20</td>\n      <td>20</td>\n      <td>20</td>\n    </tr>\n    <tr>\n      <th>Kensington Market, Chinatown, Grange Park</th>\n      <td>63</td>\n      <td>63</td>\n      <td>63</td>\n      <td>63</td>\n      <td>63</td>\n      <td>63</td>\n    </tr>\n    <tr>\n      <th>Lawrence Park</th>\n      <td>3</td>\n      <td>3</td>\n      <td>3</td>\n      <td>3</td>\n      <td>3</td>\n      <td>3</td>\n    </tr>\n    <tr>\n      <th>Little Portugal, Trinity</th>\n      <td>44</td>\n      <td>44</td>\n      <td>44</td>\n      <td>44</td>\n      <td>44</td>\n      <td>44</td>\n    </tr>\n    <tr>\n      <th>Moore Park, Summerhill East</th>\n      <td>4</td>\n      <td>4</td>\n      <td>4</td>\n      <td>4</td>\n      <td>4</td>\n      <td>4</td>\n    </tr>\n    <tr>\n      <th>North Toronto West, Lawrence Park</th>\n      <td>19</td>\n      <td>19</td>\n      <td>19</td>\n      <td>19</td>\n      <td>19</td>\n      <td>19</td>\n    </tr>\n    <tr>\n      <th>Parkdale, Roncesvalles</th>\n      <td>15</td>\n      <td>15</td>\n      <td>15</td>\n      <td>15</td>\n      <td>15</td>\n      <td>15</td>\n    </tr>\n    <tr>\n      <th>Queen's Park, Ontario Provincial Government</th>\n      <td>31</td>\n      <td>31</td>\n      <td>31</td>\n      <td>31</td>\n      <td>31</td>\n      <td>31</td>\n    </tr>\n    <tr>\n      <th>Regent Park, Harbourfront</th>\n      <td>45</td>\n      <td>45</td>\n      <td>45</td>\n      <td>45</td>\n      <td>45</td>\n      <td>45</td>\n    </tr>\n    <tr>\n      <th>Richmond, Adelaide, King</th>\n      <td>94</td>\n      <td>94</td>\n      <td>94</td>\n      <td>94</td>\n      <td>94</td>\n      <td>94</td>\n    </tr>\n    <tr>\n      <th>Rosedale</th>\n      <td>4</td>\n      <td>4</td>\n      <td>4</td>\n      <td>4</td>\n      <td>4</td>\n      <td>4</td>\n    </tr>\n    <tr>\n      <th>Roselawn</th>\n      <td>2</td>\n      <td>2</td>\n      <td>2</td>\n      <td>2</td>\n      <td>2</td>\n      <td>2</td>\n    </tr>\n    <tr>\n      <th>Runnymede, Swansea</th>\n      <td>35</td>\n      <td>35</td>\n      <td>35</td>\n      <td>35</td>\n      <td>35</td>\n      <td>35</td>\n    </tr>\n    <tr>\n      <th>Runnymede, The Junction, Weston-Pellam Park, Carlton Village</th>\n      <td>4</td>\n      <td>4</td>\n      <td>4</td>\n      <td>4</td>\n      <td>4</td>\n      <td>4</td>\n    </tr>\n    <tr>\n      <th>St. James Town</th>\n      <td>80</td>\n      <td>80</td>\n      <td>80</td>\n      <td>80</td>\n      <td>80</td>\n      <td>80</td>\n    </tr>\n    <tr>\n      <th>St. James Town, Cabbagetown</th>\n      <td>45</td>\n      <td>45</td>\n      <td>45</td>\n      <td>45</td>\n      <td>45</td>\n      <td>45</td>\n    </tr>\n    <tr>\n      <th>Stn A PO Boxes</th>\n      <td>100</td>\n      <td>100</td>\n      <td>100</td>\n      <td>100</td>\n      <td>100</td>\n      <td>100</td>\n    </tr>\n    <tr>\n      <th>Studio District</th>\n      <td>37</td>\n      <td>37</td>\n      <td>37</td>\n      <td>37</td>\n      <td>37</td>\n      <td>37</td>\n    </tr>\n    <tr>\n      <th>Summerhill West, Rathnelly, South Hill, Forest Hill SE, Deer Park</th>\n      <td>14</td>\n      <td>14</td>\n      <td>14</td>\n      <td>14</td>\n      <td>14</td>\n      <td>14</td>\n    </tr>\n    <tr>\n      <th>The Annex, North Midtown, Yorkville</th>\n      <td>21</td>\n      <td>21</td>\n      <td>21</td>\n      <td>21</td>\n      <td>21</td>\n      <td>21</td>\n    </tr>\n    <tr>\n      <th>The Beaches</th>\n      <td>5</td>\n      <td>5</td>\n      <td>5</td>\n      <td>5</td>\n      <td>5</td>\n      <td>5</td>\n    </tr>\n    <tr>\n      <th>The Danforth West, Riverdale</th>\n      <td>43</td>\n      <td>43</td>\n      <td>43</td>\n      <td>43</td>\n      <td>43</td>\n      <td>43</td>\n    </tr>\n    <tr>\n      <th>Toronto Dominion Centre, Design Exchange</th>\n      <td>100</td>\n      <td>100</td>\n      <td>100</td>\n      <td>100</td>\n      <td>100</td>\n      <td>100</td>\n    </tr>\n    <tr>\n      <th>University of Toronto, Harbord</th>\n      <td>32</td>\n      <td>32</td>\n      <td>32</td>\n      <td>32</td>\n      <td>32</td>\n      <td>32</td>\n    </tr>\n  </tbody>\n</table>\n</div>"
     },
     "metadata": {},
     "execution_count": 103
    }
   ],
   "source": [
    "toronto_venues.groupby('Neighbourhood').count()"
   ]
  },
  {
   "source": [
    "Let's find out how many unique categories can be curated from all the returned venues\n"
   ],
   "cell_type": "markdown",
   "metadata": {}
  },
  {
   "cell_type": "code",
   "execution_count": 104,
   "metadata": {},
   "outputs": [
    {
     "output_type": "stream",
     "name": "stdout",
     "text": [
      "There are 237 uniques categories.\n"
     ]
    }
   ],
   "source": [
    "print('There are {} uniques categories.'.format(len(toronto_venues['Venue Category'].unique())))"
   ]
  },
  {
   "source": [
    "## Finding the top 10 categories in toronto."
   ],
   "cell_type": "markdown",
   "metadata": {}
  },
  {
   "cell_type": "code",
   "execution_count": 105,
   "metadata": {},
   "outputs": [
    {
     "output_type": "execute_result",
     "data": {
      "text/plain": [
       "['Coffee Shop',\n",
       " 'Café',\n",
       " 'Restaurant',\n",
       " 'Italian Restaurant',\n",
       " 'Park',\n",
       " 'Bakery',\n",
       " 'Hotel',\n",
       " 'Japanese Restaurant',\n",
       " 'Pizza Place',\n",
       " 'Gym']"
      ]
     },
     "metadata": {},
     "execution_count": 105
    }
   ],
   "source": [
    "top10Venues = toronto_venues['Venue Category'].value_counts()[:10].index.tolist()\n",
    "top10Venues"
   ]
  },
  {
   "source": [
    "## Analyzing each neighbourhood"
   ],
   "cell_type": "markdown",
   "metadata": {}
  },
  {
   "cell_type": "code",
   "execution_count": 106,
   "metadata": {},
   "outputs": [
    {
     "output_type": "execute_result",
     "data": {
      "text/plain": [
       "  0                0         0   \n",
       "4                     0               0        0                0         0   \n",
       "\n",
       "   Burger Joint  Burrito Place  Bus Line  Butcher  Café  \\\n",
       "0             0              0         0        0     0   \n",
       "1             0              0         0        0     0   \n",
       "2             0              0         0        0     0   \n",
       "3             0              0         0        0     0   \n",
       "4             0              0         0        0     0   \n",
       "\n",
       "   Cajun / Creole Restaurant  Candy Store  Caribbean Restaurant  Cheese Shop  \\\n",
       "0                          0            0                     0            0   \n",
       "1                          0            0                     0            0   \n",
       "2                          0            0                     0            0   \n",
       "3                          0            0                     0            0   \n",
       "4                          0            0                     0            0   \n",
       "\n",
       "   Chinese Restaurant  Chocolate Shop  Church  Climbing Gym  Clothing Store  \\\n",
       "0                   0               0       0             0               0   \n",
       "1                   0               0       0             0               0   \n",
       "2                   0               0       0             0               0   \n",
       "3                   0               0       0             0               0   \n",
       "4                   0               0       0             0               0   \n",
       "\n",
       "   Cocktail Bar  Coffee Shop  College Arts Building  College Auditorium  \\\n",
       "0             0            1                      0                   0   \n",
       "1             0            0                      0                   0   \n",
       "2             0            0                      0                   0   \n",
       "3             0            0                      0                   0   \n",
       "4             0            0                      0                   0   \n",
       "\n",
       "   College Cafeteria  College Gym  College Rec Center  Colombian Restaurant  \\\n",
       "0                  0            0                   0                     0   \n",
       "1                  0            0                   0                     0   \n",
       "2                  0            0                   0                     0   \n",
       "3                  0            0                   0                     0   \n",
       "4                  0            0                   0                     0   \n",
       "\n",
       "   Comfort Food Restaurant  Comic Shop  Concert Hall  Convenience Store  \\\n",
       "0                        0           0             0                  0   \n",
       "1                        0           0             0                  0   \n",
       "2                        0           0             0                  0   \n",
       "3                        0           0             0                  0   \n",
       "4                        0           0             0                  0   \n",
       "\n",
       "   Cosmetics Shop  Coworking Space  Creperie  Cuban Restaurant  Cupcake Shop  \\\n",
       "0               0                0         0                 0             0   \n",
       "1               0                0         0                 0             0   \n",
       "2               0                0         0                 0             0   \n",
       "3               0                0         0                 0             0   \n",
       "4               0                0         0                 0             0   \n",
       "\n",
       "   Dance Studio  Deli / Bodega  Department Store  Dessert Shop  Diner  \\\n",
       "0             0              0                 0             0      0   \n",
       "1             0              0                 0             0      0   \n",
       "2             0              0                 0             0      0   \n",
       "3             0              0                 0             0      0   \n",
       "4             0              0                 0             0      0   \n",
       "\n",
       "   Discount Store  Distribution Center  Dog Run  Doner Restaurant  Donut Shop  \\\n",
       "0               0                    0        0                 0           0   \n",
       "1               0                    0        0                 0           0   \n",
       "2               0                    1        0                 0           0   \n",
       "3               0                    0        0                 0           0   \n",
       "4               0                    0        0                 0           0   \n",
       "\n",
       "   Dumpling Restaurant  Eastern European Restaurant  Electronics Store  \\\n",
       "0                    0                            0                  0   \n",
       "1                    0                            0                  0   \n",
       "2                    0                            0                  0   \n",
       "3                    0                            0                  0   \n",
       "4                    0                            0                  0   \n",
       "\n",
       "   Escape Room  Ethiopian Restaurant  Event Space  Falafel Restaurant  \\\n",
       "0            0                     0            0                   0   \n",
       "1            0                     0            0                   0   \n",
       "2            0                     0            0                   0   \n",
       "3            0                     0            0                   0   \n",
       "4            0                     0            0                   0   \n",
       "\n",
       "   Farmers Market  Fast Food Restaurant  Filipino Restaurant  \\\n",
       "0               0                     0                    0   \n",
       "1               0                     0                    0   \n",
       "2               0                     0                    0   \n",
       "3               0                     0                    0   \n",
       "4               0                     0                    0   \n",
       "\n",
       "   Fish & Chips Shop  Fish Market  Flea Market  Flower Shop  \\\n",
       "0                  0            0            0            0   \n",
       "1                  0            0            0            0   \n",
       "2                  0            0            0            0   \n",
       "3                  0            0            0            0   \n",
       "4                  0            0            0            0   \n",
       "\n",
       "   Food & Drink Shop  Food Court  Food Truck  Fountain  French Restaurant  \\\n",
       "0                  0           0           0         0                  0   \n",
       "1                  0           0           0         0                  0   \n",
       "2                  0           0           0         0                  0   \n",
       "3                  0           0           0         0                  0   \n",
       "4                  0           0           0         0                  0   \n",
       "\n",
       "   Fried Chicken Joint  Frozen Yogurt Shop  Fruit & Vegetable Store  \\\n",
       "0                    0                   0                        0   \n",
       "1                    0                   0                        0   \n",
       "2                    0                   0                        0   \n",
       "3                    0                   0                        0   \n",
       "4                    0                   0                        0   \n",
       "\n",
       "   Furniture / Home Store  Gaming Cafe  Garden  Garden Center  Gas Station  \\\n",
       "0                       0            0       0              0            0   \n",
       "1                       0            0       0              0            0   \n",
       "2                       0            0       0              0            0   \n",
       "3                       0            0       0              0            0   \n",
       "4                       0            0       0              0            0   \n",
       "\n",
       "   Gastropub  Gay Bar  General Entertainment  General Travel  \\\n",
       "0          0        0                      0               0   \n",
       "1          0        0                      0               0   \n",
       "2          0        0                      0               0   \n",
       "3          0        0                      0               0   \n",
       "4          0        0                      0               0   \n",
       "\n",
       "   German Restaurant  Gift Shop  Gluten-free Restaurant  Gourmet Shop  \\\n",
       "0                  0          0                       0             0   \n",
       "1                  0          0                       0             0   \n",
       "2                  0          0                       0             0   \n",
       "3                  0          0                       0             0   \n",
       "4                  0          0                       0             0   \n",
       "\n",
       "   Greek Restaurant  Grocery Store  Gym  Gym / Fitness Center  \\\n",
       "0                 0              0    0                     0   \n",
       "1                 0              0    0                     0   \n",
       "2                 0              0    0                     0   \n",
       "3                 0              0    0                     0   \n",
       "4                 0              0    0                     0   \n",
       "\n",
       "   Harbor / Marina  Health & Beauty Service  Health Food Store  Historic Site  \\\n",
       "0                0                        0                  0              0   \n",
       "1                0                        0                  0              0   \n",
       "2                0                        0                  0              0   \n",
       "3                0                        0                  0              0   \n",
       "4                0                        0                  0              0   \n",
       "\n",
       "   History Museum  Home Service  Hookah Bar  Hospital  Hostel  Hotel  \\\n",
       "0               0             0           0         0       0      0   \n",
       "1               0             0           0         0       0      0   \n",
       "2               0             0           0         0       0      0   \n",
       "3               0             0           0         0       0      0   \n",
       "4               0             0           0         0       0      0   \n",
       "\n",
       "   Hotel Bar  IT Services  Ice Cream Shop  Indian Restaurant  \\\n",
       "0          0            0               0                  0   \n",
       "1          0            0               0                  0   \n",
       "2          0            0               0                  0   \n",
       "3          0            0               0                  0   \n",
       "4          0            0               0                  0   \n",
       "\n",
       "   Indie Movie Theater  Indoor Play Area  Intersection  Irish Pub  \\\n",
       "0                    0                 0             0          0   \n",
       "1                    0                 0             0          0   \n",
       "2                    0                 0             0          0   \n",
       "3                    0                 0             0          0   \n",
       "4                    0                 0             0          0   \n",
       "\n",
       "   Italian Restaurant  Japanese Restaurant  Jazz Club  Jewelry Store  \\\n",
       "0                   0                    0          0              0   \n",
       "1                   0                    0          0              0   \n",
       "2                   0                    0          0              0   \n",
       "3                   0                    0          0              0   \n",
       "4                   0                    0          0              0   \n",
       "\n",
       "   Juice Bar  Korean Restaurant  Lake  Latin American Restaurant  \\\n",
       "0          0                  0     0                          0   \n",
       "1          0                  0     0                          0   \n",
       "2          0                  0     0                          0   \n",
       "3          0                  0     0                          0   \n",
       "4          0                  0     0                          0   \n",
       "\n",
       "   Light Rail Station  Lingerie Store  Liquor Store  Lounge  Market  \\\n",
       "0                   0               0             0       0       0   \n",
       "1                   0               0             0       0       0   \n",
       "2                   0               0             0       0       0   \n",
       "3                   0               0             0       0       0   \n",
       "4                   0               0             0       0       0   \n",
       "\n",
       "   Martial Arts School  Massage Studio  Mediterranean Restaurant  Men's Store  \\\n",
       "0                    0               0                         0            0   \n",
       "1                    0               0                         0            0   \n",
       "2                    0               0                         0            0   \n",
       "3                    0               0                         0            0   \n",
       "4                    0               0                         0            0   \n",
       "\n",
       "   Metro Station  Mexican Restaurant  Middle Eastern Restaurant  \\\n",
       "0              0                   0                          0   \n",
       "1              0                   0                          0   \n",
       "2              0                   0                          0   \n",
       "3              0                   0                          0   \n",
       "4              0                   0                          0   \n",
       "\n",
       "   Miscellaneous Shop  Modern European Restaurant  \\\n",
       "0                   0                           0   \n",
       "1                   0                           0   \n",
       "2                   0                           0   \n",
       "3                   0                           0   \n",
       "4                   0                           0   \n",
       "\n",
       "   Molecular Gastronomy Restaurant  Monument / Landmark  Moroccan Restaurant  \\\n",
       "0                                0                    0                    0   \n",
       "1                                0                    0                    0   \n",
       "2                                0                    0                    0   \n",
       "3                                0                    0                    0   \n",
       "4                                0                    0                    0   \n",
       "\n",
       "   Movie Theater  Museum  Music Venue  Neighborhood  New American Restaurant  \\\n",
       "0              0       0            0             0                        0   \n",
       "1              0       0            0             0                        0   \n",
       "2              0       0            0             0                        0   \n",
       "3              0       0            0             0                        0   \n",
       "4              0       0            0             0                        0   \n",
       "\n",
       "   Nightclub  Noodle House  Office  Opera House  Optical Shop  \\\n",
       "0          0             0       0            0             0   \n",
       "1          0             0       0            0             0   \n",
       "2          0             0       0            0             0   \n",
       "3          0             0       0            0             0   \n",
       "4          0             0       0            0             0   \n",
       "\n",
       "   Organic Grocery  Other Great Outdoors  Park  Performing Arts Venue  \\\n",
       "0                0                     0     0                      0   \n",
       "1                0                     0     0                      0   \n",
       "2                0                     0     0                      0   \n",
       "3                0                     0     0                      0   \n",
       "4                0                     0     0                      0   \n",
       "\n",
       "   Pet Store  Pharmacy  Pizza Place  Plane  Playground  Plaza  Poke Place  \\\n",
       "0          0         0            0      0           0      0           0   \n",
       "1          0         0            0      0           0      0           0   \n",
       "2          0         0            0      0           0      0           0   \n",
       "3          0         0            0      0           0      0           0   \n",
       "4          0         0            0      0           0      0           0   \n",
       "\n",
       "   Pool  Portuguese Restaurant  Poutine Place  Pub  Ramen Restaurant  \\\n",
       "0     0                      0              0    0                 0   \n",
       "1     0                      0              0    0                 0   \n",
       "2     0                      0              0    0                 0   \n",
       "3     0                      0              0    0                 0   \n",
       "4     0                      0              0    0                 0   \n",
       "\n",
       "   Record Shop  Rental Car Location  Restaurant  Roof Deck  Sake Bar  \\\n",
       "0            0                    0           0          0         0   \n",
       "1            0                    0           0          0         0   \n",
       "2            0                    0           0          0         0   \n",
       "3            0                    0           1          0         0   \n",
       "4            0                    0           0          0         0   \n",
       "\n",
       "   Salad Place  Salon / Barbershop  Sandwich Place  Scenic Lookout  School  \\\n",
       "0            0                   0               0               0       0   \n",
       "1            0                   0               0               0       0   \n",
       "2            0                   0               0               0       0   \n",
       "3            0                   0               0               0       0   \n",
       "4            0                   0               0               0       0   \n",
       "\n",
       "   Sculpture Garden  Seafood Restaurant  Shoe Repair  Shoe Store  \\\n",
       "0                 0                   0            0           0   \n",
       "1                 0                   0            0           0   \n",
       "2                 0                   0            0           0   \n",
       "3                 0                   0            0           0   \n",
       "4                 0                   0            0           0   \n",
       "\n",
       "   Shopping Mall  Skate Park  Skating Rink  Smoke Shop  Smoothie Shop  \\\n",
       "0              0           0             0           0              0   \n",
       "1              0           0             0           0              0   \n",
       "2              0           0             0           0              0   \n",
       "3              0           0             0           0              0   \n",
       "4              0           0             0           0              0   \n",
       "\n",
       "   Snack Place  Soup Place  Spa  Speakeasy  Sporting Goods Shop  Sports Bar  \\\n",
       "0            0           0    0          0                    0           0   \n",
       "1            0           0    0          0                    0           0   \n",
       "2            0           0    0          0                    0           0   \n",
       "3            0           0    0          0                    0           0   \n",
       "4            0           0    1          0                    0           0   \n",
       "\n",
       "   Stadium  Stationery Store  Steakhouse  Strip Club  Supermarket  \\\n",
       "0        0                 0           0           0            0   \n",
       "1        0                 0           0           0            0   \n",
       "2        0                 0           0           0            0   \n",
       "3        0                 0           0           0            0   \n",
       "4        0                 0           0           0            0   \n",
       "\n",
       "   Sushi Restaurant  Swim School  Taco Place  Tailor Shop  \\\n",
       "0                 0            0           0            0   \n",
       "1                 0            0           0            0   \n",
       "2                 0            0           0            0   \n",
       "3                 0            0           0            0   \n",
       "4                 0            0           0            0   \n",
       "\n",
       "   Taiwanese Restaurant  Tanning Salon  Tea Room  Tennis Court  \\\n",
       "0                     0              0         0             0   \n",
       "1                     0              0         0             0   \n",
       "2                     0              0         0             0   \n",
       "3                     0              0         0             0   \n",
       "4                     0              0         0             0   \n",
       "\n",
       "   Thai Restaurant  Theater  Theme Restaurant  Tibetan Restaurant  \\\n",
       "0                0        0                 0                   0   \n",
       "1                0        0                 0                   0   \n",
       "2                0        0                 0                   0   \n",
       "3                0        0                 0                   0   \n",
       "4                0        0                 0                   0   \n",
       "\n",
       "   Toy / Game Store  Trail  Train Station  Vegetarian / Vegan Restaurant  \\\n",
       "0                 0      0              0                              0   \n",
       "1                 0      0              0                              0   \n",
       "2                 0      0              0                              0   \n",
       "3                 0      0              0                              0   \n",
       "4                 0      0              0                              0   \n",
       "\n",
       "   Video Game Store  Vietnamese Restaurant  Wine Bar  Yoga Studio  \n",
       "0                 0                      0         0            0  \n",
       "1                 0                      0         0            0  \n",
       "2                 0                      0         0            0  \n",
       "3                 0                      0         0            0  \n",
       "4                 0                      0         0            0  "
      ],
      "text/html": "<div>\n<style scoped>\n    .dataframe tbody tr th:only-of-type {\n        vertical-align: middle;\n    }\n\n    .dataframe tbody tr th {\n        vertical-align: top;\n    }\n\n    .dataframe thead th {\n        text-align: right;\n    }\n</style>\n<table border=\"1\" class=\"dataframe\">\n  <thead>\n    <tr style=\"text-align: right;\">\n      <th></th>\n      <th>Neighbourhood</th>\n      <th>Adult Boutique</th>\n      <th>Airport</th>\n      <th>Airport Food Court</th>\n      <th>Airport Gate</th>\n      <th>Airport Lounge</th>\n      <th>Airport Service</th>\n      <th>Airport Terminal</th>\n      <th>American Restaurant</th>\n      <th>Antique Shop</th>\n      <th>Aquarium</th>\n      <th>Art Gallery</th>\n      <th>Art Museum</th>\n      <th>Arts &amp; Crafts Store</th>\n      <th>Asian Restaurant</th>\n      <th>Athletics &amp; Sports</th>\n      <th>Auto Workshop</th>\n      <th>BBQ Joint</th>\n      <th>Baby Store</th>\n      <th>Bagel Shop</th>\n      <th>Bakery</th>\n      <th>Bank</th>\n      <th>Bar</th>\n      <th>Baseball Stadium</th>\n      <th>Basketball Stadium</th>\n      <th>Beach</th>\n      <th>Bed &amp; Breakfast</th>\n      <th>Beer Bar</th>\n      <th>Beer Store</th>\n      <th>Belgian Restaurant</th>\n      <th>Bistro</th>\n      <th>Boat or Ferry</th>\n      <th>Bookstore</th>\n      <th>Boutique</th>\n      <th>Brazilian Restaurant</th>\n      <th>Breakfast Spot</th>\n      <th>Brewery</th>\n      <th>Bubble Tea Shop</th>\n      <th>Building</th>\n      <th>Burger Joint</th>\n      <th>Burrito Place</th>\n      <th>Bus Line</th>\n      <th>Butcher</th>\n      <th>Café</th>\n      <th>Cajun / Creole Restaurant</th>\n      <th>Candy Store</th>\n      <th>Caribbean Restaurant</th>\n      <th>Cheese Shop</th>\n      <th>Chinese Restaurant</th>\n      <th>Chocolate Shop</th>\n      <th>Church</th>\n      <th>Climbing Gym</th>\n      <th>Clothing Store</th>\n      <th>Cocktail Bar</th>\n      <th>Coffee Shop</th>\n      <th>College Arts Building</th>\n      <th>College Auditorium</th>\n      <th>College Cafeteria</th>\n      <th>College Gym</th>\n      <th>College Rec Center</th>\n      <th>Colombian Restaurant</th>\n      <th>Comfort Food Restaurant</th>\n      <th>Comic Shop</th>\n      <th>Concert Hall</th>\n      <th>Convenience Store</th>\n      <th>Cosmetics Shop</th>\n      <th>Coworking Space</th>\n      <th>Creperie</th>\n      <th>Cuban Restaurant</th>\n      <th>Cupcake Shop</th>\n      <th>Dance Studio</th>\n      <th>Deli / Bodega</th>\n      <th>Department Store</th>\n      <th>Dessert Shop</th>\n      <th>Diner</th>\n      <th>Discount Store</th>\n      <th>Distribution Center</th>\n      <th>Dog Run</th>\n      <th>Doner Restaurant</th>\n      <th>Donut Shop</th>\n      <th>Dumpling Restaurant</th>\n      <th>Eastern European Restaurant</th>\n      <th>Electronics Store</th>\n      <th>Escape Room</th>\n      <th>Ethiopian Restaurant</th>\n      <th>Event Space</th>\n      <th>Falafel Restaurant</th>\n      <th>Farmers Market</th>\n      <th>Fast Food Restaurant</th>\n      <th>Filipino Restaurant</th>\n      <th>Fish &amp; Chips Shop</th>\n      <th>Fish Market</th>\n      <th>Flea Market</th>\n      <th>Flower Shop</th>\n      <th>Food &amp; Drink Shop</th>\n      <th>Food Court</th>\n      <th>Food Truck</th>\n      <th>Fountain</th>\n      <th>French Restaurant</th>\n      <th>Fried Chicken Joint</th>\n      <th>Frozen Yogurt Shop</th>\n      <th>Fruit &amp; Vegetable Store</th>\n      <th>Furniture / Home Store</th>\n      <th>Gaming Cafe</th>\n      <th>Garden</th>\n      <th>Garden Center</th>\n      <th>Gas Station</th>\n      <th>Gastropub</th>\n      <th>Gay Bar</th>\n      <th>General Entertainment</th>\n      <th>General Travel</th>\n      <th>German Restaurant</th>\n      <th>Gift Shop</th>\n      <th>Gluten-free Restaurant</th>\n      <th>Gourmet Shop</th>\n      <th>Greek Restaurant</th>\n      <th>Grocery Store</th>\n      <th>Gym</th>\n      <th>Gym / Fitness Center</th>\n      <th>Harbor / Marina</th>\n      <th>Health &amp; Beauty Service</th>\n      <th>Health Food Store</th>\n      <th>Historic Site</th>\n      <th>History Museum</th>\n      <th>Home Service</th>\n      <th>Hookah Bar</th>\n      <th>Hospital</th>\n      <th>Hostel</th>\n      <th>Hotel</th>\n      <th>Hotel Bar</th>\n      <th>IT Services</th>\n      <th>Ice Cream Shop</th>\n      <th>Indian Restaurant</th>\n      <th>Indie Movie Theater</th>\n      <th>Indoor Play Area</th>\n      <th>Intersection</th>\n      <th>Irish Pub</th>\n      <th>Italian Restaurant</th>\n      <th>Japanese Restaurant</th>\n      <th>Jazz Club</th>\n      <th>Jewelry Store</th>\n      <th>Juice Bar</th>\n      <th>Korean Restaurant</th>\n      <th>Lake</th>\n      <th>Latin American Restaurant</th>\n      <th>Light Rail Station</th>\n      <th>Lingerie Store</th>\n      <th>Liquor Store</th>\n      <th>Lounge</th>\n      <th>Market</th>\n      <th>Martial Arts School</th>\n      <th>Massage Studio</th>\n      <th>Mediterranean Restaurant</th>\n      <th>Men's Store</th>\n      <th>Metro Station</th>\n      <th>Mexican Restaurant</th>\n      <th>Middle Eastern Restaurant</th>\n      <th>Miscellaneous Shop</th>\n      <th>Modern European Restaurant</th>\n      <th>Molecular Gastronomy Restaurant</th>\n      <th>Monument / Landmark</th>\n      <th>Moroccan Restaurant</th>\n      <th>Movie Theater</th>\n      <th>Museum</th>\n      <th>Music Venue</th>\n      <th>Neighborhood</th>\n      <th>New American Restaurant</th>\n      <th>Nightclub</th>\n      <th>Noodle House</th>\n      <th>Office</th>\n      <th>Opera House</th>\n      <th>Optical Shop</th>\n      <th>Organic Grocery</th>\n      <th>Other Great Outdoors</th>\n      <th>Park</th>\n      <th>Performing Arts Venue</th>\n      <th>Pet Store</th>\n      <th>Pharmacy</th>\n      <th>Pizza Place</th>\n      <th>Plane</th>\n      <th>Playground</th>\n      <th>Plaza</th>\n      <th>Poke Place</th>\n      <th>Pool</th>\n      <th>Portuguese Restaurant</th>\n      <th>Poutine Place</th>\n      <th>Pub</th>\n      <th>Ramen Restaurant</th>\n      <th>Record Shop</th>\n      <th>Rental Car Location</th>\n      <th>Restaurant</th>\n      <th>Roof Deck</th>\n      <th>Sake Bar</th>\n      <th>Salad Place</th>\n      <th>Salon / Barbershop</th>\n      <th>Sandwich Place</th>\n      <th>Scenic Lookout</th>\n      <th>School</th>\n      <th>Sculpture Garden</th>\n      <th>Seafood Restaurant</th>\n      <th>Shoe Repair</th>\n      <th>Shoe Store</th>\n      <th>Shopping Mall</th>\n      <th>Skate Park</th>\n      <th>Skating Rink</th>\n      <th>Smoke Shop</th>\n      <th>Smoothie Shop</th>\n      <th>Snack Place</th>\n      <th>Soup Place</th>\n      <th>Spa</th>\n      <th>Speakeasy</th>\n      <th>Sporting Goods Shop</th>\n      <th>Sports Bar</th>\n      <th>Stadium</th>\n      <th>Stationery Store</th>\n      <th>Steakhouse</th>\n      <th>Strip Club</th>\n      <th>Supermarket</th>\n      <th>Sushi Restaurant</th>\n      <th>Swim School</th>\n      <th>Taco Place</th>\n      <th>Tailor Shop</th>\n      <th>Taiwanese Restaurant</th>\n      <th>Tanning Salon</th>\n      <th>Tea Room</th>\n      <th>Tennis Court</th>\n      <th>Thai Restaurant</th>\n      <th>Theater</th>\n      <th>Theme Restaurant</th>\n      <th>Tibetan Restaurant</th>\n      <th>Toy / Game Store</th>\n      <th>Trail</th>\n      <th>Train Station</th>\n      <th>Vegetarian / Vegan Restaurant</th>\n      <th>Video Game Store</th>\n      <th>Vietnamese Restaurant</th>\n      <th>Wine Bar</th>\n      <th>Yoga Studio</th>\n    </tr>\n  </thead>\n  <tbody>\n    <tr>\n      <th>0</th>\n      <td>Regent Park, Harbourfront</td>\n      <td>0</td>\n      <td>0</td>\n      <td>0</td>\n      <td>0</td>\n      <td>0</td>\n      <td>0</td>\n      <td>0</td>\n      <td>0</td>\n      <td>0</td>\n      <td>0</td>\n      <td>0</td>\n      <td>0</td>\n      <td>0</td>\n      <td>0</td>\n      <td>0</td>\n      <td>0</td>\n      <td>0</td>\n      <td>0</td>\n      <td>0</td>\n      <td>0</td>\n      <td>0</td>\n      <td>0</td>\n      <td>0</td>\n      <td>0</td>\n      <td>0</td>\n      <td>0</td>\n      <td>0</td>\n      <td>0</td>\n      <td>0</td>\n      <td>0</td>\n      <td>0</td>\n      <td>0</td>\n      <td>0</td>\n      <td>0</td>\n      <td>0</td>\n      <td>0</td>\n      <td>0</td>\n      <td>0</td>\n      <td>0</td>\n      <td>0</td>\n      <td>0</td>\n      <td>0</td>\n      <td>0</td>\n      <td>0</td>\n      <td>0</td>\n      <td>0</td>\n      <td>0</td>\n      <td>0</td>\n      <td>0</td>\n      <td>0</td>\n      <td>0</td>\n      <td>0</td>\n      <td>0</td>\n      <td>1</td>\n      <td>0</td>\n      <td>0</td>\n      <td>0</td>\n      <td>0</td>\n      <td>0</td>\n      <td>0</td>\n      <td>0</td>\n      <td>0</td>\n      <td>0</td>\n      <td>0</td>\n      <td>0</td>\n      <td>0</td>\n      <td>0</td>\n      <td>0</td>\n      <td>0</td>\n      <td>0</td>\n      <td>0</td>\n      <td>0</td>\n      <td>0</td>\n      <td>0</td>\n      <td>0</td>\n      <td>0</td>\n      <td>0</td>\n      <td>0</td>\n      <td>0</td>\n      <td>0</td>\n      <td>0</td>\n      <td>0</td>\n      <td>0</td>\n      <td>0</td>\n      <td>0</td>\n      <td>0</td>\n      <td>0</td>\n      <td>0</td>\n      <td>0</td>\n      <td>0</td>\n      <td>0</td>\n      <td>0</td>\n      <td>0</td>\n      <td>0</td>\n      <td>0</td>\n      <td>0</td>\n      <td>0</td>\n      <td>0</td>\n      <td>0</td>\n      <td>0</td>\n      <td>0</td>\n      <td>0</td>\n      <td>0</td>\n      <td>0</td>\n      <td>0</td>\n      <td>0</td>\n      <td>0</td>\n      <td>0</td>\n      <td>0</td>\n      <td>0</td>\n      <td>0</td>\n      <td>0</td>\n      <td>0</td>\n      <td>0</td>\n      <td>0</td>\n      <td>0</td>\n      <td>0</td>\n      <td>0</td>\n      <td>0</td>\n      <td>0</td>\n      <td>0</td>\n      <td>0</td>\n      <td>0</td>\n      <td>0</td>\n      <td>0</td>\n      <td>0</td>\n      <td>0</td>\n      <td>0</td>\n      <td>0</td>\n      <td>0</td>\n      <td>0</td>\n      <td>0</td>\n      <td>0</td>\n      <td>0</td>\n      <td>0</td>\n      <td>0</td>\n      <td>0</td>\n      <td>0</td>\n      <td>0</td>\n      <td>0</td>\n      <td>0</td>\n      <td>0</td>\n      <td>0</td>\n      <td>0</td>\n      <td>0</td>\n      <td>0</td>\n      <td>0</td>\n      <td>0</td>\n      <td>0</td>\n      <td>0</td>\n      <td>0</td>\n      <td>0</td>\n      <td>0</td>\n      <td>0</td>\n      <td>0</td>\n      <td>0</td>\n      <td>0</td>\n      <td>0</td>\n      <td>0</td>\n      <td>0</td>\n      <td>0</td>\n      <td>0</td>\n      <td>0</td>\n      <td>0</td>\n      <td>0</td>\n      <td>0</td>\n      <td>0</td>\n      <td>0</td>\n      <td>0</td>\n      <td>0</td>\n      <td>0</td>\n      <td>0</td>\n      <td>0</td>\n      <td>0</td>\n      <td>0</td>\n      <td>0</td>\n      <td>0</td>\n      <td>0</td>\n      <td>0</td>\n      <td>0</td>\n      <td>0</td>\n      <td>0</td>\n      <td>0</td>\n      <td>0</td>\n      <td>0</td>\n      <td>0</td>\n      <td>0</td>\n      <td>0</td>\n      <td>0</td>\n      <td>0</td>\n      <td>0</td>\n      <td>0</td>\n      <td>0</td>\n      <td>0</td>\n      <td>0</td>\n      <td>0</td>\n      <td>0</td>\n      <td>0</td>\n      <td>0</td>\n      <td>0</td>\n      <td>0</td>\n      <td>0</td>\n      <td>0</td>\n      <td>0</td>\n      <td>0</td>\n      <td>0</td>\n      <td>0</td>\n      <td>0</td>\n      <td>0</td>\n      <td>0</td>\n      <td>0</td>\n      <td>0</td>\n      <td>0</td>\n      <td>0</td>\n      <td>0</td>\n      <td>0</td>\n      <td>0</td>\n      <td>0</td>\n      <td>0</td>\n      <td>0</td>\n      <td>0</td>\n      <td>0</td>\n      <td>0</td>\n      <td>0</td>\n      <td>0</td>\n      <td>0</td>\n      <td>0</td>\n      <td>0</td>\n      <td>0</td>\n      <td>0</td>\n      <td>0</td>\n      <td>0</td>\n      <td>0</td>\n      <td>0</td>\n      <td>0</td>\n      <td>0</td>\n      <td>0</td>\n    </tr>\n    <tr>\n      <th>1</th>\n      <td>Regent Park, Harbourfront</td>\n      <td>0</td>\n      <td>0</td>\n      <td>0</td>\n      <td>0</td>\n      <td>0</td>\n      <td>0</td>\n      <td>0</td>\n      <td>0</td>\n      <td>0</td>\n      <td>0</td>\n      <td>0</td>\n      <td>0</td>\n      <td>0</td>\n      <td>0</td>\n      <td>0</td>\n      <td>0</td>\n      <td>0</td>\n      <td>0</td>\n      <td>0</td>\n      <td>1</td>\n      <td>0</td>\n      <td>0</td>\n      <td>0</td>\n      <td>0</td>\n      <td>0</td>\n      <td>0</td>\n      <td>0</td>\n      <td>0</td>\n      <td>0</td>\n      <td>0</td>\n      <td>0</td>\n      <td>0</td>\n      <td>0</td>\n      <td>0</td>\n      <td>0</td>\n      <td>0</td>\n      <td>0</td>\n      <td>0</td>\n      <td>0</td>\n      <td>0</td>\n      <td>0</td>\n      <td>0</td>\n      <td>0</td>\n      <td>0</td>\n      <td>0</td>\n      <td>0</td>\n      <td>0</td>\n      <td>0</td>\n      <td>0</td>\n      <td>0</td>\n      <td>0</td>\n      <td>0</td>\n      <td>0</td>\n      <td>0</td>\n      <td>0</td>\n      <td>0</td>\n      <td>0</td>\n      <td>0</td>\n      <td>0</td>\n      <td>0</td>\n      <td>0</td>\n      <td>0</td>\n      <td>0</td>\n      <td>0</td>\n      <td>0</td>\n      <td>0</td>\n      <td>0</td>\n      <td>0</td>\n      <td>0</td>\n      <td>0</td>\n      <td>0</td>\n      <td>0</td>\n      <td>0</td>\n      <td>0</td>\n      <td>0</td>\n      <td>0</td>\n      <td>0</td>\n      <td>0</td>\n      <td>0</td>\n      <td>0</td>\n      <td>0</td>\n      <td>0</td>\n      <td>0</td>\n      <td>0</td>\n      <td>0</td>\n      <td>0</td>\n      <td>0</td>\n      <td>0</td>\n      <td>0</td>\n      <td>0</td>\n      <td>0</td>\n      <td>0</td>\n      <td>0</td>\n      <td>0</td>\n      <td>0</td>\n      <td>0</td>\n      <td>0</td>\n      <td>0</td>\n      <td>0</td>\n      <td>0</td>\n      <td>0</td>\n      <td>0</td>\n      <td>0</td>\n      <td>0</td>\n      <td>0</td>\n      <td>0</td>\n      <td>0</td>\n      <td>0</td>\n      <td>0</td>\n      <td>0</td>\n      <td>0</td>\n      <td>0</td>\n      <td>0</td>\n      <td>0</td>\n      <td>0</td>\n      <td>0</td>\n      <td>0</td>\n      <td>0</td>\n      <td>0</td>\n      <td>0</td>\n      <td>0</td>\n      <td>0</td>\n      <td>0</td>\n      <td>0</td>\n      <td>0</td>\n      <td>0</td>\n      <td>0</td>\n      <td>0</td>\n      <td>0</td>\n      <td>0</td>\n      <td>0</td>\n      <td>0</td>\n      <td>0</td>\n      <td>0</td>\n      <td>0</td>\n      <td>0</td>\n      <td>0</td>\n      <td>0</td>\n      <td>0</td>\n      <td>0</td>\n      <td>0</td>\n      <td>0</td>\n      <td>0</td>\n      <td>0</td>\n      <td>0</td>\n      <td>0</td>\n      <td>0</td>\n      <td>0</td>\n      <td>0</td>\n      <td>0</td>\n      <td>0</td>\n      <td>0</td>\n      <td>0</td>\n      <td>0</td>\n      <td>0</td>\n      <td>0</td>\n      <td>0</td>\n      <td>0</td>\n      <td>0</td>\n      <td>0</td>\n      <td>0</td>\n      <td>0</td>\n      <td>0</td>\n      <td>0</td>\n      <td>0</td>\n      <td>0</td>\n      <td>0</td>\n      <td>0</td>\n      <td>0</td>\n      <td>0</td>\n      <td>0</td>\n      <td>0</td>\n      <td>0</td>\n      <td>0</td>\n      <td>0</td>\n      <td>0</td>\n      <td>0</td>\n      <td>0</td>\n      <td>0</td>\n      <td>0</td>\n      <td>0</td>\n      <td>0</td>\n      <td>0</td>\n      <td>0</td>\n      <td>0</td>\n      <td>0</td>\n      <td>0</td>\n      <td>0</td>\n      <td>0</td>\n      <td>0</td>\n      <td>0</td>\n      <td>0</td>\n      <td>0</td>\n      <td>0</td>\n      <td>0</td>\n      <td>0</td>\n      <td>0</td>\n      <td>0</td>\n      <td>0</td>\n      <td>0</td>\n      <td>0</td>\n      <td>0</td>\n      <td>0</td>\n      <td>0</td>\n      <td>0</td>\n      <td>0</td>\n      <td>0</td>\n      <td>0</td>\n      <td>0</td>\n      <td>0</td>\n      <td>0</td>\n      <td>0</td>\n      <td>0</td>\n      <td>0</td>\n      <td>0</td>\n      <td>0</td>\n      <td>0</td>\n      <td>0</td>\n      <td>0</td>\n      <td>0</td>\n      <td>0</td>\n      <td>0</td>\n      <td>0</td>\n      <td>0</td>\n      <td>0</td>\n      <td>0</td>\n      <td>0</td>\n      <td>0</td>\n      <td>0</td>\n      <td>0</td>\n      <td>0</td>\n      <td>0</td>\n      <td>0</td>\n      <td>0</td>\n      <td>0</td>\n      <td>0</td>\n      <td>0</td>\n    </tr>\n    <tr>\n      <th>2</th>\n      <td>Regent Park, Harbourfront</td>\n      <td>0</td>\n      <td>0</td>\n      <td>0</td>\n      <td>0</td>\n      <td>0</td>\n      <td>0</td>\n      <td>0</td>\n      <td>0</td>\n      <td>0</td>\n      <td>0</td>\n      <td>0</td>\n      <td>0</td>\n      <td>0</td>\n      <td>0</td>\n      <td>0</td>\n      <td>0</td>\n      <td>0</td>\n      <td>0</td>\n      <td>0</td>\n      <td>0</td>\n      <td>0</td>\n      <td>0</td>\n      <td>0</td>\n      <td>0</td>\n      <td>0</td>\n      <td>0</td>\n      <td>0</td>\n      <td>0</td>\n      <td>0</td>\n      <td>0</td>\n      <td>0</td>\n      <td>0</td>\n      <td>0</td>\n      <td>0</td>\n      <td>0</td>\n      <td>0</td>\n      <td>0</td>\n      <td>0</td>\n      <td>0</td>\n      <td>0</td>\n      <td>0</td>\n      <td>0</td>\n      <td>0</td>\n      <td>0</td>\n      <td>0</td>\n      <td>0</td>\n      <td>0</td>\n      <td>0</td>\n      <td>0</td>\n      <td>0</td>\n      <td>0</td>\n      <td>0</td>\n      <td>0</td>\n      <td>0</td>\n      <td>0</td>\n      <td>0</td>\n      <td>0</td>\n      <td>0</td>\n      <td>0</td>\n      <td>0</td>\n      <td>0</td>\n      <td>0</td>\n      <td>0</td>\n      <td>0</td>\n      <td>0</td>\n      <td>0</td>\n      <td>0</td>\n      <td>0</td>\n      <td>0</td>\n      <td>0</td>\n      <td>0</td>\n      <td>0</td>\n      <td>0</td>\n      <td>0</td>\n      <td>0</td>\n      <td>1</td>\n      <td>0</td>\n      <td>0</td>\n      <td>0</td>\n      <td>0</td>\n      <td>0</td>\n      <td>0</td>\n      <td>0</td>\n      <td>0</td>\n      <td>0</td>\n      <td>0</td>\n      <td>0</td>\n      <td>0</td>\n      <td>0</td>\n      <td>0</td>\n      <td>0</td>\n      <td>0</td>\n      <td>0</td>\n      <td>0</td>\n      <td>0</td>\n      <td>0</td>\n      <td>0</td>\n      <td>0</td>\n      <td>0</td>\n      <td>0</td>\n      <td>0</td>\n      <td>0</td>\n      <td>0</td>\n      <td>0</td>\n      <td>0</td>\n      <td>0</td>\n      <td>0</td>\n      <td>0</td>\n      <td>0</td>\n      <td>0</td>\n      <td>0</td>\n      <td>0</td>\n      <td>0</td>\n      <td>0</td>\n      <td>0</td>\n      <td>0</td>\n      <td>0</td>\n      <td>0</td>\n      <td>0</td>\n      <td>0</td>\n      <td>0</td>\n      <td>0</td>\n      <td>0</td>\n      <td>0</td>\n      <td>0</td>\n      <td>0</td>\n      <td>0</td>\n      <td>0</td>\n      <td>0</td>\n      <td>0</td>\n      <td>0</td>\n      <td>0</td>\n      <td>0</td>\n      <td>0</td>\n      <td>0</td>\n      <td>0</td>\n      <td>0</td>\n      <td>0</td>\n      <td>0</td>\n      <td>0</td>\n      <td>0</td>\n      <td>0</td>\n      <td>0</td>\n      <td>0</td>\n      <td>0</td>\n      <td>0</td>\n      <td>0</td>\n      <td>0</td>\n      <td>0</td>\n      <td>0</td>\n      <td>0</td>\n      <td>0</td>\n      <td>0</td>\n      <td>0</td>\n      <td>0</td>\n      <td>0</td>\n      <td>0</td>\n      <td>0</td>\n      <td>0</td>\n      <td>0</td>\n      <td>0</td>\n      <td>0</td>\n      <td>0</td>\n      <td>0</td>\n      <td>0</td>\n      <td>0</td>\n      <td>0</td>\n      <td>0</td>\n      <td>0</td>\n      <td>0</td>\n      <td>0</td>\n      <td>0</td>\n      <td>0</td>\n      <td>0</td>\n      <td>0</td>\n      <td>0</td>\n      <td>0</td>\n      <td>0</td>\n      <td>0</td>\n      <td>0</td>\n      <td>0</td>\n      <td>0</td>\n      <td>0</td>\n      <td>0</td>\n      <td>0</td>\n      <td>0</td>\n      <td>0</td>\n      <td>0</td>\n      <td>0</td>\n      <td>0</td>\n      <td>0</td>\n      <td>0</td>\n      <td>0</td>\n      <td>0</td>\n      <td>0</td>\n      <td>0</td>\n      <td>0</td>\n      <td>0</td>\n      <td>0</td>\n      <td>0</td>\n      <td>0</td>\n      <td>0</td>\n      <td>0</td>\n      <td>0</td>\n      <td>0</td>\n      <td>0</td>\n      <td>0</td>\n      <td>0</td>\n      <td>0</td>\n      <td>0</td>\n      <td>0</td>\n      <td>0</td>\n      <td>0</td>\n      <td>0</td>\n      <td>0</td>\n      <td>0</td>\n      <td>0</td>\n      <td>0</td>\n      <td>0</td>\n      <td>0</td>\n      <td>0</td>\n      <td>0</td>\n      <td>0</td>\n      <td>0</td>\n      <td>0</td>\n      <td>0</td>\n      <td>0</td>\n      <td>0</td>\n      <td>0</td>\n      <td>0</td>\n      <td>0</td>\n      <td>0</td>\n      <td>0</td>\n      <td>0</td>\n      <td>0</td>\n      <td>0</td>\n      <td>0</td>\n    </tr>\n    <tr>\n      <th>3</th>\n      <td>Regent Park, Harbourfront</td>\n      <td>0</td>\n      <td>0</td>\n      <td>0</td>\n      <td>0</td>\n      <td>0</td>\n      <td>0</td>\n      <td>0</td>\n      <td>0</td>\n      <td>0</td>\n      <td>0</td>\n      <td>0</td>\n      <td>0</td>\n      <td>0</td>\n      <td>0</td>\n      <td>0</td>\n      <td>0</td>\n      <td>0</td>\n      <td>0</td>\n      <td>0</td>\n      <td>0</td>\n      <td>0</td>\n      <td>0</td>\n      <td>0</td>\n      <td>0</td>\n      <td>0</td>\n      <td>0</td>\n      <td>0</td>\n      <td>0</td>\n      <td>0</td>\n      <td>0</td>\n      <td>0</td>\n      <td>0</td>\n      <td>0</td>\n      <td>0</td>\n      <td>0</td>\n      <td>0</td>\n      <td>0</td>\n      <td>0</td>\n      <td>0</td>\n      <td>0</td>\n      <td>0</td>\n      <td>0</td>\n      <td>0</td>\n      <td>0</td>\n      <td>0</td>\n      <td>0</td>\n      <td>0</td>\n      <td>0</td>\n      <td>0</td>\n      <td>0</td>\n      <td>0</td>\n      <td>0</td>\n      <td>0</td>\n      <td>0</td>\n      <td>0</td>\n      <td>0</td>\n      <td>0</td>\n      <td>0</td>\n      <td>0</td>\n      <td>0</td>\n      <td>0</td>\n      <td>0</td>\n      <td>0</td>\n      <td>0</td>\n      <td>0</td>\n      <td>0</td>\n      <td>0</td>\n      <td>0</td>\n      <td>0</td>\n      <td>0</td>\n      <td>0</td>\n      <td>0</td>\n      <td>0</td>\n      <td>0</td>\n      <td>0</td>\n      <td>0</td>\n      <td>0</td>\n      <td>0</td>\n      <td>0</td>\n      <td>0</td>\n      <td>0</td>\n      <td>0</td>\n      <td>0</td>\n      <td>0</td>\n      <td>0</td>\n      <td>0</td>\n      <td>0</td>\n      <td>0</td>\n      <td>0</td>\n      <td>0</td>\n      <td>0</td>\n      <td>0</td>\n      <td>0</td>\n      <td>0</td>\n      <td>0</td>\n      <td>0</td>\n      <td>0</td>\n      <td>0</td>\n      <td>0</td>\n      <td>0</td>\n      <td>0</td>\n      <td>0</td>\n      <td>0</td>\n      <td>0</td>\n      <td>0</td>\n      <td>0</td>\n      <td>0</td>\n      <td>0</td>\n      <td>0</td>\n      <td>0</td>\n      <td>0</td>\n      <td>0</td>\n      <td>0</td>\n      <td>0</td>\n      <td>0</td>\n      <td>0</td>\n      <td>0</td>\n      <td>0</td>\n      <td>0</td>\n      <td>0</td>\n      <td>0</td>\n      <td>0</td>\n      <td>0</td>\n      <td>0</td>\n      <td>0</td>\n      <td>0</td>\n      <td>0</td>\n      <td>0</td>\n      <td>0</td>\n      <td>0</td>\n      <td>0</td>\n      <td>0</td>\n      <td>0</td>\n      <td>0</td>\n      <td>0</td>\n      <td>0</td>\n      <td>0</td>\n      <td>0</td>\n      <td>0</td>\n      <td>0</td>\n      <td>0</td>\n      <td>0</td>\n      <td>0</td>\n      <td>0</td>\n      <td>0</td>\n      <td>0</td>\n      <td>0</td>\n      <td>0</td>\n      <td>0</td>\n      <td>0</td>\n      <td>0</td>\n      <td>0</td>\n      <td>0</td>\n      <td>0</td>\n      <td>0</td>\n      <td>0</td>\n      <td>0</td>\n      <td>0</td>\n      <td>0</td>\n      <td>0</td>\n      <td>0</td>\n      <td>0</td>\n      <td>0</td>\n      <td>0</td>\n      <td>0</td>\n      <td>0</td>\n      <td>0</td>\n      <td>0</td>\n      <td>0</td>\n      <td>0</td>\n      <td>0</td>\n      <td>0</td>\n      <td>0</td>\n      <td>0</td>\n      <td>0</td>\n      <td>0</td>\n      <td>0</td>\n      <td>0</td>\n      <td>0</td>\n      <td>0</td>\n      <td>0</td>\n      <td>0</td>\n      <td>0</td>\n      <td>0</td>\n      <td>0</td>\n      <td>0</td>\n      <td>0</td>\n      <td>0</td>\n      <td>0</td>\n      <td>1</td>\n      <td>0</td>\n      <td>0</td>\n      <td>0</td>\n      <td>0</td>\n      <td>0</td>\n      <td>0</td>\n      <td>0</td>\n      <td>0</td>\n      <td>0</td>\n      <td>0</td>\n      <td>0</td>\n      <td>0</td>\n      <td>0</td>\n      <td>0</td>\n      <td>0</td>\n      <td>0</td>\n      <td>0</td>\n      <td>0</td>\n      <td>0</td>\n      <td>0</td>\n      <td>0</td>\n      <td>0</td>\n      <td>0</td>\n      <td>0</td>\n      <td>0</td>\n      <td>0</td>\n      <td>0</td>\n      <td>0</td>\n      <td>0</td>\n      <td>0</td>\n      <td>0</td>\n      <td>0</td>\n      <td>0</td>\n      <td>0</td>\n      <td>0</td>\n      <td>0</td>\n      <td>0</td>\n      <td>0</td>\n      <td>0</td>\n      <td>0</td>\n      <td>0</td>\n      <td>0</td>\n      <td>0</td>\n      <td>0</td>\n      <td>0</td>\n      <td>0</td>\n      <td>0</td>\n    </tr>\n    <tr>\n      <th>4</th>\n      <td>Regent Park, Harbourfront</td>\n      <td>0</td>\n      <td>0</td>\n      <td>0</td>\n      <td>0</td>\n      <td>0</td>\n      <td>0</td>\n      <td>0</td>\n      <td>0</td>\n      <td>0</td>\n      <td>0</td>\n      <td>0</td>\n      <td>0</td>\n      <td>0</td>\n      <td>0</td>\n      <td>0</td>\n      <td>0</td>\n      <td>0</td>\n      <td>0</td>\n      <td>0</td>\n      <td>0</td>\n      <td>0</td>\n      <td>0</td>\n      <td>0</td>\n      <td>0</td>\n      <td>0</td>\n      <td>0</td>\n      <td>0</td>\n      <td>0</td>\n      <td>0</td>\n      <td>0</td>\n      <td>0</td>\n      <td>0</td>\n      <td>0</td>\n      <td>0</td>\n      <td>0</td>\n      <td>0</td>\n      <td>0</td>\n      <td>0</td>\n      <td>0</td>\n      <td>0</td>\n      <td>0</td>\n      <td>0</td>\n      <td>0</td>\n      <td>0</td>\n      <td>0</td>\n      <td>0</td>\n      <td>0</td>\n      <td>0</td>\n      <td>0</td>\n      <td>0</td>\n      <td>0</td>\n      <td>0</td>\n      <td>0</td>\n      <td>0</td>\n      <td>0</td>\n      <td>0</td>\n      <td>0</td>\n      <td>0</td>\n      <td>0</td>\n      <td>0</td>\n      <td>0</td>\n      <td>0</td>\n      <td>0</td>\n      <td>0</td>\n      <td>0</td>\n      <td>0</td>\n      <td>0</td>\n      <td>0</td>\n      <td>0</td>\n      <td>0</td>\n      <td>0</td>\n      <td>0</td>\n      <td>0</td>\n      <td>0</td>\n      <td>0</td>\n      <td>0</td>\n      <td>0</td>\n      <td>0</td>\n      <td>0</td>\n      <td>0</td>\n      <td>0</td>\n      <td>0</td>\n      <td>0</td>\n      <td>0</td>\n      <td>0</td>\n      <td>0</td>\n      <td>0</td>\n      <td>0</td>\n      <td>0</td>\n      <td>0</td>\n      <td>0</td>\n      <td>0</td>\n      <td>0</td>\n      <td>0</td>\n      <td>0</td>\n      <td>0</td>\n      <td>0</td>\n      <td>0</td>\n      <td>0</td>\n      <td>0</td>\n      <td>0</td>\n      <td>0</td>\n      <td>0</td>\n      <td>0</td>\n      <td>0</td>\n      <td>0</td>\n      <td>0</td>\n      <td>0</td>\n      <td>0</td>\n      <td>0</td>\n      <td>0</td>\n      <td>0</td>\n      <td>0</td>\n      <td>0</td>\n      <td>0</td>\n      <td>0</td>\n      <td>0</td>\n      <td>0</td>\n      <td>0</td>\n      <td>0</td>\n      <td>0</td>\n      <td>0</td>\n      <td>0</td>\n      <td>0</td>\n      <td>0</td>\n      <td>0</td>\n      <td>0</td>\n      <td>0</td>\n      <td>0</td>\n      <td>0</td>\n      <td>0</td>\n      <td>0</td>\n      <td>0</td>\n      <td>0</td>\n      <td>0</td>\n      <td>0</td>\n      <td>0</td>\n      <td>0</td>\n      <td>0</td>\n      <td>0</td>\n      <td>0</td>\n      <td>0</td>\n      <td>0</td>\n      <td>0</td>\n      <td>0</td>\n      <td>0</td>\n      <td>0</td>\n      <td>0</td>\n      <td>0</td>\n      <td>0</td>\n      <td>0</td>\n      <td>0</td>\n      <td>0</td>\n      <td>0</td>\n      <td>0</td>\n      <td>0</td>\n      <td>0</td>\n      <td>0</td>\n      <td>0</td>\n      <td>0</td>\n      <td>0</td>\n      <td>0</td>\n      <td>0</td>\n      <td>0</td>\n      <td>0</td>\n      <td>0</td>\n      <td>0</td>\n      <td>0</td>\n      <td>0</td>\n      <td>0</td>\n      <td>0</td>\n      <td>0</td>\n      <td>0</td>\n      <td>0</td>\n      <td>0</td>\n      <td>0</td>\n      <td>0</td>\n      <td>0</td>\n      <td>0</td>\n      <td>0</td>\n      <td>0</td>\n      <td>0</td>\n      <td>0</td>\n      <td>0</td>\n      <td>0</td>\n      <td>0</td>\n      <td>0</td>\n      <td>0</td>\n      <td>0</td>\n      <td>0</td>\n      <td>0</td>\n      <td>0</td>\n      <td>0</td>\n      <td>0</td>\n      <td>0</td>\n      <td>0</td>\n      <td>0</td>\n      <td>0</td>\n      <td>0</td>\n      <td>0</td>\n      <td>0</td>\n      <td>0</td>\n      <td>0</td>\n      <td>0</td>\n      <td>0</td>\n      <td>0</td>\n      <td>0</td>\n      <td>0</td>\n      <td>1</td>\n      <td>0</td>\n      <td>0</td>\n      <td>0</td>\n      <td>0</td>\n      <td>0</td>\n      <td>0</td>\n      <td>0</td>\n      <td>0</td>\n      <td>0</td>\n      <td>0</td>\n      <td>0</td>\n      <td>0</td>\n      <td>0</td>\n      <td>0</td>\n      <td>0</td>\n      <td>0</td>\n      <td>0</td>\n      <td>0</td>\n      <td>0</td>\n      <td>0</td>\n      <td>0</td>\n      <td>0</td>\n      <td>0</td>\n      <td>0</td>\n      <td>0</td>\n      <td>0</td>\n      <td>0</td>\n      <td>0</td>\n    </tr>\n  </tbody>\n</table>\n</div>"
     },
     "metadata": {},
     "execution_count": 106
    }
   ],
   "source": [
    "# one hot encoding\n",
    "toronto_onehot = pd.get_dummies(toronto_venues[['Venue Category']], prefix=\"\", prefix_sep=\"\")\n",
    "\n",
    "# add neighborhood column back to dataframe\n",
    "toronto_onehot['Neighbourhood'] = toronto_venues['Neighbourhood'] \n",
    "\n",
    "# move neighborhood column to the first column\n",
    "fixed_columns = [toronto_onehot.columns[-1]] + list(toronto_onehot.columns[:-1])\n",
    "toronto_onehot = toronto_onehot[fixed_columns]\n",
    "\n",
    "toronto_onehot.head()"
   ]
  },
  {
   "cell_type": "code",
   "execution_count": 107,
   "metadata": {},
   "outputs": [
    {
     "output_type": "execute_result",
     "data": {
      "text/plain": [
       "(1610, 238)"
      ]
     },
     "metadata": {},
     "execution_count": 107
    }
   ],
   "source": [
    "toronto_onehot.shape"
   ]
  },
  {
   "source": [
    "#### Next, let's group rows by neighbourhood and by taking the mean of the frequency of occurrence of each category\n"
   ],
   "cell_type": "markdown",
   "metadata": {}
  },
  {
   "cell_type": "code",
   "execution_count": 108,
   "metadata": {},
   "outputs": [
    {
     "output_type": "execute_result",
     "data": {
      "text/plain": [
       "(40, 238)"
      ]
     },
     "metadata": {},
     "execution_count": 108
    }
   ],
   "source": [
    "toronto_grouped = toronto_onehot.groupby('Neighbourhood').mean().reset_index()\n",
    "toronto_grouped.shape"
   ]
  },
  {
   "cell_type": "code",
   "execution_count": 109,
   "metadata": {},
   "outputs": [
    {
     "output_type": "execute_result",
     "data": {
      "text/plain": [
       "   0.0      0.0   \n",
       "3         0.000000       0.0      0.000000       0.000000       0.0      0.0   \n",
       "4         0.031746       0.0      0.031746       0.000000       0.0      0.0   \n",
       "\n",
       "       Café  Cajun / Creole Restaurant  Candy Store  Caribbean Restaurant  \\\n",
       "0  0.016667                        0.0          0.0                   0.0   \n",
       "1  0.130435                        0.0          0.0                   0.0   \n",
       "2  0.000000                        0.0          0.0                   0.0   \n",
       "3  0.000000                        0.0          0.0                   0.0   \n",
       "4  0.047619                        0.0          0.0                   0.0   \n",
       "\n",
       "   Cheese Shop  Chinese Restaurant  Chocolate Shop  Church  Climbing Gym  \\\n",
       "0     0.033333            0.000000             0.0     0.0      0.000000   \n",
       "1     0.000000            0.000000             0.0     0.0      0.043478   \n",
       "2     0.000000            0.000000             0.0     0.0      0.000000   \n",
       "3     0.000000            0.000000             0.0     0.0      0.000000   \n",
       "4     0.000000            0.015873             0.0     0.0      0.000000   \n",
       "\n",
       "   Clothing Store  Cocktail Bar  Coffee Shop  College Arts Building  \\\n",
       "0        0.016667          0.05     0.083333                    0.0   \n",
       "1        0.000000          0.00     0.086957                    0.0   \n",
       "2        0.000000          0.00     0.000000                    0.0   \n",
       "3        0.000000          0.00     0.062500                    0.0   \n",
       "4        0.000000          0.00     0.174603                    0.0   \n",
       "\n",
       "   College Auditorium  College Cafeteria  College Gym  College Rec Center  \\\n",
       "0                 0.0                0.0          0.0                 0.0   \n",
       "1                 0.0                0.0          0.0                 0.0   \n",
       "2                 0.0                0.0          0.0                 0.0   \n",
       "3                 0.0                0.0          0.0                 0.0   \n",
       "4                 0.0                0.0          0.0                 0.0   \n",
       "\n",
       "   Colombian Restaurant  Comfort Food Restaurant  Comic Shop  Concert Hall  \\\n",
       "0                   0.0                 0.016667    0.000000      0.016667   \n",
       "1                   0.0                 0.000000    0.000000      0.000000   \n",
       "2                   0.0                 0.000000    0.062500      0.000000   \n",
       "3                   0.0                 0.000000    0.000000      0.000000   \n",
       "4                   0.0                 0.000000    0.015873      0.000000   \n",
       "\n",
       "   Convenience Store  Cosmetics Shop  Coworking Space  Creperie  \\\n",
       "0           0.000000             0.0              0.0  0.016667   \n",
       "1           0.043478             0.0              0.0  0.000000   \n",
       "2           0.000000             0.0              0.0  0.000000   \n",
       "3           0.000000             0.0              0.0  0.000000   \n",
       "4           0.000000             0.0              0.0  0.000000   \n",
       "\n",
       "   Cuban Restaurant  Cupcake Shop  Dance Studio  Deli / Bodega  \\\n",
       "0               0.0           0.0           0.0            0.0   \n",
       "1               0.0           0.0           0.0            0.0   \n",
       "2               0.0           0.0           0.0            0.0   \n",
       "3               0.0           0.0           0.0            0.0   \n",
       "4               0.0           0.0           0.0            0.0   \n",
       "\n",
       "   Department Store  Dessert Shop     Diner  Discount Store  \\\n",
       "0          0.016667           0.0  0.016667        0.000000   \n",
       "1          0.000000           0.0  0.000000        0.000000   \n",
       "2          0.000000           0.0  0.000000        0.000000   \n",
       "3          0.000000           0.0  0.000000        0.000000   \n",
       "4          0.015873           0.0  0.015873        0.015873   \n",
       "\n",
       "   Distribution Center  Dog Run  Doner Restaurant  Donut Shop  \\\n",
       "0                  0.0      0.0               0.0    0.000000   \n",
       "1                  0.0      0.0               0.0    0.000000   \n",
       "2                  0.0      0.0               0.0    0.000000   \n",
       "3                  0.0      0.0               0.0    0.000000   \n",
       "4                  0.0      0.0               0.0    0.015873   \n",
       "\n",
       "   Dumpling Restaurant  Eastern European Restaurant  Electronics Store  \\\n",
       "0                  0.0                     0.016667                0.0   \n",
       "1                  0.0                     0.000000                0.0   \n",
       "2                  0.0                     0.000000                0.0   \n",
       "3                  0.0                     0.000000                0.0   \n",
       "4                  0.0                     0.000000                0.0   \n",
       "\n",
       "   Escape Room  Ethiopian Restaurant  Event Space  Falafel Restaurant  \\\n",
       "0          0.0                   0.0          0.0            0.000000   \n",
       "1          0.0                   0.0          0.0            0.000000   \n",
       "2          0.0                   0.0          0.0            0.000000   \n",
       "3          0.0                   0.0          0.0            0.000000   \n",
       "4          0.0                   0.0          0.0            0.015873   \n",
       "\n",
       "   Farmers Market  Fast Food Restaurant  Filipino Restaurant  \\\n",
       "0        0.033333                0.0000                  0.0   \n",
       "1        0.000000                0.0000                  0.0   \n",
       "2        0.062500                0.0625                  0.0   \n",
       "3        0.000000                0.0000                  0.0   \n",
       "4        0.000000                0.0000                  0.0   \n",
       "\n",
       "   Fish & Chips Shop  Fish Market  Flea Market  Flower Shop  \\\n",
       "0                0.0     0.016667          0.0          0.0   \n",
       "1                0.0     0.000000          0.0          0.0   \n",
       "2                0.0     0.000000          0.0          0.0   \n",
       "3                0.0     0.000000          0.0          0.0   \n",
       "4                0.0     0.000000          0.0          0.0   \n",
       "\n",
       "   Food & Drink Shop  Food Court  Food Truck  Fountain  French Restaurant  \\\n",
       "0                0.0         0.0         0.0  0.016667           0.016667   \n",
       "1                0.0         0.0         0.0  0.000000           0.000000   \n",
       "2                0.0         0.0         0.0  0.000000           0.000000   \n",
       "3                0.0         0.0         0.0  0.000000           0.000000   \n",
       "4                0.0         0.0         0.0  0.000000           0.015873   \n",
       "\n",
       "   Fried Chicken Joint  Frozen Yogurt Shop  Fruit & Vegetable Store  \\\n",
       "0             0.000000                 0.0                      0.0   \n",
       "1             0.000000                 0.0                      0.0   \n",
       "2             0.000000                 0.0                      0.0   \n",
       "3             0.000000                 0.0                      0.0   \n",
       "4             0.015873                 0.0                      0.0   \n",
       "\n",
       "   Furniture / Home Store  Gaming Cafe  Garden  Garden Center  Gas Station  \\\n",
       "0                0.000000          0.0  0.0000         0.0000          0.0   \n",
       "1                0.043478          0.0  0.0000         0.0000          0.0   \n",
       "2                0.000000          0.0  0.0625         0.0625          0.0   \n",
       "3                0.000000          0.0  0.0000         0.0000          0.0   \n",
       "4                0.015873          0.0  0.0000         0.0000          0.0   \n",
       "\n",
       "   Gastropub  Gay Bar  General Entertainment  General Travel  \\\n",
       "0   0.000000      0.0                    0.0             0.0   \n",
       "1   0.000000      0.0                    0.0             0.0   \n",
       "2   0.000000      0.0                    0.0             0.0   \n",
       "3   0.000000      0.0                    0.0             0.0   \n",
       "4   0.015873      0.0                    0.0             0.0   \n",
       "\n",
       "   German Restaurant  Gift Shop  Gluten-free Restaurant  Gourmet Shop  \\\n",
       "0                0.0        0.0                     0.0      0.016667   \n",
       "1                0.0        0.0                     0.0      0.000000   \n",
       "2                0.0        0.0                     0.0      0.000000   \n",
       "3                0.0        0.0                     0.0      0.000000   \n",
       "4                0.0        0.0                     0.0      0.000000   \n",
       "\n",
       "   Greek Restaurant  Grocery Store       Gym  Gym / Fitness Center  \\\n",
       "0          0.016667       0.016667  0.000000              0.000000   \n",
       "1          0.000000       0.043478  0.043478              0.000000   \n",
       "2          0.000000       0.000000  0.000000              0.062500   \n",
       "3          0.000000       0.000000  0.000000              0.000000   \n",
       "4          0.000000       0.000000  0.000000              0.015873   \n",
       "\n",
       "   Harbor / Marina  Health & Beauty Service  Health Food Store  Historic Site  \\\n",
       "0           0.0000                      0.0                0.0            0.0   \n",
       "1           0.0000                      0.0                0.0            0.0   \n",
       "2           0.0000                      0.0                0.0            0.0   \n",
       "3           0.0625                      0.0                0.0            0.0   \n",
       "4           0.0000                      0.0                0.0            0.0   \n",
       "\n",
       "   History Museum  Home Service  Hookah Bar  Hospital  Hostel     Hotel  \\\n",
       "0             0.0           0.0         0.0       0.0     0.0  0.016667   \n",
       "1             0.0           0.0         0.0       0.0     0.0  0.000000   \n",
       "2             0.0           0.0         0.0       0.0     0.0  0.000000   \n",
       "3             0.0           0.0         0.0       0.0     0.0  0.000000   \n",
       "4             0.0           0.0         0.0       0.0     0.0  0.000000   \n",
       "\n",
       "   Hotel Bar  IT Services  Ice Cream Shop  Indian Restaurant  \\\n",
       "0        0.0          0.0        0.000000           0.000000   \n",
       "1        0.0          0.0        0.000000           0.000000   \n",
       "2        0.0          0.0        0.000000           0.000000   \n",
       "3        0.0          0.0        0.000000           0.000000   \n",
       "4        0.0          0.0        0.015873           0.015873   \n",
       "\n",
       "   Indie Movie Theater  Indoor Play Area  Intersection  Irish Pub  \\\n",
       "0                  0.0               0.0      0.000000   0.016667   \n",
       "1                  0.0               0.0      0.043478   0.000000   \n",
       "2                  0.0               0.0      0.000000   0.000000   \n",
       "3                  0.0               0.0      0.000000   0.000000   \n",
       "4                  0.0               0.0      0.000000   0.000000   \n",
       "\n",
       "   Italian Restaurant  Japanese Restaurant  Jazz Club  Jewelry Store  \\\n",
       "0            0.000000             0.016667   0.016667            0.0   \n",
       "1            0.043478             0.000000   0.000000            0.0   \n",
       "2            0.000000             0.000000   0.000000            0.0   \n",
       "3            0.000000             0.000000   0.000000            0.0   \n",
       "4            0.047619             0.031746   0.000000            0.0   \n",
       "\n",
       "   Juice Bar  Korean Restaurant  Lake  Latin American Restaurant  \\\n",
       "0   0.016667           0.000000   0.0                        0.0   \n",
       "1   0.000000           0.000000   0.0                        0.0   \n",
       "2   0.000000           0.000000   0.0                        0.0   \n",
       "3   0.000000           0.000000   0.0                        0.0   \n",
       "4   0.015873           0.015873   0.0                        0.0   \n",
       "\n",
       "   Light Rail Station  Lingerie Store  Liquor Store    Lounge  Market  \\\n",
       "0               0.000             0.0      0.016667  0.016667     0.0   \n",
       "1               0.000             0.0      0.000000  0.000000     0.0   \n",
       "2               0.125             0.0      0.000000  0.000000     0.0   \n",
       "3               0.000             0.0      0.000000  0.000000     0.0   \n",
       "4               0.000             0.0      0.000000  0.000000     0.0   \n",
       "\n",
       "   Martial Arts School  Massage Studio  Mediterranean Restaurant  Men's Store  \\\n",
       "0                  0.0             0.0                       0.0          0.0   \n",
       "1                  0.0             0.0                       0.0          0.0   \n",
       "2                  0.0             0.0                       0.0          0.0   \n",
       "3                  0.0             0.0                       0.0          0.0   \n",
       "4                  0.0             0.0                       0.0          0.0   \n",
       "\n",
       "   Metro Station  Mexican Restaurant  Middle Eastern Restaurant  \\\n",
       "0            0.0                 0.0                   0.000000   \n",
       "1            0.0                 0.0                   0.000000   \n",
       "2            0.0                 0.0                   0.000000   \n",
       "3            0.0                 0.0                   0.000000   \n",
       "4            0.0                 0.0                   0.015873   \n",
       "\n",
       "   Miscellaneous Shop  Modern European Restaurant  \\\n",
       "0            0.000000                    0.000000   \n",
       "1            0.000000                    0.000000   \n",
       "2            0.000000                    0.000000   \n",
       "3            0.000000                    0.000000   \n",
       "4            0.015873                    0.015873   \n",
       "\n",
       "   Molecular Gastronomy Restaurant  Monument / Landmark  Moroccan Restaurant  \\\n",
       "0                              0.0                  0.0                  0.0   \n",
       "1                              0.0                  0.0                  0.0   \n",
       "2                              0.0                  0.0                  0.0   \n",
       "3                              0.0                  0.0                  0.0   \n",
       "4                              0.0                  0.0                  0.0   \n",
       "\n",
       "   Movie Theater    Museum  Music Venue  Neighborhood  \\\n",
       "0            0.0  0.016667          0.0           0.0   \n",
       "1            0.0  0.000000          0.0           0.0   \n",
       "2            0.0  0.000000          0.0           0.0   \n",
       "3            0.0  0.000000          0.0           0.0   \n",
       "4            0.0  0.000000          0.0           0.0   \n",
       "\n",
       "   New American Restaurant  Nightclub  Noodle House    Office  Opera House  \\\n",
       "0                      0.0   0.000000           0.0  0.000000          0.0   \n",
       "1                      0.0   0.043478           0.0  0.000000          0.0   \n",
       "2                      0.0   0.000000           0.0  0.000000          0.0   \n",
       "3                      0.0   0.000000           0.0  0.000000          0.0   \n",
       "4                      0.0   0.000000           0.0  0.015873          0.0   \n",
       "\n",
       "   Optical Shop  Organic Grocery  Other Great Outdoors      Park  \\\n",
       "0           0.0              0.0                   0.0  0.016667   \n",
       "1           0.0              0.0                   0.0  0.000000   \n",
       "2           0.0              0.0                   0.0  0.062500   \n",
       "3           0.0              0.0                   0.0  0.000000   \n",
       "4           0.0              0.0                   0.0  0.015873   \n",
       "\n",
       "   Performing Arts Venue  Pet Store  Pharmacy  Pizza Place   Plane  \\\n",
       "0               0.000000   0.000000  0.033333       0.0000  0.0000   \n",
       "1               0.043478   0.043478  0.000000       0.0000  0.0000   \n",
       "2               0.000000   0.000000  0.000000       0.0625  0.0000   \n",
       "3               0.000000   0.000000  0.000000       0.0000  0.0625   \n",
       "4               0.000000   0.000000  0.000000       0.0000  0.0000   \n",
       "\n",
       "   Playground  Plaza  Poke Place  Pool  Portuguese Restaurant  Poutine Place  \\\n",
       "0         0.0    0.0    0.000000   0.0               0.000000            0.0   \n",
       "1         0.0    0.0    0.000000   0.0               0.000000            0.0   \n",
       "2         0.0    0.0    0.000000   0.0               0.000000            0.0   \n",
       "3         0.0    0.0    0.000000   0.0               0.000000            0.0   \n",
       "4         0.0    0.0    0.015873   0.0               0.015873            0.0   \n",
       "\n",
       "        Pub  Ramen Restaurant  Record Shop  Rental Car Location  Restaurant  \\\n",
       "0  0.016667          0.000000          0.0               0.0000    0.033333   \n",
       "1  0.000000          0.000000          0.0               0.0000    0.043478   \n",
       "2  0.000000          0.000000          0.0               0.0000    0.062500   \n",
       "3  0.000000          0.000000          0.0               0.0625    0.000000   \n",
       "4  0.000000          0.015873          0.0               0.0000    0.015873   \n",
       "\n",
       "   Roof Deck  Sake Bar  Salad Place  Salon / Barbershop  Sandwich Place  \\\n",
       "0        0.0       0.0     0.000000                 0.0        0.000000   \n",
       "1        0.0       0.0     0.000000                 0.0        0.000000   \n",
       "2        0.0       0.0     0.000000                 0.0        0.000000   \n",
       "3        0.0       0.0     0.000000                 0.0        0.000000   \n",
       "4        0.0       0.0     0.031746                 0.0        0.047619   \n",
       "\n",
       "   Scenic Lookout  School  Sculpture Garden  Seafood Restaurant  Shoe Repair  \\\n",
       "0             0.0     0.0            0.0000            0.033333          0.0   \n",
       "1             0.0     0.0            0.0000            0.000000          0.0   \n",
       "2             0.0     0.0            0.0000            0.000000          0.0   \n",
       "3             0.0     0.0            0.0625            0.000000          0.0   \n",
       "4             0.0     0.0            0.0000            0.000000          0.0   \n",
       "\n",
       "   Shoe Store  Shopping Mall  Skate Park  Skating Rink  Smoke Shop  \\\n",
       "0         0.0       0.016667      0.0000           0.0      0.0000   \n",
       "1         0.0       0.000000      0.0000           0.0      0.0000   \n",
       "2         0.0       0.000000      0.0625           0.0      0.0625   \n",
       "3         0.0       0.000000      0.0000           0.0      0.0000   \n",
       "4         0.0       0.000000      0.0000           0.0      0.0000   \n",
       "\n",
       "   Smoothie Shop  Snack Place  Soup Place       Spa  Speakeasy  \\\n",
       "0            0.0          0.0         0.0  0.000000        0.0   \n",
       "1            0.0          0.0         0.0  0.000000        0.0   \n",
       "2            0.0          0.0         0.0  0.000000        0.0   \n",
       "3            0.0          0.0         0.0  0.000000        0.0   \n",
       "4            0.0          0.0         0.0  0.015873        0.0   \n",
       "\n",
       "   Sporting Goods Shop  Sports Bar   Stadium  Stationery Store  Steakhouse  \\\n",
       "0             0.016667         0.0  0.000000               0.0    0.016667   \n",
       "1             0.000000         0.0  0.043478               0.0    0.000000   \n",
       "2             0.000000         0.0  0.000000               0.0    0.000000   \n",
       "3             0.000000         0.0  0.000000               0.0    0.000000   \n",
       "4             0.000000         0.0  0.000000               0.0    0.000000   \n",
       "\n",
       "   Strip Club  Supermarket  Sushi Restaurant  Swim School  Taco Place  \\\n",
       "0         0.0          0.0          0.016667          0.0         0.0   \n",
       "1         0.0          0.0          0.000000          0.0         0.0   \n",
       "2         0.0          0.0          0.000000          0.0         0.0   \n",
       "3         0.0          0.0          0.000000          0.0         0.0   \n",
       "4         0.0          0.0          0.015873          0.0         0.0   \n",
       "\n",
       "   Tailor Shop  Taiwanese Restaurant  Tanning Salon  Tea Room  Tennis Court  \\\n",
       "0     0.016667                   0.0            0.0       0.0           0.0   \n",
       "1     0.000000                   0.0            0.0       0.0           0.0   \n",
       "2     0.000000                   0.0            0.0       0.0           0.0   \n",
       "3     0.000000                   0.0            0.0       0.0           0.0   \n",
       "4     0.000000                   0.0            0.0       0.0           0.0   \n",
       "\n",
       "   Thai Restaurant  Theater  Theme Restaurant  Tibetan Restaurant  \\\n",
       "0         0.016667      0.0               0.0                 0.0   \n",
       "1         0.000000      0.0               0.0                 0.0   \n",
       "2         0.000000      0.0               0.0                 0.0   \n",
       "3         0.000000      0.0               0.0                 0.0   \n",
       "4         0.031746      0.0               0.0                 0.0   \n",
       "\n",
       "   Toy / Game Store  Trail  Train Station  Vegetarian / Vegan Restaurant  \\\n",
       "0               0.0    0.0            0.0                       0.016667   \n",
       "1               0.0    0.0            0.0                       0.000000   \n",
       "2               0.0    0.0            0.0                       0.000000   \n",
       "3               0.0    0.0            0.0                       0.000000   \n",
       "4               0.0    0.0            0.0                       0.015873   \n",
       "\n",
       "   Video Game Store  Vietnamese Restaurant  Wine Bar  Yoga Studio  \n",
       "0               0.0                    0.0  0.000000     0.000000  \n",
       "1               0.0                    0.0  0.000000     0.000000  \n",
       "2               0.0                    0.0  0.000000     0.000000  \n",
       "3               0.0                    0.0  0.000000     0.000000  \n",
       "4               0.0                    0.0  0.015873     0.015873  "
      ],
      "text/html": "<div>\n<style scoped>\n    .dataframe tbody tr th:only-of-type {\n        vertical-align: middle;\n    }\n\n    .dataframe tbody tr th {\n        vertical-align: top;\n    }\n\n    .dataframe thead th {\n        text-align: right;\n    }\n</style>\n<table border=\"1\" class=\"dataframe\">\n  <thead>\n    <tr style=\"text-align: right;\">\n      <th></th>\n      <th>Neighbourhood</th>\n      <th>Adult Boutique</th>\n      <th>Airport</th>\n      <th>Airport Food Court</th>\n      <th>Airport Gate</th>\n      <th>Airport Lounge</th>\n      <th>Airport Service</th>\n      <th>Airport Terminal</th>\n      <th>American Restaurant</th>\n      <th>Antique Shop</th>\n      <th>Aquarium</th>\n      <th>Art Gallery</th>\n      <th>Art Museum</th>\n      <th>Arts &amp; Crafts Store</th>\n      <th>Asian Restaurant</th>\n      <th>Athletics &amp; Sports</th>\n      <th>Auto Workshop</th>\n      <th>BBQ Joint</th>\n      <th>Baby Store</th>\n      <th>Bagel Shop</th>\n      <th>Bakery</th>\n      <th>Bank</th>\n      <th>Bar</th>\n      <th>Baseball Stadium</th>\n      <th>Basketball Stadium</th>\n      <th>Beach</th>\n      <th>Bed &amp; Breakfast</th>\n      <th>Beer Bar</th>\n      <th>Beer Store</th>\n      <th>Belgian Restaurant</th>\n      <th>Bistro</th>\n      <th>Boat or Ferry</th>\n      <th>Bookstore</th>\n      <th>Boutique</th>\n      <th>Brazilian Restaurant</th>\n      <th>Breakfast Spot</th>\n      <th>Brewery</th>\n      <th>Bubble Tea Shop</th>\n      <th>Building</th>\n      <th>Burger Joint</th>\n      <th>Burrito Place</th>\n      <th>Bus Line</th>\n      <th>Butcher</th>\n      <th>Café</th>\n      <th>Cajun / Creole Restaurant</th>\n      <th>Candy Store</th>\n      <th>Caribbean Restaurant</th>\n      <th>Cheese Shop</th>\n      <th>Chinese Restaurant</th>\n      <th>Chocolate Shop</th>\n      <th>Church</th>\n      <th>Climbing Gym</th>\n      <th>Clothing Store</th>\n      <th>Cocktail Bar</th>\n      <th>Coffee Shop</th>\n      <th>College Arts Building</th>\n      <th>College Auditorium</th>\n      <th>College Cafeteria</th>\n      <th>College Gym</th>\n      <th>College Rec Center</th>\n      <th>Colombian Restaurant</th>\n      <th>Comfort Food Restaurant</th>\n      <th>Comic Shop</th>\n      <th>Concert Hall</th>\n      <th>Convenience Store</th>\n      <th>Cosmetics Shop</th>\n      <th>Coworking Space</th>\n      <th>Creperie</th>\n      <th>Cuban Restaurant</th>\n      <th>Cupcake Shop</th>\n      <th>Dance Studio</th>\n      <th>Deli / Bodega</th>\n      <th>Department Store</th>\n      <th>Dessert Shop</th>\n      <th>Diner</th>\n      <th>Discount Store</th>\n      <th>Distribution Center</th>\n      <th>Dog Run</th>\n      <th>Doner Restaurant</th>\n      <th>Donut Shop</th>\n      <th>Dumpling Restaurant</th>\n      <th>Eastern European Restaurant</th>\n      <th>Electronics Store</th>\n      <th>Escape Room</th>\n      <th>Ethiopian Restaurant</th>\n      <th>Event Space</th>\n      <th>Falafel Restaurant</th>\n      <th>Farmers Market</th>\n      <th>Fast Food Restaurant</th>\n      <th>Filipino Restaurant</th>\n      <th>Fish &amp; Chips Shop</th>\n      <th>Fish Market</th>\n      <th>Flea Market</th>\n      <th>Flower Shop</th>\n      <th>Food &amp; Drink Shop</th>\n      <th>Food Court</th>\n      <th>Food Truck</th>\n      <th>Fountain</th>\n      <th>French Restaurant</th>\n      <th>Fried Chicken Joint</th>\n      <th>Frozen Yogurt Shop</th>\n      <th>Fruit &amp; Vegetable Store</th>\n      <th>Furniture / Home Store</th>\n      <th>Gaming Cafe</th>\n      <th>Garden</th>\n      <th>Garden Center</th>\n      <th>Gas Station</th>\n      <th>Gastropub</th>\n      <th>Gay Bar</th>\n      <th>General Entertainment</th>\n      <th>General Travel</th>\n      <th>German Restaurant</th>\n      <th>Gift Shop</th>\n      <th>Gluten-free Restaurant</th>\n      <th>Gourmet Shop</th>\n      <th>Greek Restaurant</th>\n      <th>Grocery Store</th>\n      <th>Gym</th>\n      <th>Gym / Fitness Center</th>\n      <th>Harbor / Marina</th>\n      <th>Health &amp; Beauty Service</th>\n      <th>Health Food Store</th>\n      <th>Historic Site</th>\n      <th>History Museum</th>\n      <th>Home Service</th>\n      <th>Hookah Bar</th>\n      <th>Hospital</th>\n      <th>Hostel</th>\n      <th>Hotel</th>\n      <th>Hotel Bar</th>\n      <th>IT Services</th>\n      <th>Ice Cream Shop</th>\n      <th>Indian Restaurant</th>\n      <th>Indie Movie Theater</th>\n      <th>Indoor Play Area</th>\n      <th>Intersection</th>\n      <th>Irish Pub</th>\n      <th>Italian Restaurant</th>\n      <th>Japanese Restaurant</th>\n      <th>Jazz Club</th>\n      <th>Jewelry Store</th>\n      <th>Juice Bar</th>\n      <th>Korean Restaurant</th>\n      <th>Lake</th>\n      <th>Latin American Restaurant</th>\n      <th>Light Rail Station</th>\n      <th>Lingerie Store</th>\n      <th>Liquor Store</th>\n      <th>Lounge</th>\n      <th>Market</th>\n      <th>Martial Arts School</th>\n      <th>Massage Studio</th>\n      <th>Mediterranean Restaurant</th>\n      <th>Men's Store</th>\n      <th>Metro Station</th>\n      <th>Mexican Restaurant</th>\n      <th>Middle Eastern Restaurant</th>\n      <th>Miscellaneous Shop</th>\n      <th>Modern European Restaurant</th>\n      <th>Molecular Gastronomy Restaurant</th>\n      <th>Monument / Landmark</th>\n      <th>Moroccan Restaurant</th>\n      <th>Movie Theater</th>\n      <th>Museum</th>\n      <th>Music Venue</th>\n      <th>Neighborhood</th>\n      <th>New American Restaurant</th>\n      <th>Nightclub</th>\n      <th>Noodle House</th>\n      <th>Office</th>\n      <th>Opera House</th>\n      <th>Optical Shop</th>\n      <th>Organic Grocery</th>\n      <th>Other Great Outdoors</th>\n      <th>Park</th>\n      <th>Performing Arts Venue</th>\n      <th>Pet Store</th>\n      <th>Pharmacy</th>\n      <th>Pizza Place</th>\n      <th>Plane</th>\n      <th>Playground</th>\n      <th>Plaza</th>\n      <th>Poke Place</th>\n      <th>Pool</th>\n      <th>Portuguese Restaurant</th>\n      <th>Poutine Place</th>\n      <th>Pub</th>\n      <th>Ramen Restaurant</th>\n      <th>Record Shop</th>\n      <th>Rental Car Location</th>\n      <th>Restaurant</th>\n      <th>Roof Deck</th>\n      <th>Sake Bar</th>\n      <th>Salad Place</th>\n      <th>Salon / Barbershop</th>\n      <th>Sandwich Place</th>\n      <th>Scenic Lookout</th>\n      <th>School</th>\n      <th>Sculpture Garden</th>\n      <th>Seafood Restaurant</th>\n      <th>Shoe Repair</th>\n      <th>Shoe Store</th>\n      <th>Shopping Mall</th>\n      <th>Skate Park</th>\n      <th>Skating Rink</th>\n      <th>Smoke Shop</th>\n      <th>Smoothie Shop</th>\n      <th>Snack Place</th>\n      <th>Soup Place</th>\n      <th>Spa</th>\n      <th>Speakeasy</th>\n      <th>Sporting Goods Shop</th>\n      <th>Sports Bar</th>\n      <th>Stadium</th>\n      <th>Stationery Store</th>\n      <th>Steakhouse</th>\n      <th>Strip Club</th>\n      <th>Supermarket</th>\n      <th>Sushi Restaurant</th>\n      <th>Swim School</th>\n      <th>Taco Place</th>\n      <th>Tailor Shop</th>\n      <th>Taiwanese Restaurant</th>\n      <th>Tanning Salon</th>\n      <th>Tea Room</th>\n      <th>Tennis Court</th>\n      <th>Thai Restaurant</th>\n      <th>Theater</th>\n      <th>Theme Restaurant</th>\n      <th>Tibetan Restaurant</th>\n      <th>Toy / Game Store</th>\n      <th>Trail</th>\n      <th>Train Station</th>\n      <th>Vegetarian / Vegan Restaurant</th>\n      <th>Video Game Store</th>\n      <th>Vietnamese Restaurant</th>\n      <th>Wine Bar</th>\n      <th>Yoga Studio</th>\n    </tr>\n  </thead>\n  <tbody>\n    <tr>\n      <th>0</th>\n      <td>Berczy Park</td>\n      <td>0.0</td>\n      <td>0.0000</td>\n      <td>0.0000</td>\n      <td>0.0000</td>\n      <td>0.000</td>\n      <td>0.0000</td>\n      <td>0.000</td>\n      <td>0.0</td>\n      <td>0.0</td>\n      <td>0.0</td>\n      <td>0.016667</td>\n      <td>0.000000</td>\n      <td>0.0</td>\n      <td>0.0</td>\n      <td>0.0</td>\n      <td>0.0000</td>\n      <td>0.0</td>\n      <td>0.0</td>\n      <td>0.016667</td>\n      <td>0.050000</td>\n      <td>0.000000</td>\n      <td>0.000000</td>\n      <td>0.0</td>\n      <td>0.016667</td>\n      <td>0.016667</td>\n      <td>0.0</td>\n      <td>0.033333</td>\n      <td>0.0</td>\n      <td>0.0</td>\n      <td>0.016667</td>\n      <td>0.0000</td>\n      <td>0.000000</td>\n      <td>0.0000</td>\n      <td>0.0</td>\n      <td>0.016667</td>\n      <td>0.0000</td>\n      <td>0.000000</td>\n      <td>0.0</td>\n      <td>0.000000</td>\n      <td>0.000000</td>\n      <td>0.0</td>\n      <td>0.0</td>\n      <td>0.016667</td>\n      <td>0.0</td>\n      <td>0.0</td>\n      <td>0.0</td>\n      <td>0.033333</td>\n      <td>0.000000</td>\n      <td>0.0</td>\n      <td>0.0</td>\n      <td>0.000000</td>\n      <td>0.016667</td>\n      <td>0.05</td>\n      <td>0.083333</td>\n      <td>0.0</td>\n      <td>0.0</td>\n      <td>0.0</td>\n      <td>0.0</td>\n      <td>0.0</td>\n      <td>0.0</td>\n      <td>0.016667</td>\n      <td>0.000000</td>\n      <td>0.016667</td>\n      <td>0.000000</td>\n      <td>0.0</td>\n      <td>0.0</td>\n      <td>0.016667</td>\n      <td>0.0</td>\n      <td>0.0</td>\n      <td>0.0</td>\n      <td>0.0</td>\n      <td>0.016667</td>\n      <td>0.0</td>\n      <td>0.016667</td>\n      <td>0.000000</td>\n      <td>0.0</td>\n      <td>0.0</td>\n      <td>0.0</td>\n      <td>0.000000</td>\n      <td>0.0</td>\n      <td>0.016667</td>\n      <td>0.0</td>\n      <td>0.0</td>\n      <td>0.0</td>\n      <td>0.0</td>\n      <td>0.000000</td>\n      <td>0.033333</td>\n      <td>0.0000</td>\n      <td>0.0</td>\n      <td>0.0</td>\n      <td>0.016667</td>\n      <td>0.0</td>\n      <td>0.0</td>\n      <td>0.0</td>\n      <td>0.0</td>\n      <td>0.0</td>\n      <td>0.016667</td>\n      <td>0.016667</td>\n      <td>0.000000</td>\n      <td>0.0</td>\n      <td>0.0</td>\n      <td>0.000000</td>\n      <td>0.0</td>\n      <td>0.0000</td>\n      <td>0.0000</td>\n      <td>0.0</td>\n      <td>0.000000</td>\n      <td>0.0</td>\n      <td>0.0</td>\n      <td>0.0</td>\n      <td>0.0</td>\n      <td>0.0</td>\n      <td>0.0</td>\n      <td>0.016667</td>\n      <td>0.016667</td>\n      <td>0.016667</td>\n      <td>0.000000</td>\n      <td>0.000000</td>\n      <td>0.0000</td>\n      <td>0.0</td>\n      <td>0.0</td>\n      <td>0.0</td>\n      <td>0.0</td>\n      <td>0.0</td>\n      <td>0.0</td>\n      <td>0.0</td>\n      <td>0.0</td>\n      <td>0.016667</td>\n      <td>0.0</td>\n      <td>0.0</td>\n      <td>0.000000</td>\n      <td>0.000000</td>\n      <td>0.0</td>\n      <td>0.0</td>\n      <td>0.000000</td>\n      <td>0.016667</td>\n      <td>0.000000</td>\n      <td>0.016667</td>\n      <td>0.016667</td>\n      <td>0.0</td>\n      <td>0.016667</td>\n      <td>0.000000</td>\n      <td>0.0</td>\n      <td>0.0</td>\n      <td>0.000</td>\n      <td>0.0</td>\n      <td>0.016667</td>\n      <td>0.016667</td>\n      <td>0.0</td>\n      <td>0.0</td>\n      <td>0.0</td>\n      <td>0.0</td>\n      <td>0.0</td>\n      <td>0.0</td>\n      <td>0.0</td>\n      <td>0.000000</td>\n      <td>0.000000</td>\n      <td>0.000000</td>\n      <td>0.0</td>\n      <td>0.0</td>\n      <td>0.0</td>\n      <td>0.0</td>\n      <td>0.016667</td>\n      <td>0.0</td>\n      <td>0.0</td>\n      <td>0.0</td>\n      <td>0.000000</td>\n      <td>0.0</td>\n      <td>0.000000</td>\n      <td>0.0</td>\n      <td>0.0</td>\n      <td>0.0</td>\n      <td>0.0</td>\n      <td>0.016667</td>\n      <td>0.000000</td>\n      <td>0.000000</td>\n      <td>0.033333</td>\n      <td>0.0000</td>\n      <td>0.0000</td>\n      <td>0.0</td>\n      <td>0.0</td>\n      <td>0.000000</td>\n      <td>0.0</td>\n      <td>0.000000</td>\n      <td>0.0</td>\n      <td>0.016667</td>\n      <td>0.000000</td>\n      <td>0.0</td>\n      <td>0.0000</td>\n      <td>0.033333</td>\n      <td>0.0</td>\n      <td>0.0</td>\n      <td>0.000000</td>\n      <td>0.0</td>\n      <td>0.000000</td>\n      <td>0.0</td>\n      <td>0.0</td>\n      <td>0.0000</td>\n      <td>0.033333</td>\n      <td>0.0</td>\n      <td>0.0</td>\n      <td>0.016667</td>\n      <td>0.0000</td>\n      <td>0.0</td>\n      <td>0.0000</td>\n      <td>0.0</td>\n      <td>0.0</td>\n      <td>0.0</td>\n      <td>0.000000</td>\n      <td>0.0</td>\n      <td>0.016667</td>\n      <td>0.0</td>\n      <td>0.000000</td>\n      <td>0.0</td>\n      <td>0.016667</td>\n      <td>0.0</td>\n      <td>0.0</td>\n      <td>0.016667</td>\n      <td>0.0</td>\n      <td>0.0</td>\n      <td>0.016667</td>\n      <td>0.0</td>\n      <td>0.0</td>\n      <td>0.0</td>\n      <td>0.0</td>\n      <td>0.016667</td>\n      <td>0.0</td>\n      <td>0.0</td>\n      <td>0.0</td>\n      <td>0.0</td>\n      <td>0.0</td>\n      <td>0.0</td>\n      <td>0.016667</td>\n      <td>0.0</td>\n      <td>0.0</td>\n      <td>0.000000</td>\n      <td>0.000000</td>\n    </tr>\n    <tr>\n      <th>1</th>\n      <td>Brockton, Parkdale Village, Exhibition Place</td>\n      <td>0.0</td>\n      <td>0.0000</td>\n      <td>0.0000</td>\n      <td>0.0000</td>\n      <td>0.000</td>\n      <td>0.0000</td>\n      <td>0.000</td>\n      <td>0.0</td>\n      <td>0.0</td>\n      <td>0.0</td>\n      <td>0.000000</td>\n      <td>0.000000</td>\n      <td>0.0</td>\n      <td>0.0</td>\n      <td>0.0</td>\n      <td>0.0000</td>\n      <td>0.0</td>\n      <td>0.0</td>\n      <td>0.000000</td>\n      <td>0.086957</td>\n      <td>0.000000</td>\n      <td>0.043478</td>\n      <td>0.0</td>\n      <td>0.000000</td>\n      <td>0.000000</td>\n      <td>0.0</td>\n      <td>0.000000</td>\n      <td>0.0</td>\n      <td>0.0</td>\n      <td>0.000000</td>\n      <td>0.0000</td>\n      <td>0.000000</td>\n      <td>0.0000</td>\n      <td>0.0</td>\n      <td>0.086957</td>\n      <td>0.0000</td>\n      <td>0.000000</td>\n      <td>0.0</td>\n      <td>0.000000</td>\n      <td>0.043478</td>\n      <td>0.0</td>\n      <td>0.0</td>\n      <td>0.130435</td>\n      <td>0.0</td>\n      <td>0.0</td>\n      <td>0.0</td>\n      <td>0.000000</td>\n      <td>0.000000</td>\n      <td>0.0</td>\n      <td>0.0</td>\n      <td>0.043478</td>\n      <td>0.000000</td>\n      <td>0.00</td>\n      <td>0.086957</td>\n      <td>0.0</td>\n      <td>0.0</td>\n      <td>0.0</td>\n      <td>0.0</td>\n      <td>0.0</td>\n      <td>0.0</td>\n      <td>0.000000</td>\n      <td>0.000000</td>\n      <td>0.000000</td>\n      <td>0.043478</td>\n      <td>0.0</td>\n      <td>0.0</td>\n      <td>0.000000</td>\n      <td>0.0</td>\n      <td>0.0</td>\n      <td>0.0</td>\n      <td>0.0</td>\n      <td>0.000000</td>\n      <td>0.0</td>\n      <td>0.000000</td>\n      <td>0.000000</td>\n      <td>0.0</td>\n      <td>0.0</td>\n      <td>0.0</td>\n      <td>0.000000</td>\n      <td>0.0</td>\n      <td>0.000000</td>\n      <td>0.0</td>\n      <td>0.0</td>\n      <td>0.0</td>\n      <td>0.0</td>\n      <td>0.000000</td>\n      <td>0.000000</td>\n      <td>0.0000</td>\n      <td>0.0</td>\n      <td>0.0</td>\n      <td>0.000000</td>\n      <td>0.0</td>\n      <td>0.0</td>\n      <td>0.0</td>\n      <td>0.0</td>\n      <td>0.0</td>\n      <td>0.000000</td>\n      <td>0.000000</td>\n      <td>0.000000</td>\n      <td>0.0</td>\n      <td>0.0</td>\n      <td>0.043478</td>\n      <td>0.0</td>\n      <td>0.0000</td>\n      <td>0.0000</td>\n      <td>0.0</td>\n      <td>0.000000</td>\n      <td>0.0</td>\n      <td>0.0</td>\n      <td>0.0</td>\n      <td>0.0</td>\n      <td>0.0</td>\n      <td>0.0</td>\n      <td>0.000000</td>\n      <td>0.000000</td>\n      <td>0.043478</td>\n      <td>0.043478</td>\n      <td>0.000000</td>\n      <td>0.0000</td>\n      <td>0.0</td>\n      <td>0.0</td>\n      <td>0.0</td>\n      <td>0.0</td>\n      <td>0.0</td>\n      <td>0.0</td>\n      <td>0.0</td>\n      <td>0.0</td>\n      <td>0.000000</td>\n      <td>0.0</td>\n      <td>0.0</td>\n      <td>0.000000</td>\n      <td>0.000000</td>\n      <td>0.0</td>\n      <td>0.0</td>\n      <td>0.043478</td>\n      <td>0.000000</td>\n      <td>0.043478</td>\n      <td>0.000000</td>\n      <td>0.000000</td>\n      <td>0.0</td>\n      <td>0.000000</td>\n      <td>0.000000</td>\n      <td>0.0</td>\n      <td>0.0</td>\n      <td>0.000</td>\n      <td>0.0</td>\n      <td>0.000000</td>\n      <td>0.000000</td>\n      <td>0.0</td>\n      <td>0.0</td>\n      <td>0.0</td>\n      <td>0.0</td>\n      <td>0.0</td>\n      <td>0.0</td>\n      <td>0.0</td>\n      <td>0.000000</td>\n      <td>0.000000</td>\n      <td>0.000000</td>\n      <td>0.0</td>\n      <td>0.0</td>\n      <td>0.0</td>\n      <td>0.0</td>\n      <td>0.000000</td>\n      <td>0.0</td>\n      <td>0.0</td>\n      <td>0.0</td>\n      <td>0.043478</td>\n      <td>0.0</td>\n      <td>0.000000</td>\n      <td>0.0</td>\n      <td>0.0</td>\n      <td>0.0</td>\n      <td>0.0</td>\n      <td>0.000000</td>\n      <td>0.043478</td>\n      <td>0.043478</td>\n      <td>0.000000</td>\n      <td>0.0000</td>\n      <td>0.0000</td>\n      <td>0.0</td>\n      <td>0.0</td>\n      <td>0.000000</td>\n      <td>0.0</td>\n      <td>0.000000</td>\n      <td>0.0</td>\n      <td>0.000000</td>\n      <td>0.000000</td>\n      <td>0.0</td>\n      <td>0.0000</td>\n      <td>0.043478</td>\n      <td>0.0</td>\n      <td>0.0</td>\n      <td>0.000000</td>\n      <td>0.0</td>\n      <td>0.000000</td>\n      <td>0.0</td>\n      <td>0.0</td>\n      <td>0.0000</td>\n      <td>0.000000</td>\n      <td>0.0</td>\n      <td>0.0</td>\n      <td>0.000000</td>\n      <td>0.0000</td>\n      <td>0.0</td>\n      <td>0.0000</td>\n      <td>0.0</td>\n      <td>0.0</td>\n      <td>0.0</td>\n      <td>0.000000</td>\n      <td>0.0</td>\n      <td>0.000000</td>\n      <td>0.0</td>\n      <td>0.043478</td>\n      <td>0.0</td>\n      <td>0.000000</td>\n      <td>0.0</td>\n      <td>0.0</td>\n      <td>0.000000</td>\n      <td>0.0</td>\n      <td>0.0</td>\n      <td>0.000000</td>\n      <td>0.0</td>\n      <td>0.0</td>\n      <td>0.0</td>\n      <td>0.0</td>\n      <td>0.000000</td>\n      <td>0.0</td>\n      <td>0.0</td>\n      <td>0.0</td>\n      <td>0.0</td>\n      <td>0.0</td>\n      <td>0.0</td>\n      <td>0.000000</td>\n      <td>0.0</td>\n      <td>0.0</td>\n      <td>0.000000</td>\n      <td>0.000000</td>\n    </tr>\n    <tr>\n      <th>2</th>\n      <td>Business reply mail Processing Centre, South C...</td>\n      <td>0.0</td>\n      <td>0.0000</td>\n      <td>0.0000</td>\n      <td>0.0000</td>\n      <td>0.000</td>\n      <td>0.0000</td>\n      <td>0.000</td>\n      <td>0.0</td>\n      <td>0.0</td>\n      <td>0.0</td>\n      <td>0.000000</td>\n      <td>0.000000</td>\n      <td>0.0</td>\n      <td>0.0</td>\n      <td>0.0</td>\n      <td>0.0625</td>\n      <td>0.0</td>\n      <td>0.0</td>\n      <td>0.000000</td>\n      <td>0.000000</td>\n      <td>0.000000</td>\n      <td>0.000000</td>\n      <td>0.0</td>\n      <td>0.000000</td>\n      <td>0.000000</td>\n      <td>0.0</td>\n      <td>0.000000</td>\n      <td>0.0</td>\n      <td>0.0</td>\n      <td>0.000000</td>\n      <td>0.0000</td>\n      <td>0.000000</td>\n      <td>0.0000</td>\n      <td>0.0</td>\n      <td>0.000000</td>\n      <td>0.0625</td>\n      <td>0.000000</td>\n      <td>0.0</td>\n      <td>0.000000</td>\n      <td>0.062500</td>\n      <td>0.0</td>\n      <td>0.0</td>\n      <td>0.000000</td>\n      <td>0.0</td>\n      <td>0.0</td>\n      <td>0.0</td>\n      <td>0.000000</td>\n      <td>0.000000</td>\n      <td>0.0</td>\n      <td>0.0</td>\n      <td>0.000000</td>\n      <td>0.000000</td>\n      <td>0.00</td>\n      <td>0.000000</td>\n      <td>0.0</td>\n      <td>0.0</td>\n      <td>0.0</td>\n      <td>0.0</td>\n      <td>0.0</td>\n      <td>0.0</td>\n      <td>0.000000</td>\n      <td>0.062500</td>\n      <td>0.000000</td>\n      <td>0.000000</td>\n      <td>0.0</td>\n      <td>0.0</td>\n      <td>0.000000</td>\n      <td>0.0</td>\n      <td>0.0</td>\n      <td>0.0</td>\n      <td>0.0</td>\n      <td>0.000000</td>\n      <td>0.0</td>\n      <td>0.000000</td>\n      <td>0.000000</td>\n      <td>0.0</td>\n      <td>0.0</td>\n      <td>0.0</td>\n      <td>0.000000</td>\n      <td>0.0</td>\n      <td>0.000000</td>\n      <td>0.0</td>\n      <td>0.0</td>\n      <td>0.0</td>\n      <td>0.0</td>\n      <td>0.000000</td>\n      <td>0.062500</td>\n      <td>0.0625</td>\n      <td>0.0</td>\n      <td>0.0</td>\n      <td>0.000000</td>\n      <td>0.0</td>\n      <td>0.0</td>\n      <td>0.0</td>\n      <td>0.0</td>\n      <td>0.0</td>\n      <td>0.000000</td>\n      <td>0.000000</td>\n      <td>0.000000</td>\n      <td>0.0</td>\n      <td>0.0</td>\n      <td>0.000000</td>\n      <td>0.0</td>\n      <td>0.0625</td>\n      <td>0.0625</td>\n      <td>0.0</td>\n      <td>0.000000</td>\n      <td>0.0</td>\n      <td>0.0</td>\n      <td>0.0</td>\n      <td>0.0</td>\n      <td>0.0</td>\n      <td>0.0</td>\n      <td>0.000000</td>\n      <td>0.000000</td>\n      <td>0.000000</td>\n      <td>0.000000</td>\n      <td>0.062500</td>\n      <td>0.0000</td>\n      <td>0.0</td>\n      <td>0.0</td>\n      <td>0.0</td>\n      <td>0.0</td>\n      <td>0.0</td>\n      <td>0.0</td>\n      <td>0.0</td>\n      <td>0.0</td>\n      <td>0.000000</td>\n      <td>0.0</td>\n      <td>0.0</td>\n      <td>0.000000</td>\n      <td>0.000000</td>\n      <td>0.0</td>\n      <td>0.0</td>\n      <td>0.000000</td>\n      <td>0.000000</td>\n      <td>0.000000</td>\n      <td>0.000000</td>\n      <td>0.000000</td>\n      <td>0.0</td>\n      <td>0.000000</td>\n      <td>0.000000</td>\n      <td>0.0</td>\n      <td>0.0</td>\n      <td>0.125</td>\n      <td>0.0</td>\n      <td>0.000000</td>\n      <td>0.000000</td>\n      <td>0.0</td>\n      <td>0.0</td>\n      <td>0.0</td>\n      <td>0.0</td>\n      <td>0.0</td>\n      <td>0.0</td>\n      <td>0.0</td>\n      <td>0.000000</td>\n      <td>0.000000</td>\n      <td>0.000000</td>\n      <td>0.0</td>\n      <td>0.0</td>\n      <td>0.0</td>\n      <td>0.0</td>\n      <td>0.000000</td>\n      <td>0.0</td>\n      <td>0.0</td>\n      <td>0.0</td>\n      <td>0.000000</td>\n      <td>0.0</td>\n      <td>0.000000</td>\n      <td>0.0</td>\n      <td>0.0</td>\n      <td>0.0</td>\n      <td>0.0</td>\n      <td>0.062500</td>\n      <td>0.000000</td>\n      <td>0.000000</td>\n      <td>0.000000</td>\n      <td>0.0625</td>\n      <td>0.0000</td>\n      <td>0.0</td>\n      <td>0.0</td>\n      <td>0.000000</td>\n      <td>0.0</td>\n      <td>0.000000</td>\n      <td>0.0</td>\n      <td>0.000000</td>\n      <td>0.000000</td>\n      <td>0.0</td>\n      <td>0.0000</td>\n      <td>0.062500</td>\n      <td>0.0</td>\n      <td>0.0</td>\n      <td>0.000000</td>\n      <td>0.0</td>\n      <td>0.000000</td>\n      <td>0.0</td>\n      <td>0.0</td>\n      <td>0.0000</td>\n      <td>0.000000</td>\n      <td>0.0</td>\n      <td>0.0</td>\n      <td>0.000000</td>\n      <td>0.0625</td>\n      <td>0.0</td>\n      <td>0.0625</td>\n      <td>0.0</td>\n      <td>0.0</td>\n      <td>0.0</td>\n      <td>0.000000</td>\n      <td>0.0</td>\n      <td>0.000000</td>\n      <td>0.0</td>\n      <td>0.000000</td>\n      <td>0.0</td>\n      <td>0.000000</td>\n      <td>0.0</td>\n      <td>0.0</td>\n      <td>0.000000</td>\n      <td>0.0</td>\n      <td>0.0</td>\n      <td>0.000000</td>\n      <td>0.0</td>\n      <td>0.0</td>\n      <td>0.0</td>\n      <td>0.0</td>\n      <td>0.000000</td>\n      <td>0.0</td>\n      <td>0.0</td>\n      <td>0.0</td>\n      <td>0.0</td>\n      <td>0.0</td>\n      <td>0.0</td>\n      <td>0.000000</td>\n      <td>0.0</td>\n      <td>0.0</td>\n      <td>0.000000</td>\n      <td>0.000000</td>\n    </tr>\n    <tr>\n      <th>3</th>\n      <td>CN Tower, King and Spadina, Railway Lands, Har...</td>\n      <td>0.0</td>\n      <td>0.0625</td>\n      <td>0.0625</td>\n      <td>0.0625</td>\n      <td>0.125</td>\n      <td>0.0625</td>\n      <td>0.125</td>\n      <td>0.0</td>\n      <td>0.0</td>\n      <td>0.0</td>\n      <td>0.000000</td>\n      <td>0.000000</td>\n      <td>0.0</td>\n      <td>0.0</td>\n      <td>0.0</td>\n      <td>0.0000</td>\n      <td>0.0</td>\n      <td>0.0</td>\n      <td>0.000000</td>\n      <td>0.000000</td>\n      <td>0.000000</td>\n      <td>0.062500</td>\n      <td>0.0</td>\n      <td>0.000000</td>\n      <td>0.000000</td>\n      <td>0.0</td>\n      <td>0.000000</td>\n      <td>0.0</td>\n      <td>0.0</td>\n      <td>0.000000</td>\n      <td>0.0625</td>\n      <td>0.000000</td>\n      <td>0.0625</td>\n      <td>0.0</td>\n      <td>0.000000</td>\n      <td>0.0000</td>\n      <td>0.000000</td>\n      <td>0.0</td>\n      <td>0.000000</td>\n      <td>0.000000</td>\n      <td>0.0</td>\n      <td>0.0</td>\n      <td>0.000000</td>\n      <td>0.0</td>\n      <td>0.0</td>\n      <td>0.0</td>\n      <td>0.000000</td>\n      <td>0.000000</td>\n      <td>0.0</td>\n      <td>0.0</td>\n      <td>0.000000</td>\n      <td>0.000000</td>\n      <td>0.00</td>\n      <td>0.062500</td>\n      <td>0.0</td>\n      <td>0.0</td>\n      <td>0.0</td>\n      <td>0.0</td>\n      <td>0.0</td>\n      <td>0.0</td>\n      <td>0.000000</td>\n      <td>0.000000</td>\n      <td>0.000000</td>\n      <td>0.000000</td>\n      <td>0.0</td>\n      <td>0.0</td>\n      <td>0.000000</td>\n      <td>0.0</td>\n      <td>0.0</td>\n      <td>0.0</td>\n      <td>0.0</td>\n      <td>0.000000</td>\n      <td>0.0</td>\n      <td>0.000000</td>\n      <td>0.000000</td>\n      <td>0.0</td>\n      <td>0.0</td>\n      <td>0.0</td>\n      <td>0.000000</td>\n      <td>0.0</td>\n      <td>0.000000</td>\n      <td>0.0</td>\n      <td>0.0</td>\n      <td>0.0</td>\n      <td>0.0</td>\n      <td>0.000000</td>\n      <td>0.000000</td>\n      <td>0.0000</td>\n      <td>0.0</td>\n      <td>0.0</td>\n      <td>0.000000</td>\n      <td>0.0</td>\n      <td>0.0</td>\n      <td>0.0</td>\n      <td>0.0</td>\n      <td>0.0</td>\n      <td>0.000000</td>\n      <td>0.000000</td>\n      <td>0.000000</td>\n      <td>0.0</td>\n      <td>0.0</td>\n      <td>0.000000</td>\n      <td>0.0</td>\n      <td>0.0000</td>\n      <td>0.0000</td>\n      <td>0.0</td>\n      <td>0.000000</td>\n      <td>0.0</td>\n      <td>0.0</td>\n      <td>0.0</td>\n      <td>0.0</td>\n      <td>0.0</td>\n      <td>0.0</td>\n      <td>0.000000</td>\n      <td>0.000000</td>\n      <td>0.000000</td>\n      <td>0.000000</td>\n      <td>0.000000</td>\n      <td>0.0625</td>\n      <td>0.0</td>\n      <td>0.0</td>\n      <td>0.0</td>\n      <td>0.0</td>\n      <td>0.0</td>\n      <td>0.0</td>\n      <td>0.0</td>\n      <td>0.0</td>\n      <td>0.000000</td>\n      <td>0.0</td>\n      <td>0.0</td>\n      <td>0.000000</td>\n      <td>0.000000</td>\n      <td>0.0</td>\n      <td>0.0</td>\n      <td>0.000000</td>\n      <td>0.000000</td>\n      <td>0.000000</td>\n      <td>0.000000</td>\n      <td>0.000000</td>\n      <td>0.0</td>\n      <td>0.000000</td>\n      <td>0.000000</td>\n      <td>0.0</td>\n      <td>0.0</td>\n      <td>0.000</td>\n      <td>0.0</td>\n      <td>0.000000</td>\n      <td>0.000000</td>\n      <td>0.0</td>\n      <td>0.0</td>\n      <td>0.0</td>\n      <td>0.0</td>\n      <td>0.0</td>\n      <td>0.0</td>\n      <td>0.0</td>\n      <td>0.000000</td>\n      <td>0.000000</td>\n      <td>0.000000</td>\n      <td>0.0</td>\n      <td>0.0</td>\n      <td>0.0</td>\n      <td>0.0</td>\n      <td>0.000000</td>\n      <td>0.0</td>\n      <td>0.0</td>\n      <td>0.0</td>\n      <td>0.000000</td>\n      <td>0.0</td>\n      <td>0.000000</td>\n      <td>0.0</td>\n      <td>0.0</td>\n      <td>0.0</td>\n      <td>0.0</td>\n      <td>0.000000</td>\n      <td>0.000000</td>\n      <td>0.000000</td>\n      <td>0.000000</td>\n      <td>0.0000</td>\n      <td>0.0625</td>\n      <td>0.0</td>\n      <td>0.0</td>\n      <td>0.000000</td>\n      <td>0.0</td>\n      <td>0.000000</td>\n      <td>0.0</td>\n      <td>0.000000</td>\n      <td>0.000000</td>\n      <td>0.0</td>\n      <td>0.0625</td>\n      <td>0.000000</td>\n      <td>0.0</td>\n      <td>0.0</td>\n      <td>0.000000</td>\n      <td>0.0</td>\n      <td>0.000000</td>\n      <td>0.0</td>\n      <td>0.0</td>\n      <td>0.0625</td>\n      <td>0.000000</td>\n      <td>0.0</td>\n      <td>0.0</td>\n      <td>0.000000</td>\n      <td>0.0000</td>\n      <td>0.0</td>\n      <td>0.0000</td>\n      <td>0.0</td>\n      <td>0.0</td>\n      <td>0.0</td>\n      <td>0.000000</td>\n      <td>0.0</td>\n      <td>0.000000</td>\n      <td>0.0</td>\n      <td>0.000000</td>\n      <td>0.0</td>\n      <td>0.000000</td>\n      <td>0.0</td>\n      <td>0.0</td>\n      <td>0.000000</td>\n      <td>0.0</td>\n      <td>0.0</td>\n      <td>0.000000</td>\n      <td>0.0</td>\n      <td>0.0</td>\n      <td>0.0</td>\n      <td>0.0</td>\n      <td>0.000000</td>\n      <td>0.0</td>\n      <td>0.0</td>\n      <td>0.0</td>\n      <td>0.0</td>\n      <td>0.0</td>\n      <td>0.0</td>\n      <td>0.000000</td>\n      <td>0.0</td>\n      <td>0.0</td>\n      <td>0.000000</td>\n      <td>0.000000</td>\n    </tr>\n    <tr>\n      <th>4</th>\n      <td>Central Bay Street</td>\n      <td>0.0</td>\n      <td>0.0000</td>\n      <td>0.0000</td>\n      <td>0.0000</td>\n      <td>0.000</td>\n      <td>0.0000</td>\n      <td>0.000</td>\n      <td>0.0</td>\n      <td>0.0</td>\n      <td>0.0</td>\n      <td>0.000000</td>\n      <td>0.015873</td>\n      <td>0.0</td>\n      <td>0.0</td>\n      <td>0.0</td>\n      <td>0.0000</td>\n      <td>0.0</td>\n      <td>0.0</td>\n      <td>0.000000</td>\n      <td>0.000000</td>\n      <td>0.015873</td>\n      <td>0.000000</td>\n      <td>0.0</td>\n      <td>0.000000</td>\n      <td>0.000000</td>\n      <td>0.0</td>\n      <td>0.000000</td>\n      <td>0.0</td>\n      <td>0.0</td>\n      <td>0.000000</td>\n      <td>0.0000</td>\n      <td>0.015873</td>\n      <td>0.0000</td>\n      <td>0.0</td>\n      <td>0.000000</td>\n      <td>0.0000</td>\n      <td>0.031746</td>\n      <td>0.0</td>\n      <td>0.031746</td>\n      <td>0.000000</td>\n      <td>0.0</td>\n      <td>0.0</td>\n      <td>0.047619</td>\n      <td>0.0</td>\n      <td>0.0</td>\n      <td>0.0</td>\n      <td>0.000000</td>\n      <td>0.015873</td>\n      <td>0.0</td>\n      <td>0.0</td>\n      <td>0.000000</td>\n      <td>0.000000</td>\n      <td>0.00</td>\n      <td>0.174603</td>\n      <td>0.0</td>\n      <td>0.0</td>\n      <td>0.0</td>\n      <td>0.0</td>\n      <td>0.0</td>\n      <td>0.0</td>\n      <td>0.000000</td>\n      <td>0.015873</td>\n      <td>0.000000</td>\n      <td>0.000000</td>\n      <td>0.0</td>\n      <td>0.0</td>\n      <td>0.000000</td>\n      <td>0.0</td>\n      <td>0.0</td>\n      <td>0.0</td>\n      <td>0.0</td>\n      <td>0.015873</td>\n      <td>0.0</td>\n      <td>0.015873</td>\n      <td>0.015873</td>\n      <td>0.0</td>\n      <td>0.0</td>\n      <td>0.0</td>\n      <td>0.015873</td>\n      <td>0.0</td>\n      <td>0.000000</td>\n      <td>0.0</td>\n      <td>0.0</td>\n      <td>0.0</td>\n      <td>0.0</td>\n      <td>0.015873</td>\n      <td>0.000000</td>\n      <td>0.0000</td>\n      <td>0.0</td>\n      <td>0.0</td>\n      <td>0.000000</td>\n      <td>0.0</td>\n      <td>0.0</td>\n      <td>0.0</td>\n      <td>0.0</td>\n      <td>0.0</td>\n      <td>0.000000</td>\n      <td>0.015873</td>\n      <td>0.015873</td>\n      <td>0.0</td>\n      <td>0.0</td>\n      <td>0.015873</td>\n      <td>0.0</td>\n      <td>0.0000</td>\n      <td>0.0000</td>\n      <td>0.0</td>\n      <td>0.015873</td>\n      <td>0.0</td>\n      <td>0.0</td>\n      <td>0.0</td>\n      <td>0.0</td>\n      <td>0.0</td>\n      <td>0.0</td>\n      <td>0.000000</td>\n      <td>0.000000</td>\n      <td>0.000000</td>\n      <td>0.000000</td>\n      <td>0.015873</td>\n      <td>0.0000</td>\n      <td>0.0</td>\n      <td>0.0</td>\n      <td>0.0</td>\n      <td>0.0</td>\n      <td>0.0</td>\n      <td>0.0</td>\n      <td>0.0</td>\n      <td>0.0</td>\n      <td>0.000000</td>\n      <td>0.0</td>\n      <td>0.0</td>\n      <td>0.015873</td>\n      <td>0.015873</td>\n      <td>0.0</td>\n      <td>0.0</td>\n      <td>0.000000</td>\n      <td>0.000000</td>\n      <td>0.047619</td>\n      <td>0.031746</td>\n      <td>0.000000</td>\n      <td>0.0</td>\n      <td>0.015873</td>\n      <td>0.015873</td>\n      <td>0.0</td>\n      <td>0.0</td>\n      <td>0.000</td>\n      <td>0.0</td>\n      <td>0.000000</td>\n      <td>0.000000</td>\n      <td>0.0</td>\n      <td>0.0</td>\n      <td>0.0</td>\n      <td>0.0</td>\n      <td>0.0</td>\n      <td>0.0</td>\n      <td>0.0</td>\n      <td>0.015873</td>\n      <td>0.015873</td>\n      <td>0.015873</td>\n      <td>0.0</td>\n      <td>0.0</td>\n      <td>0.0</td>\n      <td>0.0</td>\n      <td>0.000000</td>\n      <td>0.0</td>\n      <td>0.0</td>\n      <td>0.0</td>\n      <td>0.000000</td>\n      <td>0.0</td>\n      <td>0.015873</td>\n      <td>0.0</td>\n      <td>0.0</td>\n      <td>0.0</td>\n      <td>0.0</td>\n      <td>0.015873</td>\n      <td>0.000000</td>\n      <td>0.000000</td>\n      <td>0.000000</td>\n      <td>0.0000</td>\n      <td>0.0000</td>\n      <td>0.0</td>\n      <td>0.0</td>\n      <td>0.015873</td>\n      <td>0.0</td>\n      <td>0.015873</td>\n      <td>0.0</td>\n      <td>0.000000</td>\n      <td>0.015873</td>\n      <td>0.0</td>\n      <td>0.0000</td>\n      <td>0.015873</td>\n      <td>0.0</td>\n      <td>0.0</td>\n      <td>0.031746</td>\n      <td>0.0</td>\n      <td>0.047619</td>\n      <td>0.0</td>\n      <td>0.0</td>\n      <td>0.0000</td>\n      <td>0.000000</td>\n      <td>0.0</td>\n      <td>0.0</td>\n      <td>0.000000</td>\n      <td>0.0000</td>\n      <td>0.0</td>\n      <td>0.0000</td>\n      <td>0.0</td>\n      <td>0.0</td>\n      <td>0.0</td>\n      <td>0.015873</td>\n      <td>0.0</td>\n      <td>0.000000</td>\n      <td>0.0</td>\n      <td>0.000000</td>\n      <td>0.0</td>\n      <td>0.000000</td>\n      <td>0.0</td>\n      <td>0.0</td>\n      <td>0.015873</td>\n      <td>0.0</td>\n      <td>0.0</td>\n      <td>0.000000</td>\n      <td>0.0</td>\n      <td>0.0</td>\n      <td>0.0</td>\n      <td>0.0</td>\n      <td>0.031746</td>\n      <td>0.0</td>\n      <td>0.0</td>\n      <td>0.0</td>\n      <td>0.0</td>\n      <td>0.0</td>\n      <td>0.0</td>\n      <td>0.015873</td>\n      <td>0.0</td>\n      <td>0.0</td>\n      <td>0.015873</td>\n      <td>0.015873</td>\n    </tr>\n  </tbody>\n</table>\n</div>"
     },
     "metadata": {},
     "execution_count": 109
    }
   ],
   "source": [
    "toronto_grouped.head()"
   ]
  },
  {
   "source": [
    "## Finally, finding least competitive Neighbourhood"
   ],
   "cell_type": "markdown",
   "metadata": {}
  },
  {
   "source": [
    "For example if you want to open a coffee shop you can consider following neighbourhoods, because these neighbourhoods don't have any coffee shop."
   ],
   "cell_type": "markdown",
   "metadata": {}
  },
  {
   "cell_type": "code",
   "execution_count": 110,
   "metadata": {},
   "outputs": [
    {
     "output_type": "execute_result",
     "data": {
      "text/plain": [
       "['Business reply mail Processing Centre, South Central Letter Processing Plant Toronto',\n",
       " 'Davisville North',\n",
       " 'Dufferin, Dovercourt Village',\n",
       " 'Forest Hill North & West, Forest Hill Road Park',\n",
       " 'High Park, The Junction South',\n",
       " 'Lawrence Park',\n",
       " 'Moore Park, Summerhill East',\n",
       " 'Rosedale',\n",
       " 'Roselawn',\n",
       " 'Runnymede, The Junction, Weston-Pellam Park, Carlton Village',\n",
       " 'The Beaches',\n",
       " 'University of Toronto, Harbord']"
      ]
     },
     "metadata": {},
     "execution_count": 110
    }
   ],
   "source": [
    "temp = toronto_grouped[toronto_grouped['Coffee Shop'] == 0.0]\n",
    "temp['Neighbourhood'].tolist()"
   ]
  },
  {
   "source": [
    "### Now showing less competitive neighbourhoods for each venue type"
   ],
   "cell_type": "markdown",
   "metadata": {}
  },
  {
   "cell_type": "code",
   "execution_count": 111,
   "metadata": {},
   "outputs": [
    {
     "output_type": "stream",
     "name": "stdout",
     "text": [
      "----Coffee Shop----\n2     Business reply mail Processing Centre, South C...\n9                                      Davisville North\n10                         Dufferin, Dovercourt Village\n12      Forest Hill North & West, Forest Hill Road Park\n15                        High Park, The Junction South\n18                                        Lawrence Park\n20                          Moore Park, Summerhill East\n26                                             Rosedale\n27                                             Roselawn\n29    Runnymede, The Junction, Weston-Pellam Park, C...\n36                                          The Beaches\n39                       University of Toronto, Harbord\nName: Neighbourhood, dtype: object\n----Café----\n2     Business reply mail Processing Centre, South C...\n3     CN Tower, King and Spadina, Railway Lands, Har...\n9                                      Davisville North\n12      Forest Hill North & West, Forest Hill Road Park\n16                       India Bazaar, The Beaches West\n18                                        Lawrence Park\n20                          Moore Park, Summerhill East\n22                               Parkdale, Roncesvalles\n26                                             Rosedale\n27                                             Roselawn\n29    Runnymede, The Junction, Weston-Pellam Park, C...\n34    Summerhill West, Rathnelly, South Hill, Forest...\n36                                          The Beaches\nName: Neighbourhood, dtype: object\n----Restaurant----\n3     CN Tower, King and Spadina, Railway Lands, Har...\n9                                      Davisville North\n10                         Dufferin, Dovercourt Village\n12      Forest Hill North & West, Forest Hill Road Park\n15                        High Park, The Junction South\n17            Kensington Market, Chinatown, Grange Park\n18                                        Lawrence Park\n23          Queen's Park, Ontario Provincial Government\n26                                             Rosedale\n27                                             Roselawn\n29    Runnymede, The Junction, Weston-Pellam Park, C...\n33                                      Studio District\n35                  The Annex, North Midtown, Yorkville\n36                                          The Beaches\nName: Neighbourhood, dtype: object\n----Italian Restaurant----\n0                                           Berczy Park\n2     Business reply mail Processing Centre, South C...\n3     CN Tower, King and Spadina, Railway Lands, Har...\n9                                      Davisville North\n10                         Dufferin, Dovercourt Village\n12      Forest Hill North & West, Forest Hill Road Park\n17            Kensington Market, Chinatown, Grange Park\n18                                        Lawrence Park\n20                          Moore Park, Summerhill East\n21                    North Toronto West, Lawrence Park\n24                            Regent Park, Harbourfront\n25                             Richmond, Adelaide, King\n26                                             Rosedale\n27                                             Roselawn\n29    Runnymede, The Junction, Weston-Pellam Park, C...\n34    Summerhill West, Rathnelly, South Hill, Forest...\n35                  The Annex, North Midtown, Yorkville\n36                                          The Beaches\nName: Neighbourhood, dtype: object\n----Park----\n1          Brockton, Parkdale Village, Exhibition Place\n3     CN Tower, King and Spadina, Railway Lands, Har...\n11               First Canadian Place, Underground city\n22                               Parkdale, Roncesvalles\n27                                             Roselawn\n28                                   Runnymede, Swansea\n29    Runnymede, The Junction, Weston-Pellam Park, C...\n34    Summerhill West, Rathnelly, South Hill, Forest...\n36                                          The Beaches\n37                         The Danforth West, Riverdale\n38             Toronto Dominion Centre, Design Exchange\n39                       University of Toronto, Harbord\nName: Neighbourhood, dtype: object\n----Bakery----\n2     Business reply mail Processing Centre, South C...\n3     CN Tower, King and Spadina, Railway Lands, Har...\n4                                    Central Bay Street\n5                                              Christie\n6                                  Church and Wellesley\n8                                            Davisville\n9                                      Davisville North\n12      Forest Hill North & West, Forest Hill Road Park\n16                       India Bazaar, The Beaches West\n18                                        Lawrence Park\n20                          Moore Park, Summerhill East\n21                    North Toronto West, Lawrence Park\n22                               Parkdale, Roncesvalles\n23          Queen's Park, Ontario Provincial Government\n26                                             Rosedale\n27                                             Roselawn\n28                                   Runnymede, Swansea\n29    Runnymede, The Junction, Weston-Pellam Park, C...\n34    Summerhill West, Rathnelly, South Hill, Forest...\n35                  The Annex, North Midtown, Yorkville\n36                                          The Beaches\nName: Neighbourhood, dtype: object\n----Hotel----\n1          Brockton, Parkdale Village, Exhibition Place\n2     Business reply mail Processing Centre, South C...\n3     CN Tower, King and Spadina, Railway Lands, Har...\n4                                    Central Bay Street\n5                                              Christie\n8                                            Davisville\n10                         Dufferin, Dovercourt Village\n12      Forest Hill North & West, Forest Hill Road Park\n15                        High Park, The Junction South\n16                       India Bazaar, The Beaches West\n17            Kensington Market, Chinatown, Grange Park\n18                                        Lawrence Park\n19                             Little Portugal, Trinity\n20                          Moore Park, Summerhill East\n21                    North Toronto West, Lawrence Park\n22                               Parkdale, Roncesvalles\n23          Queen's Park, Ontario Provincial Government\n24                            Regent Park, Harbourfront\n26                                             Rosedale\n27                                             Roselawn\n28                                   Runnymede, Swansea\n29    Runnymede, The Junction, Weston-Pellam Park, C...\n31                          St. James Town, Cabbagetown\n33                                      Studio District\n34    Summerhill West, Rathnelly, South Hill, Forest...\n35                  The Annex, North Midtown, Yorkville\n36                                          The Beaches\n37                         The Danforth West, Riverdale\n39                       University of Toronto, Harbord\nName: Neighbourhood, dtype: object\n----Japanese Restaurant----\n1          Brockton, Parkdale Village, Exhibition Place\n2     Business reply mail Processing Centre, South C...\n3     CN Tower, King and Spadina, Railway Lands, Har...\n5                                              Christie\n8                                            Davisville\n9                                      Davisville North\n10                         Dufferin, Dovercourt Village\n12      Forest Hill North & West, Forest Hill Road Park\n15                        High Park, The Junction South\n16                       India Bazaar, The Beaches West\n18                                        Lawrence Park\n20                          Moore Park, Summerhill East\n21                    North Toronto West, Lawrence Park\n22                               Parkdale, Roncesvalles\n24                            Regent Park, Harbourfront\n26                                             Rosedale\n27                                             Roselawn\n28                                   Runnymede, Swansea\n29    Runnymede, The Junction, Weston-Pellam Park, C...\n33                                      Studio District\n34    Summerhill West, Rathnelly, South Hill, Forest...\n35                  The Annex, North Midtown, Yorkville\n36                                          The Beaches\n37                         The Danforth West, Riverdale\nName: Neighbourhood, dtype: object\n----Pizza Place----\n0                                           Berczy Park\n1          Brockton, Parkdale Village, Exhibition Place\n3     CN Tower, King and Spadina, Railway Lands, Har...\n4                                    Central Bay Street\n5                                              Christie\n9                                      Davisville North\n10                         Dufferin, Dovercourt Village\n12      Forest Hill North & West, Forest Hill Road Park\n15                        High Park, The Junction South\n18                                        Lawrence Park\n20                          Moore Park, Summerhill East\n21                    North Toronto West, Lawrence Park\n22                               Parkdale, Roncesvalles\n23          Queen's Park, Ontario Provincial Government\n24                            Regent Park, Harbourfront\n26                                             Rosedale\n27                                             Roselawn\n29    Runnymede, The Junction, Weston-Pellam Park, C...\n30                                       St. James Town\n32                                       Stn A PO Boxes\n36                                          The Beaches\n38             Toronto Dominion Centre, Design Exchange\n39                       University of Toronto, Harbord\nName: Neighbourhood, dtype: object\n----Gym----\n0                                           Berczy Park\n2     Business reply mail Processing Centre, South C...\n3     CN Tower, King and Spadina, Railway Lands, Har...\n4                                    Central Bay Street\n5                                              Christie\n6                                  Church and Wellesley\n9                                      Davisville North\n10                         Dufferin, Dovercourt Village\n12      Forest Hill North & West, Forest Hill Road Park\n15                        High Park, The Junction South\n17            Kensington Market, Chinatown, Grange Park\n18                                        Lawrence Park\n19                             Little Portugal, Trinity\n21                    North Toronto West, Lawrence Park\n22                               Parkdale, Roncesvalles\n24                            Regent Park, Harbourfront\n26                                             Rosedale\n27                                             Roselawn\n29    Runnymede, The Junction, Weston-Pellam Park, C...\n31                          St. James Town, Cabbagetown\n33                                      Studio District\n34    Summerhill West, Rathnelly, South Hill, Forest...\n35                  The Annex, North Midtown, Yorkville\n36                                          The Beaches\n37                         The Danforth West, Riverdale\n39                       University of Toronto, Harbord\nName: Neighbourhood, dtype: object\n"
     ]
    }
   ],
   "source": [
    "for venue in top10Venues:\n",
    "    print(\"----\" + venue + \"----\")\n",
    "    temp = toronto_grouped[toronto_grouped[venue] == 0.0]\n",
    "    print(temp['Neighbourhood'])"
   ]
  },
  {
   "source": [
    "### Finding less competitive neighbourhoods overall."
   ],
   "cell_type": "markdown",
   "metadata": {}
  },
  {
   "source": [
    "First, filtering out other Venue types and only keeping top 10 types"
   ],
   "cell_type": "markdown",
   "metadata": {}
  },
  {
   "cell_type": "code",
   "execution_count": 112,
   "metadata": {},
   "outputs": [
    {
     "output_type": "execute_result",
     "data": {
      "text/plain": [
       "                                       Neighbourhood    Bakery      Café  \\\n",
       "0                                        Berczy Park  0.050000  0.016667   \n",
       "1       Brockton, Parkdale Village, Exhibition Place  0.086957  0.130435   \n",
       "2  Business reply mail Processing Centre, South C...  0.000000  0.000000   \n",
       "3  CN Tower, King and Spadina, Railway Lands, Har...  0.000000  0.000000   \n",
       "4                                 Central Bay Street  0.000000  0.047619   \n",
       "\n",
       "   Coffee Shop       Gym     Hotel  Italian Restaurant  Japanese Restaurant  \\\n",
       "0     0.083333  0.000000  0.016667            0.000000             0.016667   \n",
       "1     0.086957  0.043478  0.000000            0.043478             0.000000   \n",
       "2     0.000000  0.000000  0.000000            0.000000             0.000000   \n",
       "3     0.062500  0.000000  0.000000            0.000000             0.000000   \n",
       "4     0.174603  0.000000  0.000000            0.047619             0.031746   \n",
       "\n",
       "       Park  Pizza Place  Restaurant  \n",
       "0  0.016667       0.0000    0.033333  \n",
       "1  0.000000       0.0000    0.043478  \n",
       "2  0.062500       0.0625    0.062500  \n",
       "3  0.000000       0.0000    0.000000  \n",
       "4  0.015873       0.0000    0.015873  "
      ],
      "text/html": "<div>\n<style scoped>\n    .dataframe tbody tr th:only-of-type {\n        vertical-align: middle;\n    }\n\n    .dataframe tbody tr th {\n        vertical-align: top;\n    }\n\n    .dataframe thead th {\n        text-align: right;\n    }\n</style>\n<table border=\"1\" class=\"dataframe\">\n  <thead>\n    <tr style=\"text-align: right;\">\n      <th></th>\n      <th>Neighbourhood</th>\n      <th>Bakery</th>\n      <th>Café</th>\n      <th>Coffee Shop</th>\n      <th>Gym</th>\n      <th>Hotel</th>\n      <th>Italian Restaurant</th>\n      <th>Japanese Restaurant</th>\n      <th>Park</th>\n      <th>Pizza Place</th>\n      <th>Restaurant</th>\n    </tr>\n  </thead>\n  <tbody>\n    <tr>\n      <th>0</th>\n      <td>Berczy Park</td>\n      <td>0.050000</td>\n      <td>0.016667</td>\n      <td>0.083333</td>\n      <td>0.000000</td>\n      <td>0.016667</td>\n      <td>0.000000</td>\n      <td>0.016667</td>\n      <td>0.016667</td>\n      <td>0.0000</td>\n      <td>0.033333</td>\n    </tr>\n    <tr>\n      <th>1</th>\n      <td>Brockton, Parkdale Village, Exhibition Place</td>\n      <td>0.086957</td>\n      <td>0.130435</td>\n      <td>0.086957</td>\n      <td>0.043478</td>\n      <td>0.000000</td>\n      <td>0.043478</td>\n      <td>0.000000</td>\n      <td>0.000000</td>\n      <td>0.0000</td>\n      <td>0.043478</td>\n    </tr>\n    <tr>\n      <th>2</th>\n      <td>Business reply mail Processing Centre, South C...</td>\n      <td>0.000000</td>\n      <td>0.000000</td>\n      <td>0.000000</td>\n      <td>0.000000</td>\n      <td>0.000000</td>\n      <td>0.000000</td>\n      <td>0.000000</td>\n      <td>0.062500</td>\n      <td>0.0625</td>\n      <td>0.062500</td>\n    </tr>\n    <tr>\n      <th>3</th>\n      <td>CN Tower, King and Spadina, Railway Lands, Har...</td>\n      <td>0.000000</td>\n      <td>0.000000</td>\n      <td>0.062500</td>\n      <td>0.000000</td>\n      <td>0.000000</td>\n      <td>0.000000</td>\n      <td>0.000000</td>\n      <td>0.000000</td>\n      <td>0.0000</td>\n      <td>0.000000</td>\n    </tr>\n    <tr>\n      <th>4</th>\n      <td>Central Bay Street</td>\n      <td>0.000000</td>\n      <td>0.047619</td>\n      <td>0.174603</td>\n      <td>0.000000</td>\n      <td>0.000000</td>\n      <td>0.047619</td>\n      <td>0.031746</td>\n      <td>0.015873</td>\n      <td>0.0000</td>\n      <td>0.015873</td>\n    </tr>\n  </tbody>\n</table>\n</div>"
     },
     "metadata": {},
     "execution_count": 112
    }
   ],
   "source": [
    "top10Venues.append('Neighbourhood')\n",
    "toronto_grouped.drop(toronto_grouped.columns.difference(top10Venues), 1, inplace=True)\n",
    "top10Venues.remove('Neighbourhood')\n",
    "toronto_grouped.head()"
   ]
  },
  {
   "source": [
    "Then, caluclate the mean of each neighbourhood."
   ],
   "cell_type": "markdown",
   "metadata": {}
  },
  {
   "cell_type": "code",
   "execution_count": 113,
   "metadata": {},
   "outputs": [
    {
     "output_type": "execute_result",
     "data": {
      "text/plain": [
       "                                        Neighbourhood    Bakery      Café  \\\n",
       "0                                         Berczy Park  0.050000  0.016667   \n",
       "1        Brockton, Parkdale Village, Exhibition Place  0.086957  0.130435   \n",
       "2   Business reply mail Processing Centre, South C...  0.000000  0.000000   \n",
       "3   CN Tower, King and Spadina, Railway Lands, Har...  0.000000  0.000000   \n",
       "4                                  Central Bay Street  0.000000  0.047619   \n",
       "5                                            Christie  0.000000  0.187500   \n",
       "6                                Church and Wellesley  0.000000  0.027778   \n",
       "7                      Commerce Court, Victoria Hotel  0.020000  0.060000   \n",
       "8                                          Davisville  0.000000  0.057143   \n",
       "9                                    Davisville North  0.000000  0.000000   \n",
       "10                       Dufferin, Dovercourt Village  0.142857  0.071429   \n",
       "11             First Canadian Place, Underground city  0.020000  0.070000   \n",
       "12    Forest Hill North & West, Forest Hill Road Park  0.000000  0.000000   \n",
       "13                           Garden District, Ryerson  0.010000  0.030000   \n",
       "14  Harbourfront East, Union Station, Toronto Islands  0.020000  0.040000   \n",
       "15                      High Park, The Junction South  0.041667  0.083333   \n",
       "16                     India Bazaar, The Beaches West  0.000000  0.000000   \n",
       "17          Kensington Market, Chinatown, Grange Park  0.015873  0.079365   \n",
       "18                                      Lawrence Park  0.000000  0.000000   \n",
       "19                           Little Portugal, Trinity  0.022727  0.045455   \n",
       "20                        Moore Park, Summerhill East  0.000000  0.000000   \n",
       "21                  North Toronto West, Lawrence Park  0.000000  0.052632   \n",
       "22                             Parkdale, Roncesvalles  0.000000  0.000000   \n",
       "23        Queen's Park, Ontario Provincial Government  0.000000  0.032258   \n",
       "24                          Regent Park, Harbourfront  0.066667  0.044444   \n",
       "25                           Richmond, Adelaide, King  0.021277  0.053191   \n",
       "26                                           Rosedale  0.000000  0.000000   \n",
       "27                                           Roselawn  0.000000  0.000000   \n",
       "28                                 Runnymede, Swansea  0.000000  0.085714   \n",
       "29  Runnymede, The Junction, Weston-Pellam Park, C...  0.000000  0.000000   \n",
       "30                                     St. James Town  0.012500  0.062500   \n",
       "31                        St. James Town, Cabbagetown  0.044444  0.044444   \n",
       "32                                     Stn A PO Boxes  0.030000  0.030000   \n",
       "33                                    Studio District  0.054054  0.054054   \n",
       "34  Summerhill West, Rathnelly, South Hill, Forest...  0.000000  0.000000   \n",
       "35                The Annex, North Midtown, Yorkville  0.000000  0.142857   \n",
       "36                                        The Beaches  0.000000  0.000000   \n",
       "37                       The Danforth West, Riverdale  0.023256  0.023256   \n",
       "38           Toronto Dominion Centre, Design Exchange  0.020000  0.060000   \n",
       "39                     University of Toronto, Harbord  0.062500  0.156250   \n",
       "\n",
       "    Coffee Shop       Gym     Hotel  Italian Restaurant  Japanese Restaurant  \\\n",
       "0      0.083333  0.000000  0.016667            0.000000             0.016667   \n",
       "1      0.086957  0.043478  0.000000            0.043478             0.000000   \n",
       "2      0.000000  0.000000  0.000000            0.000000             0.000000   \n",
       "3      0.062500  0.000000  0.000000            0.000000             0.000000   \n",
       "4      0.174603  0.000000  0.000000            0.047619             0.031746   \n",
       "5      0.062500  0.000000  0.000000            0.062500             0.000000   \n",
       "6      0.083333  0.000000  0.027778            0.013889             0.069444   \n",
       "7      0.120000  0.040000  0.050000            0.040000             0.030000   \n",
       "8      0.057143  0.057143  0.000000            0.057143             0.000000   \n",
       "9      0.000000  0.000000  0.142857            0.000000             0.000000   \n",
       "10     0.000000  0.000000  0.000000            0.000000             0.000000   \n",
       "11     0.100000  0.040000  0.050000            0.010000             0.040000   \n",
       "12     0.000000  0.000000  0.000000            0.000000             0.000000   \n",
       "13     0.080000  0.010000  0.020000            0.020000             0.030000   \n",
       "14     0.120000  0.010000  0.040000            0.030000             0.010000   \n",
       "15     0.000000  0.000000  0.000000            0.041667             0.000000   \n",
       "16     0.050000  0.050000  0.000000            0.050000             0.000000   \n",
       "17     0.063492  0.000000  0.000000            0.000000             0.015873   \n",
       "18     0.000000  0.000000  0.000000            0.000000             0.000000   \n",
       "19     0.045455  0.000000  0.000000            0.022727             0.022727   \n",
       "20     0.000000  0.250000  0.000000            0.000000             0.000000   \n",
       "21     0.105263  0.000000  0.000000            0.000000             0.000000   \n",
       "22     0.066667  0.000000  0.000000            0.066667             0.000000   \n",
       "23     0.193548  0.032258  0.000000            0.032258             0.032258   \n",
       "24     0.177778  0.000000  0.000000            0.000000             0.000000   \n",
       "25     0.106383  0.031915  0.031915            0.000000             0.010638   \n",
       "26     0.000000  0.000000  0.000000            0.000000             0.000000   \n",
       "27     0.000000  0.000000  0.000000            0.000000             0.000000   \n",
       "28     0.085714  0.028571  0.000000            0.057143             0.000000   \n",
       "29     0.000000  0.000000  0.000000            0.000000             0.000000   \n",
       "30     0.062500  0.025000  0.025000            0.025000             0.012500   \n",
       "31     0.088889  0.000000  0.000000            0.044444             0.022222   \n",
       "32     0.120000  0.020000  0.020000            0.030000             0.030000   \n",
       "33     0.081081  0.000000  0.000000            0.027027             0.000000   \n",
       "34     0.142857  0.000000  0.000000            0.000000             0.000000   \n",
       "35     0.095238  0.000000  0.000000            0.000000             0.000000   \n",
       "36     0.000000  0.000000  0.000000            0.000000             0.000000   \n",
       "37     0.093023  0.000000  0.000000            0.069767             0.000000   \n",
       "38     0.120000  0.010000  0.070000            0.030000             0.030000   \n",
       "39     0.000000  0.000000  0.000000            0.062500             0.062500   \n",
       "\n",
       "        Park  Pizza Place  Restaurant      mean  \n",
       "0   0.016667     0.000000    0.033333  0.023333  \n",
       "1   0.000000     0.000000    0.043478  0.043478  \n",
       "2   0.062500     0.062500    0.062500  0.018750  \n",
       "3   0.000000     0.000000    0.000000  0.006250  \n",
       "4   0.015873     0.000000    0.015873  0.033333  \n",
       "5   0.125000     0.000000    0.062500  0.050000  \n",
       "6   0.013889     0.013889    0.041667  0.029167  \n",
       "7   0.010000     0.010000    0.070000  0.045000  \n",
       "8   0.028571     0.114286    0.028571  0.040000  \n",
       "9   0.142857     0.000000    0.000000  0.028571  \n",
       "10  0.071429     0.000000    0.000000  0.028571  \n",
       "11  0.000000     0.020000    0.040000  0.039000  \n",
       "12  0.250000     0.000000    0.000000  0.025000  \n",
       "13  0.010000     0.020000    0.010000  0.024000  \n",
       "14  0.020000     0.020000    0.030000  0.034000  \n",
       "15  0.041667     0.000000    0.000000  0.020833  \n",
       "16  0.100000     0.050000    0.050000  0.035000  \n",
       "17  0.031746     0.015873    0.000000  0.022222  \n",
       "18  0.333333     0.000000    0.000000  0.033333  \n",
       "19  0.022727     0.022727    0.045455  0.025000  \n",
       "20  0.250000     0.000000    0.250000  0.075000  \n",
       "21  0.052632     0.000000    0.052632  0.026316  \n",
       "22  0.000000     0.000000    0.066667  0.020000  \n",
       "23  0.032258     0.000000    0.000000  0.035484  \n",
       "24  0.066667     0.000000    0.022222  0.037778  \n",
       "25  0.010638     0.021277    0.042553  0.032979  \n",
       "26  0.500000     0.000000    0.000000  0.050000  \n",
       "27  0.000000     0.000000    0.000000  0.000000  \n",
       "28  0.000000     0.057143    0.028571  0.034286  \n",
       "29  0.000000     0.000000    0.000000  0.000000  \n",
       "30  0.025000     0.000000    0.037500  0.028750  \n",
       "31  0.022222     0.044444    0.044444  0.035556  \n",
       "32  0.020000     0.000000    0.030000  0.033000  \n",
       "33  0.027027     0.027027    0.000000  0.027027  \n",
       "34  0.000000     0.071429    0.071429  0.028571  \n",
       "35  0.047619     0.047619    0.000000  0.033333  \n",
       "36  0.000000     0.000000    0.000000  0.000000  \n",
       "37  0.000000     0.023256    0.046512  0.027907  \n",
       "38  0.000000     0.000000    0.040000  0.038000  \n",
       "39  0.000000     0.000000    0.031250  0.037500  "
      ],
      "text/html": "<div>\n<style scoped>\n    .dataframe tbody tr th:only-of-type {\n        vertical-align: middle;\n    }\n\n    .dataframe tbody tr th {\n        vertical-align: top;\n    }\n\n    .dataframe thead th {\n        text-align: right;\n    }\n</style>\n<table border=\"1\" class=\"dataframe\">\n  <thead>\n    <tr style=\"text-align: right;\">\n      <th></th>\n      <th>Neighbourhood</th>\n      <th>Bakery</th>\n      <th>Café</th>\n      <th>Coffee Shop</th>\n      <th>Gym</th>\n      <th>Hotel</th>\n      <th>Italian Restaurant</th>\n      <th>Japanese Restaurant</th>\n      <th>Park</th>\n      <th>Pizza Place</th>\n      <th>Restaurant</th>\n      <th>mean</th>\n    </tr>\n  </thead>\n  <tbody>\n    <tr>\n      <th>0</th>\n      <td>Berczy Park</td>\n      <td>0.050000</td>\n      <td>0.016667</td>\n      <td>0.083333</td>\n      <td>0.000000</td>\n      <td>0.016667</td>\n      <td>0.000000</td>\n      <td>0.016667</td>\n      <td>0.016667</td>\n      <td>0.000000</td>\n      <td>0.033333</td>\n      <td>0.023333</td>\n    </tr>\n    <tr>\n      <th>1</th>\n      <td>Brockton, Parkdale Village, Exhibition Place</td>\n      <td>0.086957</td>\n      <td>0.130435</td>\n      <td>0.086957</td>\n      <td>0.043478</td>\n      <td>0.000000</td>\n      <td>0.043478</td>\n      <td>0.000000</td>\n      <td>0.000000</td>\n      <td>0.000000</td>\n      <td>0.043478</td>\n      <td>0.043478</td>\n    </tr>\n    <tr>\n      <th>2</th>\n      <td>Business reply mail Processing Centre, South C...</td>\n      <td>0.000000</td>\n      <td>0.000000</td>\n      <td>0.000000</td>\n      <td>0.000000</td>\n      <td>0.000000</td>\n      <td>0.000000</td>\n      <td>0.000000</td>\n      <td>0.062500</td>\n      <td>0.062500</td>\n      <td>0.062500</td>\n      <td>0.018750</td>\n    </tr>\n    <tr>\n      <th>3</th>\n      <td>CN Tower, King and Spadina, Railway Lands, Har...</td>\n      <td>0.000000</td>\n      <td>0.000000</td>\n      <td>0.062500</td>\n      <td>0.000000</td>\n      <td>0.000000</td>\n      <td>0.000000</td>\n      <td>0.000000</td>\n      <td>0.000000</td>\n      <td>0.000000</td>\n      <td>0.000000</td>\n      <td>0.006250</td>\n    </tr>\n    <tr>\n      <th>4</th>\n      <td>Central Bay Street</td>\n      <td>0.000000</td>\n      <td>0.047619</td>\n      <td>0.174603</td>\n      <td>0.000000</td>\n      <td>0.000000</td>\n      <td>0.047619</td>\n      <td>0.031746</td>\n      <td>0.015873</td>\n      <td>0.000000</td>\n      <td>0.015873</td>\n      <td>0.033333</td>\n    </tr>\n    <tr>\n      <th>5</th>\n      <td>Christie</td>\n      <td>0.000000</td>\n      <td>0.187500</td>\n      <td>0.062500</td>\n      <td>0.000000</td>\n      <td>0.000000</td>\n      <td>0.062500</td>\n      <td>0.000000</td>\n      <td>0.125000</td>\n      <td>0.000000</td>\n      <td>0.062500</td>\n      <td>0.050000</td>\n    </tr>\n    <tr>\n      <th>6</th>\n      <td>Church and Wellesley</td>\n      <td>0.000000</td>\n      <td>0.027778</td>\n      <td>0.083333</td>\n      <td>0.000000</td>\n      <td>0.027778</td>\n      <td>0.013889</td>\n      <td>0.069444</td>\n      <td>0.013889</td>\n      <td>0.013889</td>\n      <td>0.041667</td>\n      <td>0.029167</td>\n    </tr>\n    <tr>\n      <th>7</th>\n      <td>Commerce Court, Victoria Hotel</td>\n      <td>0.020000</td>\n      <td>0.060000</td>\n      <td>0.120000</td>\n      <td>0.040000</td>\n      <td>0.050000</td>\n      <td>0.040000</td>\n      <td>0.030000</td>\n      <td>0.010000</td>\n      <td>0.010000</td>\n      <td>0.070000</td>\n      <td>0.045000</td>\n    </tr>\n    <tr>\n      <th>8</th>\n      <td>Davisville</td>\n      <td>0.000000</td>\n      <td>0.057143</td>\n      <td>0.057143</td>\n      <td>0.057143</td>\n      <td>0.000000</td>\n      <td>0.057143</td>\n      <td>0.000000</td>\n      <td>0.028571</td>\n      <td>0.114286</td>\n      <td>0.028571</td>\n      <td>0.040000</td>\n    </tr>\n    <tr>\n      <th>9</th>\n      <td>Davisville North</td>\n      <td>0.000000</td>\n      <td>0.000000</td>\n      <td>0.000000</td>\n      <td>0.000000</td>\n      <td>0.142857</td>\n      <td>0.000000</td>\n      <td>0.000000</td>\n      <td>0.142857</td>\n      <td>0.000000</td>\n      <td>0.000000</td>\n      <td>0.028571</td>\n    </tr>\n    <tr>\n      <th>10</th>\n      <td>Dufferin, Dovercourt Village</td>\n      <td>0.142857</td>\n      <td>0.071429</td>\n      <td>0.000000</td>\n      <td>0.000000</td>\n      <td>0.000000</td>\n      <td>0.000000</td>\n      <td>0.000000</td>\n      <td>0.071429</td>\n      <td>0.000000</td>\n      <td>0.000000</td>\n      <td>0.028571</td>\n    </tr>\n    <tr>\n      <th>11</th>\n      <td>First Canadian Place, Underground city</td>\n      <td>0.020000</td>\n      <td>0.070000</td>\n      <td>0.100000</td>\n      <td>0.040000</td>\n      <td>0.050000</td>\n      <td>0.010000</td>\n      <td>0.040000</td>\n      <td>0.000000</td>\n      <td>0.020000</td>\n      <td>0.040000</td>\n      <td>0.039000</td>\n    </tr>\n    <tr>\n      <th>12</th>\n      <td>Forest Hill North &amp; West, Forest Hill Road Park</td>\n      <td>0.000000</td>\n      <td>0.000000</td>\n      <td>0.000000</td>\n      <td>0.000000</td>\n      <td>0.000000</td>\n      <td>0.000000</td>\n      <td>0.000000</td>\n      <td>0.250000</td>\n      <td>0.000000</td>\n      <td>0.000000</td>\n      <td>0.025000</td>\n    </tr>\n    <tr>\n      <th>13</th>\n      <td>Garden District, Ryerson</td>\n      <td>0.010000</td>\n      <td>0.030000</td>\n      <td>0.080000</td>\n      <td>0.010000</td>\n      <td>0.020000</td>\n      <td>0.020000</td>\n      <td>0.030000</td>\n      <td>0.010000</td>\n      <td>0.020000</td>\n      <td>0.010000</td>\n      <td>0.024000</td>\n    </tr>\n    <tr>\n      <th>14</th>\n      <td>Harbourfront East, Union Station, Toronto Islands</td>\n      <td>0.020000</td>\n      <td>0.040000</td>\n      <td>0.120000</td>\n      <td>0.010000</td>\n      <td>0.040000</td>\n      <td>0.030000</td>\n      <td>0.010000</td>\n      <td>0.020000</td>\n      <td>0.020000</td>\n      <td>0.030000</td>\n      <td>0.034000</td>\n    </tr>\n    <tr>\n      <th>15</th>\n      <td>High Park, The Junction South</td>\n      <td>0.041667</td>\n      <td>0.083333</td>\n      <td>0.000000</td>\n      <td>0.000000</td>\n      <td>0.000000</td>\n      <td>0.041667</td>\n      <td>0.000000</td>\n      <td>0.041667</td>\n      <td>0.000000</td>\n      <td>0.000000</td>\n      <td>0.020833</td>\n    </tr>\n    <tr>\n      <th>16</th>\n      <td>India Bazaar, The Beaches West</td>\n      <td>0.000000</td>\n      <td>0.000000</td>\n      <td>0.050000</td>\n      <td>0.050000</td>\n      <td>0.000000</td>\n      <td>0.050000</td>\n      <td>0.000000</td>\n      <td>0.100000</td>\n      <td>0.050000</td>\n      <td>0.050000</td>\n      <td>0.035000</td>\n    </tr>\n    <tr>\n      <th>17</th>\n      <td>Kensington Market, Chinatown, Grange Park</td>\n      <td>0.015873</td>\n      <td>0.079365</td>\n      <td>0.063492</td>\n      <td>0.000000</td>\n      <td>0.000000</td>\n      <td>0.000000</td>\n      <td>0.015873</td>\n      <td>0.031746</td>\n      <td>0.015873</td>\n      <td>0.000000</td>\n      <td>0.022222</td>\n    </tr>\n    <tr>\n      <th>18</th>\n      <td>Lawrence Park</td>\n      <td>0.000000</td>\n      <td>0.000000</td>\n      <td>0.000000</td>\n      <td>0.000000</td>\n      <td>0.000000</td>\n      <td>0.000000</td>\n      <td>0.000000</td>\n      <td>0.333333</td>\n      <td>0.000000</td>\n      <td>0.000000</td>\n      <td>0.033333</td>\n    </tr>\n    <tr>\n      <th>19</th>\n      <td>Little Portugal, Trinity</td>\n      <td>0.022727</td>\n      <td>0.045455</td>\n      <td>0.045455</td>\n      <td>0.000000</td>\n      <td>0.000000</td>\n      <td>0.022727</td>\n      <td>0.022727</td>\n      <td>0.022727</td>\n      <td>0.022727</td>\n      <td>0.045455</td>\n      <td>0.025000</td>\n    </tr>\n    <tr>\n      <th>20</th>\n      <td>Moore Park, Summerhill East</td>\n      <td>0.000000</td>\n      <td>0.000000</td>\n      <td>0.000000</td>\n      <td>0.250000</td>\n      <td>0.000000</td>\n      <td>0.000000</td>\n      <td>0.000000</td>\n      <td>0.250000</td>\n      <td>0.000000</td>\n      <td>0.250000</td>\n      <td>0.075000</td>\n    </tr>\n    <tr>\n      <th>21</th>\n      <td>North Toronto West, Lawrence Park</td>\n      <td>0.000000</td>\n      <td>0.052632</td>\n      <td>0.105263</td>\n      <td>0.000000</td>\n      <td>0.000000</td>\n      <td>0.000000</td>\n      <td>0.000000</td>\n      <td>0.052632</td>\n      <td>0.000000</td>\n      <td>0.052632</td>\n      <td>0.026316</td>\n    </tr>\n    <tr>\n      <th>22</th>\n      <td>Parkdale, Roncesvalles</td>\n      <td>0.000000</td>\n      <td>0.000000</td>\n      <td>0.066667</td>\n      <td>0.000000</td>\n      <td>0.000000</td>\n      <td>0.066667</td>\n      <td>0.000000</td>\n      <td>0.000000</td>\n      <td>0.000000</td>\n      <td>0.066667</td>\n      <td>0.020000</td>\n    </tr>\n    <tr>\n      <th>23</th>\n      <td>Queen's Park, Ontario Provincial Government</td>\n      <td>0.000000</td>\n      <td>0.032258</td>\n      <td>0.193548</td>\n      <td>0.032258</td>\n      <td>0.000000</td>\n      <td>0.032258</td>\n      <td>0.032258</td>\n      <td>0.032258</td>\n      <td>0.000000</td>\n      <td>0.000000</td>\n      <td>0.035484</td>\n    </tr>\n    <tr>\n      <th>24</th>\n      <td>Regent Park, Harbourfront</td>\n      <td>0.066667</td>\n      <td>0.044444</td>\n      <td>0.177778</td>\n      <td>0.000000</td>\n      <td>0.000000</td>\n      <td>0.000000</td>\n      <td>0.000000</td>\n      <td>0.066667</td>\n      <td>0.000000</td>\n      <td>0.022222</td>\n      <td>0.037778</td>\n    </tr>\n    <tr>\n      <th>25</th>\n      <td>Richmond, Adelaide, King</td>\n      <td>0.021277</td>\n      <td>0.053191</td>\n      <td>0.106383</td>\n      <td>0.031915</td>\n      <td>0.031915</td>\n      <td>0.000000</td>\n      <td>0.010638</td>\n      <td>0.010638</td>\n      <td>0.021277</td>\n      <td>0.042553</td>\n      <td>0.032979</td>\n    </tr>\n    <tr>\n      <th>26</th>\n      <td>Rosedale</td>\n      <td>0.000000</td>\n      <td>0.000000</td>\n      <td>0.000000</td>\n      <td>0.000000</td>\n      <td>0.000000</td>\n      <td>0.000000</td>\n      <td>0.000000</td>\n      <td>0.500000</td>\n      <td>0.000000</td>\n      <td>0.000000</td>\n      <td>0.050000</td>\n    </tr>\n    <tr>\n      <th>27</th>\n      <td>Roselawn</td>\n      <td>0.000000</td>\n      <td>0.000000</td>\n      <td>0.000000</td>\n      <td>0.000000</td>\n      <td>0.000000</td>\n      <td>0.000000</td>\n      <td>0.000000</td>\n      <td>0.000000</td>\n      <td>0.000000</td>\n      <td>0.000000</td>\n      <td>0.000000</td>\n    </tr>\n    <tr>\n      <th>28</th>\n      <td>Runnymede, Swansea</td>\n      <td>0.000000</td>\n      <td>0.085714</td>\n      <td>0.085714</td>\n      <td>0.028571</td>\n      <td>0.000000</td>\n      <td>0.057143</td>\n      <td>0.000000</td>\n      <td>0.000000</td>\n      <td>0.057143</td>\n      <td>0.028571</td>\n      <td>0.034286</td>\n    </tr>\n    <tr>\n      <th>29</th>\n      <td>Runnymede, The Junction, Weston-Pellam Park, C...</td>\n      <td>0.000000</td>\n      <td>0.000000</td>\n      <td>0.000000</td>\n      <td>0.000000</td>\n      <td>0.000000</td>\n      <td>0.000000</td>\n      <td>0.000000</td>\n      <td>0.000000</td>\n      <td>0.000000</td>\n      <td>0.000000</td>\n      <td>0.000000</td>\n    </tr>\n    <tr>\n      <th>30</th>\n      <td>St. James Town</td>\n      <td>0.012500</td>\n      <td>0.062500</td>\n      <td>0.062500</td>\n      <td>0.025000</td>\n      <td>0.025000</td>\n      <td>0.025000</td>\n      <td>0.012500</td>\n      <td>0.025000</td>\n      <td>0.000000</td>\n      <td>0.037500</td>\n      <td>0.028750</td>\n    </tr>\n    <tr>\n      <th>31</th>\n      <td>St. James Town, Cabbagetown</td>\n      <td>0.044444</td>\n      <td>0.044444</td>\n      <td>0.088889</td>\n      <td>0.000000</td>\n      <td>0.000000</td>\n      <td>0.044444</td>\n      <td>0.022222</td>\n      <td>0.022222</td>\n      <td>0.044444</td>\n      <td>0.044444</td>\n      <td>0.035556</td>\n    </tr>\n    <tr>\n      <th>32</th>\n      <td>Stn A PO Boxes</td>\n      <td>0.030000</td>\n      <td>0.030000</td>\n      <td>0.120000</td>\n      <td>0.020000</td>\n      <td>0.020000</td>\n      <td>0.030000</td>\n      <td>0.030000</td>\n      <td>0.020000</td>\n      <td>0.000000</td>\n      <td>0.030000</td>\n      <td>0.033000</td>\n    </tr>\n    <tr>\n      <th>33</th>\n      <td>Studio District</td>\n      <td>0.054054</td>\n      <td>0.054054</td>\n      <td>0.081081</td>\n      <td>0.000000</td>\n      <td>0.000000</td>\n      <td>0.027027</td>\n      <td>0.000000</td>\n      <td>0.027027</td>\n      <td>0.027027</td>\n      <td>0.000000</td>\n      <td>0.027027</td>\n    </tr>\n    <tr>\n      <th>34</th>\n      <td>Summerhill West, Rathnelly, South Hill, Forest...</td>\n      <td>0.000000</td>\n      <td>0.000000</td>\n      <td>0.142857</td>\n      <td>0.000000</td>\n      <td>0.000000</td>\n      <td>0.000000</td>\n      <td>0.000000</td>\n      <td>0.000000</td>\n      <td>0.071429</td>\n      <td>0.071429</td>\n      <td>0.028571</td>\n    </tr>\n    <tr>\n      <th>35</th>\n      <td>The Annex, North Midtown, Yorkville</td>\n      <td>0.000000</td>\n      <td>0.142857</td>\n      <td>0.095238</td>\n      <td>0.000000</td>\n      <td>0.000000</td>\n      <td>0.000000</td>\n      <td>0.000000</td>\n      <td>0.047619</td>\n      <td>0.047619</td>\n      <td>0.000000</td>\n      <td>0.033333</td>\n    </tr>\n    <tr>\n      <th>36</th>\n      <td>The Beaches</td>\n      <td>0.000000</td>\n      <td>0.000000</td>\n      <td>0.000000</td>\n      <td>0.000000</td>\n      <td>0.000000</td>\n      <td>0.000000</td>\n      <td>0.000000</td>\n      <td>0.000000</td>\n      <td>0.000000</td>\n      <td>0.000000</td>\n      <td>0.000000</td>\n    </tr>\n    <tr>\n      <th>37</th>\n      <td>The Danforth West, Riverdale</td>\n      <td>0.023256</td>\n      <td>0.023256</td>\n      <td>0.093023</td>\n      <td>0.000000</td>\n      <td>0.000000</td>\n      <td>0.069767</td>\n      <td>0.000000</td>\n      <td>0.000000</td>\n      <td>0.023256</td>\n      <td>0.046512</td>\n      <td>0.027907</td>\n    </tr>\n    <tr>\n      <th>38</th>\n      <td>Toronto Dominion Centre, Design Exchange</td>\n      <td>0.020000</td>\n      <td>0.060000</td>\n      <td>0.120000</td>\n      <td>0.010000</td>\n      <td>0.070000</td>\n      <td>0.030000</td>\n      <td>0.030000</td>\n      <td>0.000000</td>\n      <td>0.000000</td>\n      <td>0.040000</td>\n      <td>0.038000</td>\n    </tr>\n    <tr>\n      <th>39</th>\n      <td>University of Toronto, Harbord</td>\n      <td>0.062500</td>\n      <td>0.156250</td>\n      <td>0.000000</td>\n      <td>0.000000</td>\n      <td>0.000000</td>\n      <td>0.062500</td>\n      <td>0.062500</td>\n      <td>0.000000</td>\n      <td>0.000000</td>\n      <td>0.031250</td>\n      <td>0.037500</td>\n    </tr>\n  </tbody>\n</table>\n</div>"
     },
     "metadata": {},
     "execution_count": 113
    }
   ],
   "source": [
    "toronto_grouped['mean'] = toronto_grouped.mean(axis=1)\n",
    "toronto_grouped"
   ]
  },
  {
   "source": [
    "Low mean value indicates that it has less number of our top 10 venues."
   ],
   "cell_type": "markdown",
   "metadata": {}
  },
  {
   "cell_type": "code",
   "execution_count": 114,
   "metadata": {},
   "outputs": [],
   "source": [
    "top5= toronto_grouped.sort_values('mean', ascending=True).head().reset_index(drop=True)"
   ]
  },
  {
   "source": [
    "### So, following are the top 5 neighbourhoods with less competition overall and any thing you open from that top 10 list would have higher chance of success."
   ],
   "cell_type": "markdown",
   "metadata": {}
  },
  {
   "cell_type": "code",
   "execution_count": 115,
   "metadata": {},
   "outputs": [
    {
     "output_type": "stream",
     "name": "stdout",
     "text": [
      "1. The Beaches\n2. Runnymede, The Junction, Weston-Pellam Park, Carlton Village\n3. Roselawn\n4. CN Tower, King and Spadina, Railway Lands, Harbourfront West, Bathurst Quay, South Niagara, Island airport\n5. Business reply mail Processing Centre, South Central Letter Processing Plant Toronto\n"
     ]
    }
   ],
   "source": [
    "\n",
    "for index, row in top5.iterrows():\n",
    "    \n",
    "    print(str(index+ 1) + \". \" + row['Neighbourhood'])"
   ]
  },
  {
   "cell_type": "code",
   "execution_count": null,
   "metadata": {},
   "outputs": [],
   "source": []
  }
 ],
 "metadata": {
  "kernelspec": {
   "name": "python3",
   "display_name": "Python 3.8.0 64-bit",
   "metadata": {
    "interpreter": {
     "hash": "2b00adca941fc1a0d2fc6f545a20340250afae17ad7b180cce7aadd60adcf469"
    }
   }
  },
  "language_info": {
   "codemirror_mode": {
    "name": "ipython",
    "version": 3
   },
   "file_extension": ".py",
   "mimetype": "text/x-python",
   "name": "python",
   "nbconvert_exporter": "python",
   "pygments_lexer": "ipython3",
   "version": "3.8.0-final"
  }
 },
 "nbformat": 4,
 "nbformat_minor": 4
}